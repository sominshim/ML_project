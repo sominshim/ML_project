{
  "nbformat": 4,
  "nbformat_minor": 0,
  "metadata": {
    "colab": {
      "name": "processing_kor.ipynb",
      "provenance": [],
      "collapsed_sections": [],
      "authorship_tag": "ABX9TyOYIxdQoXOyVeF+2oDST11N",
      "include_colab_link": true
    },
    "kernelspec": {
      "name": "python3",
      "display_name": "Python 3"
    }
  },
  "cells": [
    {
      "cell_type": "markdown",
      "metadata": {
        "id": "view-in-github",
        "colab_type": "text"
      },
      "source": [
        "<a href=\"https://colab.research.google.com/github/sominshim/Predicting_Personality_through_Text/blob/somin/processing_kor.ipynb\" target=\"_parent\"><img src=\"https://colab.research.google.com/assets/colab-badge.svg\" alt=\"Open In Colab\"/></a>"
      ]
    },
    {
      "cell_type": "code",
      "metadata": {
        "colab": {
          "base_uri": "https://localhost:8080/"
        },
        "id": "fzr2xKBzsijD",
        "outputId": "ef7863ca-ac26-4d61-8cf6-b391ee04d4d5"
      },
      "source": [
        "from google.colab import drive\r\n",
        "drive.mount('/content/drive')"
      ],
      "execution_count": null,
      "outputs": [
        {
          "output_type": "stream",
          "text": [
            "Drive already mounted at /content/drive; to attempt to forcibly remount, call drive.mount(\"/content/drive\", force_remount=True).\n"
          ],
          "name": "stdout"
        }
      ]
    },
    {
      "cell_type": "code",
      "metadata": {
        "id": "nCC6PlwotHPi"
      },
      "source": [
        "import pandas as pd\r\n",
        "import numpy as np\r\n",
        "import matplotlib.pyplot as plt\r\n",
        "import seaborn as sns"
      ],
      "execution_count": null,
      "outputs": []
    },
    {
      "cell_type": "code",
      "metadata": {
        "colab": {
          "base_uri": "https://localhost:8080/",
          "height": 194
        },
        "id": "vsyDYwSBsnoC",
        "outputId": "dd1a39f0-acd6-4e56-ea30-596c9589a9d7"
      },
      "source": [
        "data = pd.read_csv('/content/drive/My Drive/mbti_crawling_kor.csv')\r\n",
        "data.head()"
      ],
      "execution_count": null,
      "outputs": [
        {
          "output_type": "execute_result",
          "data": {
            "text/html": [
              "<div>\n",
              "<style scoped>\n",
              "    .dataframe tbody tr th:only-of-type {\n",
              "        vertical-align: middle;\n",
              "    }\n",
              "\n",
              "    .dataframe tbody tr th {\n",
              "        vertical-align: top;\n",
              "    }\n",
              "\n",
              "    .dataframe thead th {\n",
              "        text-align: right;\n",
              "    }\n",
              "</style>\n",
              "<table border=\"1\" class=\"dataframe\">\n",
              "  <thead>\n",
              "    <tr style=\"text-align: right;\">\n",
              "      <th></th>\n",
              "      <th>Unnamed: 0</th>\n",
              "      <th>type</th>\n",
              "      <th>posts</th>\n",
              "    </tr>\n",
              "  </thead>\n",
              "  <tbody>\n",
              "    <tr>\n",
              "      <th>0</th>\n",
              "      <td>0</td>\n",
              "      <td>INTPTW</td>\n",
              "      <td>주제 : 아무거나</td>\n",
              "    </tr>\n",
              "    <tr>\n",
              "      <th>1</th>\n",
              "      <td>1</td>\n",
              "      <td>INFP</td>\n",
              "      <td>정말 친한 동성친구한테 어떻게 대하시나요?​저는 인프피고 친구는 잇프피인데 전 정말...</td>\n",
              "    </tr>\n",
              "    <tr>\n",
              "      <th>2</th>\n",
              "      <td>2</td>\n",
              "      <td>ESFJW</td>\n",
              "      <td>내일 관심남 대학원 발표 나는데​내가 떨어지면 전화하라고 위로해준다 했는데남성분이 ...</td>\n",
              "    </tr>\n",
              "    <tr>\n",
              "      <th>3</th>\n",
              "      <td>3</td>\n",
              "      <td>ISFJ</td>\n",
              "      <td>너무 너무 궁금해서 엠헬 분들 분석(?)이 궁금해요!​김소연 씨와 이상우 씨는 한 ...</td>\n",
              "    </tr>\n",
              "    <tr>\n",
              "      <th>4</th>\n",
              "      <td>4</td>\n",
              "      <td>ENTPWSPSX</td>\n",
              "      <td>실제 창작물에서도 자기 존재 잘감추는 캐릭터들은 하나같이 인프제이기도 하고요 ㅋㅋ​...</td>\n",
              "    </tr>\n",
              "  </tbody>\n",
              "</table>\n",
              "</div>"
            ],
            "text/plain": [
              "   Unnamed: 0       type                                              posts\n",
              "0           0     INTPTW                                          주제 : 아무거나\n",
              "1           1       INFP  정말 친한 동성친구한테 어떻게 대하시나요?​저는 인프피고 친구는 잇프피인데 전 정말...\n",
              "2           2      ESFJW  내일 관심남 대학원 발표 나는데​내가 떨어지면 전화하라고 위로해준다 했는데남성분이 ...\n",
              "3           3       ISFJ  너무 너무 궁금해서 엠헬 분들 분석(?)이 궁금해요!​김소연 씨와 이상우 씨는 한 ...\n",
              "4           4  ENTPWSPSX  실제 창작물에서도 자기 존재 잘감추는 캐릭터들은 하나같이 인프제이기도 하고요 ㅋㅋ​..."
            ]
          },
          "metadata": {
            "tags": []
          },
          "execution_count": 56
        }
      ]
    },
    {
      "cell_type": "code",
      "metadata": {
        "colab": {
          "base_uri": "https://localhost:8080/",
          "height": 194
        },
        "id": "n5Im3P6MtWJ2",
        "outputId": "f8160d8e-3d9e-45e6-c504-d3a1fe66debd"
      },
      "source": [
        "data.drop('Unnamed: 0', axis=1, inplace=True)\r\n",
        "data.head()"
      ],
      "execution_count": null,
      "outputs": [
        {
          "output_type": "execute_result",
          "data": {
            "text/html": [
              "<div>\n",
              "<style scoped>\n",
              "    .dataframe tbody tr th:only-of-type {\n",
              "        vertical-align: middle;\n",
              "    }\n",
              "\n",
              "    .dataframe tbody tr th {\n",
              "        vertical-align: top;\n",
              "    }\n",
              "\n",
              "    .dataframe thead th {\n",
              "        text-align: right;\n",
              "    }\n",
              "</style>\n",
              "<table border=\"1\" class=\"dataframe\">\n",
              "  <thead>\n",
              "    <tr style=\"text-align: right;\">\n",
              "      <th></th>\n",
              "      <th>type</th>\n",
              "      <th>posts</th>\n",
              "    </tr>\n",
              "  </thead>\n",
              "  <tbody>\n",
              "    <tr>\n",
              "      <th>0</th>\n",
              "      <td>INTPTW</td>\n",
              "      <td>주제 : 아무거나</td>\n",
              "    </tr>\n",
              "    <tr>\n",
              "      <th>1</th>\n",
              "      <td>INFP</td>\n",
              "      <td>정말 친한 동성친구한테 어떻게 대하시나요?​저는 인프피고 친구는 잇프피인데 전 정말...</td>\n",
              "    </tr>\n",
              "    <tr>\n",
              "      <th>2</th>\n",
              "      <td>ESFJW</td>\n",
              "      <td>내일 관심남 대학원 발표 나는데​내가 떨어지면 전화하라고 위로해준다 했는데남성분이 ...</td>\n",
              "    </tr>\n",
              "    <tr>\n",
              "      <th>3</th>\n",
              "      <td>ISFJ</td>\n",
              "      <td>너무 너무 궁금해서 엠헬 분들 분석(?)이 궁금해요!​김소연 씨와 이상우 씨는 한 ...</td>\n",
              "    </tr>\n",
              "    <tr>\n",
              "      <th>4</th>\n",
              "      <td>ENTPWSPSX</td>\n",
              "      <td>실제 창작물에서도 자기 존재 잘감추는 캐릭터들은 하나같이 인프제이기도 하고요 ㅋㅋ​...</td>\n",
              "    </tr>\n",
              "  </tbody>\n",
              "</table>\n",
              "</div>"
            ],
            "text/plain": [
              "        type                                              posts\n",
              "0     INTPTW                                          주제 : 아무거나\n",
              "1       INFP  정말 친한 동성친구한테 어떻게 대하시나요?​저는 인프피고 친구는 잇프피인데 전 정말...\n",
              "2      ESFJW  내일 관심남 대학원 발표 나는데​내가 떨어지면 전화하라고 위로해준다 했는데남성분이 ...\n",
              "3       ISFJ  너무 너무 궁금해서 엠헬 분들 분석(?)이 궁금해요!​김소연 씨와 이상우 씨는 한 ...\n",
              "4  ENTPWSPSX  실제 창작물에서도 자기 존재 잘감추는 캐릭터들은 하나같이 인프제이기도 하고요 ㅋㅋ​..."
            ]
          },
          "metadata": {
            "tags": []
          },
          "execution_count": 57
        }
      ]
    },
    {
      "cell_type": "code",
      "metadata": {
        "id": "sRVE2oZQ00SJ"
      },
      "source": [
        "for i in range(data.shape[0]):\r\n",
        "  if data['type'][i].find('ISTJ') >= 0: data['type'][i] = 'ISTJ'\r\n",
        "  elif data['type'][i].find('ISFJ') >= 0: data['type'][i] = 'ISFJ'\r\n",
        "  elif data['type'][i].find('ESTJ') >= 0: data['type'][i] = 'ESTJ'\r\n",
        "  elif data['type'][i].find('ESFJ') >= 0: data['type'][i] = 'ESFJ'\r\n",
        "  elif data['type'][i].find('ISTP') >= 0: data['type'][i] = 'ISTP'\r\n",
        "  elif data['type'][i].find('ESTP') >= 0: data['type'][i] = 'ESTP'\r\n",
        "  elif data['type'][i].find('ESFP') >= 0: data['type'][i] = 'ESFP'\r\n",
        "  elif data['type'][i].find('ISFP') >= 0: data['type'][i] = 'ISFP'\r\n",
        "  elif data['type'][i].find('INTJ') >= 0: data['type'][i] = 'INTJ'\r\n",
        "  elif data['type'][i].find('INTP') >= 0: data['type'][i] = 'INTP'\r\n",
        "  elif data['type'][i].find('ENTJ') >= 0: data['type'][i] = 'ENTJ'\r\n",
        "  elif data['type'][i].find('ENTP') >= 0: data['type'][i] = 'ENTP'\r\n",
        "  elif data['type'][i].find('INFJ') >= 0: data['type'][i] = 'INFJ'\r\n",
        "  elif data['type'][i].find('INFP') >= 0: data['type'][i] = 'INFP'\r\n",
        "  elif data['type'][i].find('ENFJ') >= 0: data['type'][i] = 'ENFJ'\r\n",
        "  elif data['type'][i].find('ENFP') >= 0: data['type'][i] = 'ENFP'\r\n",
        "  else: print(data['type'][i])"
      ],
      "execution_count": null,
      "outputs": []
    },
    {
      "cell_type": "code",
      "metadata": {
        "colab": {
          "base_uri": "https://localhost:8080/",
          "height": 399
        },
        "id": "XOnEWhgSti5J",
        "outputId": "47785d1e-5481-4d4b-b2a3-1bd14a6c8120"
      },
      "source": [
        "df1 = data.reindex(s)\r\n",
        "df1 = df1.reset_index(drop=True)\r\n",
        "df1"
      ],
      "execution_count": null,
      "outputs": [
        {
          "output_type": "execute_result",
          "data": {
            "text/html": [
              "<div>\n",
              "<style scoped>\n",
              "    .dataframe tbody tr th:only-of-type {\n",
              "        vertical-align: middle;\n",
              "    }\n",
              "\n",
              "    .dataframe tbody tr th {\n",
              "        vertical-align: top;\n",
              "    }\n",
              "\n",
              "    .dataframe thead th {\n",
              "        text-align: right;\n",
              "    }\n",
              "</style>\n",
              "<table border=\"1\" class=\"dataframe\">\n",
              "  <thead>\n",
              "    <tr style=\"text-align: right;\">\n",
              "      <th></th>\n",
              "      <th>type</th>\n",
              "      <th>posts</th>\n",
              "    </tr>\n",
              "  </thead>\n",
              "  <tbody>\n",
              "    <tr>\n",
              "      <th>0</th>\n",
              "      <td>INTP</td>\n",
              "      <td>주제 : 아무거나</td>\n",
              "    </tr>\n",
              "    <tr>\n",
              "      <th>1</th>\n",
              "      <td>ISFP</td>\n",
              "      <td>글이나댓글 많이 올리는데 글을 짧게 쓰는데도 피곤하네요그래서 줄이려고했는데 잘 안돼...</td>\n",
              "    </tr>\n",
              "    <tr>\n",
              "      <th>2</th>\n",
              "      <td>ISFP</td>\n",
              "      <td>글이나댓글 많이 올리는데 글을 짧게 쓰는데도 피곤하네요그래서 줄이려고했는데 잘 안돼...</td>\n",
              "    </tr>\n",
              "    <tr>\n",
              "      <th>3</th>\n",
              "      <td>INFP</td>\n",
              "      <td>조아하는 사람과 밥먹는날.....!!!떨려요...</td>\n",
              "    </tr>\n",
              "    <tr>\n",
              "      <th>4</th>\n",
              "      <td>ISTJ</td>\n",
              "      <td>보고서 약 60장 쓸 수 있을까요?두렵습니다.</td>\n",
              "    </tr>\n",
              "    <tr>\n",
              "      <th>...</th>\n",
              "      <td>...</td>\n",
              "      <td>...</td>\n",
              "    </tr>\n",
              "    <tr>\n",
              "      <th>3656</th>\n",
              "      <td>ENFJ</td>\n",
              "      <td>​🙊​게시글만 안지웍다면 좀 더 일찍됫었을텐데</td>\n",
              "    </tr>\n",
              "    <tr>\n",
              "      <th>3657</th>\n",
              "      <td>INTJ</td>\n",
              "      <td>기다리고 기다리던 책이 도착했길래 오자마자 읽기 시작했습니다! &gt;_&lt;//​확실히 익...</td>\n",
              "    </tr>\n",
              "    <tr>\n",
              "      <th>3658</th>\n",
              "      <td>ISFP</td>\n",
              "      <td>저는 isfp 직장후배는 esfj입니다.이 후배분과의 관계 때문에 고민입니다.​두 ...</td>\n",
              "    </tr>\n",
              "    <tr>\n",
              "      <th>3659</th>\n",
              "      <td>ISTP</td>\n",
              "      <td>그사람 엠비티아이가 너무 궁금한데 실례일 거 같기도 하고 혹시 물어보신분..?</td>\n",
              "    </tr>\n",
              "    <tr>\n",
              "      <th>3660</th>\n",
              "      <td>ISFJ</td>\n",
              "      <td>큰 차이점은 뭐에요??</td>\n",
              "    </tr>\n",
              "  </tbody>\n",
              "</table>\n",
              "<p>3661 rows × 2 columns</p>\n",
              "</div>"
            ],
            "text/plain": [
              "      type                                              posts\n",
              "0     INTP                                          주제 : 아무거나\n",
              "1     ISFP  글이나댓글 많이 올리는데 글을 짧게 쓰는데도 피곤하네요그래서 줄이려고했는데 잘 안돼...\n",
              "2     ISFP  글이나댓글 많이 올리는데 글을 짧게 쓰는데도 피곤하네요그래서 줄이려고했는데 잘 안돼...\n",
              "3     INFP                        조아하는 사람과 밥먹는날.....!!!떨려요...\n",
              "4     ISTJ                          보고서 약 60장 쓸 수 있을까요?두렵습니다.\n",
              "...    ...                                                ...\n",
              "3656  ENFJ                          ​🙊​게시글만 안지웍다면 좀 더 일찍됫었을텐데\n",
              "3657  INTJ  기다리고 기다리던 책이 도착했길래 오자마자 읽기 시작했습니다! >_<//​확실히 익...\n",
              "3658  ISFP  저는 isfp 직장후배는 esfj입니다.이 후배분과의 관계 때문에 고민입니다.​두 ...\n",
              "3659  ISTP        그사람 엠비티아이가 너무 궁금한데 실례일 거 같기도 하고 혹시 물어보신분..?\n",
              "3660  ISFJ                                       큰 차이점은 뭐에요??\n",
              "\n",
              "[3661 rows x 2 columns]"
            ]
          },
          "metadata": {
            "tags": []
          },
          "execution_count": 85
        }
      ]
    },
    {
      "cell_type": "code",
      "metadata": {
        "id": "lGJKYWmyBG9Z"
      },
      "source": [
        "df.to_csv('/content/drive/My Drive/mbti_kor_after_processing.csv')"
      ],
      "execution_count": null,
      "outputs": []
    }
  ]
}