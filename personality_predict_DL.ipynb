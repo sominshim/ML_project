{
  "nbformat": 4,
  "nbformat_minor": 0,
  "metadata": {
    "colab": {
      "name": "personality_predict_DL.ipynb",
      "provenance": [],
      "collapsed_sections": [],
      "authorship_tag": "ABX9TyPwR7dTfYlNySI1qbpjqnl/",
      "include_colab_link": true
    },
    "kernelspec": {
      "name": "python3",
      "display_name": "Python 3"
    },
    "accelerator": "GPU"
  },
  "cells": [
    {
      "cell_type": "markdown",
      "metadata": {
        "id": "view-in-github",
        "colab_type": "text"
      },
      "source": [
        "<a href=\"https://colab.research.google.com/github/sominshim/Predicting_Personality_through_Text/blob/Ujin/personality_predict_DL.ipynb\" target=\"_parent\"><img src=\"https://colab.research.google.com/assets/colab-badge.svg\" alt=\"Open In Colab\"/></a>"
      ]
    },
    {
      "cell_type": "code",
      "metadata": {
        "id": "KY6XylTKWL9D",
        "outputId": "d0181a23-88d1-4e42-b8b2-fb28ba0968f3",
        "colab": {
          "base_uri": "https://localhost:8080/"
        }
      },
      "source": [
        "import numpy as np\n",
        "\n",
        "import tensorflow as tf\n",
        "\n",
        "!pip install -q tensorflow-hub\n",
        "!pip install -q tfds-nightly\n",
        "import tensorflow_hub as hub\n",
        "import tensorflow_datasets as tfds\n",
        "\n",
        "print(\"버전: \", tf.__version__)\n",
        "print(\"즉시 실행 모드: \", tf.executing_eagerly())\n",
        "print(\"허브 버전: \", hub.__version__)\n",
        "print(\"GPU\", \"사용 가능\" if tf.config.experimental.list_physical_devices(\"GPU\") else \"사용 불가능\")"
      ],
      "execution_count": 2,
      "outputs": [
        {
          "output_type": "stream",
          "text": [
            "\u001b[K     |████████████████████████████████| 3.7MB 14.2MB/s \n",
            "\u001b[?25h버전:  2.3.0\n",
            "즉시 실행 모드:  True\n",
            "허브 버전:  0.10.0\n",
            "GPU 사용 가능\n"
          ],
          "name": "stdout"
        }
      ]
    },
    {
      "cell_type": "code",
      "metadata": {
        "id": "WQCHpaoEWQxx"
      },
      "source": [
        "np.random.seed(42)"
      ],
      "execution_count": 3,
      "outputs": []
    },
    {
      "cell_type": "code",
      "metadata": {
        "id": "w4z9kDMbWVvL",
        "outputId": "27d0ed18-bb5a-4f13-97ed-84c2e07277a0",
        "colab": {
          "base_uri": "https://localhost:8080/"
        }
      },
      "source": [
        "#드라이브에 접근할 수 있도록 아래 코드 입력\n",
        "from google.colab import drive\n",
        "drive.mount('/content/drive')"
      ],
      "execution_count": 4,
      "outputs": [
        {
          "output_type": "stream",
          "text": [
            "Mounted at /content/drive\n"
          ],
          "name": "stdout"
        }
      ]
    },
    {
      "cell_type": "code",
      "metadata": {
        "id": "krboYCbdWWMZ"
      },
      "source": [
        "#불러올 파일의 경로를 filename 변수에 저장\n",
        "filename = '/content/drive/My Drive/mbti_1.csv'"
      ],
      "execution_count": 5,
      "outputs": []
    },
    {
      "cell_type": "code",
      "metadata": {
        "id": "tGSMlsOjWeeM",
        "outputId": "df1487e5-a1cb-4f7f-c1c4-ed83068c83a4",
        "colab": {
          "base_uri": "https://localhost:8080/",
          "height": 194
        }
      },
      "source": [
        "#pandas read_csv로 불러오기\n",
        "import pandas as pd\n",
        "data = pd.read_csv(filename)\n",
        "data.head()"
      ],
      "execution_count": 6,
      "outputs": [
        {
          "output_type": "execute_result",
          "data": {
            "text/html": [
              "<div>\n",
              "<style scoped>\n",
              "    .dataframe tbody tr th:only-of-type {\n",
              "        vertical-align: middle;\n",
              "    }\n",
              "\n",
              "    .dataframe tbody tr th {\n",
              "        vertical-align: top;\n",
              "    }\n",
              "\n",
              "    .dataframe thead th {\n",
              "        text-align: right;\n",
              "    }\n",
              "</style>\n",
              "<table border=\"1\" class=\"dataframe\">\n",
              "  <thead>\n",
              "    <tr style=\"text-align: right;\">\n",
              "      <th></th>\n",
              "      <th>type</th>\n",
              "      <th>posts</th>\n",
              "    </tr>\n",
              "  </thead>\n",
              "  <tbody>\n",
              "    <tr>\n",
              "      <th>0</th>\n",
              "      <td>INFJ</td>\n",
              "      <td>'http://www.youtube.com/watch?v=qsXHcwe3krw|||...</td>\n",
              "    </tr>\n",
              "    <tr>\n",
              "      <th>1</th>\n",
              "      <td>ENTP</td>\n",
              "      <td>'I'm finding the lack of me in these posts ver...</td>\n",
              "    </tr>\n",
              "    <tr>\n",
              "      <th>2</th>\n",
              "      <td>INTP</td>\n",
              "      <td>'Good one  _____   https://www.youtube.com/wat...</td>\n",
              "    </tr>\n",
              "    <tr>\n",
              "      <th>3</th>\n",
              "      <td>INTJ</td>\n",
              "      <td>'Dear INTP,   I enjoyed our conversation the o...</td>\n",
              "    </tr>\n",
              "    <tr>\n",
              "      <th>4</th>\n",
              "      <td>ENTJ</td>\n",
              "      <td>'You're fired.|||That's another silly misconce...</td>\n",
              "    </tr>\n",
              "  </tbody>\n",
              "</table>\n",
              "</div>"
            ],
            "text/plain": [
              "   type                                              posts\n",
              "0  INFJ  'http://www.youtube.com/watch?v=qsXHcwe3krw|||...\n",
              "1  ENTP  'I'm finding the lack of me in these posts ver...\n",
              "2  INTP  'Good one  _____   https://www.youtube.com/wat...\n",
              "3  INTJ  'Dear INTP,   I enjoyed our conversation the o...\n",
              "4  ENTJ  'You're fired.|||That's another silly misconce..."
            ]
          },
          "metadata": {
            "tags": []
          },
          "execution_count": 6
        }
      ]
    },
    {
      "cell_type": "code",
      "metadata": {
        "id": "-qAP_h5TWfWd",
        "outputId": "eec2fb3d-24a5-45c2-cf8d-be2456fd611f",
        "colab": {
          "base_uri": "https://localhost:8080/"
        }
      },
      "source": [
        "[p.split('|||') for p in data.head(1).posts.values]"
      ],
      "execution_count": 7,
      "outputs": [
        {
          "output_type": "execute_result",
          "data": {
            "text/plain": [
              "[[\"'http://www.youtube.com/watch?v=qsXHcwe3krw\",\n",
              "  'http://41.media.tumblr.com/tumblr_lfouy03PMA1qa1rooo1_500.jpg',\n",
              "  'enfp and intj moments  https://www.youtube.com/watch?v=iz7lE1g4XM4  sportscenter not top ten plays  https://www.youtube.com/watch?v=uCdfze1etec  pranks',\n",
              "  'What has been the most life-changing experience in your life?',\n",
              "  'http://www.youtube.com/watch?v=vXZeYwwRDw8   http://www.youtube.com/watch?v=u8ejam5DP3E  On repeat for most of today.',\n",
              "  'May the PerC Experience immerse you.',\n",
              "  'The last thing my INFJ friend posted on his facebook before committing suicide the next day. Rest in peace~   http://vimeo.com/22842206',\n",
              "  \"Hello ENFJ7. Sorry to hear of your distress. It's only natural for a relationship to not be perfection all the time in every moment of existence. Try to figure the hard times as times of growth, as...\",\n",
              "  '84389  84390  http://wallpaperpassion.com/upload/23700/friendship-boy-and-girl-wallpaper.jpg  http://assets.dornob.com/wp-content/uploads/2010/04/round-home-design.jpg ...',\n",
              "  'Welcome and stuff.',\n",
              "  'http://playeressence.com/wp-content/uploads/2013/08/RED-red-the-pokemon-master-32560474-450-338.jpg  Game. Set. Match.',\n",
              "  \"Prozac, wellbrutin, at least thirty minutes of moving your legs (and I don't mean moving them while sitting in your same desk chair), weed in moderation (maybe try edibles as a healthier alternative...\",\n",
              "  \"Basically come up with three items you've determined that each type (or whichever types you want to do) would more than likely use, given each types' cognitive functions and whatnot, when left by...\",\n",
              "  'All things in moderation.  Sims is indeed a video game, and a good one at that. Note: a good one at that is somewhat subjective in that I am not completely promoting the death of any given Sim...',\n",
              "  'Dear ENFP:  What were your favorite video games growing up and what are your now, current favorite video games? :cool:',\n",
              "  'https://www.youtube.com/watch?v=QyPqT8umzmY',\n",
              "  'It appears to be too late. :sad:',\n",
              "  \"There's someone out there for everyone.\",\n",
              "  'Wait... I thought confidence was a good thing.',\n",
              "  \"I just cherish the time of solitude b/c i revel within my inner world more whereas most other time i'd be workin... just enjoy the me time while you can. Don't worry, people will always be around to...\",\n",
              "  \"Yo entp ladies... if you're into a complimentary personality,well, hey.\",\n",
              "  '... when your main social outlet is xbox live conversations and even then you verbally fatigue quickly.',\n",
              "  'http://www.youtube.com/watch?v=gDhy7rdfm14  I really dig the part from 1:46 to 2:50',\n",
              "  'http://www.youtube.com/watch?v=msqXffgh7b8',\n",
              "  'Banned because this thread requires it of me.',\n",
              "  'Get high in backyard, roast and eat marshmellows in backyard while conversing over something intellectual, followed by massages and kisses.',\n",
              "  'http://www.youtube.com/watch?v=Mw7eoU3BMbE',\n",
              "  'http://www.youtube.com/watch?v=4V2uYORhQOk',\n",
              "  'http://www.youtube.com/watch?v=SlVmgFQQ0TI',\n",
              "  \"Banned for too many b's in that sentence. How could you! Think of the B!\",\n",
              "  'Banned for watching movies in the corner with the dunces.',\n",
              "  'Banned because Health class clearly taught you nothing about peer pressure.',\n",
              "  'Banned for a whole host of reasons!',\n",
              "  'http://www.youtube.com/watch?v=IRcrv41hgz4',\n",
              "  \"1) Two baby deer on left and right munching on a beetle in the middle.  2) Using their own blood, two cavemen diary today's latest happenings on their designated cave diary wall.  3) I see it as...\",\n",
              "  'a pokemon world  an infj society  everyone becomes an optimist',\n",
              "  '49142',\n",
              "  'http://www.youtube.com/watch?v=ZRCEq_JFeFM',\n",
              "  'http://discovermagazine.com/2012/jul-aug/20-things-you-didnt-know-about-deserts/desert.jpg',\n",
              "  'http://oyster.ignimgs.com/mediawiki/apis.ign.com/pokemon-silver-version/d/dd/Ditto.gif',\n",
              "  'http://www.serebii.net/potw-dp/Scizor.jpg',\n",
              "  \"Not all artists are artists because they draw. It's the idea that counts in forming something of your own... like a signature.\",\n",
              "  \"Welcome to the robot ranks, person who downed my self-esteem cuz I'm not an avid signature artist like herself. :proud:\",\n",
              "  'Banned for taking all the room under my bed. Ya gotta learn to share with the roaches.',\n",
              "  'http://www.youtube.com/watch?v=w8IgImn57aQ',\n",
              "  'Banned for being too much of a thundering, grumbling kind of storm... yep.',\n",
              "  \"Ahh... old high school music I haven't heard in ages.   http://www.youtube.com/watch?v=dcCRUPCdB1w\",\n",
              "  \"I failed a public speaking class a few years ago and I've sort of learned what I could do better were I to be in that position again. A big part of my failure was just overloading myself with too...\",\n",
              "  \"I like this person's mentality. He's a confirmed INTJ by the way. http://www.youtube.com/watch?v=hGKLI-GEc6M\",\n",
              "  \"Move to the Denver area and start a new life for myself.'\"]]"
            ]
          },
          "metadata": {
            "tags": []
          },
          "execution_count": 7
        }
      ]
    },
    {
      "cell_type": "code",
      "metadata": {
        "id": "c6CPX0RpWkwY",
        "outputId": "3d82de54-5310-4c51-a9d6-5ecf122abd24",
        "colab": {
          "base_uri": "https://localhost:8080/",
          "height": 337
        }
      },
      "source": [
        "import matplotlib.pyplot as plt\n",
        "import seaborn as sns\n",
        "\n",
        "cnt_srs = data['type'].value_counts()\n",
        "\n",
        "plt.figure(figsize=(12,4))\n",
        "sns.barplot(cnt_srs.index, cnt_srs.values, alpha=0.8)\n",
        "plt.ylabel('Number of Occurrences', fontsize=12)\n",
        "plt.xlabel('Types', fontsize=12)\n",
        "plt.show()"
      ],
      "execution_count": 8,
      "outputs": [
        {
          "output_type": "stream",
          "text": [
            "/usr/local/lib/python3.6/dist-packages/seaborn/_decorators.py:43: FutureWarning: Pass the following variables as keyword args: x, y. From version 0.12, the only valid positional argument will be `data`, and passing other arguments without an explicit keyword will result in an error or misinterpretation.\n",
            "  FutureWarning\n"
          ],
          "name": "stderr"
        },
        {
          "output_type": "display_data",
          "data": {
            "image/png": "[encoded data removed]",
            "text/plain": [
              "<Figure size 864x288 with 1 Axes>"
            ]
          },
          "metadata": {
            "tags": [],
            "needs_background": "light"
          }
        }
      ]
    },
    {
      "cell_type": "markdown",
      "metadata": {
        "id": "60-RWFPPWqfN"
      },
      "source": [
        "## 4개의 클래스로 분류"
      ]
    },
    {
      "cell_type": "code",
      "metadata": {
        "id": "JzgU41XcWmzK",
        "outputId": "432f461f-99e7-4abd-b670-c633a3cbd9db",
        "colab": {
          "base_uri": "https://localhost:8080/"
        }
      },
      "source": [
        "# Split mbti personality into 4 letters and binarize\n",
        "titles = [\"Extraversion (E) - Introversion (I)\",\n",
        "          \"Sensation (S) - INtuition (N)\",\n",
        "          \"Thinking (T) - Feeling (F)\",\n",
        "          \"Judgement (J) - Perception (P)\"\n",
        "         ] \n",
        "b_Pers = {'I':0, 'E':1, 'N':0, 'S':1, 'F':0, 'T':1, 'J':0, 'P':1}\n",
        "b_Pers_list = [{0:'I', 1:'E'}, {0:'N', 1:'S'}, {0:'F', 1:'T'}, {0:'J', 1:'P'}]\n",
        "\n",
        "\n",
        "#transform mbti to binary vector\n",
        "def translate_personality(personality):\n",
        "    return [b_Pers[l] for l in personality]\n",
        "\n",
        "#transform binary vector to mbti personality\n",
        "def translate_back(personality):\n",
        "    s = \"\"\n",
        "    for i, l in enumerate(personality):\n",
        "        s += b_Pers_list[i][l]\n",
        "    return s\n",
        "\n",
        "list_personality_bin = np.array([translate_personality(p) for p in data.type])\n",
        "print(\"Binarize MBTI list: \\n%s\" % list_personality_bin)\n"
      ],
      "execution_count": 9,
      "outputs": [
        {
          "output_type": "stream",
          "text": [
            "Binarize MBTI list: \n",
            "[[0 0 0 0]\n",
            " [1 0 1 1]\n",
            " [0 0 1 1]\n",
            " ...\n",
            " [0 0 1 1]\n",
            " [0 0 0 1]\n",
            " [0 0 0 1]]\n"
          ],
          "name": "stdout"
        }
      ]
    },
    {
      "cell_type": "code",
      "metadata": {
        "id": "Jo4R1N0qWpps"
      },
      "source": [
        "data['I-E'] = list_personality_bin[:,0]\n",
        "data['N-S'] = list_personality_bin[:,1]\n",
        "data['F-T'] = list_personality_bin[:,2]\n",
        "data['J-P'] = list_personality_bin[:,3]"
      ],
      "execution_count": 10,
      "outputs": []
    },
    {
      "cell_type": "code",
      "metadata": {
        "id": "rhr_Zs9oWuf-",
        "outputId": "b8d7743a-9fd5-4f5e-c091-da3785fdd705",
        "colab": {
          "base_uri": "https://localhost:8080/",
          "height": 194
        }
      },
      "source": [
        "data.head()"
      ],
      "execution_count": 11,
      "outputs": [
        {
          "output_type": "execute_result",
          "data": {
            "text/html": [
              "<div>\n",
              "<style scoped>\n",
              "    .dataframe tbody tr th:only-of-type {\n",
              "        vertical-align: middle;\n",
              "    }\n",
              "\n",
              "    .dataframe tbody tr th {\n",
              "        vertical-align: top;\n",
              "    }\n",
              "\n",
              "    .dataframe thead th {\n",
              "        text-align: right;\n",
              "    }\n",
              "</style>\n",
              "<table border=\"1\" class=\"dataframe\">\n",
              "  <thead>\n",
              "    <tr style=\"text-align: right;\">\n",
              "      <th></th>\n",
              "      <th>type</th>\n",
              "      <th>posts</th>\n",
              "      <th>I-E</th>\n",
              "      <th>N-S</th>\n",
              "      <th>F-T</th>\n",
              "      <th>J-P</th>\n",
              "    </tr>\n",
              "  </thead>\n",
              "  <tbody>\n",
              "    <tr>\n",
              "      <th>0</th>\n",
              "      <td>INFJ</td>\n",
              "      <td>'http://www.youtube.com/watch?v=qsXHcwe3krw|||...</td>\n",
              "      <td>0</td>\n",
              "      <td>0</td>\n",
              "      <td>0</td>\n",
              "      <td>0</td>\n",
              "    </tr>\n",
              "    <tr>\n",
              "      <th>1</th>\n",
              "      <td>ENTP</td>\n",
              "      <td>'I'm finding the lack of me in these posts ver...</td>\n",
              "      <td>1</td>\n",
              "      <td>0</td>\n",
              "      <td>1</td>\n",
              "      <td>1</td>\n",
              "    </tr>\n",
              "    <tr>\n",
              "      <th>2</th>\n",
              "      <td>INTP</td>\n",
              "      <td>'Good one  _____   https://www.youtube.com/wat...</td>\n",
              "      <td>0</td>\n",
              "      <td>0</td>\n",
              "      <td>1</td>\n",
              "      <td>1</td>\n",
              "    </tr>\n",
              "    <tr>\n",
              "      <th>3</th>\n",
              "      <td>INTJ</td>\n",
              "      <td>'Dear INTP,   I enjoyed our conversation the o...</td>\n",
              "      <td>0</td>\n",
              "      <td>0</td>\n",
              "      <td>1</td>\n",
              "      <td>0</td>\n",
              "    </tr>\n",
              "    <tr>\n",
              "      <th>4</th>\n",
              "      <td>ENTJ</td>\n",
              "      <td>'You're fired.|||That's another silly misconce...</td>\n",
              "      <td>1</td>\n",
              "      <td>0</td>\n",
              "      <td>1</td>\n",
              "      <td>0</td>\n",
              "    </tr>\n",
              "  </tbody>\n",
              "</table>\n",
              "</div>"
            ],
            "text/plain": [
              "   type                                              posts  I-E  N-S  F-T  J-P\n",
              "0  INFJ  'http://www.youtube.com/watch?v=qsXHcwe3krw|||...    0    0    0    0\n",
              "1  ENTP  'I'm finding the lack of me in these posts ver...    1    0    1    1\n",
              "2  INTP  'Good one  _____   https://www.youtube.com/wat...    0    0    1    1\n",
              "3  INTJ  'Dear INTP,   I enjoyed our conversation the o...    0    0    1    0\n",
              "4  ENTJ  'You're fired.|||That's another silly misconce...    1    0    1    0"
            ]
          },
          "metadata": {
            "tags": []
          },
          "execution_count": 11
        }
      ]
    },
    {
      "cell_type": "markdown",
      "metadata": {
        "id": "mvkGQdw2W9dx"
      },
      "source": [
        "## post 전처리"
      ]
    },
    {
      "cell_type": "code",
      "metadata": {
        "id": "QhGES5N1WvzE",
        "outputId": "1d0fe1a3-3d76-4afd-9037-06ebbff28e5f",
        "colab": {
          "base_uri": "https://localhost:8080/"
        }
      },
      "source": [
        "data['posts'].head()"
      ],
      "execution_count": 12,
      "outputs": [
        {
          "output_type": "execute_result",
          "data": {
            "text/plain": [
              "0    'http://www.youtube.com/watch?v=qsXHcwe3krw|||...\n",
              "1    'I'm finding the lack of me in these posts ver...\n",
              "2    'Good one  _____   https://www.youtube.com/wat...\n",
              "3    'Dear INTP,   I enjoyed our conversation the o...\n",
              "4    'You're fired.|||That's another silly misconce...\n",
              "Name: posts, dtype: object"
            ]
          },
          "metadata": {
            "tags": []
          },
          "execution_count": 12
        }
      ]
    },
    {
      "cell_type": "code",
      "metadata": {
        "id": "W2o5Hj8iXBcq"
      },
      "source": [
        "import re\n",
        "import string\n",
        "\n",
        "def cleaner(post):\n",
        "    # 소문자 변환\n",
        "    post = post.lower() \n",
        "    \n",
        "    # '|||' 제거\n",
        "    post = post.replace('|||', \"\") \n",
        "\n",
        "    # URL, 링크 등 특수문자 제거\n",
        "    post = re.sub(r'''(?i)\\b((?:https?://|www\\d{0,3}[.]|[a-z0-9.\\-]+[.][a-z]{2,4}/)(?:[^\\s()<>]+|\\(([^\\s()<>]+|(\\([^\\s()<>]+\\)))*\\))+(?:\\(([^\\s()<>]+|(\\([^\\s()<>]+\\)))*\\)|[^\\s`!()\\[\\]{};:'\".,<>?«»“”‘’]))''', '', post, flags=re.MULTILINE) \n",
        "\n",
        "    # 구두점 제거\n",
        "    post = post.translate(str.maketrans('', '', string.punctuation))\n",
        "\n",
        "    # 공백 제거\n",
        "    post=re.sub( '\\s+', ' ', post ).strip()\n",
        "\n",
        "     # MBTI 제거\n",
        "    post = re.sub('infj|entp|intp|intj|entj|enfj|infp|enfp|isfp|istp|isfj|istj|estp|esfp|estj|esfj',\"\", post)\n",
        "\n",
        "\n",
        "    return post"
      ],
      "execution_count": 13,
      "outputs": []
    },
    {
      "cell_type": "code",
      "metadata": {
        "id": "mZdSdpLzXDRx"
      },
      "source": [
        "posts = data.posts.tolist()\n",
        "posts = [cleaner(post) for post in posts]"
      ],
      "execution_count": 14,
      "outputs": []
    },
    {
      "cell_type": "code",
      "metadata": {
        "id": "Xw076hGzXE95"
      },
      "source": [
        "# 단어 개수 계산\n",
        "from collections import Counter\n",
        "\n",
        "word_count=Counter()\n",
        "for post in posts:\n",
        "    word_count.update(post.split(\" \"))"
      ],
      "execution_count": 15,
      "outputs": []
    },
    {
      "cell_type": "code",
      "metadata": {
        "id": "QrBodbhEXG43",
        "outputId": "9af4621d-d431-4da5-a5bd-93844bee6275",
        "colab": {
          "base_uri": "https://localhost:8080/"
        }
      },
      "source": [
        "print(len(word_count))\n",
        "print(len(posts[0]))"
      ],
      "execution_count": 16,
      "outputs": [
        {
          "output_type": "stream",
          "text": [
            "319913\n",
            "3046\n"
          ],
          "name": "stdout"
        }
      ]
    },
    {
      "cell_type": "code",
      "metadata": {
        "id": "4KZ6q8A2XId5",
        "outputId": "d49127e5-255b-4fb1-c47b-8e35e7f41b20",
        "colab": {
          "base_uri": "https://localhost:8080/",
          "height": 194
        }
      },
      "source": [
        "data['clean_posts'] = posts\n",
        "data.head()"
      ],
      "execution_count": 17,
      "outputs": [
        {
          "output_type": "execute_result",
          "data": {
            "text/html": [
              "<div>\n",
              "<style scoped>\n",
              "    .dataframe tbody tr th:only-of-type {\n",
              "        vertical-align: middle;\n",
              "    }\n",
              "\n",
              "    .dataframe tbody tr th {\n",
              "        vertical-align: top;\n",
              "    }\n",
              "\n",
              "    .dataframe thead th {\n",
              "        text-align: right;\n",
              "    }\n",
              "</style>\n",
              "<table border=\"1\" class=\"dataframe\">\n",
              "  <thead>\n",
              "    <tr style=\"text-align: right;\">\n",
              "      <th></th>\n",
              "      <th>type</th>\n",
              "      <th>posts</th>\n",
              "      <th>I-E</th>\n",
              "      <th>N-S</th>\n",
              "      <th>F-T</th>\n",
              "      <th>J-P</th>\n",
              "      <th>clean_posts</th>\n",
              "    </tr>\n",
              "  </thead>\n",
              "  <tbody>\n",
              "    <tr>\n",
              "      <th>0</th>\n",
              "      <td>INFJ</td>\n",
              "      <td>'http://www.youtube.com/watch?v=qsXHcwe3krw|||...</td>\n",
              "      <td>0</td>\n",
              "      <td>0</td>\n",
              "      <td>0</td>\n",
              "      <td>0</td>\n",
              "      <td>and  moments sportscenter not top ten plays pr...</td>\n",
              "    </tr>\n",
              "    <tr>\n",
              "      <th>1</th>\n",
              "      <td>ENTP</td>\n",
              "      <td>'I'm finding the lack of me in these posts ver...</td>\n",
              "      <td>1</td>\n",
              "      <td>0</td>\n",
              "      <td>1</td>\n",
              "      <td>1</td>\n",
              "      <td>im finding the lack of me in these posts very ...</td>\n",
              "    </tr>\n",
              "    <tr>\n",
              "      <th>2</th>\n",
              "      <td>INTP</td>\n",
              "      <td>'Good one  _____   https://www.youtube.com/wat...</td>\n",
              "      <td>0</td>\n",
              "      <td>0</td>\n",
              "      <td>1</td>\n",
              "      <td>1</td>\n",
              "      <td>good one course to which i say i know thats my...</td>\n",
              "    </tr>\n",
              "    <tr>\n",
              "      <th>3</th>\n",
              "      <td>INTJ</td>\n",
              "      <td>'Dear INTP,   I enjoyed our conversation the o...</td>\n",
              "      <td>0</td>\n",
              "      <td>0</td>\n",
              "      <td>1</td>\n",
              "      <td>0</td>\n",
              "      <td>dear  i enjoyed our conversation the other day...</td>\n",
              "    </tr>\n",
              "    <tr>\n",
              "      <th>4</th>\n",
              "      <td>ENTJ</td>\n",
              "      <td>'You're fired.|||That's another silly misconce...</td>\n",
              "      <td>1</td>\n",
              "      <td>0</td>\n",
              "      <td>1</td>\n",
              "      <td>0</td>\n",
              "      <td>youre firedthats another silly misconception t...</td>\n",
              "    </tr>\n",
              "  </tbody>\n",
              "</table>\n",
              "</div>"
            ],
            "text/plain": [
              "   type  ...                                        clean_posts\n",
              "0  INFJ  ...  and  moments sportscenter not top ten plays pr...\n",
              "1  ENTP  ...  im finding the lack of me in these posts very ...\n",
              "2  INTP  ...  good one course to which i say i know thats my...\n",
              "3  INTJ  ...  dear  i enjoyed our conversation the other day...\n",
              "4  ENTJ  ...  youre firedthats another silly misconception t...\n",
              "\n",
              "[5 rows x 7 columns]"
            ]
          },
          "metadata": {
            "tags": []
          },
          "execution_count": 17
        }
      ]
    },
    {
      "cell_type": "markdown",
      "metadata": {
        "id": "FLiwaUxCXkhi"
      },
      "source": [
        "## train, test set 나누기\n",
        "\n",
        "비율같게"
      ]
    },
    {
      "cell_type": "code",
      "metadata": {
        "id": "hGhU1V4oXKms"
      },
      "source": [
        "from sklearn.model_selection import StratifiedShuffleSplit\n",
        "\n",
        "split = StratifiedShuffleSplit(n_splits=1, test_size=0.2, random_state=42)\n",
        "for train_index, test_index in split.split(data, data[['type']]):\n",
        "    strat_train_set = data.loc[train_index]\n",
        "    strat_test_set = data.loc[test_index]"
      ],
      "execution_count": 18,
      "outputs": []
    },
    {
      "cell_type": "markdown",
      "metadata": {
        "id": "nEylMt8RXnwY"
      },
      "source": [
        "#### train set"
      ]
    },
    {
      "cell_type": "code",
      "metadata": {
        "id": "xrXBOhoIXiEa",
        "outputId": "d630dde7-e932-4121-8824-4587864e6d27",
        "colab": {
          "base_uri": "https://localhost:8080/",
          "height": 337
        }
      },
      "source": [
        "cnt_train = strat_train_set['type'].value_counts()\n",
        "\n",
        "plt.figure(figsize=(12,4))\n",
        "sns.barplot(cnt_train.index, cnt_srs.values, alpha=0.8)\n",
        "plt.ylabel('Number of Occurrences', fontsize=12)\n",
        "plt.xlabel('Types', fontsize=12)\n",
        "plt.show()"
      ],
      "execution_count": 19,
      "outputs": [
        {
          "output_type": "stream",
          "text": [
            "/usr/local/lib/python3.6/dist-packages/seaborn/_decorators.py:43: FutureWarning: Pass the following variables as keyword args: x, y. From version 0.12, the only valid positional argument will be `data`, and passing other arguments without an explicit keyword will result in an error or misinterpretation.\n",
            "  FutureWarning\n"
          ],
          "name": "stderr"
        },
        {
          "output_type": "display_data",
          "data": {
            "image/png": "[encoded data removed]",
            "text/plain": [
              "<Figure size 864x288 with 1 Axes>"
            ]
          },
          "metadata": {
            "tags": [],
            "needs_background": "light"
          }
        }
      ]
    },
    {
      "cell_type": "markdown",
      "metadata": {
        "id": "rdwfXj_WXsxQ"
      },
      "source": [
        "### test set"
      ]
    },
    {
      "cell_type": "code",
      "metadata": {
        "id": "ddl6y5vHXqEM",
        "outputId": "82f75d66-bfaf-495c-cd5c-c384b6d04026",
        "colab": {
          "base_uri": "https://localhost:8080/",
          "height": 337
        }
      },
      "source": [
        "cnt_test = strat_test_set['type'].value_counts()\n",
        "\n",
        "plt.figure(figsize=(12,4))\n",
        "sns.barplot(cnt_test.index, cnt_test.values, alpha=0.8)\n",
        "plt.ylabel('Number of Occurrences', fontsize=12)\n",
        "plt.xlabel('Types', fontsize=12)\n",
        "plt.show()"
      ],
      "execution_count": 20,
      "outputs": [
        {
          "output_type": "stream",
          "text": [
            "/usr/local/lib/python3.6/dist-packages/seaborn/_decorators.py:43: FutureWarning: Pass the following variables as keyword args: x, y. From version 0.12, the only valid positional argument will be `data`, and passing other arguments without an explicit keyword will result in an error or misinterpretation.\n",
            "  FutureWarning\n"
          ],
          "name": "stderr"
        },
        {
          "output_type": "display_data",
          "data": {
            "image/png": "[encoded data removed]",
            "text/plain": [
              "<Figure size 864x288 with 1 Axes>"
            ]
          },
          "metadata": {
            "tags": [],
            "needs_background": "light"
          }
        }
      ]
    },
    {
      "cell_type": "markdown",
      "metadata": {
        "id": "MkZ4CKEbX3-L"
      },
      "source": [
        "# 모델1"
      ]
    },
    {
      "cell_type": "markdown",
      "metadata": {
        "id": "5PW1_MiQXylY"
      },
      "source": [
        "### 임베딩"
      ]
    },
    {
      "cell_type": "code",
      "metadata": {
        "id": "twYKHqVYXvkh"
      },
      "source": [
        "embedding = \"https://tfhub.dev/google/tf2-preview/gnews-swivel-20dim/1\"\n",
        "hub_layer = hub.KerasLayer(embedding, input_shape=[], \n",
        "                           dtype=tf.string, trainable=True)"
      ],
      "execution_count": 34,
      "outputs": []
    },
    {
      "cell_type": "code",
      "metadata": {
        "id": "6C09JzmsXx-n",
        "outputId": "97ac8374-a4f4-4a40-df21-91cefabea385",
        "colab": {
          "base_uri": "https://localhost:8080/"
        }
      },
      "source": [
        "model = tf.keras.Sequential()\n",
        "model.add(hub_layer)\n",
        "model.add(tf.keras.layers.Dense(16, activation='relu'))\n",
        "model.add(tf.keras.layers.Dense(4)) #4개의 클래스 분류\n",
        "\n",
        "model.summary()"
      ],
      "execution_count": 35,
      "outputs": [
        {
          "output_type": "stream",
          "text": [
            "Model: \"sequential_1\"\n",
            "_________________________________________________________________\n",
            "Layer (type)                 Output Shape              Param #   \n",
            "=================================================================\n",
            "keras_layer_1 (KerasLayer)   (None, 20)                400020    \n",
            "_________________________________________________________________\n",
            "dense_2 (Dense)              (None, 16)                336       \n",
            "_________________________________________________________________\n",
            "dense_3 (Dense)              (None, 4)                 68        \n",
            "=================================================================\n",
            "Total params: 400,424\n",
            "Trainable params: 400,424\n",
            "Non-trainable params: 0\n",
            "_________________________________________________________________\n"
          ],
          "name": "stdout"
        }
      ]
    },
    {
      "cell_type": "markdown",
      "metadata": {
        "id": "3lVxMh74YA7r"
      },
      "source": [
        "손실함수와 옵티마이저"
      ]
    },
    {
      "cell_type": "code",
      "metadata": {
        "id": "nCIhLeUTX_Au"
      },
      "source": [
        "model.compile(optimizer='adam',\n",
        "              loss='categorical_crossentropy',\n",
        "              metrics=['accuracy'])"
      ],
      "execution_count": 36,
      "outputs": []
    },
    {
      "cell_type": "markdown",
      "metadata": {
        "id": "bbuhYDmQY_bi"
      },
      "source": [
        "#### train set : train, val set으로 나누기\n",
        "\n",
        "비율 같게"
      ]
    },
    {
      "cell_type": "code",
      "metadata": {
        "id": "EpQECfPeYdYQ"
      },
      "source": [
        "strat_train_set = strat_train_set.reset_index(drop=True)"
      ],
      "execution_count": 37,
      "outputs": []
    },
    {
      "cell_type": "code",
      "metadata": {
        "id": "AEgAIBd1ZE3-"
      },
      "source": [
        "from sklearn.model_selection import StratifiedShuffleSplit\n",
        "\n",
        "split = StratifiedShuffleSplit(n_splits=1, test_size=0.2, random_state=42)\n",
        "for train_index, test_index in split.split(strat_train_set, strat_train_set[['type']]):\n",
        "    train = strat_train_set.loc[train_index]\n",
        "    val = strat_train_set.loc[test_index]"
      ],
      "execution_count": 38,
      "outputs": []
    },
    {
      "cell_type": "code",
      "metadata": {
        "id": "Cl0wtn0HZGPh"
      },
      "source": [
        "x_val = val['clean_posts']\n",
        "partial_x_train = train['clean_posts']\n",
        "\n",
        "y_val = np.array([translate_personality(p) for p in val.type])\n",
        "partial_y_train = np.array([translate_personality(p) for p in train.type])\n",
        "\n",
        "##### 레이블 벡터 변환\n",
        "test_labels = np.array([translate_personality(p) for p in strat_test_set.type])\n",
        "test_posts = strat_test_set['clean_posts']"
      ],
      "execution_count": 39,
      "outputs": []
    },
    {
      "cell_type": "code",
      "metadata": {
        "id": "lniGhOyeZHp4",
        "outputId": "9025b890-a417-472e-99c3-d56fccacc6a9",
        "colab": {
          "base_uri": "https://localhost:8080/"
        }
      },
      "source": [
        "history = model.fit(partial_x_train,\n",
        "                    partial_y_train,\n",
        "                    epochs=20,\n",
        "                    batch_size=20,\n",
        "                    validation_data=(x_val, y_val))"
      ],
      "execution_count": null,
      "outputs": [
        {
          "output_type": "stream",
          "text": [
            "Epoch 1/20\n",
            "278/278 [==============================] - 3s 11ms/step - loss: 10.4347 - accuracy: 0.2109 - val_loss: 10.8693 - val_accuracy: 0.2111\n",
            "Epoch 2/20\n",
            "278/278 [==============================] - 3s 10ms/step - loss: 6.9000 - accuracy: 0.2693 - val_loss: 3.7276 - val_accuracy: 0.3249\n",
            "Epoch 3/20\n",
            "278/278 [==============================] - 3s 10ms/step - loss: 4.1371 - accuracy: 0.3246 - val_loss: 4.3663 - val_accuracy: 0.3192\n",
            "Epoch 4/20\n",
            "278/278 [==============================] - 3s 10ms/step - loss: 4.7264 - accuracy: 0.3238 - val_loss: 5.2372 - val_accuracy: 0.3177\n",
            "Epoch 5/20\n",
            "278/278 [==============================] - 3s 11ms/step - loss: 5.7424 - accuracy: 0.3154 - val_loss: 6.1082 - val_accuracy: 0.3062\n",
            "Epoch 6/20\n",
            "278/278 [==============================] - 3s 10ms/step - loss: 6.5930 - accuracy: 0.3123 - val_loss: 6.6656 - val_accuracy: 0.2990\n",
            "Epoch 7/20\n",
            "278/278 [==============================] - 3s 10ms/step - loss: 7.4146 - accuracy: 0.3096 - val_loss: 7.3623 - val_accuracy: 0.2997\n",
            "Epoch 8/20\n",
            "278/278 [==============================] - 3s 10ms/step - loss: 7.6845 - accuracy: 0.3089 - val_loss: 7.3623 - val_accuracy: 0.2997\n",
            "Epoch 9/20\n",
            "278/278 [==============================] - 3s 10ms/step - loss: 7.6845 - accuracy: 0.3089 - val_loss: 7.3623 - val_accuracy: 0.2997\n",
            "Epoch 10/20\n",
            "278/278 [==============================] - 3s 10ms/step - loss: 7.6845 - accuracy: 0.3089 - val_loss: 7.3623 - val_accuracy: 0.2997\n",
            "Epoch 11/20\n",
            "278/278 [==============================] - 3s 10ms/step - loss: 7.6845 - accuracy: 0.3089 - val_loss: 7.3623 - val_accuracy: 0.2997\n",
            "Epoch 12/20\n",
            "278/278 [==============================] - 3s 10ms/step - loss: 7.6845 - accuracy: 0.3089 - val_loss: 7.3623 - val_accuracy: 0.2997\n",
            "Epoch 13/20\n",
            "278/278 [==============================] - 3s 10ms/step - loss: 7.6845 - accuracy: 0.3089 - val_loss: 7.3623 - val_accuracy: 0.2997\n",
            "Epoch 14/20\n",
            "278/278 [==============================] - 3s 10ms/step - loss: 7.6845 - accuracy: 0.3089 - val_loss: 7.3623 - val_accuracy: 0.2997\n",
            "Epoch 15/20\n",
            "278/278 [==============================] - 3s 10ms/step - loss: 7.6845 - accuracy: 0.3089 - val_loss: 7.3623 - val_accuracy: 0.2997\n",
            "Epoch 16/20\n",
            "278/278 [==============================] - 3s 10ms/step - loss: 7.6845 - accuracy: 0.3089 - val_loss: 7.3623 - val_accuracy: 0.2997\n",
            "Epoch 17/20\n",
            "278/278 [==============================] - 3s 10ms/step - loss: 7.6846 - accuracy: 0.3089 - val_loss: 7.3623 - val_accuracy: 0.2997\n",
            "Epoch 18/20\n",
            "278/278 [==============================] - 3s 11ms/step - loss: 7.6845 - accuracy: 0.3089 - val_loss: 7.3623 - val_accuracy: 0.2997\n",
            "Epoch 19/20\n",
            "278/278 [==============================] - 3s 11ms/step - loss: 7.6846 - accuracy: 0.3089 - val_loss: 7.3623 - val_accuracy: 0.2997\n",
            "Epoch 20/20\n",
            "278/278 [==============================] - 3s 11ms/step - loss: 7.6845 - accuracy: 0.3089 - val_loss: 7.3623 - val_accuracy: 0.2997\n"
          ],
          "name": "stdout"
        }
      ]
    },
    {
      "cell_type": "markdown",
      "metadata": {
        "id": "xRtEFhfMEs67"
      },
      "source": [
        "#### - loss, accuracy graph"
      ]
    },
    {
      "cell_type": "code",
      "metadata": {
        "id": "oCTcKZWBZbbF"
      },
      "source": [
        "loss = history.history['loss']\n",
        "val_loss = history.history['val_loss']\n",
        "\n",
        "acc = history.history['accuracy']\n",
        "val_acc = history.history['val_accuracy']"
      ],
      "execution_count": null,
      "outputs": []
    },
    {
      "cell_type": "code",
      "metadata": {
        "id": "gd7Z7aKinB4E",
        "outputId": "4bee498b-a24b-45bd-dd39-e5bb1616f019",
        "colab": {
          "base_uri": "https://localhost:8080/",
          "height": 295
        }
      },
      "source": [
        "import matplotlib.pyplot as plt\n",
        "\n",
        "loss = history.history['loss']\n",
        "val_loss = history.history['val_loss']\n",
        "\n",
        "epochs = range(1, len(loss) + 1)\n",
        "\n",
        "plt.plot(epochs, loss, 'bo', label='Training loss')\n",
        "plt.plot(epochs, val_loss, 'b', label='Validation loss')\n",
        "plt.title('Training and validation loss')\n",
        "plt.xlabel('Epochs')\n",
        "plt.ylabel('Loss')\n",
        "plt.legend()\n",
        "\n",
        "plt.show()"
      ],
      "execution_count": null,
      "outputs": [
        {
          "output_type": "display_data",
          "data": {
            "image/png": "[encoded data removed]",
            "text/plain": [
              "<Figure size 432x288 with 1 Axes>"
            ]
          },
          "metadata": {
            "tags": [],
            "needs_background": "light"
          }
        }
      ]
    },
    {
      "cell_type": "code",
      "metadata": {
        "id": "yGKdZuFSnB7h",
        "outputId": "4e8295b6-9425-4307-febe-b93b9419f605",
        "colab": {
          "base_uri": "https://localhost:8080/",
          "height": 295
        }
      },
      "source": [
        "plt.clf() #그래프를 초기화합니다.\n",
        "\n",
        "acc = history.history['accuracy']\n",
        "val_acc = history.history['val_accuracy']\n",
        "\n",
        "plt.plot(epochs, acc, 'bo', label='Training acc')\n",
        "plt.plot(epochs, val_acc, 'b', label='Validation acc')\n",
        "plt.title('Training and validation accuracy')\n",
        "plt.xlabel('Epochs')\n",
        "plt.ylabel('Accuracy')\n",
        "plt.legend()\n",
        "\n",
        "plt.show()"
      ],
      "execution_count": null,
      "outputs": [
        {
          "output_type": "display_data",
          "data": {
            "image/png": "[encoded data removed]",
            "text/plain": [
              "<Figure size 432x288 with 1 Axes>"
            ]
          },
          "metadata": {
            "tags": [],
            "needs_background": "light"
          }
        }
      ]
    },
    {
      "cell_type": "code",
      "metadata": {
        "id": "3rNZo0O_ZLMo",
        "outputId": "b064f4d6-6fe9-4d62-cd3e-352fc467f68e",
        "colab": {
          "base_uri": "https://localhost:8080/"
        }
      },
      "source": [
        "results = model.evaluate(test_posts, test_labels)\n",
        "results"
      ],
      "execution_count": null,
      "outputs": [
        {
          "output_type": "stream",
          "text": [
            "55/55 [==============================] - 0s 9ms/step - loss: 7.3504 - accuracy: 0.2980\n"
          ],
          "name": "stdout"
        },
        {
          "output_type": "execute_result",
          "data": {
            "text/plain": [
              "[7.350424766540527, 0.29798272252082825]"
            ]
          },
          "metadata": {
            "tags": []
          },
          "execution_count": 30
        }
      ]
    },
    {
      "cell_type": "markdown",
      "metadata": {
        "id": "Agn2YVeJap5-"
      },
      "source": [
        "## 모델2 \n",
        "\n",
        "loss = Binary Crossentropy"
      ]
    },
    {
      "cell_type": "code",
      "metadata": {
        "id": "LGsHB3hWaivK",
        "outputId": "5bdaad10-5c1b-4dde-807d-db18603b4727",
        "colab": {
          "base_uri": "https://localhost:8080/"
        }
      },
      "source": [
        "hub_layer = hub.KerasLayer(embedding, input_shape=[], \n",
        "                           dtype=tf.string, trainable=True)\n",
        "model2 = tf.keras.Sequential()\n",
        "model2.add(hub_layer)\n",
        "model2.add(tf.keras.layers.Dense(16, activation='relu'))\n",
        "model2.add(tf.keras.layers.Dense(4)) #4개의 클래스 분류\n",
        "\n",
        "model2.summary()\n",
        "\n",
        "model2.compile(optimizer='adam',\n",
        "              loss=tf.keras.losses.BinaryCrossentropy(from_logits=True),\n",
        "              metrics=['accuracy'])"
      ],
      "execution_count": 49,
      "outputs": [
        {
          "output_type": "stream",
          "text": [
            "WARNING:tensorflow:7 out of the last 7 calls to <function recreate_function.<locals>.restored_function_body at 0x7f0dc5016bf8> triggered tf.function retracing. Tracing is expensive and the excessive number of tracings could be due to (1) creating @tf.function repeatedly in a loop, (2) passing tensors with different shapes, (3) passing Python objects instead of tensors. For (1), please define your @tf.function outside of the loop. For (2), @tf.function has experimental_relax_shapes=True option that relaxes argument shapes that can avoid unnecessary retracing. For (3), please refer to https://www.tensorflow.org/tutorials/customization/performance#python_or_tensor_args and https://www.tensorflow.org/api_docs/python/tf/function for  more details.\n"
          ],
          "name": "stdout"
        },
        {
          "output_type": "stream",
          "text": [
            "WARNING:tensorflow:7 out of the last 7 calls to <function recreate_function.<locals>.restored_function_body at 0x7f0dc5016bf8> triggered tf.function retracing. Tracing is expensive and the excessive number of tracings could be due to (1) creating @tf.function repeatedly in a loop, (2) passing tensors with different shapes, (3) passing Python objects instead of tensors. For (1), please define your @tf.function outside of the loop. For (2), @tf.function has experimental_relax_shapes=True option that relaxes argument shapes that can avoid unnecessary retracing. For (3), please refer to https://www.tensorflow.org/tutorials/customization/performance#python_or_tensor_args and https://www.tensorflow.org/api_docs/python/tf/function for  more details.\n"
          ],
          "name": "stderr"
        },
        {
          "output_type": "stream",
          "text": [
            "WARNING:tensorflow:8 out of the last 8 calls to <function recreate_function.<locals>.restored_function_body at 0x7f0dc5013158> triggered tf.function retracing. Tracing is expensive and the excessive number of tracings could be due to (1) creating @tf.function repeatedly in a loop, (2) passing tensors with different shapes, (3) passing Python objects instead of tensors. For (1), please define your @tf.function outside of the loop. For (2), @tf.function has experimental_relax_shapes=True option that relaxes argument shapes that can avoid unnecessary retracing. For (3), please refer to https://www.tensorflow.org/tutorials/customization/performance#python_or_tensor_args and https://www.tensorflow.org/api_docs/python/tf/function for  more details.\n"
          ],
          "name": "stdout"
        },
        {
          "output_type": "stream",
          "text": [
            "WARNING:tensorflow:8 out of the last 8 calls to <function recreate_function.<locals>.restored_function_body at 0x7f0dc5013158> triggered tf.function retracing. Tracing is expensive and the excessive number of tracings could be due to (1) creating @tf.function repeatedly in a loop, (2) passing tensors with different shapes, (3) passing Python objects instead of tensors. For (1), please define your @tf.function outside of the loop. For (2), @tf.function has experimental_relax_shapes=True option that relaxes argument shapes that can avoid unnecessary retracing. For (3), please refer to https://www.tensorflow.org/tutorials/customization/performance#python_or_tensor_args and https://www.tensorflow.org/api_docs/python/tf/function for  more details.\n"
          ],
          "name": "stderr"
        },
        {
          "output_type": "stream",
          "text": [
            "Model: \"sequential_3\"\n",
            "_________________________________________________________________\n",
            "Layer (type)                 Output Shape              Param #   \n",
            "=================================================================\n",
            "keras_layer_3 (KerasLayer)   (None, 20)                400020    \n",
            "_________________________________________________________________\n",
            "dense_6 (Dense)              (None, 16)                336       \n",
            "_________________________________________________________________\n",
            "dense_7 (Dense)              (None, 4)                 68        \n",
            "=================================================================\n",
            "Total params: 400,424\n",
            "Trainable params: 400,424\n",
            "Non-trainable params: 0\n",
            "_________________________________________________________________\n"
          ],
          "name": "stdout"
        }
      ]
    },
    {
      "cell_type": "code",
      "metadata": {
        "id": "nbTebSc3HF4Q",
        "outputId": "41c03270-8cc3-405e-992c-56a88a5f70f5",
        "colab": {
          "base_uri": "https://localhost:8080/"
        }
      },
      "source": [
        "history2 = model2.fit(partial_x_train,\n",
        "                    partial_y_train,\n",
        "                    epochs=20,\n",
        "                    batch_size=20,\n",
        "                    validation_data=(x_val, y_val))"
      ],
      "execution_count": 50,
      "outputs": [
        {
          "output_type": "stream",
          "text": [
            "Epoch 1/20\n",
            "278/278 [==============================] - 4s 13ms/step - loss: 0.7650 - accuracy: 0.2239 - val_loss: 0.5847 - val_accuracy: 0.2464\n",
            "Epoch 2/20\n",
            "278/278 [==============================] - 4s 13ms/step - loss: 0.5705 - accuracy: 0.2871 - val_loss: 0.5634 - val_accuracy: 0.2752\n",
            "Epoch 3/20\n",
            "278/278 [==============================] - 4s 13ms/step - loss: 0.5481 - accuracy: 0.3129 - val_loss: 0.5468 - val_accuracy: 0.3012\n",
            "Epoch 4/20\n",
            "278/278 [==============================] - 4s 13ms/step - loss: 0.5303 - accuracy: 0.3309 - val_loss: 0.5329 - val_accuracy: 0.3213\n",
            "Epoch 5/20\n",
            "278/278 [==============================] - 4s 13ms/step - loss: 0.5165 - accuracy: 0.3435 - val_loss: 0.5301 - val_accuracy: 0.3242\n",
            "Epoch 6/20\n",
            "278/278 [==============================] - 4s 13ms/step - loss: 0.5001 - accuracy: 0.3534 - val_loss: 0.5178 - val_accuracy: 0.3163\n",
            "Epoch 7/20\n",
            "278/278 [==============================] - 4s 13ms/step - loss: 0.4862 - accuracy: 0.3703 - val_loss: 0.5173 - val_accuracy: 0.3782\n",
            "Epoch 8/20\n",
            "278/278 [==============================] - 4s 13ms/step - loss: 0.4720 - accuracy: 0.3770 - val_loss: 0.5069 - val_accuracy: 0.3501\n",
            "Epoch 9/20\n",
            "278/278 [==============================] - 4s 13ms/step - loss: 0.4557 - accuracy: 0.3914 - val_loss: 0.5086 - val_accuracy: 0.3091\n",
            "Epoch 10/20\n",
            "278/278 [==============================] - 4s 13ms/step - loss: 0.4410 - accuracy: 0.3955 - val_loss: 0.5050 - val_accuracy: 0.3797\n",
            "Epoch 11/20\n",
            "278/278 [==============================] - 4s 13ms/step - loss: 0.4241 - accuracy: 0.4054 - val_loss: 0.4942 - val_accuracy: 0.3883\n",
            "Epoch 12/20\n",
            "278/278 [==============================] - 4s 13ms/step - loss: 0.4093 - accuracy: 0.4175 - val_loss: 0.4938 - val_accuracy: 0.3890\n",
            "Epoch 13/20\n",
            "278/278 [==============================] - 4s 13ms/step - loss: 0.3938 - accuracy: 0.4301 - val_loss: 0.5007 - val_accuracy: 0.3725\n",
            "Epoch 14/20\n",
            "278/278 [==============================] - 4s 13ms/step - loss: 0.3766 - accuracy: 0.4397 - val_loss: 0.5052 - val_accuracy: 0.3509\n",
            "Epoch 15/20\n",
            "278/278 [==============================] - 4s 13ms/step - loss: 0.3587 - accuracy: 0.4526 - val_loss: 0.4987 - val_accuracy: 0.3696\n",
            "Epoch 16/20\n",
            "278/278 [==============================] - 4s 13ms/step - loss: 0.3411 - accuracy: 0.4670 - val_loss: 0.5035 - val_accuracy: 0.3797\n",
            "Epoch 17/20\n",
            "278/278 [==============================] - 4s 13ms/step - loss: 0.3245 - accuracy: 0.4755 - val_loss: 0.5059 - val_accuracy: 0.3718\n",
            "Epoch 18/20\n",
            "278/278 [==============================] - 4s 13ms/step - loss: 0.3055 - accuracy: 0.4885 - val_loss: 0.5108 - val_accuracy: 0.3854\n",
            "Epoch 19/20\n",
            "278/278 [==============================] - 4s 13ms/step - loss: 0.2877 - accuracy: 0.5009 - val_loss: 0.5212 - val_accuracy: 0.3927\n",
            "Epoch 20/20\n",
            "278/278 [==============================] - 4s 13ms/step - loss: 0.2700 - accuracy: 0.5103 - val_loss: 0.5224 - val_accuracy: 0.4085\n"
          ],
          "name": "stdout"
        }
      ]
    },
    {
      "cell_type": "markdown",
      "metadata": {
        "id": "JUhUq37dIJGZ"
      },
      "source": [
        "#### - loss, accuracy graph"
      ]
    },
    {
      "cell_type": "code",
      "metadata": {
        "id": "R2A3s-3CHl86"
      },
      "source": [
        "loss2 = history2.history['loss']\n",
        "val_loss2 = history2.history['val_loss']\n",
        "\n",
        "acc2 = history2.history['accuracy']\n",
        "val_acc2 = history2.history['val_accuracy']"
      ],
      "execution_count": 51,
      "outputs": []
    },
    {
      "cell_type": "code",
      "metadata": {
        "id": "IlpkmObuHmGx",
        "outputId": "bef6f5f5-c061-43f8-b827-0e5e4b1c75ab",
        "colab": {
          "base_uri": "https://localhost:8080/",
          "height": 295
        }
      },
      "source": [
        "epochs = range(1, len(loss) + 1)\n",
        "\n",
        "plt.plot(epochs, loss2, 'bo', label='Training loss')\n",
        "plt.plot(epochs, val_loss2, 'b', label='Validation loss')\n",
        "plt.title('Training and validation loss')\n",
        "plt.xlabel('Epochs')\n",
        "plt.ylabel('Loss')\n",
        "plt.legend()\n",
        "\n",
        "plt.show()"
      ],
      "execution_count": 52,
      "outputs": [
        {
          "output_type": "display_data",
          "data": {
            "image/png": "[encoded data removed]",
            "text/plain": [
              "<Figure size 432x288 with 1 Axes>"
            ]
          },
          "metadata": {
            "tags": [],
            "needs_background": "light"
          }
        }
      ]
    },
    {
      "cell_type": "code",
      "metadata": {
        "id": "UM1YWqc_HtRi",
        "outputId": "de022252-5488-44da-fe5a-13f011bb15f5",
        "colab": {
          "base_uri": "https://localhost:8080/",
          "height": 295
        }
      },
      "source": [
        "plt.clf() #그래프를 초기화합니다.\n",
        "\n",
        "plt.plot(epochs, acc2, 'bo', label='Training acc')\n",
        "plt.plot(epochs, val_acc2, 'b', label='Validation acc')\n",
        "plt.title('Training and validation accuracy')\n",
        "plt.xlabel('Epochs')\n",
        "plt.ylabel('Accuracy')\n",
        "plt.legend()\n",
        "\n",
        "plt.show()"
      ],
      "execution_count": 53,
      "outputs": [
        {
          "output_type": "display_data",
          "data": {
            "image/png": "[encoded data removed]",
            "text/plain": [
              "<Figure size 432x288 with 1 Axes>"
            ]
          },
          "metadata": {
            "tags": [],
            "needs_background": "light"
          }
        }
      ]
    },
    {
      "cell_type": "code",
      "metadata": {
        "id": "BOwZCPVaHtUZ",
        "outputId": "a8d79f32-573c-49a3-85df-40315c3eed69",
        "colab": {
          "base_uri": "https://localhost:8080/"
        }
      },
      "source": [
        "results = model2.evaluate(test_posts, test_labels)\n",
        "results"
      ],
      "execution_count": 54,
      "outputs": [
        {
          "output_type": "stream",
          "text": [
            "55/55 [==============================] - 1s 11ms/step - loss: 0.5336 - accuracy: 0.4121\n"
          ],
          "name": "stdout"
        },
        {
          "output_type": "execute_result",
          "data": {
            "text/plain": [
              "[0.5336045622825623, 0.4121037423610687]"
            ]
          },
          "metadata": {
            "tags": []
          },
          "execution_count": 54
        }
      ]
    },
    {
      "cell_type": "code",
      "metadata": {
        "id": "kac2EglET4ce"
      },
      "source": [
        ""
      ],
      "execution_count": null,
      "outputs": []
    }
  ]
}