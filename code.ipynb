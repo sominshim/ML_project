{
  "nbformat": 4,
  "nbformat_minor": 0,
  "metadata": {
    "colab": {
      "name": "code.ipynb",
      "provenance": [],
      "collapsed_sections": [],
      "authorship_tag": "ABX9TyOSf+VWJHenfCIPVCXTTEkR",
      "include_colab_link": true
    },
    "kernelspec": {
      "name": "python3",
      "display_name": "Python 3"
    },
    "accelerator": "GPU"
  },
  "cells": [
    {
      "cell_type": "markdown",
      "metadata": {
        "id": "view-in-github",
        "colab_type": "text"
      },
      "source": [
        "<a href=\"https://colab.research.google.com/github/sominshim/Predicting_Personality_through_Text/blob/main/code.ipynb\" target=\"_parent\"><img src=\"https://colab.research.google.com/assets/colab-badge.svg\" alt=\"Open In Colab\"/></a>"
      ]
    },
    {
      "cell_type": "code",
      "metadata": {
        "id": "VGiyWu1dJURX",
        "colab": {
          "base_uri": "https://localhost:8080/"
        },
        "outputId": "386fbea2-7863-42d6-b9c7-1d711f3d28fb"
      },
      "source": [
        "import tensorflow as tf\n",
        "# !pip install tensorflow-hub\n",
        "# !pip install tfds-nightly\n",
        "import tensorflow_hub as hub\n",
        "import tensorflow_datasets as tfds\n",
        "\n",
        "print(\"버전: \", tf.__version__)\n",
        "print(\"즉시 실행 모드: \", tf.executing_eagerly())\n",
        "print(\"허브 버전: \", hub.__version__)\n",
        "print(\"GPU\", \"사용 가능\" if tf.config.experimental.list_physical_devices(\"GPU\") else \"사용 불가능\")"
      ],
      "execution_count": 1,
      "outputs": [
        {
          "output_type": "stream",
          "text": [
            "버전:  2.3.0\n",
            "즉시 실행 모드:  True\n",
            "허브 버전:  0.10.0\n",
            "GPU 사용 가능\n"
          ],
          "name": "stdout"
        }
      ]
    },
    {
      "cell_type": "code",
      "metadata": {
        "id": "cucm7taXSKiR"
      },
      "source": [
        "# import module\n",
        "import io\n",
        "import pandas as pd\n",
        "\n",
        "import pandas as pd\n",
        "import numpy as np\n",
        "import matplotlib.pyplot as plt\n",
        "import seaborn as sns\n",
        "from sklearn.model_selection import train_test_split\n",
        "from sklearn.preprocessing import LabelEncoder\n",
        "from keras.preprocessing.text import Tokenizer\n",
        "from keras.models import Model\n",
        "from keras.layers import LSTM, Activation, Dense, Dropout, Input, Embedding\n",
        "from keras.optimizers import RMSprop\n",
        "from keras.preprocessing import sequence\n",
        "from keras.utils import to_categorical\n",
        "from keras.callbacks import EarlyStopping\n",
        "%matplotlib inline\n",
        "\n",
        "np.random.seed(42)"
      ],
      "execution_count": 2,
      "outputs": []
    },
    {
      "cell_type": "code",
      "metadata": {
        "id": "b-JmVkorJ26t"
      },
      "source": [
        "from sklearn.feature_extraction.text import TfidfVectorizer\n",
        "from tensorflow.keras.preprocessing.sequence import pad_sequences\n",
        "from tensorflow.keras.preprocessing.text import Tokenizer\n",
        "\n",
        "from sklearn import model_selection\n",
        "from sklearn.naive_bayes import MultinomialNB\n",
        "from sklearn import metrics\n",
        "from sklearn.model_selection import train_test_split\n",
        "from sklearn.metrics import accuracy_score\n",
        "from sklearn.multiclass import OneVsRestClassifier\n",
        "from sklearn.svm import LinearSVC, SVC\n",
        "from sklearn.linear_model import LogisticRegression\n",
        "from sklearn.pipeline import Pipeline"
      ],
      "execution_count": 3,
      "outputs": []
    },
    {
      "cell_type": "code",
      "metadata": {
        "id": "ztOknNLtSR_Y",
        "colab": {
          "base_uri": "https://localhost:8080/"
        },
        "outputId": "8d1ac2c1-b558-4f65-b45e-0016d5b7b6c2"
      },
      "source": [
        "#드라이브에 접근할 수 있도록 아래 코드 입력\n",
        "from google.colab import drive\n",
        "drive.mount('/content/drive')"
      ],
      "execution_count": 4,
      "outputs": [
        {
          "output_type": "stream",
          "text": [
            "Drive already mounted at /content/drive; to attempt to forcibly remount, call drive.mount(\"/content/drive\", force_remount=True).\n"
          ],
          "name": "stdout"
        }
      ]
    },
    {
      "cell_type": "code",
      "metadata": {
        "id": "lard_QtBSVzW"
      },
      "source": [
        "#불러올 파일의 경로를 filename 변수에 저장\n",
        "filename = '/content/drive/My Drive/mbti_1.csv'"
      ],
      "execution_count": 5,
      "outputs": []
    },
    {
      "cell_type": "code",
      "metadata": {
        "id": "UnSasudoSWpy",
        "colab": {
          "base_uri": "https://localhost:8080/",
          "height": 194
        },
        "outputId": "6588e867-8f70-4452-cc06-4c987591447f"
      },
      "source": [
        "#pandas read_csv로 불러오기\n",
        "data = pd.read_csv(filename)\n",
        "data.head()"
      ],
      "execution_count": 6,
      "outputs": [
        {
          "output_type": "execute_result",
          "data": {
            "text/html": [
              "<div>\n",
              "<style scoped>\n",
              "    .dataframe tbody tr th:only-of-type {\n",
              "        vertical-align: middle;\n",
              "    }\n",
              "\n",
              "    .dataframe tbody tr th {\n",
              "        vertical-align: top;\n",
              "    }\n",
              "\n",
              "    .dataframe thead th {\n",
              "        text-align: right;\n",
              "    }\n",
              "</style>\n",
              "<table border=\"1\" class=\"dataframe\">\n",
              "  <thead>\n",
              "    <tr style=\"text-align: right;\">\n",
              "      <th></th>\n",
              "      <th>type</th>\n",
              "      <th>posts</th>\n",
              "    </tr>\n",
              "  </thead>\n",
              "  <tbody>\n",
              "    <tr>\n",
              "      <th>0</th>\n",
              "      <td>INFJ</td>\n",
              "      <td>'http://www.youtube.com/watch?v=qsXHcwe3krw|||...</td>\n",
              "    </tr>\n",
              "    <tr>\n",
              "      <th>1</th>\n",
              "      <td>ENTP</td>\n",
              "      <td>'I'm finding the lack of me in these posts ver...</td>\n",
              "    </tr>\n",
              "    <tr>\n",
              "      <th>2</th>\n",
              "      <td>INTP</td>\n",
              "      <td>'Good one  _____   https://www.youtube.com/wat...</td>\n",
              "    </tr>\n",
              "    <tr>\n",
              "      <th>3</th>\n",
              "      <td>INTJ</td>\n",
              "      <td>'Dear INTP,   I enjoyed our conversation the o...</td>\n",
              "    </tr>\n",
              "    <tr>\n",
              "      <th>4</th>\n",
              "      <td>ENTJ</td>\n",
              "      <td>'You're fired.|||That's another silly misconce...</td>\n",
              "    </tr>\n",
              "  </tbody>\n",
              "</table>\n",
              "</div>"
            ],
            "text/plain": [
              "   type                                              posts\n",
              "0  INFJ  'http://www.youtube.com/watch?v=qsXHcwe3krw|||...\n",
              "1  ENTP  'I'm finding the lack of me in these posts ver...\n",
              "2  INTP  'Good one  _____   https://www.youtube.com/wat...\n",
              "3  INTJ  'Dear INTP,   I enjoyed our conversation the o...\n",
              "4  ENTJ  'You're fired.|||That's another silly misconce..."
            ]
          },
          "metadata": {
            "tags": []
          },
          "execution_count": 6
        }
      ]
    },
    {
      "cell_type": "code",
      "metadata": {
        "id": "oQA0x7bVDpzo",
        "colab": {
          "base_uri": "https://localhost:8080/",
          "height": 337
        },
        "outputId": "31a16d30-5eac-43f2-8b47-e74e5f42743f"
      },
      "source": [
        "cnt_types = data['type'].value_counts()\n",
        "\n",
        "plt.figure(figsize=(12,4))\n",
        "sns.barplot(cnt_types.index, cnt_types.values, alpha=0.8)\n",
        "plt.ylabel('Number of Occurrences', fontsize=12)\n",
        "plt.xlabel('Types', fontsize=12)\n",
        "plt.show()"
      ],
      "execution_count": 7,
      "outputs": [
        {
          "output_type": "stream",
          "text": [
            "/usr/local/lib/python3.6/dist-packages/seaborn/_decorators.py:43: FutureWarning: Pass the following variables as keyword args: x, y. From version 0.12, the only valid positional argument will be `data`, and passing other arguments without an explicit keyword will result in an error or misinterpretation.\n",
            "  FutureWarning\n"
          ],
          "name": "stderr"
        },
        {
          "output_type": "display_data",
          "data": {
            "image/png": "[encoded data removed]",
            "text/plain": [
              "<Figure size 864x288 with 1 Axes>"
            ]
          },
          "metadata": {
            "tags": [],
            "needs_background": "light"
          }
        }
      ]
    },
    {
      "cell_type": "code",
      "metadata": {
        "id": "CUF2Ue3jHwr-",
        "colab": {
          "base_uri": "https://localhost:8080/",
          "height": 194
        },
        "outputId": "7aa5a61e-c586-4001-f748-b783d5c4f25d"
      },
      "source": [
        "data.head()"
      ],
      "execution_count": 8,
      "outputs": [
        {
          "output_type": "execute_result",
          "data": {
            "text/html": [
              "<div>\n",
              "<style scoped>\n",
              "    .dataframe tbody tr th:only-of-type {\n",
              "        vertical-align: middle;\n",
              "    }\n",
              "\n",
              "    .dataframe tbody tr th {\n",
              "        vertical-align: top;\n",
              "    }\n",
              "\n",
              "    .dataframe thead th {\n",
              "        text-align: right;\n",
              "    }\n",
              "</style>\n",
              "<table border=\"1\" class=\"dataframe\">\n",
              "  <thead>\n",
              "    <tr style=\"text-align: right;\">\n",
              "      <th></th>\n",
              "      <th>type</th>\n",
              "      <th>posts</th>\n",
              "    </tr>\n",
              "  </thead>\n",
              "  <tbody>\n",
              "    <tr>\n",
              "      <th>0</th>\n",
              "      <td>INFJ</td>\n",
              "      <td>'http://www.youtube.com/watch?v=qsXHcwe3krw|||...</td>\n",
              "    </tr>\n",
              "    <tr>\n",
              "      <th>1</th>\n",
              "      <td>ENTP</td>\n",
              "      <td>'I'm finding the lack of me in these posts ver...</td>\n",
              "    </tr>\n",
              "    <tr>\n",
              "      <th>2</th>\n",
              "      <td>INTP</td>\n",
              "      <td>'Good one  _____   https://www.youtube.com/wat...</td>\n",
              "    </tr>\n",
              "    <tr>\n",
              "      <th>3</th>\n",
              "      <td>INTJ</td>\n",
              "      <td>'Dear INTP,   I enjoyed our conversation the o...</td>\n",
              "    </tr>\n",
              "    <tr>\n",
              "      <th>4</th>\n",
              "      <td>ENTJ</td>\n",
              "      <td>'You're fired.|||That's another silly misconce...</td>\n",
              "    </tr>\n",
              "  </tbody>\n",
              "</table>\n",
              "</div>"
            ],
            "text/plain": [
              "   type                                              posts\n",
              "0  INFJ  'http://www.youtube.com/watch?v=qsXHcwe3krw|||...\n",
              "1  ENTP  'I'm finding the lack of me in these posts ver...\n",
              "2  INTP  'Good one  _____   https://www.youtube.com/wat...\n",
              "3  INTJ  'Dear INTP,   I enjoyed our conversation the o...\n",
              "4  ENTJ  'You're fired.|||That's another silly misconce..."
            ]
          },
          "metadata": {
            "tags": []
          },
          "execution_count": 8
        }
      ]
    },
    {
      "cell_type": "code",
      "metadata": {
        "id": "kb0vareyUpuh",
        "colab": {
          "base_uri": "https://localhost:8080/"
        },
        "outputId": "c522233f-d500-4b68-9b92-f82c91800826"
      },
      "source": [
        "# Split mbti personality into 4 letters and binarize\n",
        "titles = [\"Extraversion (E) - Introversion (I)\",\n",
        "          \"Sensation (S) - INtuition (N)\",\n",
        "          \"Thinking (T) - Feeling (F)\",\n",
        "          \"Judgement (J) - Perception (P)\"\n",
        "         ] \n",
        "b_Pers = {'E':0, 'I':1, 'S':0, 'N':1, 'T':0, 'F':1, 'J':0, 'P':1}\n",
        "b_Pers_list = [{0:'E', 1:'I'}, {0:'S', 1:'N'}, {0:'T', 1:'F'}, {0:'J', 1:'P'}]\n",
        "\n",
        "#transform mbti to binary vector\n",
        "def translate_personality(personality):\n",
        "    return [b_Pers[l] for l in personality]\n",
        "\n",
        "#transform binary vector to mbti personality\n",
        "def translate_back(personality):\n",
        "    s = \"\"\n",
        "    for i, l in enumerate(personality):\n",
        "        s += b_Pers_list[i][l]\n",
        "    return s\n",
        "\n",
        "list_personality_bin = np.array([translate_personality(p) for p in data.type])\n",
        "print(\"Binarize MBTI list: \\n%s\" % list_personality_bin)"
      ],
      "execution_count": 9,
      "outputs": [
        {
          "output_type": "stream",
          "text": [
            "Binarize MBTI list: \n",
            "[[1 1 1 0]\n",
            " [0 1 0 1]\n",
            " [1 1 0 1]\n",
            " ...\n",
            " [1 1 0 1]\n",
            " [1 1 1 1]\n",
            " [1 1 1 1]]\n"
          ],
          "name": "stdout"
        }
      ]
    },
    {
      "cell_type": "code",
      "metadata": {
        "id": "iiNzG8I8UrqR"
      },
      "source": [
        "data['E-I'] = list_personality_bin[:,0]\n",
        "data['S-N'] = list_personality_bin[:,1]\n",
        "data['T-F'] = list_personality_bin[:,2]\n",
        "data['J-P'] = list_personality_bin[:,3]"
      ],
      "execution_count": 10,
      "outputs": []
    },
    {
      "cell_type": "code",
      "metadata": {
        "id": "V4PQPwXrUuTK",
        "colab": {
          "base_uri": "https://localhost:8080/",
          "height": 194
        },
        "outputId": "f49fcdfe-9775-47c4-e298-3f481b91433d"
      },
      "source": [
        "data.head()"
      ],
      "execution_count": 11,
      "outputs": [
        {
          "output_type": "execute_result",
          "data": {
            "text/html": [
              "<div>\n",
              "<style scoped>\n",
              "    .dataframe tbody tr th:only-of-type {\n",
              "        vertical-align: middle;\n",
              "    }\n",
              "\n",
              "    .dataframe tbody tr th {\n",
              "        vertical-align: top;\n",
              "    }\n",
              "\n",
              "    .dataframe thead th {\n",
              "        text-align: right;\n",
              "    }\n",
              "</style>\n",
              "<table border=\"1\" class=\"dataframe\">\n",
              "  <thead>\n",
              "    <tr style=\"text-align: right;\">\n",
              "      <th></th>\n",
              "      <th>type</th>\n",
              "      <th>posts</th>\n",
              "      <th>E-I</th>\n",
              "      <th>S-N</th>\n",
              "      <th>T-F</th>\n",
              "      <th>J-P</th>\n",
              "    </tr>\n",
              "  </thead>\n",
              "  <tbody>\n",
              "    <tr>\n",
              "      <th>0</th>\n",
              "      <td>INFJ</td>\n",
              "      <td>'http://www.youtube.com/watch?v=qsXHcwe3krw|||...</td>\n",
              "      <td>1</td>\n",
              "      <td>1</td>\n",
              "      <td>1</td>\n",
              "      <td>0</td>\n",
              "    </tr>\n",
              "    <tr>\n",
              "      <th>1</th>\n",
              "      <td>ENTP</td>\n",
              "      <td>'I'm finding the lack of me in these posts ver...</td>\n",
              "      <td>0</td>\n",
              "      <td>1</td>\n",
              "      <td>0</td>\n",
              "      <td>1</td>\n",
              "    </tr>\n",
              "    <tr>\n",
              "      <th>2</th>\n",
              "      <td>INTP</td>\n",
              "      <td>'Good one  _____   https://www.youtube.com/wat...</td>\n",
              "      <td>1</td>\n",
              "      <td>1</td>\n",
              "      <td>0</td>\n",
              "      <td>1</td>\n",
              "    </tr>\n",
              "    <tr>\n",
              "      <th>3</th>\n",
              "      <td>INTJ</td>\n",
              "      <td>'Dear INTP,   I enjoyed our conversation the o...</td>\n",
              "      <td>1</td>\n",
              "      <td>1</td>\n",
              "      <td>0</td>\n",
              "      <td>0</td>\n",
              "    </tr>\n",
              "    <tr>\n",
              "      <th>4</th>\n",
              "      <td>ENTJ</td>\n",
              "      <td>'You're fired.|||That's another silly misconce...</td>\n",
              "      <td>0</td>\n",
              "      <td>1</td>\n",
              "      <td>0</td>\n",
              "      <td>0</td>\n",
              "    </tr>\n",
              "  </tbody>\n",
              "</table>\n",
              "</div>"
            ],
            "text/plain": [
              "   type                                              posts  E-I  S-N  T-F  J-P\n",
              "0  INFJ  'http://www.youtube.com/watch?v=qsXHcwe3krw|||...    1    1    1    0\n",
              "1  ENTP  'I'm finding the lack of me in these posts ver...    0    1    0    1\n",
              "2  INTP  'Good one  _____   https://www.youtube.com/wat...    1    1    0    1\n",
              "3  INTJ  'Dear INTP,   I enjoyed our conversation the o...    1    1    0    0\n",
              "4  ENTJ  'You're fired.|||That's another silly misconce...    0    1    0    0"
            ]
          },
          "metadata": {
            "tags": []
          },
          "execution_count": 11
        }
      ]
    },
    {
      "cell_type": "code",
      "metadata": {
        "colab": {
          "base_uri": "https://localhost:8080/"
        },
        "id": "hrzsM4S_ArMW",
        "outputId": "37b052d2-2490-4ace-e8e6-c386cf9e8eef"
      },
      "source": [
        "data.shape"
      ],
      "execution_count": 12,
      "outputs": [
        {
          "output_type": "execute_result",
          "data": {
            "text/plain": [
              "(8675, 6)"
            ]
          },
          "metadata": {
            "tags": []
          },
          "execution_count": 12
        }
      ]
    },
    {
      "cell_type": "code",
      "metadata": {
        "colab": {
          "base_uri": "https://localhost:8080/",
          "height": 281
        },
        "id": "nTb7uj0BgP6d",
        "outputId": "eda296a6-3a8d-4f16-a83b-e7c297080dd4"
      },
      "source": [
        "N = 4\n",
        "but = (data['E-I'].value_counts()[0], data['S-N'].value_counts()[0], data['T-F'].value_counts()[0], data['J-P'].value_counts()[0])\n",
        "top = (data['E-I'].value_counts()[1], data['S-N'].value_counts()[1], data['T-F'].value_counts()[1], data['J-P'].value_counts()[1])\n",
        "\n",
        "ind = np.arange(N)    \n",
        "width = 0.7      \n",
        "\n",
        "p1 = plt.bar(ind, but, width)\n",
        "p2 = plt.bar(ind, top, width, bottom=but)\n",
        "\n",
        "plt.ylabel('Count')\n",
        "plt.title('Distribution accoss types indicators')\n",
        "plt.xticks(ind, ('E/I',  'S/N', 'T/F', 'J/P',))\n",
        "\n",
        "plt.show()"
      ],
      "execution_count": 13,
      "outputs": [
        {
          "output_type": "display_data",
          "data": {
            "image/png": "[encoded data removed]",
            "text/plain": [
              "<Figure size 432x288 with 1 Axes>"
            ]
          },
          "metadata": {
            "tags": [],
            "needs_background": "light"
          }
        }
      ]
    },
    {
      "cell_type": "code",
      "metadata": {
        "colab": {
          "base_uri": "https://localhost:8080/"
        },
        "id": "KRaTH68xgrK8",
        "outputId": "e5c4d4b7-d33e-49de-9409-3f810e77fcbb"
      },
      "source": [
        "print (\"Introversion (I) /  Extroversion (E):\\t\", data['E-I'].value_counts()[0], \" / \", data['E-I'].value_counts()[1])\n",
        "print (\"Intuition (N) – Sensing (S):\\t\\t\", data['S-N'].value_counts()[0], \" / \", data['S-N'].value_counts()[1])\n",
        "print (\"Thinking (T) – Feeling (F):\\t\\t\", data['T-F'].value_counts()[0], \" / \", data['T-F'].value_counts()[1])\n",
        "print (\"Judging (J) – Perceiving (P):\\t\\t\", data['J-P'].value_counts()[0], \" / \", data['J-P'].value_counts()[1])"
      ],
      "execution_count": 14,
      "outputs": [
        {
          "output_type": "stream",
          "text": [
            "Introversion (I) /  Extroversion (E):\t 1999  /  6676\n",
            "Intuition (N) – Sensing (S):\t\t 1197  /  7478\n",
            "Thinking (T) – Feeling (F):\t\t 3981  /  4694\n",
            "Judging (J) – Perceiving (P):\t\t 3434  /  5241\n"
          ],
          "name": "stdout"
        }
      ]
    },
    {
      "cell_type": "markdown",
      "metadata": {
        "id": "IDurCxSWNk7A"
      },
      "source": [
        "## 데이터 전처리"
      ]
    },
    {
      "cell_type": "code",
      "metadata": {
        "id": "ovgkkvPBNkmk"
      },
      "source": [
        "from sklearn.preprocessing import LabelBinarizer\n",
        "import re\n",
        "import string"
      ],
      "execution_count": 15,
      "outputs": []
    },
    {
      "cell_type": "code",
      "metadata": {
        "id": "uCGryo5ANPMZ"
      },
      "source": [
        "contraction_patterns = [ (r'won\\'t', 'will not'), (r'can\\'t', 'cannot'), (r'I\\'m', 'I am'),(r'i\\'m', 'i am'), (r'ain\\'t', 'is not'), (r'(\\w+)\\'ll', '\\g<1> will'), (r'(\\w+)n\\'t', '\\g<1> not'),\n",
        "                         (r'(\\w+)\\'ve', '\\g<1> have'), (r'(\\w+)\\'s', '\\g<1> is'), (r'(\\w+)\\'re', '\\g<1> are'), (r'(\\w+)\\'d', '\\g<1> would'), (r'&', 'and'), (r'dammit', 'damn it'), (r'dont', 'do not'), (r'wont', 'will not') ]\n",
        "def replace(text):\n",
        "    patterns = [(re.compile(regex), repl) for (regex, repl) in contraction_patterns]\n",
        "    for (pattern, repl) in patterns:\n",
        "        (text, count) = re.subn(pattern, repl, text)\n",
        "    return text\n",
        "\n",
        "text_replace = pd.DataFrame(columns=['TextBefore', 'TextAfter'])\n",
        "text_replace['TextBefore'] = data['posts'].copy()"
      ],
      "execution_count": 16,
      "outputs": []
    },
    {
      "cell_type": "code",
      "metadata": {
        "id": "x7jIlt_qNSYA"
      },
      "source": [
        "for index, row in text_replace.iterrows():\n",
        "    row['TextAfter'] = replace(row['TextBefore'])"
      ],
      "execution_count": 17,
      "outputs": []
    },
    {
      "cell_type": "code",
      "metadata": {
        "id": "foV233_qNulG",
        "colab": {
          "base_uri": "https://localhost:8080/"
        },
        "outputId": "143789b9-8f62-4456-9a13-a53aecd8d3ba"
      },
      "source": [
        "print(text_replace['TextBefore'][:5],'\\n->\\n', text_replace['TextAfter'][:5])"
      ],
      "execution_count": 18,
      "outputs": [
        {
          "output_type": "stream",
          "text": [
            "0    'http://www.youtube.com/watch?v=qsXHcwe3krw|||...\n",
            "1    'I'm finding the lack of me in these posts ver...\n",
            "2    'Good one  _____   https://www.youtube.com/wat...\n",
            "3    'Dear INTP,   I enjoyed our conversation the o...\n",
            "4    'You're fired.|||That's another silly misconce...\n",
            "Name: TextBefore, dtype: object \n",
            "->\n",
            " 0    'http://www.youtube.com/watch?v=qsXHcwe3krw|||...\n",
            "1    'I am finding the lack of me in these posts ve...\n",
            "2    'Good one  _____   https://www.youtube.com/wat...\n",
            "3    'Dear INTP,   I enjoyed our conversation the o...\n",
            "4    'You are fired.|||That is another silly miscon...\n",
            "Name: TextAfter, dtype: object\n"
          ],
          "name": "stdout"
        }
      ]
    },
    {
      "cell_type": "markdown",
      "metadata": {
        "id": "I8bSHiUoPqxN"
      },
      "source": [
        "### 특수문자 제거"
      ]
    },
    {
      "cell_type": "code",
      "metadata": {
        "id": "tSpK8JSxSc9y"
      },
      "source": [
        "def cleaner(post):\n",
        "    # 소문자 변환\n",
        "    post = post.lower() \n",
        "    \n",
        "    # '|||' 제거\n",
        "    post = post.replace('|||', \"\") \n",
        "\n",
        "    # URL, 링크 등 특수문자 제거\n",
        "    post = re.sub(r'''(?i)\\b((?:https?://|www\\d{0,3}[.]|[a-z0-9.\\-]+[.][a-z]{2,4}/)(?:[^\\s()<>]+|\\(([^\\s()<>]+|(\\([^\\s()<>]+\\)))*\\))+(?:\\(([^\\s()<>]+|(\\([^\\s()<>]+\\)))*\\)|[^\\s`!()\\[\\]{};:'\".,<>?«»“”‘’]))''', '', post, flags=re.MULTILINE) \n",
        "\n",
        "    # 구두점 제거\n",
        "    post = post.translate(str.maketrans('', '', string.punctuation))\n",
        "\n",
        "    # 공백 제거\n",
        "    post = re.sub( '\\s+', ' ', post ).strip()\n",
        "\n",
        "    # MBTI 제거\n",
        "    post = re.sub('infj|entp|intp|intj|entj|enfj|infp|enfp|isfp|istp|isfj|istj|estp|esfp|estj|esfj',\"\", post)\n",
        "\n",
        "    # 길이가 짧은 단어 제거\n",
        "    shortword = re.compile(r'\\W*\\b\\w{1,2}\\b')\n",
        "    post = shortword.sub('', post)\n",
        "    \n",
        "    return post"
      ],
      "execution_count": 19,
      "outputs": []
    },
    {
      "cell_type": "code",
      "metadata": {
        "id": "-YAC-_VRLCqM"
      },
      "source": [
        "posts = text_replace.TextAfter.tolist()\n",
        "posts = [cleaner(post) for post in posts]\n",
        "data['clean_post'] = posts"
      ],
      "execution_count": 20,
      "outputs": []
    },
    {
      "cell_type": "code",
      "metadata": {
        "id": "5yfNWVJGQNaE",
        "colab": {
          "base_uri": "https://localhost:8080/"
        },
        "outputId": "5157cd4d-9313-475a-eb7f-305563da9e41"
      },
      "source": [
        "print(text_replace['TextAfter'][:5],'\\n->\\n', data['clean_post'][:5])"
      ],
      "execution_count": 21,
      "outputs": [
        {
          "output_type": "stream",
          "text": [
            "0    'http://www.youtube.com/watch?v=qsXHcwe3krw|||...\n",
            "1    'I am finding the lack of me in these posts ve...\n",
            "2    'Good one  _____   https://www.youtube.com/wat...\n",
            "3    'Dear INTP,   I enjoyed our conversation the o...\n",
            "4    'You are fired.|||That is another silly miscon...\n",
            "Name: TextAfter, dtype: object \n",
            "->\n",
            " 0    and  moments sportscenter not top ten plays pr...\n",
            "1     finding the lack these posts very alarmingsex...\n",
            "2    good one course which say know that blessing a...\n",
            "3    dear enjoyed our conversation the other day es...\n",
            "4    you are firedthat another silly misconception ...\n",
            "Name: clean_post, dtype: object\n"
          ],
          "name": "stdout"
        }
      ]
    },
    {
      "cell_type": "markdown",
      "metadata": {
        "id": "KwmJfpNRO8Dg"
      },
      "source": [
        "### Remove Stopwords\n"
      ]
    },
    {
      "cell_type": "code",
      "metadata": {
        "id": "Up3Hhy0iI6qw",
        "colab": {
          "base_uri": "https://localhost:8080/"
        },
        "outputId": "96ffcd86-13d9-4a46-df63-8058bf7e3401"
      },
      "source": [
        "# Remove Stopwords\n",
        "import nltk\n",
        "nltk.download('stopwords')\n",
        "nltk.download('wordnet')\n",
        "\n",
        "from nltk.corpus import stopwords\n",
        "stoplist = stopwords.words('english')\n",
        "\n",
        "from nltk.stem import WordNetLemmatizer, PorterStemmer\n",
        "\n",
        "n=WordNetLemmatizer()\n",
        "s = PorterStemmer()\n",
        "\n",
        "def tokenize(text):\n",
        "    finalTokens = []\n",
        "    tokens = nltk.word_tokenize(text)\n",
        "    for w in tokens:\n",
        "        if (w not in stoplist):\n",
        "            finalTokens.append(w)\n",
        "    lem  = [n.lemmatize(w) for w in finalTokens]\n",
        "    stem = [s.stem(w) for w in lem]\n",
        "    text = \" \".join(stem)\n",
        "\n",
        "    return text"
      ],
      "execution_count": 22,
      "outputs": [
        {
          "output_type": "stream",
          "text": [
            "[nltk_data] Downloading package stopwords to /root/nltk_data...\n",
            "[nltk_data]   Package stopwords is already up-to-date!\n",
            "[nltk_data] Downloading package wordnet to /root/nltk_data...\n",
            "[nltk_data]   Package wordnet is already up-to-date!\n"
          ],
          "name": "stdout"
        }
      ]
    },
    {
      "cell_type": "code",
      "metadata": {
        "id": "ffhGS_wlKFbv"
      },
      "source": [
        "text_removeStopwords = pd.DataFrame(columns=['TextBefore', 'TextAfter'])\n",
        "text_removeStopwords['TextBefore'] = data['clean_post'].copy()\n"
      ],
      "execution_count": 23,
      "outputs": []
    },
    {
      "cell_type": "code",
      "metadata": {
        "id": "xTx0f-oAJIZG",
        "colab": {
          "base_uri": "https://localhost:8080/"
        },
        "outputId": "985882d5-f4d0-442f-baf4-9f61e5f7e2ef"
      },
      "source": [
        "nltk.download('punkt')\n",
        "for index, row in text_removeStopwords.iterrows():\n",
        "    row['TextAfter'] = tokenize(row['TextBefore'])\n",
        "\n",
        "data['clean_post'] = text_removeStopwords['TextAfter']\n",
        "print(data['clean_post'][:5],'\\n->\\n',text_removeStopwords['TextAfter'][:5])"
      ],
      "execution_count": 24,
      "outputs": [
        {
          "output_type": "stream",
          "text": [
            "[nltk_data] Downloading package punkt to /root/nltk_data...\n",
            "[nltk_data]   Package punkt is already up-to-date!\n",
            "0    moment sportscent top ten play prankswhat life...\n",
            "1    find lack post alarmingsex bore posit often ex...\n",
            "2    good one cours say know bless cursedo absolut ...\n",
            "3    dear enjoy convers day esoter gab natur univer...\n",
            "4    firedthat anoth silli misconcept approach logi...\n",
            "Name: clean_post, dtype: object \n",
            "->\n",
            " 0    moment sportscent top ten play prankswhat life...\n",
            "1    find lack post alarmingsex bore posit often ex...\n",
            "2    good one cours say know bless cursedo absolut ...\n",
            "3    dear enjoy convers day esoter gab natur univer...\n",
            "4    firedthat anoth silli misconcept approach logi...\n",
            "Name: TextAfter, dtype: object\n"
          ],
          "name": "stdout"
        }
      ]
    },
    {
      "cell_type": "markdown",
      "metadata": {
        "id": "odw2tXlNRW_J"
      },
      "source": [
        "### Most frequent mispells -> Correct manually \n",
        "\n"
      ]
    },
    {
      "cell_type": "code",
      "metadata": {
        "id": "oBBvS6GoRWep"
      },
      "source": [
        "mispell_dict = {'colour': 'color', 'centre': 'center', 'favourite': 'favorite', 'travelling': 'traveling', 'counselling': 'counseling', 'theatre': 'theater', 'cancelled': 'canceled', 'labour': 'labor', 'organisation': 'organization', 'wwii': 'world war 2', 'citicise': 'criticize', 'youtu ': 'youtube ', 'Qoura': 'Quora', 'sallary': 'salary', 'Whta': 'What', 'narcisist': 'narcissist', 'howdo': 'how do', 'whatare': 'what are', 'howcan': 'how can', 'howmuch': 'how much', 'howmany': 'how many', 'whydo': 'why do', 'doI': 'do I', 'theBest': 'the best', 'howdoes': 'how does', 'mastrubation': 'masturbation', 'mastrubate': 'masturbate', \"mastrubating\": 'masturbating', 'pennis': 'penis', 'Etherium': 'Ethereum', 'narcissit': 'narcissist', 'bigdata': 'big data', '2k17': '2017', '2k18': '2018', 'qouta': 'quota', 'exboyfriend': 'ex boyfriend', 'airhostess': 'air hostess', \"whst\": 'what', 'watsapp': 'whatsapp', 'demonitisation': 'demonetization', 'demonitization': 'demonetization', 'demonetisation': 'demonetization', 'pokémon': 'pokemon'}\n",
        "def correct_spelling(x, dic):\n",
        "    for word in dic.keys():\n",
        "        x = x.replace(word, dic[word])\n",
        "    return x"
      ],
      "execution_count": 25,
      "outputs": []
    },
    {
      "cell_type": "code",
      "metadata": {
        "id": "seY8_TsoM9H9",
        "colab": {
          "base_uri": "https://localhost:8080/"
        },
        "outputId": "6e809ec4-d6c2-46ac-e630-8f2ec0929a77"
      },
      "source": [
        "data['clean_post'] = data['clean_post'].apply(lambda x: correct_spelling(x, mispell_dict))\n",
        "data['clean_post'][:5]"
      ],
      "execution_count": 26,
      "outputs": [
        {
          "output_type": "execute_result",
          "data": {
            "text/plain": [
              "0    moment sportscent top ten play prankswhat life...\n",
              "1    find lack post alarmingsex bore posit often ex...\n",
              "2    good one cours say know bless cursedo absolut ...\n",
              "3    dear enjoy convers day esoter gab natur univer...\n",
              "4    firedthat anoth silli misconcept approach logi...\n",
              "Name: clean_post, dtype: object"
            ]
          },
          "metadata": {
            "tags": []
          },
          "execution_count": 26
        }
      ]
    },
    {
      "cell_type": "markdown",
      "metadata": {
        "id": "qfe5mrUCVy0O"
      },
      "source": [
        "## Train/ Test/ Validation data Split"
      ]
    },
    {
      "cell_type": "markdown",
      "metadata": {
        "id": "f7XJ_mOMCJYH"
      },
      "source": [
        "계층적으로 분리"
      ]
    },
    {
      "cell_type": "code",
      "metadata": {
        "id": "jNXmr92-1hLc"
      },
      "source": [
        "from sklearn.model_selection import StratifiedShuffleSplit\n",
        "\n",
        "split = StratifiedShuffleSplit(n_splits=1, test_size=0.2, random_state=42)\n",
        "for train_index, test_index in split.split(data, data[['type']]):\n",
        "    train = data.loc[train_index]\n",
        "    test = data.loc[test_index]"
      ],
      "execution_count": 27,
      "outputs": []
    },
    {
      "cell_type": "code",
      "metadata": {
        "colab": {
          "base_uri": "https://localhost:8080/",
          "height": 194
        },
        "id": "rri67wt-mxti",
        "outputId": "d08f2952-8c6a-4560-8e54-c29a8636e94c"
      },
      "source": [
        "train.head()"
      ],
      "execution_count": 28,
      "outputs": [
        {
          "output_type": "execute_result",
          "data": {
            "text/html": [
              "<div>\n",
              "<style scoped>\n",
              "    .dataframe tbody tr th:only-of-type {\n",
              "        vertical-align: middle;\n",
              "    }\n",
              "\n",
              "    .dataframe tbody tr th {\n",
              "        vertical-align: top;\n",
              "    }\n",
              "\n",
              "    .dataframe thead th {\n",
              "        text-align: right;\n",
              "    }\n",
              "</style>\n",
              "<table border=\"1\" class=\"dataframe\">\n",
              "  <thead>\n",
              "    <tr style=\"text-align: right;\">\n",
              "      <th></th>\n",
              "      <th>type</th>\n",
              "      <th>posts</th>\n",
              "      <th>E-I</th>\n",
              "      <th>S-N</th>\n",
              "      <th>T-F</th>\n",
              "      <th>J-P</th>\n",
              "      <th>clean_post</th>\n",
              "    </tr>\n",
              "  </thead>\n",
              "  <tbody>\n",
              "    <tr>\n",
              "      <th>1228</th>\n",
              "      <td>INFP</td>\n",
              "      <td>'We are mandarin speakers.  He receive educati...</td>\n",
              "      <td>1</td>\n",
              "      <td>1</td>\n",
              "      <td>1</td>\n",
              "      <td>1</td>\n",
              "      <td>mandarin speaker receiv educ canada sinc 13tha...</td>\n",
              "    </tr>\n",
              "    <tr>\n",
              "      <th>1290</th>\n",
              "      <td>ISTP</td>\n",
              "      <td>'Nope.  Not now, not ever.  I'm too busy with ...</td>\n",
              "      <td>1</td>\n",
              "      <td>0</td>\n",
              "      <td>0</td>\n",
              "      <td>1</td>\n",
              "      <td>nope ever busi work caus adrenalinerush activ ...</td>\n",
              "    </tr>\n",
              "    <tr>\n",
              "      <th>6756</th>\n",
              "      <td>ENFJ</td>\n",
              "      <td>'That's the only one I haven't gotten to read ...</td>\n",
              "      <td>0</td>\n",
              "      <td>1</td>\n",
              "      <td>1</td>\n",
              "      <td>0</td>\n",
              "      <td>one gotten read yet might pick one bookstoreso...</td>\n",
              "    </tr>\n",
              "    <tr>\n",
              "      <th>1662</th>\n",
              "      <td>INFP</td>\n",
              "      <td>'I used to think that maturity was burning bri...</td>\n",
              "      <td>1</td>\n",
              "      <td>1</td>\n",
              "      <td>1</td>\n",
              "      <td>1</td>\n",
              "      <td>use think matur burn bridg without second thou...</td>\n",
              "    </tr>\n",
              "    <tr>\n",
              "      <th>3338</th>\n",
              "      <td>INFP</td>\n",
              "      <td>'I get typed as both a 4w5 and 5w6 as well but...</td>\n",
              "      <td>1</td>\n",
              "      <td>1</td>\n",
              "      <td>1</td>\n",
              "      <td>1</td>\n",
              "      <td>get type 4w5 5w6 well like consid 4w5 fit perf...</td>\n",
              "    </tr>\n",
              "  </tbody>\n",
              "</table>\n",
              "</div>"
            ],
            "text/plain": [
              "      type  ...                                         clean_post\n",
              "1228  INFP  ...  mandarin speaker receiv educ canada sinc 13tha...\n",
              "1290  ISTP  ...  nope ever busi work caus adrenalinerush activ ...\n",
              "6756  ENFJ  ...  one gotten read yet might pick one bookstoreso...\n",
              "1662  INFP  ...  use think matur burn bridg without second thou...\n",
              "3338  INFP  ...  get type 4w5 5w6 well like consid 4w5 fit perf...\n",
              "\n",
              "[5 rows x 7 columns]"
            ]
          },
          "metadata": {
            "tags": []
          },
          "execution_count": 28
        }
      ]
    },
    {
      "cell_type": "markdown",
      "metadata": {
        "id": "KvPCOywh8MQ-"
      },
      "source": [
        "## OverSampling\n"
      ]
    },
    {
      "cell_type": "code",
      "metadata": {
        "colab": {
          "base_uri": "https://localhost:8080/"
        },
        "id": "1qN6GPD-8LI-",
        "outputId": "6966624f-4666-4697-f3af-55fd649ffd4d"
      },
      "source": [
        "le = LabelEncoder()\n",
        "result = le.fit_transform(train['type'])\n",
        "print(result)"
      ],
      "execution_count": 29,
      "outputs": [
        {
          "output_type": "stream",
          "text": [
            "[ 9 15  0 ...  2 11  3]\n"
          ],
          "name": "stdout"
        }
      ]
    },
    {
      "cell_type": "code",
      "metadata": {
        "id": "qMTESCh38Y21"
      },
      "source": [
        "train['type_n'] = result"
      ],
      "execution_count": 30,
      "outputs": []
    },
    {
      "cell_type": "code",
      "metadata": {
        "colab": {
          "base_uri": "https://localhost:8080/",
          "height": 194
        },
        "id": "0DrsYU278e7r",
        "outputId": "989436b5-833b-4361-8d93-b12828195025"
      },
      "source": [
        "train.head()"
      ],
      "execution_count": 31,
      "outputs": [
        {
          "output_type": "execute_result",
          "data": {
            "text/html": [
              "<div>\n",
              "<style scoped>\n",
              "    .dataframe tbody tr th:only-of-type {\n",
              "        vertical-align: middle;\n",
              "    }\n",
              "\n",
              "    .dataframe tbody tr th {\n",
              "        vertical-align: top;\n",
              "    }\n",
              "\n",
              "    .dataframe thead th {\n",
              "        text-align: right;\n",
              "    }\n",
              "</style>\n",
              "<table border=\"1\" class=\"dataframe\">\n",
              "  <thead>\n",
              "    <tr style=\"text-align: right;\">\n",
              "      <th></th>\n",
              "      <th>type</th>\n",
              "      <th>posts</th>\n",
              "      <th>E-I</th>\n",
              "      <th>S-N</th>\n",
              "      <th>T-F</th>\n",
              "      <th>J-P</th>\n",
              "      <th>clean_post</th>\n",
              "      <th>type_n</th>\n",
              "    </tr>\n",
              "  </thead>\n",
              "  <tbody>\n",
              "    <tr>\n",
              "      <th>1228</th>\n",
              "      <td>INFP</td>\n",
              "      <td>'We are mandarin speakers.  He receive educati...</td>\n",
              "      <td>1</td>\n",
              "      <td>1</td>\n",
              "      <td>1</td>\n",
              "      <td>1</td>\n",
              "      <td>mandarin speaker receiv educ canada sinc 13tha...</td>\n",
              "      <td>9</td>\n",
              "    </tr>\n",
              "    <tr>\n",
              "      <th>1290</th>\n",
              "      <td>ISTP</td>\n",
              "      <td>'Nope.  Not now, not ever.  I'm too busy with ...</td>\n",
              "      <td>1</td>\n",
              "      <td>0</td>\n",
              "      <td>0</td>\n",
              "      <td>1</td>\n",
              "      <td>nope ever busi work caus adrenalinerush activ ...</td>\n",
              "      <td>15</td>\n",
              "    </tr>\n",
              "    <tr>\n",
              "      <th>6756</th>\n",
              "      <td>ENFJ</td>\n",
              "      <td>'That's the only one I haven't gotten to read ...</td>\n",
              "      <td>0</td>\n",
              "      <td>1</td>\n",
              "      <td>1</td>\n",
              "      <td>0</td>\n",
              "      <td>one gotten read yet might pick one bookstoreso...</td>\n",
              "      <td>0</td>\n",
              "    </tr>\n",
              "    <tr>\n",
              "      <th>1662</th>\n",
              "      <td>INFP</td>\n",
              "      <td>'I used to think that maturity was burning bri...</td>\n",
              "      <td>1</td>\n",
              "      <td>1</td>\n",
              "      <td>1</td>\n",
              "      <td>1</td>\n",
              "      <td>use think matur burn bridg without second thou...</td>\n",
              "      <td>9</td>\n",
              "    </tr>\n",
              "    <tr>\n",
              "      <th>3338</th>\n",
              "      <td>INFP</td>\n",
              "      <td>'I get typed as both a 4w5 and 5w6 as well but...</td>\n",
              "      <td>1</td>\n",
              "      <td>1</td>\n",
              "      <td>1</td>\n",
              "      <td>1</td>\n",
              "      <td>get type 4w5 5w6 well like consid 4w5 fit perf...</td>\n",
              "      <td>9</td>\n",
              "    </tr>\n",
              "  </tbody>\n",
              "</table>\n",
              "</div>"
            ],
            "text/plain": [
              "      type  ... type_n\n",
              "1228  INFP  ...      9\n",
              "1290  ISTP  ...     15\n",
              "6756  ENFJ  ...      0\n",
              "1662  INFP  ...      9\n",
              "3338  INFP  ...      9\n",
              "\n",
              "[5 rows x 8 columns]"
            ]
          },
          "metadata": {
            "tags": []
          },
          "execution_count": 31
        }
      ]
    },
    {
      "cell_type": "code",
      "metadata": {
        "id": "J0DSCY9J91p5"
      },
      "source": [
        "from collections import Counter\n",
        "from matplotlib import pyplot\n",
        "\n",
        "# 필요 함수 정의\n",
        "def count_and_plot(y): \n",
        "    counter = Counter(y)\n",
        "    for k,v in counter.items():\n",
        "        print('Class=%d, n=%d (%.3f%%)' % (k, v, v / len(y) * 100))\n",
        "    pyplot.bar(counter.keys(), counter.values())\n",
        "    pyplot.show()"
      ],
      "execution_count": 32,
      "outputs": []
    },
    {
      "cell_type": "code",
      "metadata": {
        "id": "uA36WOgYsGzC"
      },
      "source": [
        "values = train[['clean_post', 'type', 'type_n']].values\n",
        "X, y = values[:, :-1], values[:, -1]"
      ],
      "execution_count": 33,
      "outputs": []
    },
    {
      "cell_type": "code",
      "metadata": {
        "colab": {
          "base_uri": "https://localhost:8080/",
          "height": 549
        },
        "id": "tVIDZvOiFen0",
        "outputId": "8755a23f-9522-4ae4-d9bf-6aaca8eea249"
      },
      "source": [
        "count_and_plot(y)"
      ],
      "execution_count": 34,
      "outputs": [
        {
          "output_type": "stream",
          "text": [
            "Class=9, n=1465 (21.110%)\n",
            "Class=15, n=270 (3.890%)\n",
            "Class=0, n=152 (2.190%)\n",
            "Class=1, n=540 (7.781%)\n",
            "Class=8, n=1176 (16.945%)\n",
            "Class=5, n=38 (0.548%)\n",
            "Class=10, n=873 (12.579%)\n",
            "Class=13, n=217 (3.127%)\n",
            "Class=14, n=164 (2.363%)\n",
            "Class=3, n=548 (7.896%)\n",
            "Class=2, n=185 (2.666%)\n",
            "Class=11, n=1043 (15.029%)\n",
            "Class=12, n=133 (1.916%)\n",
            "Class=7, n=71 (1.023%)\n",
            "Class=4, n=34 (0.490%)\n",
            "Class=6, n=31 (0.447%)\n"
          ],
          "name": "stdout"
        },
        {
          "output_type": "display_data",
          "data": {
            "image/png": "[encoded data removed]",
            "text/plain": [
              "<Figure size 432x288 with 1 Axes>"
            ]
          },
          "metadata": {
            "tags": [],
            "needs_background": "light"
          }
        }
      ]
    },
    {
      "cell_type": "code",
      "metadata": {
        "colab": {
          "base_uri": "https://localhost:8080/",
          "height": 712
        },
        "id": "zTQlkce58hxM",
        "outputId": "d602a621-7a82-451a-98bf-580d40180a87"
      },
      "source": [
        "from imblearn.over_sampling import RandomOverSampler\n",
        "X_resampled, y_resampled = RandomOverSampler(random_state=0).fit_resample(X, y)\n",
        "count_and_plot(y_resampled)"
      ],
      "execution_count": 35,
      "outputs": [
        {
          "output_type": "stream",
          "text": [
            "Class=9, n=1465 (6.250%)\n",
            "Class=15, n=1465 (6.250%)\n",
            "Class=0, n=1465 (6.250%)\n",
            "Class=1, n=1465 (6.250%)\n",
            "Class=8, n=1465 (6.250%)\n",
            "Class=5, n=1465 (6.250%)\n",
            "Class=10, n=1465 (6.250%)\n",
            "Class=13, n=1465 (6.250%)\n",
            "Class=14, n=1465 (6.250%)\n",
            "Class=3, n=1465 (6.250%)\n",
            "Class=2, n=1465 (6.250%)\n",
            "Class=11, n=1465 (6.250%)\n",
            "Class=12, n=1465 (6.250%)\n",
            "Class=7, n=1465 (6.250%)\n",
            "Class=4, n=1465 (6.250%)\n",
            "Class=6, n=1465 (6.250%)\n"
          ],
          "name": "stdout"
        },
        {
          "output_type": "stream",
          "text": [
            "/usr/local/lib/python3.6/dist-packages/sklearn/externals/six.py:31: FutureWarning: The module is deprecated in version 0.21 and will be removed in version 0.23 since we've dropped support for Python 2.7. Please rely on the official version of six (https://pypi.org/project/six/).\n",
            "  \"(https://pypi.org/project/six/).\", FutureWarning)\n",
            "/usr/local/lib/python3.6/dist-packages/sklearn/utils/deprecation.py:144: FutureWarning: The sklearn.neighbors.base module is  deprecated in version 0.22 and will be removed in version 0.24. The corresponding classes / functions should instead be imported from sklearn.neighbors. Anything that cannot be imported from sklearn.neighbors is now part of the private API.\n",
            "  warnings.warn(message, FutureWarning)\n",
            "/usr/local/lib/python3.6/dist-packages/imblearn/utils/_validation.py:93: UserWarning: 'y' should be of types ('binary', 'multiclass', 'multilabel-indicator') only. Got unknown instead.\n",
            "  TARGET_KIND, type_of_target(y)))\n",
            "/usr/local/lib/python3.6/dist-packages/sklearn/utils/deprecation.py:87: FutureWarning: Function safe_indexing is deprecated; safe_indexing is deprecated in version 0.22 and will be removed in version 0.24.\n",
            "  warnings.warn(msg, category=FutureWarning)\n"
          ],
          "name": "stderr"
        },
        {
          "output_type": "display_data",
          "data": {
            "image/png": "[encoded data removed]",
            "text/plain": [
              "<Figure size 432x288 with 1 Axes>"
            ]
          },
          "metadata": {
            "tags": [],
            "needs_background": "light"
          }
        }
      ]
    },
    {
      "cell_type": "code",
      "metadata": {
        "id": "bFvxsh8x_juF",
        "colab": {
          "base_uri": "https://localhost:8080/"
        },
        "outputId": "cd6c49c6-b0ab-4fa2-fa03-33f020dacf5d"
      },
      "source": [
        "train = pd.DataFrame({'clean_post': X_resampled[:, 0], 'type': X_resampled[:, 1]})\n",
        "train.shape"
      ],
      "execution_count": 36,
      "outputs": [
        {
          "output_type": "execute_result",
          "data": {
            "text/plain": [
              "(23440, 2)"
            ]
          },
          "metadata": {
            "tags": []
          },
          "execution_count": 36
        }
      ]
    },
    {
      "cell_type": "code",
      "metadata": {
        "colab": {
          "base_uri": "https://localhost:8080/",
          "height": 194
        },
        "id": "UXqBmEoGdLsU",
        "outputId": "b3bc8785-15a3-4735-b283-eb4809a4b01c"
      },
      "source": [
        "train.head()"
      ],
      "execution_count": 37,
      "outputs": [
        {
          "output_type": "execute_result",
          "data": {
            "text/html": [
              "<div>\n",
              "<style scoped>\n",
              "    .dataframe tbody tr th:only-of-type {\n",
              "        vertical-align: middle;\n",
              "    }\n",
              "\n",
              "    .dataframe tbody tr th {\n",
              "        vertical-align: top;\n",
              "    }\n",
              "\n",
              "    .dataframe thead th {\n",
              "        text-align: right;\n",
              "    }\n",
              "</style>\n",
              "<table border=\"1\" class=\"dataframe\">\n",
              "  <thead>\n",
              "    <tr style=\"text-align: right;\">\n",
              "      <th></th>\n",
              "      <th>clean_post</th>\n",
              "      <th>type</th>\n",
              "    </tr>\n",
              "  </thead>\n",
              "  <tbody>\n",
              "    <tr>\n",
              "      <th>0</th>\n",
              "      <td>mandarin speaker receiv educ canada sinc 13tha...</td>\n",
              "      <td>INFP</td>\n",
              "    </tr>\n",
              "    <tr>\n",
              "      <th>1</th>\n",
              "      <td>nope ever busi work caus adrenalinerush activ ...</td>\n",
              "      <td>ISTP</td>\n",
              "    </tr>\n",
              "    <tr>\n",
              "      <th>2</th>\n",
              "      <td>one gotten read yet might pick one bookstoreso...</td>\n",
              "      <td>ENFJ</td>\n",
              "    </tr>\n",
              "    <tr>\n",
              "      <th>3</th>\n",
              "      <td>use think matur burn bridg without second thou...</td>\n",
              "      <td>INFP</td>\n",
              "    </tr>\n",
              "    <tr>\n",
              "      <th>4</th>\n",
              "      <td>get type 4w5 5w6 well like consid 4w5 fit perf...</td>\n",
              "      <td>INFP</td>\n",
              "    </tr>\n",
              "  </tbody>\n",
              "</table>\n",
              "</div>"
            ],
            "text/plain": [
              "                                          clean_post  type\n",
              "0  mandarin speaker receiv educ canada sinc 13tha...  INFP\n",
              "1  nope ever busi work caus adrenalinerush activ ...  ISTP\n",
              "2  one gotten read yet might pick one bookstoreso...  ENFJ\n",
              "3  use think matur burn bridg without second thou...  INFP\n",
              "4  get type 4w5 5w6 well like consid 4w5 fit perf...  INFP"
            ]
          },
          "metadata": {
            "tags": []
          },
          "execution_count": 37
        }
      ]
    },
    {
      "cell_type": "code",
      "metadata": {
        "colab": {
          "base_uri": "https://localhost:8080/",
          "height": 194
        },
        "id": "z4AQzH3Jdoy_",
        "outputId": "47a17247-9697-469a-d16c-9aef0ffc614c"
      },
      "source": [
        "train = train.sample(frac=1, random_state=42).reset_index(drop=True)\n",
        "train.head()"
      ],
      "execution_count": 38,
      "outputs": [
        {
          "output_type": "execute_result",
          "data": {
            "text/html": [
              "<div>\n",
              "<style scoped>\n",
              "    .dataframe tbody tr th:only-of-type {\n",
              "        vertical-align: middle;\n",
              "    }\n",
              "\n",
              "    .dataframe tbody tr th {\n",
              "        vertical-align: top;\n",
              "    }\n",
              "\n",
              "    .dataframe thead th {\n",
              "        text-align: right;\n",
              "    }\n",
              "</style>\n",
              "<table border=\"1\" class=\"dataframe\">\n",
              "  <thead>\n",
              "    <tr style=\"text-align: right;\">\n",
              "      <th></th>\n",
              "      <th>clean_post</th>\n",
              "      <th>type</th>\n",
              "    </tr>\n",
              "  </thead>\n",
              "  <tbody>\n",
              "    <tr>\n",
              "      <th>0</th>\n",
              "      <td>alway think cat dom reason websit becom neo na...</td>\n",
              "      <td>ISFP</td>\n",
              "    </tr>\n",
              "    <tr>\n",
              "      <th>1</th>\n",
              "      <td>dear xsxx peopl numer much mindless chatterx85...</td>\n",
              "      <td>ENTJ</td>\n",
              "    </tr>\n",
              "    <tr>\n",
              "      <th>2</th>\n",
              "      <td>masculin necessarili walk purpos transit march...</td>\n",
              "      <td>ISTP</td>\n",
              "    </tr>\n",
              "    <tr>\n",
              "      <th>3</th>\n",
              "      <td>person challeng like pick charact differ style...</td>\n",
              "      <td>ESTJ</td>\n",
              "    </tr>\n",
              "    <tr>\n",
              "      <th>4</th>\n",
              "      <td>mean sure want marri hurri chang want togeth a...</td>\n",
              "      <td>ESFJ</td>\n",
              "    </tr>\n",
              "  </tbody>\n",
              "</table>\n",
              "</div>"
            ],
            "text/plain": [
              "                                          clean_post  type\n",
              "0  alway think cat dom reason websit becom neo na...  ISFP\n",
              "1  dear xsxx peopl numer much mindless chatterx85...  ENTJ\n",
              "2  masculin necessarili walk purpos transit march...  ISTP\n",
              "3  person challeng like pick charact differ style...  ESTJ\n",
              "4  mean sure want marri hurri chang want togeth a...  ESFJ"
            ]
          },
          "metadata": {
            "tags": []
          },
          "execution_count": 38
        }
      ]
    },
    {
      "cell_type": "code",
      "metadata": {
        "id": "47suBdrKmWia"
      },
      "source": [
        "list_personality_bin = np.array([translate_personality(p) for p in train.type])\n",
        "\n",
        "train['E-I'] = list_personality_bin[:,0]\n",
        "train['S-N'] = list_personality_bin[:,1]\n",
        "train['T-F'] = list_personality_bin[:,2]\n",
        "train['J-P'] = list_personality_bin[:,3]"
      ],
      "execution_count": 39,
      "outputs": []
    },
    {
      "cell_type": "code",
      "metadata": {
        "id": "KhVSytEKlNgK"
      },
      "source": [
        "X_train = train.clean_post\n",
        "X_test = test.clean_post\n",
        "y_train = list_personality_bin[X_train.index]\n",
        "y_test = list_personality_bin[X_test.index]"
      ],
      "execution_count": 40,
      "outputs": []
    },
    {
      "cell_type": "code",
      "metadata": {
        "colab": {
          "base_uri": "https://localhost:8080/",
          "height": 194
        },
        "id": "3GP8bGfwepgM",
        "outputId": "4f6a3dd7-be69-40c6-cf37-82c7aaa17393"
      },
      "source": [
        "train.head()"
      ],
      "execution_count": 41,
      "outputs": [
        {
          "output_type": "execute_result",
          "data": {
            "text/html": [
              "<div>\n",
              "<style scoped>\n",
              "    .dataframe tbody tr th:only-of-type {\n",
              "        vertical-align: middle;\n",
              "    }\n",
              "\n",
              "    .dataframe tbody tr th {\n",
              "        vertical-align: top;\n",
              "    }\n",
              "\n",
              "    .dataframe thead th {\n",
              "        text-align: right;\n",
              "    }\n",
              "</style>\n",
              "<table border=\"1\" class=\"dataframe\">\n",
              "  <thead>\n",
              "    <tr style=\"text-align: right;\">\n",
              "      <th></th>\n",
              "      <th>clean_post</th>\n",
              "      <th>type</th>\n",
              "      <th>E-I</th>\n",
              "      <th>S-N</th>\n",
              "      <th>T-F</th>\n",
              "      <th>J-P</th>\n",
              "    </tr>\n",
              "  </thead>\n",
              "  <tbody>\n",
              "    <tr>\n",
              "      <th>0</th>\n",
              "      <td>alway think cat dom reason websit becom neo na...</td>\n",
              "      <td>ISFP</td>\n",
              "      <td>1</td>\n",
              "      <td>0</td>\n",
              "      <td>1</td>\n",
              "      <td>1</td>\n",
              "    </tr>\n",
              "    <tr>\n",
              "      <th>1</th>\n",
              "      <td>dear xsxx peopl numer much mindless chatterx85...</td>\n",
              "      <td>ENTJ</td>\n",
              "      <td>0</td>\n",
              "      <td>1</td>\n",
              "      <td>0</td>\n",
              "      <td>0</td>\n",
              "    </tr>\n",
              "    <tr>\n",
              "      <th>2</th>\n",
              "      <td>masculin necessarili walk purpos transit march...</td>\n",
              "      <td>ISTP</td>\n",
              "      <td>1</td>\n",
              "      <td>0</td>\n",
              "      <td>0</td>\n",
              "      <td>1</td>\n",
              "    </tr>\n",
              "    <tr>\n",
              "      <th>3</th>\n",
              "      <td>person challeng like pick charact differ style...</td>\n",
              "      <td>ESTJ</td>\n",
              "      <td>0</td>\n",
              "      <td>0</td>\n",
              "      <td>0</td>\n",
              "      <td>0</td>\n",
              "    </tr>\n",
              "    <tr>\n",
              "      <th>4</th>\n",
              "      <td>mean sure want marri hurri chang want togeth a...</td>\n",
              "      <td>ESFJ</td>\n",
              "      <td>0</td>\n",
              "      <td>0</td>\n",
              "      <td>1</td>\n",
              "      <td>0</td>\n",
              "    </tr>\n",
              "  </tbody>\n",
              "</table>\n",
              "</div>"
            ],
            "text/plain": [
              "                                          clean_post  type  E-I  S-N  T-F  J-P\n",
              "0  alway think cat dom reason websit becom neo na...  ISFP    1    0    1    1\n",
              "1  dear xsxx peopl numer much mindless chatterx85...  ENTJ    0    1    0    0\n",
              "2  masculin necessarili walk purpos transit march...  ISTP    1    0    0    1\n",
              "3  person challeng like pick charact differ style...  ESTJ    0    0    0    0\n",
              "4  mean sure want marri hurri chang want togeth a...  ESFJ    0    0    1    0"
            ]
          },
          "metadata": {
            "tags": []
          },
          "execution_count": 41
        }
      ]
    },
    {
      "cell_type": "markdown",
      "metadata": {
        "id": "25NoBaenyb7n"
      },
      "source": [
        "- average = micro는 총 참 양성, 거짓 음성 및 거짓 양성을 고려하여 f1을 계산하는 함수를 말합니다 (데이터 세트의 각 레이블에 대한 예측에 관계없이).\n",
        "- average = macro는 각 레이블에 대해 f1을 계산하는 함수를 말하고 데이터 세트의 각 레이블에 대한 비율을 고려하지 않고 평균을 반환합니다.\n",
        "- average = weighted는 각 레이블에 대해 f1을 계산하는 함수를 말하고 데이터 세트의 각 레이블에 대한 비율을 고려하여 평균을 반환합니다.\n",
        "- average = samples는 각 인스턴스에 대해 f1을 계산하는 함수를 말하고 평균을 반환합니다. 다중 레이블 분류에 사용하십시오.\n",
        "\n"
      ]
    },
    {
      "cell_type": "markdown",
      "metadata": {
        "id": "Af3cM6Q9DNV-"
      },
      "source": [
        "## 모델 훈련\n"
      ]
    },
    {
      "cell_type": "code",
      "metadata": {
        "id": "-ZVN7B4mqF1P"
      },
      "source": [
        "from sklearn.metrics import confusion_matrix\n",
        "from sklearn.metrics import classification_report\n",
        "from sklearn.feature_extraction.text import TfidfVectorizer"
      ],
      "execution_count": 42,
      "outputs": []
    },
    {
      "cell_type": "code",
      "metadata": {
        "id": "PHcBJ8xrDQTO"
      },
      "source": [
        "from sklearn.metrics import accuracy_score\n",
        "from sklearn.metrics import classification_report, f1_score, precision_score, recall_score\n",
        "from sklearn.metrics import roc_curve"
      ],
      "execution_count": 43,
      "outputs": []
    },
    {
      "cell_type": "code",
      "metadata": {
        "colab": {
          "base_uri": "https://localhost:8080/",
          "height": 281
        },
        "id": "XC1pRPsttz01",
        "outputId": "72bccc24-9aa1-44b4-f77e-c60f092caf2d"
      },
      "source": [
        "N = 4\n",
        "but = (train['E-I'].value_counts()[0], train['S-N'].value_counts()[0], train['T-F'].value_counts()[0], train['J-P'].value_counts()[0])\n",
        "top = (train['E-I'].value_counts()[1], train['S-N'].value_counts()[1], train['T-F'].value_counts()[1], train['J-P'].value_counts()[1])\n",
        "\n",
        "ind = np.arange(N)    \n",
        "width = 0.7      \n",
        "\n",
        "p1 = plt.bar(ind, but, width)\n",
        "p2 = plt.bar(ind, top, width, bottom=but)\n",
        "\n",
        "plt.ylabel('Count')\n",
        "plt.title('Distribution accoss types indicators')\n",
        "plt.xticks(ind, ('E/I',  'S/N', 'T/F', 'J/P',))\n",
        "\n",
        "plt.show()"
      ],
      "execution_count": 44,
      "outputs": [
        {
          "output_type": "display_data",
          "data": {
            "image/png": "[encoded data removed]",
            "text/plain": [
              "<Figure size 432x288 with 1 Axes>"
            ]
          },
          "metadata": {
            "tags": [],
            "needs_background": "light"
          }
        }
      ]
    },
    {
      "cell_type": "code",
      "metadata": {
        "colab": {
          "base_uri": "https://localhost:8080/",
          "height": 281
        },
        "id": "mqBCA69puMMJ",
        "outputId": "b8cd8055-423f-45b5-e3b3-18d8796e9f06"
      },
      "source": [
        "N = 4\n",
        "but = (test['E-I'].value_counts()[0], test['S-N'].value_counts()[0], test['T-F'].value_counts()[0], test['J-P'].value_counts()[0])\n",
        "top = (test['E-I'].value_counts()[1], test['S-N'].value_counts()[1], test['T-F'].value_counts()[1], test['J-P'].value_counts()[1])\n",
        "\n",
        "ind = np.arange(N)    \n",
        "width = 0.7      \n",
        "\n",
        "p1 = plt.bar(ind, but, width)\n",
        "p2 = plt.bar(ind, top, width, bottom=but)\n",
        "\n",
        "plt.ylabel('Count')\n",
        "plt.title('Distribution accoss types indicators')\n",
        "plt.xticks(ind, ('E/I',  'S/N', 'T/F', 'J/P',))\n",
        "\n",
        "plt.show()"
      ],
      "execution_count": 45,
      "outputs": [
        {
          "output_type": "display_data",
          "data": {
            "image/png": "[encoded data removed]",
            "text/plain": [
              "<Figure size 432x288 with 1 Axes>"
            ]
          },
          "metadata": {
            "tags": [],
            "needs_background": "light"
          }
        }
      ]
    },
    {
      "cell_type": "code",
      "metadata": {
        "id": "WpUxZs8UC45W"
      },
      "source": [
        "categories = ['E-I', 'S-N', 'T-F', 'J-P']"
      ],
      "execution_count": 46,
      "outputs": []
    },
    {
      "cell_type": "code",
      "metadata": {
        "id": "nAqvLzg1_lop",
        "colab": {
          "base_uri": "https://localhost:8080/",
          "height": 1000
        },
        "outputId": "a35cc4ee-6bfb-44b8-a59c-aec0ddcf84d4"
      },
      "source": [
        "import seaborn as sns\n",
        "from matplotlib import gridspec\n",
        "from sklearn.model_selection import StratifiedKFold\n",
        "\n",
        "SVC_pipeline = Pipeline([\n",
        "                ('tfidf', TfidfVectorizer()),\n",
        "                ('clf', OneVsRestClassifier(LinearSVC(C=0.01), n_jobs=1))\n",
        "])\n",
        "\n",
        "total_f1_score = 0\n",
        "\n",
        "fig = plt.figure(figsize=(18, 16)) \n",
        "gs = gridspec.GridSpec(8,8 ) \n",
        "n=0\n",
        "\n",
        "for category in categories:\n",
        "    print('... Processing {}'.format(category))\n",
        "\n",
        "    model = SVC_pipeline.fit(X_train, train[category])\n",
        "    prediction = model.predict(X_test)\n",
        "    scoreTrain = model.score(X_train, train[category])\n",
        "    scoreTest = model.score(X_test, test[category])\n",
        "    print(scoreTrain, scoreTest)\n",
        "\n",
        "    f1_score_ = f1_score(test[category], prediction)\n",
        "    total_f1_score += f1_score_\n",
        "    print('f1_score is {}'.format(f1_score_))\n",
        "\n",
        "    cf_matrix = confusion_matrix(test[category], prediction)\n",
        "    print(cf_matrix)\n",
        "    print(classification_report(test[category], prediction))\n",
        "\n",
        "    # labels = ['True Neg', 'False Pos', 'False Neg', 'True Pos']\n",
        "    # labels = np.asarray(labels).reshape(2,2)\n",
        "    plt.subplot(gs[n*2+0])\n",
        "    sns.heatmap(cf_matrix, annot=True, cmap='Blues')\n",
        "    n+=1\n",
        "    # fpr, tpr, thresholds = roc_curve(train[category], SVC_pipeline.predict_proba(X_train)[:, 1])\n",
        "    # plt.plot(fpr, tpr, '-', label=category)\n",
        "\n",
        "# plt.plot([0, 1], [0, 1], 'k--', label=\"random guess\")\n",
        "# plt.legend(fontsize = 8)\n",
        "# plt.xlabel('False Positive Rate')\n",
        "# plt.ylabel('True Positive Rate')\n",
        "# plt.title('MultinomialNB ROC Curve')\n",
        "# plt.show()\n",
        "\n",
        "plt.tight_layout()  # 창 크기에 맞게 조정\n",
        "plt.show()\n",
        "print('Average f1-score of LinearSVC : ', total_f1_score/4)\n",
        "# print('Average precision of LinearSVC : ', total_precision/4)\n",
        "# print('Average recall of LinearSVC : ', total_recall/4)"
      ],
      "execution_count": 49,
      "outputs": [
        {
          "output_type": "stream",
          "text": [
            "... Processing E-I\n",
            "0.8748293515358362 0.7302593659942364\n",
            "f1_score is 0.8220532319391635\n",
            "[[ 186  214]\n",
            " [ 254 1081]]\n",
            "              precision    recall  f1-score   support\n",
            "\n",
            "           0       0.42      0.47      0.44       400\n",
            "           1       0.83      0.81      0.82      1335\n",
            "\n",
            "    accuracy                           0.73      1735\n",
            "   macro avg       0.63      0.64      0.63      1735\n",
            "weighted avg       0.74      0.73      0.73      1735\n",
            "\n",
            "... Processing S-N\n",
            "0.8967150170648465 0.7873198847262248\n",
            "f1_score is 0.8737598357851523\n",
            "[[  89  150]\n",
            " [ 219 1277]]\n",
            "              precision    recall  f1-score   support\n",
            "\n",
            "           0       0.29      0.37      0.33       239\n",
            "           1       0.89      0.85      0.87      1496\n",
            "\n",
            "    accuracy                           0.79      1735\n",
            "   macro avg       0.59      0.61      0.60      1735\n",
            "weighted avg       0.81      0.79      0.80      1735\n",
            "\n",
            "... Processing T-F\n",
            "0.8997866894197952 0.7487031700288185\n",
            "f1_score is 0.7566964285714287\n",
            "[[621 175]\n",
            " [261 678]]\n",
            "              precision    recall  f1-score   support\n",
            "\n",
            "           0       0.70      0.78      0.74       796\n",
            "           1       0.79      0.72      0.76       939\n",
            "\n",
            "    accuracy                           0.75      1735\n",
            "   macro avg       0.75      0.75      0.75      1735\n",
            "weighted avg       0.75      0.75      0.75      1735\n",
            "\n",
            "... Processing J-P\n",
            "0.855759385665529 0.624207492795389\n",
            "f1_score is 0.681640625\n",
            "[[385 301]\n",
            " [351 698]]\n",
            "              precision    recall  f1-score   support\n",
            "\n",
            "           0       0.52      0.56      0.54       686\n",
            "           1       0.70      0.67      0.68      1049\n",
            "\n",
            "    accuracy                           0.62      1735\n",
            "   macro avg       0.61      0.61      0.61      1735\n",
            "weighted avg       0.63      0.62      0.63      1735\n",
            "\n"
          ],
          "name": "stdout"
        },
        {
          "output_type": "display_data",
          "data": {
            "image/png": "[encoded data removed]",
            "text/plain": [
              "<Figure size 1296x1152 with 8 Axes>"
            ]
          },
          "metadata": {
            "tags": [],
            "needs_background": "light"
          }
        },
        {
          "output_type": "stream",
          "text": [
            "Average f1-score of LinearSVC :  0.7835375303239361\n"
          ],
          "name": "stdout"
        }
      ]
    },
    {
      "cell_type": "code",
      "metadata": {
        "id": "33g4Y2kl_FRH"
      },
      "source": [
        "NB_pipeline = Pipeline([\n",
        "                ('tfidf', TfidfVectorizer()),\n",
        "                ('clf', OneVsRestClassifier(MultinomialNB(\n",
        "                    fit_prior=True, class_prior=None))),\n",
        "            ])\n",
        "total_score = 0\n",
        "acc =0\n",
        "for category in categories:\n",
        "    print('... Processing {}'.format(category))\n",
        "\n",
        "    NB_pipeline.fit(X_train, train[category])\n",
        "    prediction = NB_pipeline.predict(X_test)\n",
        "    score = f1_score(test[category], prediction, average='macro')\n",
        "    total_score += score\n",
        "    print('f1_score is {}'.format(score))\n",
        "    acc += accuracy_score(test[category], prediction)\n",
        "    print('accuracy is {}'.format(accuracy_score(test[category], prediction)))\n",
        "\n",
        "    print(confusion_matrix(test[category], prediction))\n",
        "    print(classification_report(test[category], prediction, target_names=['0', '1']))\n",
        "    labels = ['True Neg', 'False Pos', 'False Neg', 'True Pos']\n",
        "    labels = np.asarray(labels).reshape(2,2)\n",
        "    # sns.heatmap(cf_matrix, annot=labels, fmt=‘’, cmap='Blues')\n",
        "#     fpr, tpr, thresholds = roc_curve(train[category], NB_pipeline.predict_proba(X_train)[:, 1])\n",
        "#     plt.plot(fpr, tpr, '-', label=category)\n",
        "\n",
        "# plt.plot([0, 1], [0, 1], 'k--', label=\"random guess\")\n",
        "# plt.legend(fontsize = 8)\n",
        "# plt.xlabel('False Positive Rate')\n",
        "# plt.ylabel('True Positive Rate')\n",
        "# plt.title('MultinomialNB ROC Curve')\n",
        "# plt.show()\n",
        "\n",
        "print('Average f1-score of MultinomialNB : ', total_score/4)\n",
        "print('Average accuracy of MultinomialNB : ', acc/4)"
      ],
      "execution_count": null,
      "outputs": []
    },
    {
      "cell_type": "code",
      "metadata": {
        "id": "64sm2qYf_wmt"
      },
      "source": [
        "LogReg_pipeline = Pipeline([\n",
        "                ('tfidf', TfidfVectorizer()),\n",
        "                ('clf', OneVsRestClassifier(LogisticRegression(solver='sag'), n_jobs=1)),\n",
        "            ])\n",
        "total_score = 0\n",
        "for category in categories:\n",
        "    print('... Processing {}'.format(category))\n",
        "\n",
        "    LogReg_pipeline.fit(X_train, train[category])\n",
        "    prediction = LogReg_pipeline.predict(X_test)\n",
        "    score = f1_score(test[category], prediction, average='macro')\n",
        "    total_score += score\n",
        "    # print('f1_score is {}'.format(score))\n",
        "    # print('accuracy is {}'.format(accuracy_score(test[category], prediction)))\n",
        "\n",
        "    # print(confusion_matrix(test[category], prediction))\n",
        "    print(classification_report(test[category], prediction, target_names=['0', '1']))\n",
        "\n",
        "    fpr, tpr, thresholds = roc_curve(train[category], LogReg_pipeline.predict_proba(X_train)[:, 1])\n",
        "    plt.plot(fpr, tpr, '-', label=category)\n",
        "\n",
        "plt.plot([0, 1], [0, 1], 'k--', label=\"random guess\")\n",
        "plt.legend(fontsize = 8)\n",
        "plt.xlabel('False Positive Rate')\n",
        "plt.ylabel('True Positive Rate')\n",
        "plt.title('LogisticRegression ROC Curve')\n",
        "plt.show()\n",
        "\n",
        "print('Average f1-score of LogisticRegression : ', total_score/4)"
      ],
      "execution_count": null,
      "outputs": []
    },
    {
      "cell_type": "code",
      "metadata": {
        "id": "bxyv5GGON2I2"
      },
      "source": [
        "from sklearn.linear_model import SGDClassifier, PassiveAggressiveClassifier\n",
        "from sklearn.multioutput import MultiOutputClassifier\n",
        "from sklearn.naive_bayes import GaussianNB\n",
        "from sklearn.ensemble import AdaBoostClassifier\n",
        "import xgboost as xgb"
      ],
      "execution_count": null,
      "outputs": []
    },
    {
      "cell_type": "code",
      "metadata": {
        "id": "uxEvACn1NlUB"
      },
      "source": [
        "XGB_pipeline = Pipeline([\n",
        "                ('tfidf', TfidfVectorizer()),\n",
        "                ('clf', OneVsRestClassifier(xgb.XGBClassifier(), n_jobs=1)),\n",
        "            ])\n",
        "total_score = 0\n",
        "for category in categories:\n",
        "    print('... Processing {}'.format(category))\n",
        "\n",
        "    XGB_pipeline.fit(X_train, train[category])\n",
        "    prediction = XGB_pipeline.predict(X_test)\n",
        "    score = f1_score(test[category], prediction, average='macro')\n",
        "    total_score += score\n",
        "    print('f1_score is {}'.format(score))\n",
        "    print('accuracy is {}'.format(accuracy_score(test[category], prediction)))\n",
        "\n",
        "    # print(confusion_matrix(test[category], prediction))\n",
        "    print(classification_report(test[category], prediction, target_names=['0', '1']))\n",
        "\n",
        "    fpr, tpr, thresholds = roc_curve(train[category], XGB_pipeline.predict_proba(X_train)[:, 1])\n",
        "    plt.plot(fpr, tpr, '-', label=category)\n",
        "\n",
        "plt.plot([0, 1], [0, 1], 'k--', label=\"random guess\")\n",
        "plt.legend(fontsize = 8)\n",
        "plt.xlabel('False Positive Rate')\n",
        "plt.ylabel('True Positive Rate')\n",
        "plt.title('LogisticRegression ROC Curve')\n",
        "plt.show()\n",
        "\n",
        "print('Average f1-score of XGBClassifier : ', total_score/4)"
      ],
      "execution_count": null,
      "outputs": []
    },
    {
      "cell_type": "code",
      "metadata": {
        "id": "4Bx3qfIuPDW9"
      },
      "source": [
        "SGDClassifier_pipeline = Pipeline([\n",
        "                ('tfidf', TfidfVectorizer()),\n",
        "                ('clf', OneVsRestClassifier(SGDClassifier(loss='log'), n_jobs=1)),\n",
        "            ])\n",
        "total_score = 0\n",
        "for category in categories:\n",
        "    print('... Processing {}'.format(category))\n",
        "\n",
        "    SGDClassifier_pipeline.fit(X_train, train[category])\n",
        "    prediction = SGDClassifier_pipeline.predict(X_test)\n",
        "    score = f1_score(test[category], prediction, average='macro')\n",
        "    total_score += score\n",
        "    print('f1_score is {}'.format(score))\n",
        "    print('accuracy is {}'.format(accuracy_score(test[category], prediction)))\n",
        "\n",
        "    # print(confusion_matrix(test[category], prediction))\n",
        "    print(classification_report(test[category], prediction, target_names=['0', '1']))\n",
        "\n",
        "    fpr, tpr, thresholds = roc_curve(train[category], SGDClassifier_pipeline.predict_proba(X_train)[:, 1])\n",
        "    plt.plot(fpr, tpr, '-', label=category)\n",
        "\n",
        "plt.plot([0, 1], [0, 1], 'k--', label=\"random guess\")\n",
        "plt.legend(fontsize = 8)\n",
        "plt.xlabel('False Positive Rate')\n",
        "plt.ylabel('True Positive Rate')\n",
        "plt.title('SGDClassifier ROC Curve')\n",
        "plt.show()\n",
        "\n",
        "print('Average f1-score of SGDClassifier : ', total_score/4)"
      ],
      "execution_count": null,
      "outputs": []
    },
    {
      "cell_type": "markdown",
      "metadata": {
        "id": "tXIpJyCceIjG"
      },
      "source": [
        "# 실제 적용시켜보기"
      ]
    },
    {
      "cell_type": "code",
      "metadata": {
        "id": "iWhhIiIyBaoh"
      },
      "source": [
        "somin_text=\"I am studying computer programming and statistics at Sejong University to become a big data analyst (data scientist). Since the department was newly established in 2017, there is no established curriculum and there is no seniors. In addition, there are many times when we do not know how to study. However, during my three semesters I had a certain sense of enlightenment. I want to become as data scientist by studying my magor and I have to be proficient in English to achieve my dream. When I attended a seminar at NC-soft Company, I wanted to work in a foreign country. I have heard that Korea's data scientists do not have their own roles and are doing various things in various fields. It is because big data field did not develop in Korea. And beacause of the ‘protection law’ on personal information leakage, I think that this field will not grow under the policy of Korea, which can not even collect data, which is the most basic step of data analysis. So I decided to go abroad to become a real data scientist. I also made the same commitment when I took an introduction to data analysis in English. When I did not know the concept, I studied with internet search, and all the materials and Youtube lectures were in English. So I had difficulty taking this course. Through this, I once again felt the need for English. I spent two years studying at school and thought that English should be the foundation for me to learn my major deeply and surely. So I decided that I would become more familiar with English through exchange students and would be very helpful for future foreign entry. There are two reasons to go to the The Hague University of Applied Sciences in the Netherlands through the exchange student program. One of that the English level of the European countries 2-3 ranking well. Statistically, Dutch people overestimate their English skills. They have a high level of confidence in English and think that I can not speak English perfectly because I am a foreigner. It is the opposite of Korea, which it is better not to say it because of poor pronunciation or lack of confidence in English ability. In this free environment, I want to assimilate with the Dutch and increase my confidence in English. The other reason is that there is a curriculum that allows students to experience their majors in practice. Taking the APPLIED DATA SCIENCE HBO-ICT course at The Hague University, a team of 6-8 students and an experienced data scientist conducts a project on data science research for half the semester. The other half is about learning about data science, machine learning, Python laptops, and so on. This curriculum has become very attractive. The job of DataScientist is promising, but I always wondered what it does in practice because of lack of relevant information and history. However, if I complete the APPLIED DATA SCIENCE HBO-ICT curriculum, which can not be done at Sejong University, I can solve my questions and dreams will become concrete. For this reason, I would like to be selected for the exchange student program at the The Hague University of Applied Sciences in the Netherlands and to be proud of the school.\""
      ],
      "execution_count": 129,
      "outputs": []
    },
    {
      "cell_type": "code",
      "metadata": {
        "colab": {
          "base_uri": "https://localhost:8080/",
          "height": 76
        },
        "id": "t3pYeywzdx_2",
        "outputId": "3ca3578a-982b-4045-b69a-a41cb09fe1e6"
      },
      "source": [
        "mydata = pd.DataFrame(data={'type': ['ISFP'], 'posts': [somin_text]})\n",
        "mydata"
      ],
      "execution_count": 130,
      "outputs": [
        {
          "output_type": "execute_result",
          "data": {
            "text/html": [
              "<div>\n",
              "<style scoped>\n",
              "    .dataframe tbody tr th:only-of-type {\n",
              "        vertical-align: middle;\n",
              "    }\n",
              "\n",
              "    .dataframe tbody tr th {\n",
              "        vertical-align: top;\n",
              "    }\n",
              "\n",
              "    .dataframe thead th {\n",
              "        text-align: right;\n",
              "    }\n",
              "</style>\n",
              "<table border=\"1\" class=\"dataframe\">\n",
              "  <thead>\n",
              "    <tr style=\"text-align: right;\">\n",
              "      <th></th>\n",
              "      <th>type</th>\n",
              "      <th>posts</th>\n",
              "    </tr>\n",
              "  </thead>\n",
              "  <tbody>\n",
              "    <tr>\n",
              "      <th>0</th>\n",
              "      <td>ISFP</td>\n",
              "      <td>I am studying computer programming and statist...</td>\n",
              "    </tr>\n",
              "  </tbody>\n",
              "</table>\n",
              "</div>"
            ],
            "text/plain": [
              "   type                                              posts\n",
              "0  ISFP  I am studying computer programming and statist..."
            ]
          },
          "metadata": {
            "tags": []
          },
          "execution_count": 130
        }
      ]
    },
    {
      "cell_type": "code",
      "metadata": {
        "colab": {
          "base_uri": "https://localhost:8080/"
        },
        "id": "hzYvAeHMfOYk",
        "outputId": "cfe7dda3-98c5-492c-d8a9-8bde0632e6cd"
      },
      "source": [
        "titles = [\"Extraversion (E) - Introversion (I)\",\n",
        "          \"Sensation (S) - INtuition (N)\",\n",
        "          \"Thinking (T) - Feeling (F)\",\n",
        "          \"Judgement (J) - Perception (P)\"\n",
        "         ] \n",
        "b_Pers = {'E':0, 'I':1, 'S':0, 'N':1, 'T':0, 'F':1, 'J':0, 'P':1}\n",
        "b_Pers_list = [{0:'E', 1:'I'}, {0:'S', 1:'N'}, {0:'T', 1:'F'}, {0:'J', 1:'P'}]\n",
        "\n",
        "#transform mbti to binary vector\n",
        "def translate_personality(personality):\n",
        "    return [b_Pers[l] for l in personality]\n",
        "\n",
        "#transform binary vector to mbti personality\n",
        "def translate_back(personality):\n",
        "    s = \"\"\n",
        "    for i, l in enumerate(personality):\n",
        "        s += b_Pers_list[i][l]\n",
        "    return s\n",
        "\n",
        "list_personality_bin = np.array([translate_personality(p) for p in mydata.type])\n",
        "print(\"Binarize MBTI list: \\n%s\" % list_personality_bin)"
      ],
      "execution_count": 143,
      "outputs": [
        {
          "output_type": "stream",
          "text": [
            "Binarize MBTI list: \n",
            "[[1 0 1 1]]\n"
          ],
          "name": "stdout"
        }
      ]
    },
    {
      "cell_type": "code",
      "metadata": {
        "colab": {
          "base_uri": "https://localhost:8080/",
          "height": 76
        },
        "id": "GDElsz1wfUNg",
        "outputId": "76b399b2-afa3-4219-8400-c36b631f0036"
      },
      "source": [
        "mydata['E-I'] = list_personality_bin[:,0]\n",
        "mydata['S-N'] = list_personality_bin[:,1]\n",
        "mydata['T-F'] = list_personality_bin[:,2]\n",
        "mydata['J-P'] = list_personality_bin[:,3]\n",
        "mydata.head()"
      ],
      "execution_count": 132,
      "outputs": [
        {
          "output_type": "execute_result",
          "data": {
            "text/html": [
              "<div>\n",
              "<style scoped>\n",
              "    .dataframe tbody tr th:only-of-type {\n",
              "        vertical-align: middle;\n",
              "    }\n",
              "\n",
              "    .dataframe tbody tr th {\n",
              "        vertical-align: top;\n",
              "    }\n",
              "\n",
              "    .dataframe thead th {\n",
              "        text-align: right;\n",
              "    }\n",
              "</style>\n",
              "<table border=\"1\" class=\"dataframe\">\n",
              "  <thead>\n",
              "    <tr style=\"text-align: right;\">\n",
              "      <th></th>\n",
              "      <th>type</th>\n",
              "      <th>posts</th>\n",
              "      <th>E-I</th>\n",
              "      <th>S-N</th>\n",
              "      <th>T-F</th>\n",
              "      <th>J-P</th>\n",
              "    </tr>\n",
              "  </thead>\n",
              "  <tbody>\n",
              "    <tr>\n",
              "      <th>0</th>\n",
              "      <td>ISFP</td>\n",
              "      <td>I am studying computer programming and statist...</td>\n",
              "      <td>1</td>\n",
              "      <td>0</td>\n",
              "      <td>1</td>\n",
              "      <td>1</td>\n",
              "    </tr>\n",
              "  </tbody>\n",
              "</table>\n",
              "</div>"
            ],
            "text/plain": [
              "   type                                              posts  E-I  S-N  T-F  J-P\n",
              "0  ISFP  I am studying computer programming and statist...    1    0    1    1"
            ]
          },
          "metadata": {
            "tags": []
          },
          "execution_count": 132
        }
      ]
    },
    {
      "cell_type": "code",
      "metadata": {
        "colab": {
          "base_uri": "https://localhost:8080/"
        },
        "id": "FZYqWdgtfcxT",
        "outputId": "c611e1e1-16cf-4fc1-eff8-18893b5a34cc"
      },
      "source": [
        "text_replace = pd.DataFrame(columns=['TextBefore', 'TextAfter'])\n",
        "text_replace['TextBefore'] = mydata['posts'].copy()\n",
        "for index, row in text_replace.iterrows():\n",
        "    row['TextAfter'] = replace(row['TextBefore'])\n",
        "print(text_replace['TextBefore'],'\\n->\\n', text_replace['TextAfter'])\n",
        "posts = text_replace.TextAfter.tolist()\n",
        "posts = [cleaner(post) for post in posts]\n",
        "mydata['clean_post'] = posts\n",
        "print(text_replace['TextAfter'],'\\n->\\n', mydata['clean_post'])"
      ],
      "execution_count": 133,
      "outputs": [
        {
          "output_type": "stream",
          "text": [
            "0    I am studying computer programming and statist...\n",
            "Name: TextBefore, dtype: object \n",
            "->\n",
            " 0    I am studying computer programming and statist...\n",
            "Name: TextAfter, dtype: object\n",
            "0    I am studying computer programming and statist...\n",
            "Name: TextAfter, dtype: object \n",
            "->\n",
            " 0     studying computer programming and statistics ...\n",
            "Name: clean_post, dtype: object\n"
          ],
          "name": "stdout"
        }
      ]
    },
    {
      "cell_type": "code",
      "metadata": {
        "colab": {
          "base_uri": "https://localhost:8080/"
        },
        "id": "H5IptA7efpCb",
        "outputId": "b229d7c6-922b-476f-e8fd-c576256f2b5a"
      },
      "source": [
        "# 특수문자 제거\n",
        "posts = text_replace.TextAfter.tolist()\n",
        "posts = [cleaner(post) for post in posts]\n",
        "mydata['clean_post'] = posts\n",
        "print(text_replace['TextAfter'],'\\n->\\n', mydata['clean_post'])"
      ],
      "execution_count": 134,
      "outputs": [
        {
          "output_type": "stream",
          "text": [
            "0    I am studying computer programming and statist...\n",
            "Name: TextAfter, dtype: object \n",
            "->\n",
            " 0     studying computer programming and statistics ...\n",
            "Name: clean_post, dtype: object\n"
          ],
          "name": "stdout"
        }
      ]
    },
    {
      "cell_type": "code",
      "metadata": {
        "colab": {
          "base_uri": "https://localhost:8080/"
        },
        "id": "Vh8ZLNThzixO",
        "outputId": "e26a565e-a1a8-4021-edda-3247710f53c5"
      },
      "source": [
        "# stopwords 제거\n",
        "text_removeStopwords = pd.DataFrame(columns=['TextBefore', 'TextAfter'])\n",
        "text_removeStopwords['TextBefore'] = mydata['clean_post'].copy()\n",
        "nltk.download('punkt')"
      ],
      "execution_count": 135,
      "outputs": [
        {
          "output_type": "stream",
          "text": [
            "[nltk_data] Downloading package punkt to /root/nltk_data...\n",
            "[nltk_data]   Package punkt is already up-to-date!\n"
          ],
          "name": "stdout"
        },
        {
          "output_type": "execute_result",
          "data": {
            "text/plain": [
              "True"
            ]
          },
          "metadata": {
            "tags": []
          },
          "execution_count": 135
        }
      ]
    },
    {
      "cell_type": "code",
      "metadata": {
        "colab": {
          "base_uri": "https://localhost:8080/",
          "height": 76
        },
        "id": "VdPUA5NnzpUl",
        "outputId": "986a3950-a208-46d2-a924-c24d307fab1e"
      },
      "source": [
        "text_removeStopwords"
      ],
      "execution_count": 136,
      "outputs": [
        {
          "output_type": "execute_result",
          "data": {
            "text/html": [
              "<div>\n",
              "<style scoped>\n",
              "    .dataframe tbody tr th:only-of-type {\n",
              "        vertical-align: middle;\n",
              "    }\n",
              "\n",
              "    .dataframe tbody tr th {\n",
              "        vertical-align: top;\n",
              "    }\n",
              "\n",
              "    .dataframe thead th {\n",
              "        text-align: right;\n",
              "    }\n",
              "</style>\n",
              "<table border=\"1\" class=\"dataframe\">\n",
              "  <thead>\n",
              "    <tr style=\"text-align: right;\">\n",
              "      <th></th>\n",
              "      <th>TextBefore</th>\n",
              "      <th>TextAfter</th>\n",
              "    </tr>\n",
              "  </thead>\n",
              "  <tbody>\n",
              "    <tr>\n",
              "      <th>0</th>\n",
              "      <td>studying computer programming and statistics ...</td>\n",
              "      <td>NaN</td>\n",
              "    </tr>\n",
              "  </tbody>\n",
              "</table>\n",
              "</div>"
            ],
            "text/plain": [
              "                                          TextBefore TextAfter\n",
              "0   studying computer programming and statistics ...       NaN"
            ]
          },
          "metadata": {
            "tags": []
          },
          "execution_count": 136
        }
      ]
    },
    {
      "cell_type": "code",
      "metadata": {
        "colab": {
          "base_uri": "https://localhost:8080/"
        },
        "id": "M9WApIHqz2Eq",
        "outputId": "85e6bfef-b582-459b-82d4-d804edc5b7b2"
      },
      "source": [
        "# Remove Stopwords\n",
        "import nltk\n",
        "nltk.download('stopwords')\n",
        "nltk.download('wordnet')\n",
        "\n",
        "from nltk.corpus import stopwords\n",
        "stoplist = stopwords.words('english')\n",
        "\n",
        "from nltk.stem import WordNetLemmatizer, PorterStemmer\n",
        "\n",
        "n=WordNetLemmatizer()\n",
        "s = PorterStemmer()\n",
        "\n",
        "def tokenize(text):\n",
        "    finalTokens = []\n",
        "    tokens = nltk.word_tokenize(text)\n",
        "    for w in tokens:\n",
        "        if (w not in stoplist):\n",
        "            finalTokens.append(w)\n",
        "    lem  = [n.lemmatize(w) for w in finalTokens]\n",
        "    stem = [s.stem(w) for w in lem]\n",
        "    text = \" \".join(stem)\n",
        "\n",
        "    return text"
      ],
      "execution_count": 137,
      "outputs": [
        {
          "output_type": "stream",
          "text": [
            "[nltk_data] Downloading package stopwords to /root/nltk_data...\n",
            "[nltk_data]   Package stopwords is already up-to-date!\n",
            "[nltk_data] Downloading package wordnet to /root/nltk_data...\n",
            "[nltk_data]   Package wordnet is already up-to-date!\n"
          ],
          "name": "stdout"
        }
      ]
    },
    {
      "cell_type": "code",
      "metadata": {
        "colab": {
          "base_uri": "https://localhost:8080/"
        },
        "id": "4Jttb7DVCgXk",
        "outputId": "195b5c9d-4681-4f45-fe7c-b8efe01ab494"
      },
      "source": [
        "for index, row in text_removeStopwords.iterrows():\n",
        "    row['TextAfter'] = tokenize(row['TextBefore'])\n",
        "\n",
        "mydata['clean_post'] = text_removeStopwords['TextAfter']\n",
        "print(mydata['clean_post'][:5],'\\n->\\n',text_removeStopwords['TextAfter'][:5])"
      ],
      "execution_count": 138,
      "outputs": [
        {
          "output_type": "stream",
          "text": [
            "0    studi comput program statist sejong univers be...\n",
            "Name: clean_post, dtype: object \n",
            "->\n",
            " 0    studi comput program statist sejong univers be...\n",
            "Name: TextAfter, dtype: object\n"
          ],
          "name": "stdout"
        }
      ]
    },
    {
      "cell_type": "code",
      "metadata": {
        "colab": {
          "base_uri": "https://localhost:8080/"
        },
        "id": "pMR1pTmigR4K",
        "outputId": "d9e52e6b-21cb-4ca4-eaca-30e87130b647"
      },
      "source": [
        "mydata['clean_post'] = mydata['clean_post'].apply(lambda x: correct_spelling(x, mispell_dict))\n",
        "mydata['clean_post']"
      ],
      "execution_count": 139,
      "outputs": [
        {
          "output_type": "execute_result",
          "data": {
            "text/plain": [
              "0    studi comput program statist sejong univers be...\n",
              "Name: clean_post, dtype: object"
            ]
          },
          "metadata": {
            "tags": []
          },
          "execution_count": 139
        }
      ]
    },
    {
      "cell_type": "markdown",
      "metadata": {
        "id": "kPQBulSng5Hh"
      },
      "source": [
        "# 예측"
      ]
    },
    {
      "cell_type": "code",
      "metadata": {
        "colab": {
          "base_uri": "https://localhost:8080/",
          "height": 76
        },
        "id": "go3lwUzig8sp",
        "outputId": "9593e6f4-8524-4add-b7cc-76126800aa9f"
      },
      "source": [
        "mydata"
      ],
      "execution_count": 140,
      "outputs": [
        {
          "output_type": "execute_result",
          "data": {
            "text/html": [
              "<div>\n",
              "<style scoped>\n",
              "    .dataframe tbody tr th:only-of-type {\n",
              "        vertical-align: middle;\n",
              "    }\n",
              "\n",
              "    .dataframe tbody tr th {\n",
              "        vertical-align: top;\n",
              "    }\n",
              "\n",
              "    .dataframe thead th {\n",
              "        text-align: right;\n",
              "    }\n",
              "</style>\n",
              "<table border=\"1\" class=\"dataframe\">\n",
              "  <thead>\n",
              "    <tr style=\"text-align: right;\">\n",
              "      <th></th>\n",
              "      <th>type</th>\n",
              "      <th>posts</th>\n",
              "      <th>E-I</th>\n",
              "      <th>S-N</th>\n",
              "      <th>T-F</th>\n",
              "      <th>J-P</th>\n",
              "      <th>clean_post</th>\n",
              "    </tr>\n",
              "  </thead>\n",
              "  <tbody>\n",
              "    <tr>\n",
              "      <th>0</th>\n",
              "      <td>ISFP</td>\n",
              "      <td>I am studying computer programming and statist...</td>\n",
              "      <td>1</td>\n",
              "      <td>0</td>\n",
              "      <td>1</td>\n",
              "      <td>1</td>\n",
              "      <td>studi comput program statist sejong univers be...</td>\n",
              "    </tr>\n",
              "  </tbody>\n",
              "</table>\n",
              "</div>"
            ],
            "text/plain": [
              "   type  ...                                         clean_post\n",
              "0  ISFP  ...  studi comput program statist sejong univers be...\n",
              "\n",
              "[1 rows x 7 columns]"
            ]
          },
          "metadata": {
            "tags": []
          },
          "execution_count": 140
        }
      ]
    },
    {
      "cell_type": "code",
      "metadata": {
        "colab": {
          "base_uri": "https://localhost:8080/"
        },
        "id": "rkWFI3Vagpf-",
        "outputId": "3b8cc9da-f2a7-4a62-eccc-c0f558a2810e"
      },
      "source": [
        "result = []\n",
        "for category in categories:\n",
        "  prediction = SVC_pipeline.predict(mydata.clean_post)\n",
        "  result.append(prediction[0])\n",
        "\n",
        "print(result)"
      ],
      "execution_count": 141,
      "outputs": [
        {
          "output_type": "stream",
          "text": [
            "[1, 1, 1, 1]\n"
          ],
          "name": "stdout"
        }
      ]
    },
    {
      "cell_type": "code",
      "metadata": {
        "colab": {
          "base_uri": "https://localhost:8080/"
        },
        "id": "9-djNj7Ldxxb",
        "outputId": "cf2f9284-84cc-40b0-b90b-3326d2e3cc28"
      },
      "source": [
        "print(\"The result is: \", translate_back(result))"
      ],
      "execution_count": 144,
      "outputs": [
        {
          "output_type": "stream",
          "text": [
            "The result is:  INFP\n"
          ],
          "name": "stdout"
        }
      ]
    },
    {
      "cell_type": "code",
      "metadata": {
        "id": "8EPJyN9Ef7Co"
      },
      "source": [
        ""
      ],
      "execution_count": null,
      "outputs": []
    }
  ]
}