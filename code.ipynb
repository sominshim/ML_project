{
  "nbformat": 4,
  "nbformat_minor": 0,
  "metadata": {
    "colab": {
      "name": "code.ipynb",
      "provenance": [],
      "collapsed_sections": [],
      "authorship_tag": "ABX9TyO9FMCB8b61/xlisIcxP5o2",
      "include_colab_link": true
    },
    "kernelspec": {
      "name": "python3",
      "display_name": "Python 3"
    },
    "accelerator": "GPU"
  },
  "cells": [
    {
      "cell_type": "markdown",
      "metadata": {
        "id": "view-in-github",
        "colab_type": "text"
      },
      "source": [
        "<a href=\"https://colab.research.google.com/github/sominshim/Predicting_Personality_through_Text/blob/somin/code.ipynb\" target=\"_parent\"><img src=\"https://colab.research.google.com/assets/colab-badge.svg\" alt=\"Open In Colab\"/></a>"
      ]
    },
    {
      "cell_type": "code",
      "metadata": {
        "id": "VGiyWu1dJURX",
        "colab": {
          "base_uri": "https://localhost:8080/"
        },
        "outputId": "3afe84f6-10da-4197-b203-74b3a3ebf2b8"
      },
      "source": [
        "import tensorflow as tf\n",
        "# !pip install tensorflow-hub\n",
        "# !pip install tfds-nightly\n",
        "import tensorflow_hub as hub\n",
        "import tensorflow_datasets as tfds\n",
        "\n",
        "print(\"버전: \", tf.__version__)\n",
        "print(\"즉시 실행 모드: \", tf.executing_eagerly())\n",
        "print(\"허브 버전: \", hub.__version__)\n",
        "print(\"GPU\", \"사용 가능\" if tf.config.experimental.list_physical_devices(\"GPU\") else \"사용 불가능\")"
      ],
      "execution_count": 1,
      "outputs": [
        {
          "output_type": "stream",
          "text": [
            "버전:  2.3.0\n",
            "즉시 실행 모드:  True\n",
            "허브 버전:  0.10.0\n",
            "GPU 사용 가능\n"
          ],
          "name": "stdout"
        }
      ]
    },
    {
      "cell_type": "code",
      "metadata": {
        "id": "cucm7taXSKiR"
      },
      "source": [
        "# import module\n",
        "import io\n",
        "import pandas as pd\n",
        "\n",
        "import pandas as pd\n",
        "import numpy as np\n",
        "import matplotlib.pyplot as plt\n",
        "import seaborn as sns\n",
        "from sklearn.model_selection import train_test_split\n",
        "from sklearn.preprocessing import LabelEncoder\n",
        "from keras.preprocessing.text import Tokenizer\n",
        "from keras.models import Model\n",
        "from keras.layers import LSTM, Activation, Dense, Dropout, Input, Embedding\n",
        "from keras.optimizers import RMSprop\n",
        "from keras.preprocessing import sequence\n",
        "from keras.utils import to_categorical\n",
        "from keras.callbacks import EarlyStopping\n",
        "%matplotlib inline\n",
        "\n",
        "np.random.seed(42)"
      ],
      "execution_count": 2,
      "outputs": []
    },
    {
      "cell_type": "code",
      "metadata": {
        "id": "b-JmVkorJ26t"
      },
      "source": [
        "from sklearn.feature_extraction.text import TfidfVectorizer\n",
        "from tensorflow.keras.preprocessing.sequence import pad_sequences\n",
        "from tensorflow.keras.preprocessing.text import Tokenizer\n",
        "\n",
        "from sklearn import model_selection\n",
        "from sklearn.naive_bayes import MultinomialNB\n",
        "from sklearn import metrics\n",
        "from sklearn.model_selection import train_test_split\n",
        "from sklearn.metrics import accuracy_score\n",
        "from sklearn.multiclass import OneVsRestClassifier\n",
        "from sklearn.svm import LinearSVC, SVC\n",
        "from sklearn.linear_model import LogisticRegression\n",
        "from sklearn.pipeline import Pipeline"
      ],
      "execution_count": 3,
      "outputs": []
    },
    {
      "cell_type": "code",
      "metadata": {
        "id": "ztOknNLtSR_Y",
        "colab": {
          "base_uri": "https://localhost:8080/"
        },
        "outputId": "fb19a01a-f7b7-4469-e0a6-aa551f455cd1"
      },
      "source": [
        "#드라이브에 접근할 수 있도록 아래 코드 입력\n",
        "from google.colab import drive\n",
        "drive.mount('/content/drive')"
      ],
      "execution_count": 4,
      "outputs": [
        {
          "output_type": "stream",
          "text": [
            "Mounted at /content/drive\n"
          ],
          "name": "stdout"
        }
      ]
    },
    {
      "cell_type": "code",
      "metadata": {
        "id": "lard_QtBSVzW"
      },
      "source": [
        "#불러올 파일의 경로를 filename 변수에 저장\n",
        "filename = '/content/drive/My Drive/mbti_1.csv'"
      ],
      "execution_count": 5,
      "outputs": []
    },
    {
      "cell_type": "code",
      "metadata": {
        "id": "UnSasudoSWpy",
        "colab": {
          "base_uri": "https://localhost:8080/",
          "height": 204
        },
        "outputId": "c745aea9-73fc-4363-bc26-05bd4b5c8961"
      },
      "source": [
        "#pandas read_csv로 불러오기\n",
        "data = pd.read_csv(filename)\n",
        "data.head()"
      ],
      "execution_count": 6,
      "outputs": [
        {
          "output_type": "execute_result",
          "data": {
            "text/html": [
              "<div>\n",
              "<style scoped>\n",
              "    .dataframe tbody tr th:only-of-type {\n",
              "        vertical-align: middle;\n",
              "    }\n",
              "\n",
              "    .dataframe tbody tr th {\n",
              "        vertical-align: top;\n",
              "    }\n",
              "\n",
              "    .dataframe thead th {\n",
              "        text-align: right;\n",
              "    }\n",
              "</style>\n",
              "<table border=\"1\" class=\"dataframe\">\n",
              "  <thead>\n",
              "    <tr style=\"text-align: right;\">\n",
              "      <th></th>\n",
              "      <th>type</th>\n",
              "      <th>posts</th>\n",
              "    </tr>\n",
              "  </thead>\n",
              "  <tbody>\n",
              "    <tr>\n",
              "      <th>0</th>\n",
              "      <td>INFJ</td>\n",
              "      <td>'http://www.youtube.com/watch?v=qsXHcwe3krw|||...</td>\n",
              "    </tr>\n",
              "    <tr>\n",
              "      <th>1</th>\n",
              "      <td>ENTP</td>\n",
              "      <td>'I'm finding the lack of me in these posts ver...</td>\n",
              "    </tr>\n",
              "    <tr>\n",
              "      <th>2</th>\n",
              "      <td>INTP</td>\n",
              "      <td>'Good one  _____   https://www.youtube.com/wat...</td>\n",
              "    </tr>\n",
              "    <tr>\n",
              "      <th>3</th>\n",
              "      <td>INTJ</td>\n",
              "      <td>'Dear INTP,   I enjoyed our conversation the o...</td>\n",
              "    </tr>\n",
              "    <tr>\n",
              "      <th>4</th>\n",
              "      <td>ENTJ</td>\n",
              "      <td>'You're fired.|||That's another silly misconce...</td>\n",
              "    </tr>\n",
              "  </tbody>\n",
              "</table>\n",
              "</div>"
            ],
            "text/plain": [
              "   type                                              posts\n",
              "0  INFJ  'http://www.youtube.com/watch?v=qsXHcwe3krw|||...\n",
              "1  ENTP  'I'm finding the lack of me in these posts ver...\n",
              "2  INTP  'Good one  _____   https://www.youtube.com/wat...\n",
              "3  INTJ  'Dear INTP,   I enjoyed our conversation the o...\n",
              "4  ENTJ  'You're fired.|||That's another silly misconce..."
            ]
          },
          "metadata": {
            "tags": []
          },
          "execution_count": 6
        }
      ]
    },
    {
      "cell_type": "code",
      "metadata": {
        "id": "oQA0x7bVDpzo",
        "colab": {
          "base_uri": "https://localhost:8080/",
          "height": 338
        },
        "outputId": "61df37bb-e766-498b-cc0a-319701f29bcb"
      },
      "source": [
        "cnt_types = data['type'].value_counts()\n",
        "\n",
        "plt.figure(figsize=(12,4))\n",
        "sns.barplot(cnt_types.index, cnt_types.values, alpha=0.8)\n",
        "plt.ylabel('Number of Occurrences', fontsize=12)\n",
        "plt.xlabel('Types', fontsize=12)\n",
        "plt.show()"
      ],
      "execution_count": 7,
      "outputs": [
        {
          "output_type": "stream",
          "text": [
            "/usr/local/lib/python3.6/dist-packages/seaborn/_decorators.py:43: FutureWarning: Pass the following variables as keyword args: x, y. From version 0.12, the only valid positional argument will be `data`, and passing other arguments without an explicit keyword will result in an error or misinterpretation.\n",
            "  FutureWarning\n"
          ],
          "name": "stderr"
        },
        {
          "output_type": "display_data",
          "data": {
            "image/png": "[encoded data removed]",
            "text/plain": [
              "<Figure size 864x288 with 1 Axes>"
            ]
          },
          "metadata": {
            "tags": [],
            "needs_background": "light"
          }
        }
      ]
    },
    {
      "cell_type": "code",
      "metadata": {
        "id": "CUF2Ue3jHwr-",
        "colab": {
          "base_uri": "https://localhost:8080/",
          "height": 204
        },
        "outputId": "4aea28f0-c7c8-4889-c864-633c99e4181c"
      },
      "source": [
        "data.head()"
      ],
      "execution_count": 8,
      "outputs": [
        {
          "output_type": "execute_result",
          "data": {
            "text/html": [
              "<div>\n",
              "<style scoped>\n",
              "    .dataframe tbody tr th:only-of-type {\n",
              "        vertical-align: middle;\n",
              "    }\n",
              "\n",
              "    .dataframe tbody tr th {\n",
              "        vertical-align: top;\n",
              "    }\n",
              "\n",
              "    .dataframe thead th {\n",
              "        text-align: right;\n",
              "    }\n",
              "</style>\n",
              "<table border=\"1\" class=\"dataframe\">\n",
              "  <thead>\n",
              "    <tr style=\"text-align: right;\">\n",
              "      <th></th>\n",
              "      <th>type</th>\n",
              "      <th>posts</th>\n",
              "    </tr>\n",
              "  </thead>\n",
              "  <tbody>\n",
              "    <tr>\n",
              "      <th>0</th>\n",
              "      <td>INFJ</td>\n",
              "      <td>'http://www.youtube.com/watch?v=qsXHcwe3krw|||...</td>\n",
              "    </tr>\n",
              "    <tr>\n",
              "      <th>1</th>\n",
              "      <td>ENTP</td>\n",
              "      <td>'I'm finding the lack of me in these posts ver...</td>\n",
              "    </tr>\n",
              "    <tr>\n",
              "      <th>2</th>\n",
              "      <td>INTP</td>\n",
              "      <td>'Good one  _____   https://www.youtube.com/wat...</td>\n",
              "    </tr>\n",
              "    <tr>\n",
              "      <th>3</th>\n",
              "      <td>INTJ</td>\n",
              "      <td>'Dear INTP,   I enjoyed our conversation the o...</td>\n",
              "    </tr>\n",
              "    <tr>\n",
              "      <th>4</th>\n",
              "      <td>ENTJ</td>\n",
              "      <td>'You're fired.|||That's another silly misconce...</td>\n",
              "    </tr>\n",
              "  </tbody>\n",
              "</table>\n",
              "</div>"
            ],
            "text/plain": [
              "   type                                              posts\n",
              "0  INFJ  'http://www.youtube.com/watch?v=qsXHcwe3krw|||...\n",
              "1  ENTP  'I'm finding the lack of me in these posts ver...\n",
              "2  INTP  'Good one  _____   https://www.youtube.com/wat...\n",
              "3  INTJ  'Dear INTP,   I enjoyed our conversation the o...\n",
              "4  ENTJ  'You're fired.|||That's another silly misconce..."
            ]
          },
          "metadata": {
            "tags": []
          },
          "execution_count": 8
        }
      ]
    },
    {
      "cell_type": "code",
      "metadata": {
        "id": "kb0vareyUpuh",
        "colab": {
          "base_uri": "https://localhost:8080/"
        },
        "outputId": "de3d4a54-0c68-49ad-9296-5f41678a4881"
      },
      "source": [
        "# Split mbti personality into 4 letters and binarize\n",
        "titles = [\"Extraversion (E) - Introversion (I)\",\n",
        "          \"Sensation (S) - INtuition (N)\",\n",
        "          \"Thinking (T) - Feeling (F)\",\n",
        "          \"Judgement (J) - Perception (P)\"\n",
        "         ] \n",
        "b_Pers = {'E':0, 'I':1, 'S':0, 'N':1, 'T':0, 'F':1, 'J':0, 'P':1}\n",
        "b_Pers_list = [{0:'E', 1:'I'}, {0:'S', 1:'N'}, {0:'T', 1:'F'}, {0:'J', 1:'P'}]\n",
        "\n",
        "#transform mbti to binary vector\n",
        "def translate_personality(personality):\n",
        "    return [b_Pers[l] for l in personality]\n",
        "\n",
        "#transform binary vector to mbti personality\n",
        "def translate_back(personality):\n",
        "    s = \"\"\n",
        "    for i, l in enumerate(personality):\n",
        "        s += b_Pers_list[i][l]\n",
        "    return s\n",
        "\n",
        "list_personality_bin = np.array([translate_personality(p) for p in data.type])\n",
        "print(\"Binarize MBTI list: \\n%s\" % list_personality_bin)"
      ],
      "execution_count": 9,
      "outputs": [
        {
          "output_type": "stream",
          "text": [
            "Binarize MBTI list: \n",
            "[[1 1 1 0]\n",
            " [0 1 0 1]\n",
            " [1 1 0 1]\n",
            " ...\n",
            " [1 1 0 1]\n",
            " [1 1 1 1]\n",
            " [1 1 1 1]]\n"
          ],
          "name": "stdout"
        }
      ]
    },
    {
      "cell_type": "code",
      "metadata": {
        "id": "iiNzG8I8UrqR"
      },
      "source": [
        "data['E-I'] = list_personality_bin[:,0]\n",
        "data['S-N'] = list_personality_bin[:,1]\n",
        "data['T-F'] = list_personality_bin[:,2]\n",
        "data['J-P'] = list_personality_bin[:,3]"
      ],
      "execution_count": 10,
      "outputs": []
    },
    {
      "cell_type": "code",
      "metadata": {
        "id": "V4PQPwXrUuTK",
        "colab": {
          "base_uri": "https://localhost:8080/",
          "height": 204
        },
        "outputId": "b1828e8a-cba7-4f3b-fc6b-8b4e6f251b65"
      },
      "source": [
        "data.head()"
      ],
      "execution_count": 11,
      "outputs": [
        {
          "output_type": "execute_result",
          "data": {
            "text/html": [
              "<div>\n",
              "<style scoped>\n",
              "    .dataframe tbody tr th:only-of-type {\n",
              "        vertical-align: middle;\n",
              "    }\n",
              "\n",
              "    .dataframe tbody tr th {\n",
              "        vertical-align: top;\n",
              "    }\n",
              "\n",
              "    .dataframe thead th {\n",
              "        text-align: right;\n",
              "    }\n",
              "</style>\n",
              "<table border=\"1\" class=\"dataframe\">\n",
              "  <thead>\n",
              "    <tr style=\"text-align: right;\">\n",
              "      <th></th>\n",
              "      <th>type</th>\n",
              "      <th>posts</th>\n",
              "      <th>E-I</th>\n",
              "      <th>S-N</th>\n",
              "      <th>T-F</th>\n",
              "      <th>J-P</th>\n",
              "    </tr>\n",
              "  </thead>\n",
              "  <tbody>\n",
              "    <tr>\n",
              "      <th>0</th>\n",
              "      <td>INFJ</td>\n",
              "      <td>'http://www.youtube.com/watch?v=qsXHcwe3krw|||...</td>\n",
              "      <td>1</td>\n",
              "      <td>1</td>\n",
              "      <td>1</td>\n",
              "      <td>0</td>\n",
              "    </tr>\n",
              "    <tr>\n",
              "      <th>1</th>\n",
              "      <td>ENTP</td>\n",
              "      <td>'I'm finding the lack of me in these posts ver...</td>\n",
              "      <td>0</td>\n",
              "      <td>1</td>\n",
              "      <td>0</td>\n",
              "      <td>1</td>\n",
              "    </tr>\n",
              "    <tr>\n",
              "      <th>2</th>\n",
              "      <td>INTP</td>\n",
              "      <td>'Good one  _____   https://www.youtube.com/wat...</td>\n",
              "      <td>1</td>\n",
              "      <td>1</td>\n",
              "      <td>0</td>\n",
              "      <td>1</td>\n",
              "    </tr>\n",
              "    <tr>\n",
              "      <th>3</th>\n",
              "      <td>INTJ</td>\n",
              "      <td>'Dear INTP,   I enjoyed our conversation the o...</td>\n",
              "      <td>1</td>\n",
              "      <td>1</td>\n",
              "      <td>0</td>\n",
              "      <td>0</td>\n",
              "    </tr>\n",
              "    <tr>\n",
              "      <th>4</th>\n",
              "      <td>ENTJ</td>\n",
              "      <td>'You're fired.|||That's another silly misconce...</td>\n",
              "      <td>0</td>\n",
              "      <td>1</td>\n",
              "      <td>0</td>\n",
              "      <td>0</td>\n",
              "    </tr>\n",
              "  </tbody>\n",
              "</table>\n",
              "</div>"
            ],
            "text/plain": [
              "   type                                              posts  E-I  S-N  T-F  J-P\n",
              "0  INFJ  'http://www.youtube.com/watch?v=qsXHcwe3krw|||...    1    1    1    0\n",
              "1  ENTP  'I'm finding the lack of me in these posts ver...    0    1    0    1\n",
              "2  INTP  'Good one  _____   https://www.youtube.com/wat...    1    1    0    1\n",
              "3  INTJ  'Dear INTP,   I enjoyed our conversation the o...    1    1    0    0\n",
              "4  ENTJ  'You're fired.|||That's another silly misconce...    0    1    0    0"
            ]
          },
          "metadata": {
            "tags": []
          },
          "execution_count": 11
        }
      ]
    },
    {
      "cell_type": "code",
      "metadata": {
        "colab": {
          "base_uri": "https://localhost:8080/"
        },
        "id": "hrzsM4S_ArMW",
        "outputId": "dc94a8b0-b147-420b-db9b-4caa0e5ea350"
      },
      "source": [
        "data.shape"
      ],
      "execution_count": 12,
      "outputs": [
        {
          "output_type": "execute_result",
          "data": {
            "text/plain": [
              "(8675, 6)"
            ]
          },
          "metadata": {
            "tags": []
          },
          "execution_count": 12
        }
      ]
    },
    {
      "cell_type": "code",
      "metadata": {
        "colab": {
          "base_uri": "https://localhost:8080/",
          "height": 281
        },
        "id": "nTb7uj0BgP6d",
        "outputId": "38034527-c00b-431e-8ec6-e906ab17d438"
      },
      "source": [
        "N = 4\n",
        "but = (data['E-I'].value_counts()[0], data['S-N'].value_counts()[0], data['T-F'].value_counts()[0], data['J-P'].value_counts()[0])\n",
        "top = (data['E-I'].value_counts()[1], data['S-N'].value_counts()[1], data['T-F'].value_counts()[1], data['J-P'].value_counts()[1])\n",
        "\n",
        "ind = np.arange(N)    \n",
        "width = 0.7      \n",
        "\n",
        "p1 = plt.bar(ind, but, width)\n",
        "p2 = plt.bar(ind, top, width, bottom=but)\n",
        "\n",
        "plt.ylabel('Count')\n",
        "plt.title('Distribution accoss types indicators')\n",
        "plt.xticks(ind, ('E/I',  'S/N', 'T/F', 'J/P',))\n",
        "\n",
        "plt.show()"
      ],
      "execution_count": 13,
      "outputs": [
        {
          "output_type": "display_data",
          "data": {
            "image/png": "[encoded data removed]",
            "text/plain": [
              "<Figure size 432x288 with 1 Axes>"
            ]
          },
          "metadata": {
            "tags": [],
            "needs_background": "light"
          }
        }
      ]
    },
    {
      "cell_type": "code",
      "metadata": {
        "colab": {
          "base_uri": "https://localhost:8080/"
        },
        "id": "KRaTH68xgrK8",
        "outputId": "1b64bd70-2a75-4f59-ddda-715c3a8e580d"
      },
      "source": [
        "print (\"Introversion (I) /  Extroversion (E):\\t\", data['E-I'].value_counts()[0], \" / \", data['E-I'].value_counts()[1])\n",
        "print (\"Intuition (N) – Sensing (S):\\t\\t\", data['S-N'].value_counts()[0], \" / \", data['S-N'].value_counts()[1])\n",
        "print (\"Thinking (T) – Feeling (F):\\t\\t\", data['T-F'].value_counts()[0], \" / \", data['T-F'].value_counts()[1])\n",
        "print (\"Judging (J) – Perceiving (P):\\t\\t\", data['J-P'].value_counts()[0], \" / \", data['J-P'].value_counts()[1])"
      ],
      "execution_count": 14,
      "outputs": [
        {
          "output_type": "stream",
          "text": [
            "Introversion (I) /  Extroversion (E):\t 1999  /  6676\n",
            "Intuition (N) – Sensing (S):\t\t 1197  /  7478\n",
            "Thinking (T) – Feeling (F):\t\t 3981  /  4694\n",
            "Judging (J) – Perceiving (P):\t\t 3434  /  5241\n"
          ],
          "name": "stdout"
        }
      ]
    },
    {
      "cell_type": "markdown",
      "metadata": {
        "id": "IDurCxSWNk7A"
      },
      "source": [
        "## 데이터 전처리"
      ]
    },
    {
      "cell_type": "code",
      "metadata": {
        "id": "ovgkkvPBNkmk"
      },
      "source": [
        "from sklearn.preprocessing import LabelBinarizer\n",
        "import re\n",
        "import string"
      ],
      "execution_count": 15,
      "outputs": []
    },
    {
      "cell_type": "code",
      "metadata": {
        "id": "uCGryo5ANPMZ"
      },
      "source": [
        "contraction_patterns = [ (r'won\\'t', 'will not'), (r'can\\'t', 'cannot'), (r'I\\'m', 'I am'),(r'i\\'m', 'i am'), (r'ain\\'t', 'is not'), (r'(\\w+)\\'ll', '\\g<1> will'), (r'(\\w+)n\\'t', '\\g<1> not'),\n",
        "                         (r'(\\w+)\\'ve', '\\g<1> have'), (r'(\\w+)\\'s', '\\g<1> is'), (r'(\\w+)\\'re', '\\g<1> are'), (r'(\\w+)\\'d', '\\g<1> would'), (r'&', 'and'), (r'dammit', 'damn it'), (r'dont', 'do not'), (r'wont', 'will not') ]\n",
        "def replace(text):\n",
        "    patterns = [(re.compile(regex), repl) for (regex, repl) in contraction_patterns]\n",
        "    for (pattern, repl) in patterns:\n",
        "        (text, count) = re.subn(pattern, repl, text)\n",
        "    return text\n",
        "\n",
        "text_replace = pd.DataFrame(columns=['TextBefore', 'TextAfter'])\n",
        "text_replace['TextBefore'] = data['posts'].copy()"
      ],
      "execution_count": 16,
      "outputs": []
    },
    {
      "cell_type": "code",
      "metadata": {
        "id": "x7jIlt_qNSYA"
      },
      "source": [
        "for index, row in text_replace.iterrows():\n",
        "    row['TextAfter'] = replace(row['TextBefore'])"
      ],
      "execution_count": 17,
      "outputs": []
    },
    {
      "cell_type": "code",
      "metadata": {
        "id": "foV233_qNulG",
        "colab": {
          "base_uri": "https://localhost:8080/"
        },
        "outputId": "6faaebdc-c10d-4421-8aac-3438246025f6"
      },
      "source": [
        "print(text_replace['TextBefore'][:5],'\\n->\\n', text_replace['TextAfter'][:5])"
      ],
      "execution_count": 18,
      "outputs": [
        {
          "output_type": "stream",
          "text": [
            "0    'http://www.youtube.com/watch?v=qsXHcwe3krw|||...\n",
            "1    'I'm finding the lack of me in these posts ver...\n",
            "2    'Good one  _____   https://www.youtube.com/wat...\n",
            "3    'Dear INTP,   I enjoyed our conversation the o...\n",
            "4    'You're fired.|||That's another silly misconce...\n",
            "Name: TextBefore, dtype: object \n",
            "->\n",
            " 0    'http://www.youtube.com/watch?v=qsXHcwe3krw|||...\n",
            "1    'I am finding the lack of me in these posts ve...\n",
            "2    'Good one  _____   https://www.youtube.com/wat...\n",
            "3    'Dear INTP,   I enjoyed our conversation the o...\n",
            "4    'You are fired.|||That is another silly miscon...\n",
            "Name: TextAfter, dtype: object\n"
          ],
          "name": "stdout"
        }
      ]
    },
    {
      "cell_type": "markdown",
      "metadata": {
        "id": "I8bSHiUoPqxN"
      },
      "source": [
        "### 특수문자 제거"
      ]
    },
    {
      "cell_type": "code",
      "metadata": {
        "id": "tSpK8JSxSc9y"
      },
      "source": [
        "def cleaner(post):\n",
        "    # 소문자 변환\n",
        "    post = post.lower() \n",
        "    \n",
        "    # '|||' 제거\n",
        "    post = post.replace('|||', \"\") \n",
        "\n",
        "    # URL, 링크 등 특수문자 제거\n",
        "    post = re.sub(r'''(?i)\\b((?:https?://|www\\d{0,3}[.]|[a-z0-9.\\-]+[.][a-z]{2,4}/)(?:[^\\s()<>]+|\\(([^\\s()<>]+|(\\([^\\s()<>]+\\)))*\\))+(?:\\(([^\\s()<>]+|(\\([^\\s()<>]+\\)))*\\)|[^\\s`!()\\[\\]{};:'\".,<>?«»“”‘’]))''', '', post, flags=re.MULTILINE) \n",
        "\n",
        "    # 구두점 제거\n",
        "    post = post.translate(str.maketrans('', '', string.punctuation))\n",
        "\n",
        "    # 공백 제거\n",
        "    post = re.sub( '\\s+', ' ', post ).strip()\n",
        "\n",
        "    # MBTI 제거\n",
        "    post = re.sub('infj|entp|intp|intj|entj|enfj|infp|enfp|isfp|istp|isfj|istj|estp|esfp|estj|esfj',\"\", post)\n",
        "\n",
        "    # 길이가 짧은 단어 제거\n",
        "    shortword = re.compile(r'\\W*\\b\\w{1,2}\\b')\n",
        "    post = shortword.sub('', post)\n",
        "    \n",
        "    return post"
      ],
      "execution_count": 19,
      "outputs": []
    },
    {
      "cell_type": "code",
      "metadata": {
        "id": "-YAC-_VRLCqM"
      },
      "source": [
        "posts = text_replace.TextAfter.tolist()\n",
        "posts = [cleaner(post) for post in posts]\n",
        "data['clean_post'] = posts"
      ],
      "execution_count": 20,
      "outputs": []
    },
    {
      "cell_type": "code",
      "metadata": {
        "id": "5yfNWVJGQNaE",
        "colab": {
          "base_uri": "https://localhost:8080/"
        },
        "outputId": "24dfb420-6870-45bc-f240-e68660690ffa"
      },
      "source": [
        "print(text_replace['TextAfter'][:5],'\\n->\\n', data['clean_post'][:5])"
      ],
      "execution_count": 21,
      "outputs": [
        {
          "output_type": "stream",
          "text": [
            "0    'http://www.youtube.com/watch?v=qsXHcwe3krw|||...\n",
            "1    'I am finding the lack of me in these posts ve...\n",
            "2    'Good one  _____   https://www.youtube.com/wat...\n",
            "3    'Dear INTP,   I enjoyed our conversation the o...\n",
            "4    'You are fired.|||That is another silly miscon...\n",
            "Name: TextAfter, dtype: object \n",
            "->\n",
            " 0    and  moments sportscenter not top ten plays pr...\n",
            "1     finding the lack these posts very alarmingsex...\n",
            "2    good one course which say know that blessing a...\n",
            "3    dear enjoyed our conversation the other day es...\n",
            "4    you are firedthat another silly misconception ...\n",
            "Name: clean_post, dtype: object\n"
          ],
          "name": "stdout"
        }
      ]
    },
    {
      "cell_type": "markdown",
      "metadata": {
        "id": "KwmJfpNRO8Dg"
      },
      "source": [
        "### Remove Stopwords\n"
      ]
    },
    {
      "cell_type": "code",
      "metadata": {
        "id": "Up3Hhy0iI6qw",
        "colab": {
          "base_uri": "https://localhost:8080/"
        },
        "outputId": "16bcbebe-3bc4-459b-a74d-87e7d024771b"
      },
      "source": [
        "# Remove Stopwords\n",
        "import nltk\n",
        "nltk.download('stopwords')\n",
        "nltk.download('wordnet')\n",
        "\n",
        "from nltk.corpus import stopwords\n",
        "stoplist = stopwords.words('english')\n",
        "\n",
        "from nltk.stem import WordNetLemmatizer, PorterStemmer\n",
        "\n",
        "n=WordNetLemmatizer()\n",
        "s = PorterStemmer()\n",
        "\n",
        "def tokenize(text):\n",
        "    finalTokens = []\n",
        "    tokens = nltk.word_tokenize(text)\n",
        "    for w in tokens:\n",
        "        if (w not in stoplist):\n",
        "            finalTokens.append(w)\n",
        "    lem  = [n.lemmatize(w) for w in finalTokens]\n",
        "    stem = [s.stem(w) for w in lem]\n",
        "    text = \" \".join(stem)\n",
        "\n",
        "    return text"
      ],
      "execution_count": 22,
      "outputs": [
        {
          "output_type": "stream",
          "text": [
            "[nltk_data] Downloading package stopwords to /root/nltk_data...\n",
            "[nltk_data]   Unzipping corpora/stopwords.zip.\n",
            "[nltk_data] Downloading package wordnet to /root/nltk_data...\n",
            "[nltk_data]   Unzipping corpora/wordnet.zip.\n"
          ],
          "name": "stdout"
        }
      ]
    },
    {
      "cell_type": "code",
      "metadata": {
        "id": "ffhGS_wlKFbv"
      },
      "source": [
        "text_removeStopwords = pd.DataFrame(columns=['TextBefore', 'TextAfter'])\n",
        "text_removeStopwords['TextBefore'] = data['clean_post'].copy()\n"
      ],
      "execution_count": 23,
      "outputs": []
    },
    {
      "cell_type": "code",
      "metadata": {
        "id": "xTx0f-oAJIZG",
        "colab": {
          "base_uri": "https://localhost:8080/"
        },
        "outputId": "77d71644-c494-4c6d-d870-9354c0e7b82c"
      },
      "source": [
        "nltk.download('punkt')\n",
        "for index, row in text_removeStopwords.iterrows():\n",
        "    row['TextAfter'] = tokenize(row['TextBefore'])\n",
        "\n",
        "data['clean_post'] = text_removeStopwords['TextAfter']\n",
        "print(data['clean_post'][:5],'\\n->\\n',text_removeStopwords['TextAfter'][:5])"
      ],
      "execution_count": 24,
      "outputs": [
        {
          "output_type": "stream",
          "text": [
            "[nltk_data] Downloading package punkt to /root/nltk_data...\n",
            "[nltk_data]   Unzipping tokenizers/punkt.zip.\n",
            "0    moment sportscent top ten play prankswhat life...\n",
            "1    find lack post alarmingsex bore posit often ex...\n",
            "2    good one cours say know bless cursedo absolut ...\n",
            "3    dear enjoy convers day esoter gab natur univer...\n",
            "4    firedthat anoth silli misconcept approach logi...\n",
            "Name: clean_post, dtype: object \n",
            "->\n",
            " 0    moment sportscent top ten play prankswhat life...\n",
            "1    find lack post alarmingsex bore posit often ex...\n",
            "2    good one cours say know bless cursedo absolut ...\n",
            "3    dear enjoy convers day esoter gab natur univer...\n",
            "4    firedthat anoth silli misconcept approach logi...\n",
            "Name: TextAfter, dtype: object\n"
          ],
          "name": "stdout"
        }
      ]
    },
    {
      "cell_type": "markdown",
      "metadata": {
        "id": "odw2tXlNRW_J"
      },
      "source": [
        "### Most frequent mispells -> Correct manually \n",
        "\n"
      ]
    },
    {
      "cell_type": "code",
      "metadata": {
        "id": "oBBvS6GoRWep"
      },
      "source": [
        "mispell_dict = {'colour': 'color', 'centre': 'center', 'favourite': 'favorite', 'travelling': 'traveling', 'counselling': 'counseling', 'theatre': 'theater', 'cancelled': 'canceled', 'labour': 'labor', 'organisation': 'organization', 'wwii': 'world war 2', 'citicise': 'criticize', 'youtu ': 'youtube ', 'Qoura': 'Quora', 'sallary': 'salary', 'Whta': 'What', 'narcisist': 'narcissist', 'howdo': 'how do', 'whatare': 'what are', 'howcan': 'how can', 'howmuch': 'how much', 'howmany': 'how many', 'whydo': 'why do', 'doI': 'do I', 'theBest': 'the best', 'howdoes': 'how does', 'mastrubation': 'masturbation', 'mastrubate': 'masturbate', \"mastrubating\": 'masturbating', 'pennis': 'penis', 'Etherium': 'Ethereum', 'narcissit': 'narcissist', 'bigdata': 'big data', '2k17': '2017', '2k18': '2018', 'qouta': 'quota', 'exboyfriend': 'ex boyfriend', 'airhostess': 'air hostess', \"whst\": 'what', 'watsapp': 'whatsapp', 'demonitisation': 'demonetization', 'demonitization': 'demonetization', 'demonetisation': 'demonetization', 'pokémon': 'pokemon'}\n",
        "def correct_spelling(x, dic):\n",
        "    for word in dic.keys():\n",
        "        x = x.replace(word, dic[word])\n",
        "    return x"
      ],
      "execution_count": 25,
      "outputs": []
    },
    {
      "cell_type": "code",
      "metadata": {
        "id": "seY8_TsoM9H9",
        "colab": {
          "base_uri": "https://localhost:8080/"
        },
        "outputId": "78f7a9e5-ce1f-462d-fdfc-c5212b23b6d3"
      },
      "source": [
        "data['clean_post'] = data['clean_post'].apply(lambda x: correct_spelling(x, mispell_dict))\n",
        "data['clean_post'][:5]"
      ],
      "execution_count": 26,
      "outputs": [
        {
          "output_type": "execute_result",
          "data": {
            "text/plain": [
              "0    moment sportscent top ten play prankswhat life...\n",
              "1    find lack post alarmingsex bore posit often ex...\n",
              "2    good one cours say know bless cursedo absolut ...\n",
              "3    dear enjoy convers day esoter gab natur univer...\n",
              "4    firedthat anoth silli misconcept approach logi...\n",
              "Name: clean_post, dtype: object"
            ]
          },
          "metadata": {
            "tags": []
          },
          "execution_count": 26
        }
      ]
    },
    {
      "cell_type": "markdown",
      "metadata": {
        "id": "qfe5mrUCVy0O"
      },
      "source": [
        "## Train/ Test/ Validation data Split"
      ]
    },
    {
      "cell_type": "markdown",
      "metadata": {
        "id": "f7XJ_mOMCJYH"
      },
      "source": [
        "계층적으로 분리"
      ]
    },
    {
      "cell_type": "code",
      "metadata": {
        "id": "jNXmr92-1hLc"
      },
      "source": [
        "from sklearn.model_selection import StratifiedShuffleSplit\n",
        "\n",
        "split = StratifiedShuffleSplit(n_splits=1, test_size=0.2, random_state=42)\n",
        "for train_index, test_index in split.split(data, data[['type']]):\n",
        "    train = data.loc[train_index]\n",
        "    test = data.loc[test_index]"
      ],
      "execution_count": 111,
      "outputs": []
    },
    {
      "cell_type": "code",
      "metadata": {
        "colab": {
          "base_uri": "https://localhost:8080/",
          "height": 306
        },
        "id": "rri67wt-mxti",
        "outputId": "827277e8-4914-4b62-ec53-ed249b91e4e7"
      },
      "source": [
        "train.head()"
      ],
      "execution_count": 112,
      "outputs": [
        {
          "output_type": "execute_result",
          "data": {
            "text/html": [
              "<div>\n",
              "<style scoped>\n",
              "    .dataframe tbody tr th:only-of-type {\n",
              "        vertical-align: middle;\n",
              "    }\n",
              "\n",
              "    .dataframe tbody tr th {\n",
              "        vertical-align: top;\n",
              "    }\n",
              "\n",
              "    .dataframe thead th {\n",
              "        text-align: right;\n",
              "    }\n",
              "</style>\n",
              "<table border=\"1\" class=\"dataframe\">\n",
              "  <thead>\n",
              "    <tr style=\"text-align: right;\">\n",
              "      <th></th>\n",
              "      <th>type</th>\n",
              "      <th>posts</th>\n",
              "      <th>E-I</th>\n",
              "      <th>S-N</th>\n",
              "      <th>T-F</th>\n",
              "      <th>J-P</th>\n",
              "      <th>clean_post</th>\n",
              "    </tr>\n",
              "  </thead>\n",
              "  <tbody>\n",
              "    <tr>\n",
              "      <th>1228</th>\n",
              "      <td>INFP</td>\n",
              "      <td>'We are mandarin speakers.  He receive educati...</td>\n",
              "      <td>1</td>\n",
              "      <td>1</td>\n",
              "      <td>1</td>\n",
              "      <td>1</td>\n",
              "      <td>mandarin speaker receiv educ canada sinc 13tha...</td>\n",
              "    </tr>\n",
              "    <tr>\n",
              "      <th>1290</th>\n",
              "      <td>ISTP</td>\n",
              "      <td>'Nope.  Not now, not ever.  I'm too busy with ...</td>\n",
              "      <td>1</td>\n",
              "      <td>0</td>\n",
              "      <td>0</td>\n",
              "      <td>1</td>\n",
              "      <td>nope ever busi work caus adrenalinerush activ ...</td>\n",
              "    </tr>\n",
              "    <tr>\n",
              "      <th>6756</th>\n",
              "      <td>ENFJ</td>\n",
              "      <td>'That's the only one I haven't gotten to read ...</td>\n",
              "      <td>0</td>\n",
              "      <td>1</td>\n",
              "      <td>1</td>\n",
              "      <td>0</td>\n",
              "      <td>one gotten read yet might pick one bookstoreso...</td>\n",
              "    </tr>\n",
              "    <tr>\n",
              "      <th>1662</th>\n",
              "      <td>INFP</td>\n",
              "      <td>'I used to think that maturity was burning bri...</td>\n",
              "      <td>1</td>\n",
              "      <td>1</td>\n",
              "      <td>1</td>\n",
              "      <td>1</td>\n",
              "      <td>use think matur burn bridg without second thou...</td>\n",
              "    </tr>\n",
              "    <tr>\n",
              "      <th>3338</th>\n",
              "      <td>INFP</td>\n",
              "      <td>'I get typed as both a 4w5 and 5w6 as well but...</td>\n",
              "      <td>1</td>\n",
              "      <td>1</td>\n",
              "      <td>1</td>\n",
              "      <td>1</td>\n",
              "      <td>get type 4w5 5w6 well like consid 4w5 fit perf...</td>\n",
              "    </tr>\n",
              "  </tbody>\n",
              "</table>\n",
              "</div>"
            ],
            "text/plain": [
              "      type  ...                                         clean_post\n",
              "1228  INFP  ...  mandarin speaker receiv educ canada sinc 13tha...\n",
              "1290  ISTP  ...  nope ever busi work caus adrenalinerush activ ...\n",
              "6756  ENFJ  ...  one gotten read yet might pick one bookstoreso...\n",
              "1662  INFP  ...  use think matur burn bridg without second thou...\n",
              "3338  INFP  ...  get type 4w5 5w6 well like consid 4w5 fit perf...\n",
              "\n",
              "[5 rows x 7 columns]"
            ]
          },
          "metadata": {
            "tags": []
          },
          "execution_count": 112
        }
      ]
    },
    {
      "cell_type": "markdown",
      "metadata": {
        "id": "KvPCOywh8MQ-"
      },
      "source": [
        "## OverSampling\n"
      ]
    },
    {
      "cell_type": "code",
      "metadata": {
        "colab": {
          "base_uri": "https://localhost:8080/"
        },
        "id": "1qN6GPD-8LI-",
        "outputId": "e2c0b33b-4c8d-4e97-dae9-94b8b29f0a6a"
      },
      "source": [
        "le = LabelEncoder()\n",
        "result = le.fit_transform(train['type'])\n",
        "print(result)"
      ],
      "execution_count": 84,
      "outputs": [
        {
          "output_type": "stream",
          "text": [
            "[ 9 15  0 ...  2 11  3]\n"
          ],
          "name": "stdout"
        }
      ]
    },
    {
      "cell_type": "code",
      "metadata": {
        "id": "qMTESCh38Y21"
      },
      "source": [
        "train['type_n'] = train['E-I']"
      ],
      "execution_count": 214,
      "outputs": []
    },
    {
      "cell_type": "code",
      "metadata": {
        "colab": {
          "base_uri": "https://localhost:8080/",
          "height": 204
        },
        "id": "0DrsYU278e7r",
        "outputId": "ae32afb8-02bc-4ed8-8008-9556546b2e59"
      },
      "source": [
        "train.head()"
      ],
      "execution_count": 215,
      "outputs": [
        {
          "output_type": "execute_result",
          "data": {
            "text/html": [
              "<div>\n",
              "<style scoped>\n",
              "    .dataframe tbody tr th:only-of-type {\n",
              "        vertical-align: middle;\n",
              "    }\n",
              "\n",
              "    .dataframe tbody tr th {\n",
              "        vertical-align: top;\n",
              "    }\n",
              "\n",
              "    .dataframe thead th {\n",
              "        text-align: right;\n",
              "    }\n",
              "</style>\n",
              "<table border=\"1\" class=\"dataframe\">\n",
              "  <thead>\n",
              "    <tr style=\"text-align: right;\">\n",
              "      <th></th>\n",
              "      <th>clean_post</th>\n",
              "      <th>type</th>\n",
              "      <th>E-I</th>\n",
              "      <th>S-N</th>\n",
              "      <th>T-F</th>\n",
              "      <th>J-P</th>\n",
              "      <th>type_n</th>\n",
              "    </tr>\n",
              "  </thead>\n",
              "  <tbody>\n",
              "    <tr>\n",
              "      <th>0</th>\n",
              "      <td>mandarin speaker receiv educ canada sinc 13tha...</td>\n",
              "      <td>INFP</td>\n",
              "      <td>1</td>\n",
              "      <td>1</td>\n",
              "      <td>1</td>\n",
              "      <td>1</td>\n",
              "      <td>1</td>\n",
              "    </tr>\n",
              "    <tr>\n",
              "      <th>1</th>\n",
              "      <td>nope ever busi work caus adrenalinerush activ ...</td>\n",
              "      <td>ISTP</td>\n",
              "      <td>1</td>\n",
              "      <td>0</td>\n",
              "      <td>0</td>\n",
              "      <td>1</td>\n",
              "      <td>1</td>\n",
              "    </tr>\n",
              "    <tr>\n",
              "      <th>2</th>\n",
              "      <td>one gotten read yet might pick one bookstoreso...</td>\n",
              "      <td>ENFJ</td>\n",
              "      <td>0</td>\n",
              "      <td>1</td>\n",
              "      <td>1</td>\n",
              "      <td>0</td>\n",
              "      <td>0</td>\n",
              "    </tr>\n",
              "    <tr>\n",
              "      <th>3</th>\n",
              "      <td>use think matur burn bridg without second thou...</td>\n",
              "      <td>INFP</td>\n",
              "      <td>1</td>\n",
              "      <td>1</td>\n",
              "      <td>1</td>\n",
              "      <td>1</td>\n",
              "      <td>1</td>\n",
              "    </tr>\n",
              "    <tr>\n",
              "      <th>4</th>\n",
              "      <td>get type 4w5 5w6 well like consid 4w5 fit perf...</td>\n",
              "      <td>INFP</td>\n",
              "      <td>1</td>\n",
              "      <td>1</td>\n",
              "      <td>1</td>\n",
              "      <td>1</td>\n",
              "      <td>1</td>\n",
              "    </tr>\n",
              "  </tbody>\n",
              "</table>\n",
              "</div>"
            ],
            "text/plain": [
              "                                          clean_post  type  ...  J-P  type_n\n",
              "0  mandarin speaker receiv educ canada sinc 13tha...  INFP  ...    1       1\n",
              "1  nope ever busi work caus adrenalinerush activ ...  ISTP  ...    1       1\n",
              "2  one gotten read yet might pick one bookstoreso...  ENFJ  ...    0       0\n",
              "3  use think matur burn bridg without second thou...  INFP  ...    1       1\n",
              "4  get type 4w5 5w6 well like consid 4w5 fit perf...  INFP  ...    1       1\n",
              "\n",
              "[5 rows x 7 columns]"
            ]
          },
          "metadata": {
            "tags": []
          },
          "execution_count": 215
        }
      ]
    },
    {
      "cell_type": "code",
      "metadata": {
        "id": "uA36WOgYsGzC"
      },
      "source": [
        "values = train[['clean_post', 'type', 'type_n']].values"
      ],
      "execution_count": 216,
      "outputs": []
    },
    {
      "cell_type": "code",
      "metadata": {
        "id": "LUC2zYBM9fT4"
      },
      "source": [
        "X, y = values[:, :-1], values[:, -1]"
      ],
      "execution_count": 217,
      "outputs": []
    },
    {
      "cell_type": "code",
      "metadata": {
        "id": "J0DSCY9J91p5"
      },
      "source": [
        "from collections import Counter\n",
        "from matplotlib import pyplot\n",
        "\n",
        "# 필요 함수 정의\n",
        "def count_and_plot(y): \n",
        "    counter = Counter(y)\n",
        "    for k,v in counter.items():\n",
        "        print('Class=%d, n=%d (%.3f%%)' % (k, v, v / len(y) * 100))\n",
        "    pyplot.bar(counter.keys(), counter.values())\n",
        "    pyplot.show()"
      ],
      "execution_count": 218,
      "outputs": []
    },
    {
      "cell_type": "code",
      "metadata": {
        "colab": {
          "base_uri": "https://localhost:8080/",
          "height": 301
        },
        "id": "tVIDZvOiFen0",
        "outputId": "4da94905-c398-44ee-bcdd-c3f354f6b98b"
      },
      "source": [
        "count_and_plot(y)"
      ],
      "execution_count": 219,
      "outputs": [
        {
          "output_type": "stream",
          "text": [
            "Class=1, n=9467 (79.129%)\n",
            "Class=0, n=2497 (20.871%)\n"
          ],
          "name": "stdout"
        },
        {
          "output_type": "display_data",
          "data": {
            "image/png": "[encoded data removed]",
            "text/plain": [
              "<Figure size 432x288 with 1 Axes>"
            ]
          },
          "metadata": {
            "tags": [],
            "needs_background": "light"
          }
        }
      ]
    },
    {
      "cell_type": "code",
      "metadata": {
        "colab": {
          "base_uri": "https://localhost:8080/",
          "height": 393
        },
        "id": "zTQlkce58hxM",
        "outputId": "a5e45eba-4d37-4932-9ab1-f79a33d57d50"
      },
      "source": [
        "from imblearn.over_sampling import RandomOverSampler\n",
        "X_resampled, y_resampled = RandomOverSampler(random_state=0).fit_resample(X, y)\n",
        "count_and_plot(y_resampled)"
      ],
      "execution_count": 159,
      "outputs": [
        {
          "output_type": "stream",
          "text": [
            "Class=1, n=5982 (50.000%)\n",
            "Class=0, n=5982 (50.000%)\n"
          ],
          "name": "stdout"
        },
        {
          "output_type": "stream",
          "text": [
            "/usr/local/lib/python3.6/dist-packages/imblearn/utils/_validation.py:93: UserWarning: 'y' should be of types ('binary', 'multiclass', 'multilabel-indicator') only. Got unknown instead.\n",
            "  TARGET_KIND, type_of_target(y)))\n",
            "/usr/local/lib/python3.6/dist-packages/sklearn/utils/deprecation.py:87: FutureWarning: Function safe_indexing is deprecated; safe_indexing is deprecated in version 0.22 and will be removed in version 0.24.\n",
            "  warnings.warn(msg, category=FutureWarning)\n"
          ],
          "name": "stderr"
        },
        {
          "output_type": "display_data",
          "data": {
            "image/png": "[encoded data removed]",
            "text/plain": [
              "<Figure size 432x288 with 1 Axes>"
            ]
          },
          "metadata": {
            "tags": [],
            "needs_background": "light"
          }
        }
      ]
    },
    {
      "cell_type": "code",
      "metadata": {
        "colab": {
          "base_uri": "https://localhost:8080/"
        },
        "id": "6IczmrlJAGuu",
        "outputId": "1b79268b-6144-4277-bfb8-685e8c47720c"
      },
      "source": [
        "X_resampled.shape"
      ],
      "execution_count": 160,
      "outputs": [
        {
          "output_type": "execute_result",
          "data": {
            "text/plain": [
              "(11964, 2)"
            ]
          },
          "metadata": {
            "tags": []
          },
          "execution_count": 160
        }
      ]
    },
    {
      "cell_type": "code",
      "metadata": {
        "colab": {
          "base_uri": "https://localhost:8080/"
        },
        "id": "Falmb_XH-J_5",
        "outputId": "1f93c2a8-7c34-426e-8c2a-3a3aab2306c8"
      },
      "source": [
        "X_resampled[:, 1]"
      ],
      "execution_count": 161,
      "outputs": [
        {
          "output_type": "execute_result",
          "data": {
            "text/plain": [
              "array(['INFP', 'ISTP', 'ENFJ', ..., 'ESFP', 'ESFP', 'ISTJ'], dtype=object)"
            ]
          },
          "metadata": {
            "tags": []
          },
          "execution_count": 161
        }
      ]
    },
    {
      "cell_type": "code",
      "metadata": {
        "id": "bFvxsh8x_juF"
      },
      "source": [
        "train = pd.DataFrame({'clean_post': X_resampled[:, 0], 'type': X_resampled[:, 1]})"
      ],
      "execution_count": 162,
      "outputs": []
    },
    {
      "cell_type": "code",
      "metadata": {
        "colab": {
          "base_uri": "https://localhost:8080/"
        },
        "id": "h2B7FVXZACnd",
        "outputId": "9d0d5f96-9890-46b8-d37b-e7c7826490f7"
      },
      "source": [
        "train.shape"
      ],
      "execution_count": 163,
      "outputs": [
        {
          "output_type": "execute_result",
          "data": {
            "text/plain": [
              "(11964, 2)"
            ]
          },
          "metadata": {
            "tags": []
          },
          "execution_count": 163
        }
      ]
    },
    {
      "cell_type": "code",
      "metadata": {
        "id": "-ZVN7B4mqF1P"
      },
      "source": [
        "from sklearn.metrics import confusion_matrix\n",
        "from sklearn.metrics import classification_report\n",
        "from sklearn.feature_extraction.text import TfidfVectorizer"
      ],
      "execution_count": 166,
      "outputs": []
    },
    {
      "cell_type": "code",
      "metadata": {
        "id": "47suBdrKmWia"
      },
      "source": [
        "list_personality_bin = np.array([translate_personality(p) for p in train.type])\n",
        "\n",
        "train['E-I'] = list_personality_bin[:,0]\n",
        "train['S-N'] = list_personality_bin[:,1]\n",
        "train['T-F'] = list_personality_bin[:,2]\n",
        "train['J-P'] = list_personality_bin[:,3]"
      ],
      "execution_count": 167,
      "outputs": []
    },
    {
      "cell_type": "code",
      "metadata": {
        "id": "KhVSytEKlNgK"
      },
      "source": [
        "X_train = train.clean_post\n",
        "X_test = test.clean_post\n",
        "y_train = list_personality_bin[X_train.index]\n",
        "y_test = list_personality_bin[X_test.index]"
      ],
      "execution_count": 168,
      "outputs": []
    },
    {
      "cell_type": "markdown",
      "metadata": {
        "id": "25NoBaenyb7n"
      },
      "source": [
        "- average = micro는 총 참 양성, 거짓 음성 및 거짓 양성을 고려하여 f1을 계산하는 함수를 말합니다 (데이터 세트의 각 레이블에 대한 예측에 관계없이).\n",
        "- average = macro는 각 레이블에 대해 f1을 계산하는 함수를 말하고 데이터 세트의 각 레이블에 대한 비율을 고려하지 않고 평균을 반환합니다.\n",
        "- average = weighted는 각 레이블에 대해 f1을 계산하는 함수를 말하고 데이터 세트의 각 레이블에 대한 비율을 고려하여 평균을 반환합니다.\n",
        "- average = samples는 각 인스턴스에 대해 f1을 계산하는 함수를 말하고 평균을 반환합니다. 다중 레이블 분류에 사용하십시오.\n",
        "\n"
      ]
    },
    {
      "cell_type": "markdown",
      "metadata": {
        "id": "Af3cM6Q9DNV-"
      },
      "source": [
        "## 모델 훈련\n"
      ]
    },
    {
      "cell_type": "code",
      "metadata": {
        "id": "PHcBJ8xrDQTO"
      },
      "source": [
        "from sklearn.metrics import accuracy_score\n",
        "from sklearn.metrics import classification_report, f1_score, precision_score, recall_score\n",
        "from sklearn.metrics import roc_curve"
      ],
      "execution_count": 153,
      "outputs": []
    },
    {
      "cell_type": "code",
      "metadata": {
        "colab": {
          "base_uri": "https://localhost:8080/",
          "height": 281
        },
        "id": "XC1pRPsttz01",
        "outputId": "619cd9ba-1af8-4696-b3f2-b3b340cbd588"
      },
      "source": [
        "N = 4\n",
        "but = (train['E-I'].value_counts()[0], train['S-N'].value_counts()[0], train['T-F'].value_counts()[0], train['J-P'].value_counts()[0])\n",
        "top = (train['E-I'].value_counts()[1], train['S-N'].value_counts()[1], train['T-F'].value_counts()[1], train['J-P'].value_counts()[1])\n",
        "\n",
        "ind = np.arange(N)    \n",
        "width = 0.7      \n",
        "\n",
        "p1 = plt.bar(ind, but, width)\n",
        "p2 = plt.bar(ind, top, width, bottom=but)\n",
        "\n",
        "plt.ylabel('Count')\n",
        "plt.title('Distribution accoss types indicators')\n",
        "plt.xticks(ind, ('E/I',  'S/N', 'T/F', 'J/P',))\n",
        "\n",
        "plt.show()"
      ],
      "execution_count": 169,
      "outputs": [
        {
          "output_type": "display_data",
          "data": {
            "image/png": "[encoded data removed]",
            "text/plain": [
              "<Figure size 432x288 with 1 Axes>"
            ]
          },
          "metadata": {
            "tags": [],
            "needs_background": "light"
          }
        }
      ]
    },
    {
      "cell_type": "code",
      "metadata": {
        "colab": {
          "base_uri": "https://localhost:8080/",
          "height": 281
        },
        "id": "mqBCA69puMMJ",
        "outputId": "40398fb1-edb0-46ab-a2a7-20cfb756cbe6"
      },
      "source": [
        "N = 4\n",
        "but = (test['E-I'].value_counts()[0], test['S-N'].value_counts()[0], test['T-F'].value_counts()[0], test['J-P'].value_counts()[0])\n",
        "top = (test['E-I'].value_counts()[1], test['S-N'].value_counts()[1], test['T-F'].value_counts()[1], test['J-P'].value_counts()[1])\n",
        "\n",
        "ind = np.arange(N)    \n",
        "width = 0.7      \n",
        "\n",
        "p1 = plt.bar(ind, but, width)\n",
        "p2 = plt.bar(ind, top, width, bottom=but)\n",
        "\n",
        "plt.ylabel('Count')\n",
        "plt.title('Distribution accoss types indicators')\n",
        "plt.xticks(ind, ('E/I',  'S/N', 'T/F', 'J/P',))\n",
        "\n",
        "plt.show()"
      ],
      "execution_count": 170,
      "outputs": [
        {
          "output_type": "display_data",
          "data": {
            "image/png": "[encoded data removed]",
            "text/plain": [
              "<Figure size 432x288 with 1 Axes>"
            ]
          },
          "metadata": {
            "tags": [],
            "needs_background": "light"
          }
        }
      ]
    },
    {
      "cell_type": "code",
      "metadata": {
        "id": "WpUxZs8UC45W"
      },
      "source": [
        "categories = ['E-I', 'S-N', 'T-F', 'J-P']"
      ],
      "execution_count": 171,
      "outputs": []
    },
    {
      "cell_type": "code",
      "metadata": {
        "id": "TjWf_Fyk1x0k"
      },
      "source": [
        "import sklearn.model_selection import StratifiedKFold\n",
        "skf = StratifiedKfold(n_splits=10, shuffle=True, random_state=0)\n",
        "print(skf.mean())"
      ],
      "execution_count": null,
      "outputs": []
    },
    {
      "cell_type": "code",
      "metadata": {
        "id": "nAqvLzg1_lop",
        "colab": {
          "base_uri": "https://localhost:8080/",
          "height": 1000
        },
        "outputId": "99753259-72ef-43cd-81df-04f8354913b3"
      },
      "source": [
        "import seaborn as sns\n",
        "from matplotlib import gridspec\n",
        "from sklearn.model_selection import StratifiedKFold\n",
        "\n",
        "SVC_pipeline = Pipeline([\n",
        "                ('tfidf', TfidfVectorizer()),\n",
        "                ('clf', OneVsRestClassifier(LinearSVC(C=0.01), n_jobs=1))\n",
        "])\n",
        "\n",
        "total_f1_score = 0\n",
        "\n",
        "fig = plt.figure(figsize=(18, 16)) \n",
        "gs = gridspec.GridSpec(8,8 ) \n",
        "n=0\n",
        "\n",
        "for category in categories:\n",
        "    print('... Processing {}'.format(category))\n",
        "\n",
        "    model = SVC_pipeline.fit(X_train, train[category])\n",
        "    prediction = model.predict(X_test)\n",
        "    scoreTrain = model.score(X_train, train[category])\n",
        "    scoreTest = model.score(X_test, test[category])\n",
        "    print(scoreTrain, scoreTest)\n",
        "\n",
        "    f1_score_ = f1_score(test[category], prediction)\n",
        "    total_f1_score += f1_score_\n",
        "    print('f1_score is {}'.format(f1_score_))\n",
        "\n",
        "    cf_matrix = confusion_matrix(test[category], prediction)\n",
        "    print(cf_matrix)\n",
        "    print(classification_report(test[category], prediction))\n",
        "\n",
        "    # labels = ['True Neg', 'False Pos', 'False Neg', 'True Pos']\n",
        "    # labels = np.asarray(labels).reshape(2,2)\n",
        "    plt.subplot(gs[n*2+0])\n",
        "    sns.heatmap(cf_matrix, annot=True, cmap='Blues')\n",
        "    n+=1\n",
        "    # fpr, tpr, thresholds = roc_curve(train[category], SVC_pipeline.predict_proba(X_train)[:, 1])\n",
        "    # plt.plot(fpr, tpr, '-', label=category)\n",
        "\n",
        "# plt.plot([0, 1], [0, 1], 'k--', label=\"random guess\")\n",
        "# plt.legend(fontsize = 8)\n",
        "# plt.xlabel('False Positive Rate')\n",
        "# plt.ylabel('True Positive Rate')\n",
        "# plt.title('MultinomialNB ROC Curve')\n",
        "# plt.show()\n",
        "\n",
        "plt.tight_layout()  # 창 크기에 맞게 조정\n",
        "plt.show()\n",
        "print('Average f1-score of LinearSVC : ', total_f1_score/4)\n",
        "# print('Average precision of LinearSVC : ', total_precision/4)\n",
        "# print('Average recall of LinearSVC : ', total_recall/4)"
      ],
      "execution_count": 213,
      "outputs": [
        {
          "output_type": "stream",
          "text": [
            "... Processing E-I\n",
            "0.7912905382815112 0.7694524495677233\n",
            "f1_score is 0.8697068403908794\n",
            "[[   0  400]\n",
            " [   0 1335]]\n",
            "              precision    recall  f1-score   support\n",
            "\n",
            "           0       0.00      0.00      0.00       400\n",
            "           1       0.77      1.00      0.87      1335\n",
            "\n",
            "    accuracy                           0.77      1735\n",
            "   macro avg       0.38      0.50      0.43      1735\n",
            "weighted avg       0.59      0.77      0.67      1735\n",
            "\n",
            "... Processing S-N\n"
          ],
          "name": "stdout"
        },
        {
          "output_type": "stream",
          "text": [
            "/usr/local/lib/python3.6/dist-packages/sklearn/metrics/_classification.py:1272: UndefinedMetricWarning: Precision and F-score are ill-defined and being set to 0.0 in labels with no predicted samples. Use `zero_division` parameter to control this behavior.\n",
            "  _warn_prf(average, modifier, msg_start, len(result))\n"
          ],
          "name": "stderr"
        },
        {
          "output_type": "stream",
          "text": [
            "0.8622534269475092 0.7342939481268012\n",
            "f1_score is 0.833031510322347\n",
            "[[ 124  115]\n",
            " [ 346 1150]]\n",
            "              precision    recall  f1-score   support\n",
            "\n",
            "           0       0.26      0.52      0.35       239\n",
            "           1       0.91      0.77      0.83      1496\n",
            "\n",
            "    accuracy                           0.73      1735\n",
            "   macro avg       0.59      0.64      0.59      1735\n",
            "weighted avg       0.82      0.73      0.77      1735\n",
            "\n",
            "... Processing T-F\n",
            "0.8568204613841525 0.7596541786743516\n",
            "f1_score is 0.7776000000000001\n",
            "[[589 207]\n",
            " [210 729]]\n",
            "              precision    recall  f1-score   support\n",
            "\n",
            "           0       0.74      0.74      0.74       796\n",
            "           1       0.78      0.78      0.78       939\n",
            "\n",
            "    accuracy                           0.76      1735\n",
            "   macro avg       0.76      0.76      0.76      1735\n",
            "weighted avg       0.76      0.76      0.76      1735\n",
            "\n",
            "... Processing J-P\n",
            "0.6805416248746239 0.6126801152737752\n",
            "f1_score is 0.7551020408163266\n",
            "[[  27  659]\n",
            " [  13 1036]]\n",
            "              precision    recall  f1-score   support\n",
            "\n",
            "           0       0.68      0.04      0.07       686\n",
            "           1       0.61      0.99      0.76      1049\n",
            "\n",
            "    accuracy                           0.61      1735\n",
            "   macro avg       0.64      0.51      0.41      1735\n",
            "weighted avg       0.64      0.61      0.49      1735\n",
            "\n"
          ],
          "name": "stdout"
        },
        {
          "output_type": "display_data",
          "data": {
            "image/png": "[encoded data removed]",
            "text/plain": [
              "<Figure size 1296x1152 with 8 Axes>"
            ]
          },
          "metadata": {
            "tags": [],
            "needs_background": "light"
          }
        },
        {
          "output_type": "stream",
          "text": [
            "Average f1-score of LinearSVC :  0.8088600978823883\n"
          ],
          "name": "stdout"
        }
      ]
    },
    {
      "cell_type": "code",
      "metadata": {
        "id": "33g4Y2kl_FRH"
      },
      "source": [
        "NB_pipeline = Pipeline([\n",
        "                ('tfidf', TfidfVectorizer()),\n",
        "                ('clf', OneVsRestClassifier(MultinomialNB(\n",
        "                    fit_prior=True, class_prior=None))),\n",
        "            ])\n",
        "total_score = 0\n",
        "acc =0\n",
        "for category in categories:\n",
        "    print('... Processing {}'.format(category))\n",
        "\n",
        "    NB_pipeline.fit(X_train, train[category])\n",
        "    prediction = NB_pipeline.predict(X_test)\n",
        "    score = f1_score(test[category], prediction, average='macro')\n",
        "    total_score += score\n",
        "    print('f1_score is {}'.format(score))\n",
        "    acc += accuracy_score(test[category], prediction)\n",
        "    print('accuracy is {}'.format(accuracy_score(test[category], prediction)))\n",
        "\n",
        "    print(confusion_matrix(test[category], prediction))\n",
        "    print(classification_report(test[category], prediction, target_names=['0', '1']))\n",
        "    labels = ['True Neg', 'False Pos', 'False Neg', 'True Pos']\n",
        "    labels = np.asarray(labels).reshape(2,2)\n",
        "    # sns.heatmap(cf_matrix, annot=labels, fmt=‘’, cmap='Blues')\n",
        "#     fpr, tpr, thresholds = roc_curve(train[category], NB_pipeline.predict_proba(X_train)[:, 1])\n",
        "#     plt.plot(fpr, tpr, '-', label=category)\n",
        "\n",
        "# plt.plot([0, 1], [0, 1], 'k--', label=\"random guess\")\n",
        "# plt.legend(fontsize = 8)\n",
        "# plt.xlabel('False Positive Rate')\n",
        "# plt.ylabel('True Positive Rate')\n",
        "# plt.title('MultinomialNB ROC Curve')\n",
        "# plt.show()\n",
        "\n",
        "print('Average f1-score of MultinomialNB : ', total_score/4)\n",
        "print('Average accuracy of MultinomialNB : ', acc/4)"
      ],
      "execution_count": null,
      "outputs": []
    },
    {
      "cell_type": "code",
      "metadata": {
        "id": "64sm2qYf_wmt"
      },
      "source": [
        "LogReg_pipeline = Pipeline([\n",
        "                ('tfidf', TfidfVectorizer()),\n",
        "                ('clf', OneVsRestClassifier(LogisticRegression(solver='sag'), n_jobs=1)),\n",
        "            ])\n",
        "total_score = 0\n",
        "for category in categories:\n",
        "    print('... Processing {}'.format(category))\n",
        "\n",
        "    LogReg_pipeline.fit(X_train, train[category])\n",
        "    prediction = LogReg_pipeline.predict(X_test)\n",
        "    score = f1_score(test[category], prediction, average='macro')\n",
        "    total_score += score\n",
        "    # print('f1_score is {}'.format(score))\n",
        "    # print('accuracy is {}'.format(accuracy_score(test[category], prediction)))\n",
        "\n",
        "    # print(confusion_matrix(test[category], prediction))\n",
        "    print(classification_report(test[category], prediction, target_names=['0', '1']))\n",
        "\n",
        "    fpr, tpr, thresholds = roc_curve(train[category], LogReg_pipeline.predict_proba(X_train)[:, 1])\n",
        "    plt.plot(fpr, tpr, '-', label=category)\n",
        "\n",
        "plt.plot([0, 1], [0, 1], 'k--', label=\"random guess\")\n",
        "plt.legend(fontsize = 8)\n",
        "plt.xlabel('False Positive Rate')\n",
        "plt.ylabel('True Positive Rate')\n",
        "plt.title('LogisticRegression ROC Curve')\n",
        "plt.show()\n",
        "\n",
        "print('Average f1-score of LogisticRegression : ', total_score/4)"
      ],
      "execution_count": null,
      "outputs": []
    },
    {
      "cell_type": "code",
      "metadata": {
        "id": "bxyv5GGON2I2"
      },
      "source": [
        "from sklearn.linear_model import SGDClassifier, PassiveAggressiveClassifier\n",
        "from sklearn.multioutput import MultiOutputClassifier\n",
        "from sklearn.naive_bayes import GaussianNB\n",
        "from sklearn.ensemble import AdaBoostClassifier\n",
        "import xgboost as xgb"
      ],
      "execution_count": 107,
      "outputs": []
    },
    {
      "cell_type": "code",
      "metadata": {
        "id": "uxEvACn1NlUB"
      },
      "source": [
        "XGB_pipeline = Pipeline([\n",
        "                ('tfidf', TfidfVectorizer()),\n",
        "                ('clf', OneVsRestClassifier(xgb.XGBClassifier(), n_jobs=1)),\n",
        "            ])\n",
        "total_score = 0\n",
        "for category in categories:\n",
        "    print('... Processing {}'.format(category))\n",
        "\n",
        "    XGB_pipeline.fit(X_train, train[category])\n",
        "    prediction = XGB_pipeline.predict(X_test)\n",
        "    score = f1_score(test[category], prediction, average='macro')\n",
        "    total_score += score\n",
        "    print('f1_score is {}'.format(score))\n",
        "    print('accuracy is {}'.format(accuracy_score(test[category], prediction)))\n",
        "\n",
        "    # print(confusion_matrix(test[category], prediction))\n",
        "    print(classification_report(test[category], prediction, target_names=['0', '1']))\n",
        "\n",
        "    fpr, tpr, thresholds = roc_curve(train[category], XGB_pipeline.predict_proba(X_train)[:, 1])\n",
        "    plt.plot(fpr, tpr, '-', label=category)\n",
        "\n",
        "plt.plot([0, 1], [0, 1], 'k--', label=\"random guess\")\n",
        "plt.legend(fontsize = 8)\n",
        "plt.xlabel('False Positive Rate')\n",
        "plt.ylabel('True Positive Rate')\n",
        "plt.title('LogisticRegression ROC Curve')\n",
        "plt.show()\n",
        "\n",
        "print('Average f1-score of XGBClassifier : ', total_score/4)"
      ],
      "execution_count": null,
      "outputs": []
    },
    {
      "cell_type": "code",
      "metadata": {
        "id": "4Bx3qfIuPDW9"
      },
      "source": [
        "SGDClassifier_pipeline = Pipeline([\n",
        "                ('tfidf', TfidfVectorizer()),\n",
        "                ('clf', OneVsRestClassifier(SGDClassifier(loss='log'), n_jobs=1)),\n",
        "            ])\n",
        "total_score = 0\n",
        "for category in categories:\n",
        "    print('... Processing {}'.format(category))\n",
        "\n",
        "    SGDClassifier_pipeline.fit(X_train, train[category])\n",
        "    prediction = SGDClassifier_pipeline.predict(X_test)\n",
        "    score = f1_score(test[category], prediction, average='macro')\n",
        "    total_score += score\n",
        "    print('f1_score is {}'.format(score))\n",
        "    print('accuracy is {}'.format(accuracy_score(test[category], prediction)))\n",
        "\n",
        "    # print(confusion_matrix(test[category], prediction))\n",
        "    print(classification_report(test[category], prediction, target_names=['0', '1']))\n",
        "\n",
        "    fpr, tpr, thresholds = roc_curve(train[category], SGDClassifier_pipeline.predict_proba(X_train)[:, 1])\n",
        "    plt.plot(fpr, tpr, '-', label=category)\n",
        "\n",
        "plt.plot([0, 1], [0, 1], 'k--', label=\"random guess\")\n",
        "plt.legend(fontsize = 8)\n",
        "plt.xlabel('False Positive Rate')\n",
        "plt.ylabel('True Positive Rate')\n",
        "plt.title('SGDClassifier ROC Curve')\n",
        "plt.show()\n",
        "\n",
        "print('Average f1-score of SGDClassifier : ', total_score/4)"
      ],
      "execution_count": null,
      "outputs": []
    },
    {
      "cell_type": "markdown",
      "metadata": {
        "id": "tXIpJyCceIjG"
      },
      "source": [
        "# 실제 적용시켜보기"
      ]
    },
    {
      "cell_type": "code",
      "metadata": {
        "id": "iWhhIiIyBaoh"
      },
      "source": [
        "somin_text=\"I am studying computer programming and statistics at Sejong University to become a big data analyst (data scientist). Since the department was newly established in 2017, there is no established curriculum and there is no seniors. In addition, there are many times when we do not know how to study. However, during my three semesters I had a certain sense of enlightenment. I want to become as data scientist by studying my magor and I have to be proficient in English to achieve my dream. When I attended a seminar at NC-soft Company, I wanted to work in a foreign country. I have heard that Korea's data scientists do not have their own roles and are doing various things in various fields. It is because big data field did not develop in Korea. And beacause of the ‘protection law’ on personal information leakage, I think that this field will not grow under the policy of Korea, which can not even collect data, which is the most basic step of data analysis. So I decided to go abroad to become a real data scientist. I also made the same commitment when I took an introduction to data analysis in English. When I did not know the concept, I studied with internet search, and all the materials and Youtube lectures were in English. So I had difficulty taking this course. Through this, I once again felt the need for English. I spent two years studying at school and thought that English should be the foundation for me to learn my major deeply and surely. So I decided that I would become more familiar with English through exchange students and would be very helpful for future foreign entry. There are two reasons to go to the The Hague University of Applied Sciences in the Netherlands through the exchange student program. One of that the English level of the European countries 2-3 ranking well. Statistically, Dutch people overestimate their English skills. They have a high level of confidence in English and think that I can not speak English perfectly because I am a foreigner. It is the opposite of Korea, which it is better not to say it because of poor pronunciation or lack of confidence in English ability. In this free environment, I want to assimilate with the Dutch and increase my confidence in English. The other reason is that there is a curriculum that allows students to experience their majors in practice. Taking the APPLIED DATA SCIENCE HBO-ICT course at The Hague University, a team of 6-8 students and an experienced data scientist conducts a project on data science research for half the semester. The other half is about learning about data science, machine learning, Python laptops, and so on. This curriculum has become very attractive. The job of DataScientist is promising, but I always wondered what it does in practice because of lack of relevant information and history. However, if I complete the APPLIED DATA SCIENCE HBO-ICT curriculum, which can not be done at Sejong University, I can solve my questions and dreams will become concrete. For this reason, I would like to be selected for the exchange student program at the The Hague University of Applied Sciences in the Netherlands and to be proud of the school.\""
      ],
      "execution_count": 185,
      "outputs": []
    },
    {
      "cell_type": "code",
      "metadata": {
        "colab": {
          "base_uri": "https://localhost:8080/",
          "height": 80
        },
        "id": "t3pYeywzdx_2",
        "outputId": "7b86a5db-2d96-4f60-ee01-a157befec39a"
      },
      "source": [
        "mydata = pd.DataFrame(data={'type': ['ISFP'], 'posts': [somin_text]})\n",
        "mydata"
      ],
      "execution_count": 186,
      "outputs": [
        {
          "output_type": "execute_result",
          "data": {
            "text/html": [
              "<div>\n",
              "<style scoped>\n",
              "    .dataframe tbody tr th:only-of-type {\n",
              "        vertical-align: middle;\n",
              "    }\n",
              "\n",
              "    .dataframe tbody tr th {\n",
              "        vertical-align: top;\n",
              "    }\n",
              "\n",
              "    .dataframe thead th {\n",
              "        text-align: right;\n",
              "    }\n",
              "</style>\n",
              "<table border=\"1\" class=\"dataframe\">\n",
              "  <thead>\n",
              "    <tr style=\"text-align: right;\">\n",
              "      <th></th>\n",
              "      <th>type</th>\n",
              "      <th>posts</th>\n",
              "    </tr>\n",
              "  </thead>\n",
              "  <tbody>\n",
              "    <tr>\n",
              "      <th>0</th>\n",
              "      <td>ISFP</td>\n",
              "      <td>I am studying computer programming and statist...</td>\n",
              "    </tr>\n",
              "  </tbody>\n",
              "</table>\n",
              "</div>"
            ],
            "text/plain": [
              "   type                                              posts\n",
              "0  ISFP  I am studying computer programming and statist..."
            ]
          },
          "metadata": {
            "tags": []
          },
          "execution_count": 186
        }
      ]
    },
    {
      "cell_type": "code",
      "metadata": {
        "colab": {
          "base_uri": "https://localhost:8080/"
        },
        "id": "hzYvAeHMfOYk",
        "outputId": "8511b70d-35a6-4e7b-a20e-0ae13e5146ac"
      },
      "source": [
        "titles = [\"Extraversion (E) - Introversion (I)\",\n",
        "          \"Sensation (S) - INtuition (N)\",\n",
        "          \"Thinking (T) - Feeling (F)\",\n",
        "          \"Judgement (J) - Perception (P)\"\n",
        "         ] \n",
        "b_Pers = {'E':0, 'I':1, 'S':0, 'N':1, 'T':0, 'F':1, 'J':0, 'P':1}\n",
        "b_Pers_list = [{0:'E', 0:'I'}, {0:'S', 1:'N'}, {0:'T', 1:'F'}, {0:'J', 1:'P'}]\n",
        "\n",
        "#transform mbti to binary vector\n",
        "def translate_personality(personality):\n",
        "    return [b_Pers[l] for l in personality]\n",
        "\n",
        "#transform binary vector to mbti personality\n",
        "def translate_back(personality):\n",
        "    s = \"\"\n",
        "    for i, l in enumerate(personality):\n",
        "        s += b_Pers_list[i][l]\n",
        "    return s\n",
        "\n",
        "list_personality_bin = np.array([translate_personality(p) for p in mydata.type])\n",
        "print(\"Binarize MBTI list: \\n%s\" % list_personality_bin)"
      ],
      "execution_count": 201,
      "outputs": [
        {
          "output_type": "stream",
          "text": [
            "Binarize MBTI list: \n",
            "[[1 0 1 1]]\n"
          ],
          "name": "stdout"
        }
      ]
    },
    {
      "cell_type": "code",
      "metadata": {
        "colab": {
          "base_uri": "https://localhost:8080/",
          "height": 80
        },
        "id": "GDElsz1wfUNg",
        "outputId": "dc5af075-8a1d-4c11-adaa-2c708559d2d6"
      },
      "source": [
        "mydata['E-I'] = list_personality_bin[:,0]\n",
        "mydata['S-N'] = list_personality_bin[:,1]\n",
        "mydata['T-F'] = list_personality_bin[:,2]\n",
        "mydata['J-P'] = list_personality_bin[:,3]\n",
        "mydata.head()"
      ],
      "execution_count": 188,
      "outputs": [
        {
          "output_type": "execute_result",
          "data": {
            "text/html": [
              "<div>\n",
              "<style scoped>\n",
              "    .dataframe tbody tr th:only-of-type {\n",
              "        vertical-align: middle;\n",
              "    }\n",
              "\n",
              "    .dataframe tbody tr th {\n",
              "        vertical-align: top;\n",
              "    }\n",
              "\n",
              "    .dataframe thead th {\n",
              "        text-align: right;\n",
              "    }\n",
              "</style>\n",
              "<table border=\"1\" class=\"dataframe\">\n",
              "  <thead>\n",
              "    <tr style=\"text-align: right;\">\n",
              "      <th></th>\n",
              "      <th>type</th>\n",
              "      <th>posts</th>\n",
              "      <th>E-I</th>\n",
              "      <th>S-N</th>\n",
              "      <th>T-F</th>\n",
              "      <th>J-P</th>\n",
              "    </tr>\n",
              "  </thead>\n",
              "  <tbody>\n",
              "    <tr>\n",
              "      <th>0</th>\n",
              "      <td>ISFP</td>\n",
              "      <td>I am studying computer programming and statist...</td>\n",
              "      <td>1</td>\n",
              "      <td>0</td>\n",
              "      <td>1</td>\n",
              "      <td>1</td>\n",
              "    </tr>\n",
              "  </tbody>\n",
              "</table>\n",
              "</div>"
            ],
            "text/plain": [
              "   type                                              posts  E-I  S-N  T-F  J-P\n",
              "0  ISFP  I am studying computer programming and statist...    1    0    1    1"
            ]
          },
          "metadata": {
            "tags": []
          },
          "execution_count": 188
        }
      ]
    },
    {
      "cell_type": "code",
      "metadata": {
        "colab": {
          "base_uri": "https://localhost:8080/"
        },
        "id": "FZYqWdgtfcxT",
        "outputId": "65a7e777-1862-4765-a01a-05ae436778d9"
      },
      "source": [
        "text_replace = pd.DataFrame(columns=['TextBefore', 'TextAfter'])\n",
        "text_replace['TextBefore'] = mydata['posts'].copy()\n",
        "for index, row in text_replace.iterrows():\n",
        "    row['TextAfter'] = replace(row['TextBefore'])\n",
        "print(text_replace['TextBefore'],'\\n->\\n', text_replace['TextAfter'])\n",
        "posts = text_replace.TextAfter.tolist()\n",
        "posts = [cleaner(post) for post in posts]\n",
        "mydata['clean_post'] = posts\n",
        "print(text_replace['TextAfter'],'\\n->\\n', mydata['clean_post'])"
      ],
      "execution_count": 189,
      "outputs": [
        {
          "output_type": "stream",
          "text": [
            "0    I am studying computer programming and statist...\n",
            "Name: TextBefore, dtype: object \n",
            "->\n",
            " 0    I am studying computer programming and statist...\n",
            "Name: TextAfter, dtype: object\n",
            "0    I am studying computer programming and statist...\n",
            "Name: TextAfter, dtype: object \n",
            "->\n",
            " 0     studying computer programming and statistics ...\n",
            "Name: clean_post, dtype: object\n"
          ],
          "name": "stdout"
        }
      ]
    },
    {
      "cell_type": "code",
      "metadata": {
        "colab": {
          "base_uri": "https://localhost:8080/"
        },
        "id": "H5IptA7efpCb",
        "outputId": "3695224c-b828-4ac7-92e3-49d1b8baac71"
      },
      "source": [
        "# 특수문자 제거\n",
        "posts = text_replace.TextAfter.tolist()\n",
        "posts = [cleaner(post) for post in posts]\n",
        "mydata['clean_post'] = posts\n",
        "print(text_replace['TextAfter'],'\\n->\\n', mydata['clean_post'])"
      ],
      "execution_count": 190,
      "outputs": [
        {
          "output_type": "stream",
          "text": [
            "0    I am studying computer programming and statist...\n",
            "Name: TextAfter, dtype: object \n",
            "->\n",
            " 0     studying computer programming and statistics ...\n",
            "Name: clean_post, dtype: object\n"
          ],
          "name": "stdout"
        }
      ]
    },
    {
      "cell_type": "code",
      "metadata": {
        "colab": {
          "base_uri": "https://localhost:8080/"
        },
        "id": "Vh8ZLNThzixO",
        "outputId": "fae34783-925c-444c-e3c5-c5022f081f26"
      },
      "source": [
        "# stopwords 제거\n",
        "text_removeStopwords = pd.DataFrame(columns=['TextBefore', 'TextAfter'])\n",
        "text_removeStopwords['TextBefore'] = mydata['clean_post'].copy()\n",
        "nltk.download('punkt')"
      ],
      "execution_count": 192,
      "outputs": [
        {
          "output_type": "stream",
          "text": [
            "[nltk_data] Downloading package punkt to /root/nltk_data...\n",
            "[nltk_data]   Package punkt is already up-to-date!\n"
          ],
          "name": "stdout"
        },
        {
          "output_type": "execute_result",
          "data": {
            "text/plain": [
              "True"
            ]
          },
          "metadata": {
            "tags": []
          },
          "execution_count": 192
        }
      ]
    },
    {
      "cell_type": "code",
      "metadata": {
        "colab": {
          "base_uri": "https://localhost:8080/",
          "height": 80
        },
        "id": "VdPUA5NnzpUl",
        "outputId": "07da1c99-ebb9-461b-924a-408ccddb19e4"
      },
      "source": [
        "text_removeStopwords"
      ],
      "execution_count": 193,
      "outputs": [
        {
          "output_type": "execute_result",
          "data": {
            "text/html": [
              "<div>\n",
              "<style scoped>\n",
              "    .dataframe tbody tr th:only-of-type {\n",
              "        vertical-align: middle;\n",
              "    }\n",
              "\n",
              "    .dataframe tbody tr th {\n",
              "        vertical-align: top;\n",
              "    }\n",
              "\n",
              "    .dataframe thead th {\n",
              "        text-align: right;\n",
              "    }\n",
              "</style>\n",
              "<table border=\"1\" class=\"dataframe\">\n",
              "  <thead>\n",
              "    <tr style=\"text-align: right;\">\n",
              "      <th></th>\n",
              "      <th>TextBefore</th>\n",
              "      <th>TextAfter</th>\n",
              "    </tr>\n",
              "  </thead>\n",
              "  <tbody>\n",
              "    <tr>\n",
              "      <th>0</th>\n",
              "      <td>studying computer programming and statistics ...</td>\n",
              "      <td>NaN</td>\n",
              "    </tr>\n",
              "  </tbody>\n",
              "</table>\n",
              "</div>"
            ],
            "text/plain": [
              "                                          TextBefore TextAfter\n",
              "0   studying computer programming and statistics ...       NaN"
            ]
          },
          "metadata": {
            "tags": []
          },
          "execution_count": 193
        }
      ]
    },
    {
      "cell_type": "code",
      "metadata": {
        "colab": {
          "base_uri": "https://localhost:8080/"
        },
        "id": "M9WApIHqz2Eq",
        "outputId": "bdfeb7c6-6a15-41b9-f718-b83e35e86318"
      },
      "source": [
        "# Remove Stopwords\n",
        "import nltk\n",
        "nltk.download('stopwords')\n",
        "nltk.download('wordnet')\n",
        "\n",
        "from nltk.corpus import stopwords\n",
        "stoplist = stopwords.words('english')\n",
        "\n",
        "from nltk.stem import WordNetLemmatizer, PorterStemmer\n",
        "\n",
        "n=WordNetLemmatizer()\n",
        "s = PorterStemmer()\n",
        "\n",
        "def tokenize(text):\n",
        "    finalTokens = []\n",
        "    tokens = nltk.word_tokenize(text)\n",
        "    for w in tokens:\n",
        "        if (w not in stoplist):\n",
        "            finalTokens.append(w)\n",
        "    lem  = [n.lemmatize(w) for w in finalTokens]\n",
        "    stem = [s.stem(w) for w in lem]\n",
        "    text = \" \".join(stem)\n",
        "\n",
        "    return text"
      ],
      "execution_count": 195,
      "outputs": [
        {
          "output_type": "stream",
          "text": [
            "[nltk_data] Downloading package stopwords to /root/nltk_data...\n",
            "[nltk_data]   Package stopwords is already up-to-date!\n",
            "[nltk_data] Downloading package wordnet to /root/nltk_data...\n",
            "[nltk_data]   Package wordnet is already up-to-date!\n"
          ],
          "name": "stdout"
        }
      ]
    },
    {
      "cell_type": "code",
      "metadata": {
        "colab": {
          "base_uri": "https://localhost:8080/"
        },
        "id": "4Jttb7DVCgXk",
        "outputId": "156e3108-afc3-4676-9d02-34adc6344227"
      },
      "source": [
        "for index, row in text_removeStopwords.iterrows():\n",
        "    row['TextAfter'] = tokenize(row['TextBefore'])\n",
        "\n",
        "mydata['clean_post'] = text_removeStopwords['TextAfter']\n",
        "print(mydata['clean_post'][:5],'\\n->\\n',text_removeStopwords['TextAfter'][:5])"
      ],
      "execution_count": 196,
      "outputs": [
        {
          "output_type": "stream",
          "text": [
            "0    studi comput program statist sejong univers be...\n",
            "Name: clean_post, dtype: object \n",
            "->\n",
            " 0    studi comput program statist sejong univers be...\n",
            "Name: TextAfter, dtype: object\n"
          ],
          "name": "stdout"
        }
      ]
    },
    {
      "cell_type": "code",
      "metadata": {
        "colab": {
          "base_uri": "https://localhost:8080/"
        },
        "id": "pMR1pTmigR4K",
        "outputId": "79edb7ea-caef-4233-f291-aac4d8ed87b6"
      },
      "source": [
        "mydata['clean_post'] = mydata['clean_post'].apply(lambda x: correct_spelling(x, mispell_dict))\n",
        "mydata['clean_post']"
      ],
      "execution_count": 197,
      "outputs": [
        {
          "output_type": "execute_result",
          "data": {
            "text/plain": [
              "0    studi comput program statist sejong univers be...\n",
              "Name: clean_post, dtype: object"
            ]
          },
          "metadata": {
            "tags": []
          },
          "execution_count": 197
        }
      ]
    },
    {
      "cell_type": "markdown",
      "metadata": {
        "id": "kPQBulSng5Hh"
      },
      "source": [
        "# 예측"
      ]
    },
    {
      "cell_type": "code",
      "metadata": {
        "colab": {
          "base_uri": "https://localhost:8080/",
          "height": 80
        },
        "id": "go3lwUzig8sp",
        "outputId": "b9ad68d1-bf1f-43ae-abf9-b40eb46b44e2"
      },
      "source": [
        "mydata"
      ],
      "execution_count": 198,
      "outputs": [
        {
          "output_type": "execute_result",
          "data": {
            "text/html": [
              "<div>\n",
              "<style scoped>\n",
              "    .dataframe tbody tr th:only-of-type {\n",
              "        vertical-align: middle;\n",
              "    }\n",
              "\n",
              "    .dataframe tbody tr th {\n",
              "        vertical-align: top;\n",
              "    }\n",
              "\n",
              "    .dataframe thead th {\n",
              "        text-align: right;\n",
              "    }\n",
              "</style>\n",
              "<table border=\"1\" class=\"dataframe\">\n",
              "  <thead>\n",
              "    <tr style=\"text-align: right;\">\n",
              "      <th></th>\n",
              "      <th>type</th>\n",
              "      <th>posts</th>\n",
              "      <th>E-I</th>\n",
              "      <th>S-N</th>\n",
              "      <th>T-F</th>\n",
              "      <th>J-P</th>\n",
              "      <th>clean_post</th>\n",
              "    </tr>\n",
              "  </thead>\n",
              "  <tbody>\n",
              "    <tr>\n",
              "      <th>0</th>\n",
              "      <td>ISFP</td>\n",
              "      <td>I am studying computer programming and statist...</td>\n",
              "      <td>1</td>\n",
              "      <td>0</td>\n",
              "      <td>1</td>\n",
              "      <td>1</td>\n",
              "      <td>studi comput program statist sejong univers be...</td>\n",
              "    </tr>\n",
              "  </tbody>\n",
              "</table>\n",
              "</div>"
            ],
            "text/plain": [
              "   type  ...                                         clean_post\n",
              "0  ISFP  ...  studi comput program statist sejong univers be...\n",
              "\n",
              "[1 rows x 7 columns]"
            ]
          },
          "metadata": {
            "tags": []
          },
          "execution_count": 198
        }
      ]
    },
    {
      "cell_type": "code",
      "metadata": {
        "colab": {
          "base_uri": "https://localhost:8080/"
        },
        "id": "rkWFI3Vagpf-",
        "outputId": "b21d81a0-530f-4f65-823b-463fa3b37917"
      },
      "source": [
        "result = []\n",
        "for category in categories:\n",
        "  prediction = SVC_pipeline.predict(mydata.clean_post)\n",
        "  result.append(prediction[0])\n",
        "\n",
        "print(result)"
      ],
      "execution_count": 199,
      "outputs": [
        {
          "output_type": "stream",
          "text": [
            "[0, 0, 0, 0]\n"
          ],
          "name": "stdout"
        }
      ]
    },
    {
      "cell_type": "code",
      "metadata": {
        "colab": {
          "base_uri": "https://localhost:8080/"
        },
        "id": "9-djNj7Ldxxb",
        "outputId": "179c3d81-a21b-48d8-b670-3beeaacd97b2"
      },
      "source": [
        "print(\"The result is: \", translate_back(result))"
      ],
      "execution_count": 202,
      "outputs": [
        {
          "output_type": "stream",
          "text": [
            "The result is:  ISTJ\n"
          ],
          "name": "stdout"
        }
      ]
    },
    {
      "cell_type": "code",
      "metadata": {
        "id": "8EPJyN9Ef7Co"
      },
      "source": [
        ""
      ],
      "execution_count": null,
      "outputs": []
    }
  ]
}