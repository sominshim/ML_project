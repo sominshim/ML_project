{
  "nbformat": 4,
  "nbformat_minor": 0,
  "metadata": {
    "colab": {
      "name": "mbti_crawling_kor.ipynb",
      "provenance": [],
      "authorship_tag": "ABX9TyOHekwjo44nNT0nYU4N8It+",
      "include_colab_link": true
    },
    "kernelspec": {
      "name": "python3",
      "display_name": "Python 3"
    }
  },
  "cells": [
    {
      "cell_type": "markdown",
      "metadata": {
        "id": "view-in-github",
        "colab_type": "text"
      },
      "source": [
        "<a href=\"https://colab.research.google.com/github/sominshim/Predicting_Personality_through_Text/blob/Ujin/mbti_crawling_kor.ipynb\" target=\"_parent\"><img src=\"https://colab.research.google.com/assets/colab-badge.svg\" alt=\"Open In Colab\"/></a>"
      ]
    },
    {
      "cell_type": "code",
      "metadata": {
        "id": "FfxA8L430_8Z",
        "colab": {
          "base_uri": "https://localhost:8080/"
        },
        "outputId": "4edbba40-1800-459d-8bd4-0dd1b817c8e9"
      },
      "source": [
        "from google.colab import drive\r\n",
        "drive.mount('/content/drive')"
      ],
      "execution_count": 2,
      "outputs": [
        {
          "output_type": "stream",
          "text": [
            "Mounted at /content/drive\n"
          ],
          "name": "stdout"
        }
      ]
    },
    {
      "cell_type": "code",
      "metadata": {
        "id": "NlrqvqFd1RIx",
        "colab": {
          "base_uri": "https://localhost:8080/"
        },
        "outputId": "a00dc919-4a9f-4a0a-877a-4a3e8d9b3910"
      },
      "source": [
        "!pip install selenium\r\n",
        "!apt-get update # to update ubuntu to correctly run apt install\r\n",
        "!apt install chromium-chromedriver"
      ],
      "execution_count": 3,
      "outputs": [
        {
          "output_type": "stream",
          "text": [
            "Collecting selenium\n",
            "\u001b[?25l  Downloading https://files.pythonhosted.org/packages/80/d6/4294f0b4bce4de0abf13e17190289f9d0613b0a44e5dd6a7f5ca98459853/selenium-3.141.0-py2.py3-none-any.whl (904kB)\n",
            "\r\u001b[K     |▍                               | 10kB 17.2MB/s eta 0:00:01\r\u001b[K     |▊                               | 20kB 18.6MB/s eta 0:00:01\r\u001b[K     |█                               | 30kB 10.5MB/s eta 0:00:01\r\u001b[K     |█▌                              | 40kB 8.4MB/s eta 0:00:01\r\u001b[K     |█▉                              | 51kB 4.3MB/s eta 0:00:01\r\u001b[K     |██▏                             | 61kB 4.8MB/s eta 0:00:01\r\u001b[K     |██▌                             | 71kB 5.0MB/s eta 0:00:01\r\u001b[K     |███                             | 81kB 5.2MB/s eta 0:00:01\r\u001b[K     |███▎                            | 92kB 5.3MB/s eta 0:00:01\r\u001b[K     |███▋                            | 102kB 4.2MB/s eta 0:00:01\r\u001b[K     |████                            | 112kB 4.2MB/s eta 0:00:01\r\u001b[K     |████▍                           | 122kB 4.2MB/s eta 0:00:01\r\u001b[K     |████▊                           | 133kB 4.2MB/s eta 0:00:01\r\u001b[K     |█████                           | 143kB 4.2MB/s eta 0:00:01\r\u001b[K     |█████▍                          | 153kB 4.2MB/s eta 0:00:01\r\u001b[K     |█████▉                          | 163kB 4.2MB/s eta 0:00:01\r\u001b[K     |██████▏                         | 174kB 4.2MB/s eta 0:00:01\r\u001b[K     |██████▌                         | 184kB 4.2MB/s eta 0:00:01\r\u001b[K     |██████▉                         | 194kB 4.2MB/s eta 0:00:01\r\u001b[K     |███████▎                        | 204kB 4.2MB/s eta 0:00:01\r\u001b[K     |███████▋                        | 215kB 4.2MB/s eta 0:00:01\r\u001b[K     |████████                        | 225kB 4.2MB/s eta 0:00:01\r\u001b[K     |████████▎                       | 235kB 4.2MB/s eta 0:00:01\r\u001b[K     |████████▊                       | 245kB 4.2MB/s eta 0:00:01\r\u001b[K     |█████████                       | 256kB 4.2MB/s eta 0:00:01\r\u001b[K     |█████████▍                      | 266kB 4.2MB/s eta 0:00:01\r\u001b[K     |█████████▉                      | 276kB 4.2MB/s eta 0:00:01\r\u001b[K     |██████████▏                     | 286kB 4.2MB/s eta 0:00:01\r\u001b[K     |██████████▌                     | 296kB 4.2MB/s eta 0:00:01\r\u001b[K     |██████████▉                     | 307kB 4.2MB/s eta 0:00:01\r\u001b[K     |███████████▎                    | 317kB 4.2MB/s eta 0:00:01\r\u001b[K     |███████████▋                    | 327kB 4.2MB/s eta 0:00:01\r\u001b[K     |████████████                    | 337kB 4.2MB/s eta 0:00:01\r\u001b[K     |████████████▎                   | 348kB 4.2MB/s eta 0:00:01\r\u001b[K     |████████████▊                   | 358kB 4.2MB/s eta 0:00:01\r\u001b[K     |█████████████                   | 368kB 4.2MB/s eta 0:00:01\r\u001b[K     |█████████████▍                  | 378kB 4.2MB/s eta 0:00:01\r\u001b[K     |█████████████▊                  | 389kB 4.2MB/s eta 0:00:01\r\u001b[K     |██████████████▏                 | 399kB 4.2MB/s eta 0:00:01\r\u001b[K     |██████████████▌                 | 409kB 4.2MB/s eta 0:00:01\r\u001b[K     |██████████████▉                 | 419kB 4.2MB/s eta 0:00:01\r\u001b[K     |███████████████▏                | 430kB 4.2MB/s eta 0:00:01\r\u001b[K     |███████████████▋                | 440kB 4.2MB/s eta 0:00:01\r\u001b[K     |████████████████                | 450kB 4.2MB/s eta 0:00:01\r\u001b[K     |████████████████▎               | 460kB 4.2MB/s eta 0:00:01\r\u001b[K     |████████████████▋               | 471kB 4.2MB/s eta 0:00:01\r\u001b[K     |█████████████████               | 481kB 4.2MB/s eta 0:00:01\r\u001b[K     |█████████████████▍              | 491kB 4.2MB/s eta 0:00:01\r\u001b[K     |█████████████████▊              | 501kB 4.2MB/s eta 0:00:01\r\u001b[K     |██████████████████▏             | 512kB 4.2MB/s eta 0:00:01\r\u001b[K     |██████████████████▌             | 522kB 4.2MB/s eta 0:00:01\r\u001b[K     |██████████████████▉             | 532kB 4.2MB/s eta 0:00:01\r\u001b[K     |███████████████████▏            | 542kB 4.2MB/s eta 0:00:01\r\u001b[K     |███████████████████▋            | 552kB 4.2MB/s eta 0:00:01\r\u001b[K     |████████████████████            | 563kB 4.2MB/s eta 0:00:01\r\u001b[K     |████████████████████▎           | 573kB 4.2MB/s eta 0:00:01\r\u001b[K     |████████████████████▋           | 583kB 4.2MB/s eta 0:00:01\r\u001b[K     |█████████████████████           | 593kB 4.2MB/s eta 0:00:01\r\u001b[K     |█████████████████████▍          | 604kB 4.2MB/s eta 0:00:01\r\u001b[K     |█████████████████████▊          | 614kB 4.2MB/s eta 0:00:01\r\u001b[K     |██████████████████████          | 624kB 4.2MB/s eta 0:00:01\r\u001b[K     |██████████████████████▌         | 634kB 4.2MB/s eta 0:00:01\r\u001b[K     |██████████████████████▉         | 645kB 4.2MB/s eta 0:00:01\r\u001b[K     |███████████████████████▏        | 655kB 4.2MB/s eta 0:00:01\r\u001b[K     |███████████████████████▌        | 665kB 4.2MB/s eta 0:00:01\r\u001b[K     |████████████████████████        | 675kB 4.2MB/s eta 0:00:01\r\u001b[K     |████████████████████████▎       | 686kB 4.2MB/s eta 0:00:01\r\u001b[K     |████████████████████████▋       | 696kB 4.2MB/s eta 0:00:01\r\u001b[K     |█████████████████████████       | 706kB 4.2MB/s eta 0:00:01\r\u001b[K     |█████████████████████████▍      | 716kB 4.2MB/s eta 0:00:01\r\u001b[K     |█████████████████████████▊      | 727kB 4.2MB/s eta 0:00:01\r\u001b[K     |██████████████████████████      | 737kB 4.2MB/s eta 0:00:01\r\u001b[K     |██████████████████████████▍     | 747kB 4.2MB/s eta 0:00:01\r\u001b[K     |██████████████████████████▉     | 757kB 4.2MB/s eta 0:00:01\r\u001b[K     |███████████████████████████▏    | 768kB 4.2MB/s eta 0:00:01\r\u001b[K     |███████████████████████████▌    | 778kB 4.2MB/s eta 0:00:01\r\u001b[K     |████████████████████████████    | 788kB 4.2MB/s eta 0:00:01\r\u001b[K     |████████████████████████████▎   | 798kB 4.2MB/s eta 0:00:01\r\u001b[K     |████████████████████████████▋   | 808kB 4.2MB/s eta 0:00:01\r\u001b[K     |█████████████████████████████   | 819kB 4.2MB/s eta 0:00:01\r\u001b[K     |█████████████████████████████▍  | 829kB 4.2MB/s eta 0:00:01\r\u001b[K     |█████████████████████████████▊  | 839kB 4.2MB/s eta 0:00:01\r\u001b[K     |██████████████████████████████  | 849kB 4.2MB/s eta 0:00:01\r\u001b[K     |██████████████████████████████▍ | 860kB 4.2MB/s eta 0:00:01\r\u001b[K     |██████████████████████████████▉ | 870kB 4.2MB/s eta 0:00:01\r\u001b[K     |███████████████████████████████▏| 880kB 4.2MB/s eta 0:00:01\r\u001b[K     |███████████████████████████████▌| 890kB 4.2MB/s eta 0:00:01\r\u001b[K     |███████████████████████████████▉| 901kB 4.2MB/s eta 0:00:01\r\u001b[K     |████████████████████████████████| 911kB 4.2MB/s \n",
            "\u001b[?25hRequirement already satisfied: urllib3 in /usr/local/lib/python3.6/dist-packages (from selenium) (1.24.3)\n",
            "Installing collected packages: selenium\n",
            "Successfully installed selenium-3.141.0\n",
            "Get:1 http://security.ubuntu.com/ubuntu bionic-security InRelease [88.7 kB]\n",
            "Ign:2 https://developer.download.nvidia.com/compute/cuda/repos/ubuntu1804/x86_64  InRelease\n",
            "Ign:3 https://developer.download.nvidia.com/compute/machine-learning/repos/ubuntu1804/x86_64  InRelease\n",
            "Hit:4 https://developer.download.nvidia.com/compute/cuda/repos/ubuntu1804/x86_64  Release\n",
            "Get:5 https://cloud.r-project.org/bin/linux/ubuntu bionic-cran40/ InRelease [3,626 B]\n",
            "Hit:6 https://developer.download.nvidia.com/compute/machine-learning/repos/ubuntu1804/x86_64  Release\n",
            "Hit:7 http://archive.ubuntu.com/ubuntu bionic InRelease\n",
            "Get:9 http://archive.ubuntu.com/ubuntu bionic-updates InRelease [88.7 kB]\n",
            "Get:10 https://cloud.r-project.org/bin/linux/ubuntu bionic-cran40/ Packages [41.5 kB]\n",
            "Get:11 http://archive.ubuntu.com/ubuntu bionic-backports InRelease [74.6 kB]\n",
            "Get:13 http://ppa.launchpad.net/c2d4u.team/c2d4u4.0+/ubuntu bionic InRelease [15.9 kB]\n",
            "Hit:14 http://ppa.launchpad.net/cran/libgit2/ubuntu bionic InRelease\n",
            "Hit:15 http://ppa.launchpad.net/graphics-drivers/ppa/ubuntu bionic InRelease\n",
            "Get:16 http://ppa.launchpad.net/c2d4u.team/c2d4u4.0+/ubuntu bionic/main Sources [1,703 kB]\n",
            "Get:17 http://ppa.launchpad.net/c2d4u.team/c2d4u4.0+/ubuntu bionic/main amd64 Packages [872 kB]\n",
            "Fetched 2,889 kB in 3s (907 kB/s)\n",
            "Reading package lists... Done\n",
            "Reading package lists... Done\n",
            "Building dependency tree       \n",
            "Reading state information... Done\n",
            "The following additional packages will be installed:\n",
            "  chromium-browser chromium-browser-l10n chromium-codecs-ffmpeg-extra\n",
            "Suggested packages:\n",
            "  webaccounts-chromium-extension unity-chromium-extension adobe-flashplugin\n",
            "The following NEW packages will be installed:\n",
            "  chromium-browser chromium-browser-l10n chromium-chromedriver\n",
            "  chromium-codecs-ffmpeg-extra\n",
            "0 upgraded, 4 newly installed, 0 to remove and 17 not upgraded.\n",
            "Need to get 81.0 MB of archives.\n",
            "After this operation, 273 MB of additional disk space will be used.\n",
            "Get:1 http://archive.ubuntu.com/ubuntu bionic-updates/universe amd64 chromium-codecs-ffmpeg-extra amd64 87.0.4280.66-0ubuntu0.18.04.1 [1,122 kB]\n",
            "Get:2 http://archive.ubuntu.com/ubuntu bionic-updates/universe amd64 chromium-browser amd64 87.0.4280.66-0ubuntu0.18.04.1 [71.7 MB]\n",
            "Get:3 http://archive.ubuntu.com/ubuntu bionic-updates/universe amd64 chromium-browser-l10n all 87.0.4280.66-0ubuntu0.18.04.1 [3,716 kB]\n",
            "Get:4 http://archive.ubuntu.com/ubuntu bionic-updates/universe amd64 chromium-chromedriver amd64 87.0.4280.66-0ubuntu0.18.04.1 [4,488 kB]\n",
            "Fetched 81.0 MB in 3s (24.0 MB/s)\n",
            "Selecting previously unselected package chromium-codecs-ffmpeg-extra.\n",
            "(Reading database ... 145480 files and directories currently installed.)\n",
            "Preparing to unpack .../chromium-codecs-ffmpeg-extra_87.0.4280.66-0ubuntu0.18.04.1_amd64.deb ...\n",
            "Unpacking chromium-codecs-ffmpeg-extra (87.0.4280.66-0ubuntu0.18.04.1) ...\n",
            "Selecting previously unselected package chromium-browser.\n",
            "Preparing to unpack .../chromium-browser_87.0.4280.66-0ubuntu0.18.04.1_amd64.deb ...\n",
            "Unpacking chromium-browser (87.0.4280.66-0ubuntu0.18.04.1) ...\n",
            "Selecting previously unselected package chromium-browser-l10n.\n",
            "Preparing to unpack .../chromium-browser-l10n_87.0.4280.66-0ubuntu0.18.04.1_all.deb ...\n",
            "Unpacking chromium-browser-l10n (87.0.4280.66-0ubuntu0.18.04.1) ...\n",
            "Selecting previously unselected package chromium-chromedriver.\n",
            "Preparing to unpack .../chromium-chromedriver_87.0.4280.66-0ubuntu0.18.04.1_amd64.deb ...\n",
            "Unpacking chromium-chromedriver (87.0.4280.66-0ubuntu0.18.04.1) ...\n",
            "Setting up chromium-codecs-ffmpeg-extra (87.0.4280.66-0ubuntu0.18.04.1) ...\n",
            "Setting up chromium-browser (87.0.4280.66-0ubuntu0.18.04.1) ...\n",
            "update-alternatives: using /usr/bin/chromium-browser to provide /usr/bin/x-www-browser (x-www-browser) in auto mode\n",
            "update-alternatives: using /usr/bin/chromium-browser to provide /usr/bin/gnome-www-browser (gnome-www-browser) in auto mode\n",
            "Setting up chromium-chromedriver (87.0.4280.66-0ubuntu0.18.04.1) ...\n",
            "Setting up chromium-browser-l10n (87.0.4280.66-0ubuntu0.18.04.1) ...\n",
            "Processing triggers for hicolor-icon-theme (0.17-2) ...\n",
            "Processing triggers for mime-support (3.60ubuntu1) ...\n",
            "Processing triggers for man-db (2.8.3-2ubuntu0.1) ...\n"
          ],
          "name": "stdout"
        }
      ]
    },
    {
      "cell_type": "code",
      "metadata": {
        "id": "zxPcbAqR1e8z",
        "colab": {
          "base_uri": "https://localhost:8080/"
        },
        "outputId": "5224f78b-571e-47b1-f62b-77ea286e9629"
      },
      "source": [
        "import os\r\n",
        "from bs4 import BeautifulSoup\r\n",
        "from selenium import webdriver\r\n",
        "from pandas import Series, DataFrame\r\n",
        "import pandas as pd\r\n",
        "import time\r\n",
        "import re\r\n",
        "from tqdm import tqdm_notebook\r\n",
        "\r\n",
        "chrome_options = webdriver.ChromeOptions()\r\n",
        "chrome_options.add_argument('--headless') #내부 창을 띄울 수 없으므로 설정\r\n",
        "chrome_options.add_argument('--no-sandbox')\r\n",
        "chrome_options.add_argument('--disable-dev-shm-usage')\r\n",
        "wd = webdriver.Chrome('chromedriver',chrome_options=chrome_options)"
      ],
      "execution_count": 11,
      "outputs": [
        {
          "output_type": "stream",
          "text": [
            "/usr/local/lib/python3.6/dist-packages/ipykernel_launcher.py:14: DeprecationWarning: use options instead of chrome_options\n",
            "  \n"
          ],
          "name": "stderr"
        }
      ]
    },
    {
      "cell_type": "code",
      "metadata": {
        "id": "ryjVacwHA1Vf",
        "colab": {
          "base_uri": "https://localhost:8080/"
        },
        "outputId": "407e1e0e-1f6e-4bea-b1fd-7690f5e445bd"
      },
      "source": [
        "USER = 'ID'\r\n",
        "PASS = 'password'\r\n",
        "\r\n",
        "wd = webdriver.Chrome('chromedriver',chrome_options=chrome_options)\r\n",
        "\r\n",
        "#로그인 페이지 접근\r\n",
        "\r\n",
        "url_login = \"https://nid.naver.com/nidlogin.login\"\r\n",
        "\r\n",
        "wd.get(url_login)\r\n",
        "\r\n",
        "#텍스트박스에 아이디, 비밀번호 입력하기\r\n",
        "\r\n",
        "e = wd.find_element_by_id(\"id\")\r\n",
        "\r\n",
        "e.clear()\r\n",
        "\r\n",
        "e.send_keys(USER)\r\n",
        "\r\n",
        "e = wd.find_element_by_id(\"pw\")\r\n",
        "\r\n",
        "e.clear()\r\n",
        "\r\n",
        "e.send_keys(PASS)\r\n",
        "\r\n",
        "\r\n",
        "#입력 양식 전송, 로그인\r\n",
        "\r\n",
        "form = wd.find_element_by_css_selector(\"input.btn_global[type=submit]\")\r\n",
        "\r\n",
        "form.submit()\r\n",
        "\r\n",
        "#print(\"네이버에 로그인...\")"
      ],
      "execution_count": 5,
      "outputs": [
        {
          "output_type": "stream",
          "text": [
            "/usr/local/lib/python3.6/dist-packages/ipykernel_launcher.py:4: DeprecationWarning: use options instead of chrome_options\n",
            "  after removing the cwd from sys.path.\n"
          ],
          "name": "stderr"
        }
      ]
    },
    {
      "cell_type": "code",
      "metadata": {
        "id": "wjqQmeP8fPaM"
      },
      "source": [
        "categories = ['ISTJ', 'ISFJ', 'ESTJ', 'ESFJ', 'ISTP', 'ESTP', 'ESFP','ISFP', \r\n",
        "              'INTJ','INTP','ENTJ', 'ENTP', 'INFJ','INFP','ENFJ','ENFP']"
      ],
      "execution_count": 6,
      "outputs": []
    },
    {
      "cell_type": "code",
      "metadata": {
        "id": "uq3vU7ldGw7W"
      },
      "source": [
        "def crawler(url_sub):\r\n",
        "  contents = []\r\n",
        "  names = []\r\n",
        "  for link in tqdm_notebook(url_sub):\r\n",
        "    try:\r\n",
        "      # print(link)\r\n",
        "      wd.get(link)\r\n",
        "      time.sleep(1)\r\n",
        "      wd.switch_to.frame('cafe_main')\r\n",
        "      time.sleep(1)\r\n",
        "      soup = BeautifulSoup(wd.page_source, 'lxml')\r\n",
        "\r\n",
        "      nameArea = soup.find('div', {'class':'nick_box'})\r\n",
        "      name_parags = nameArea.findAll('a')  \r\n",
        "      # name = \"\"\r\n",
        "      for parag in name_parags:\r\n",
        "        t = parag.text.strip()\r\n",
        "        text = re.sub('[^a-zA-Z]','',t.upper())\r\n",
        "      if (categories[0] in text)|(categories[1] in text)|(categories[2] in text)|(categories[3] in text)|(categories[4] in text)|(categories[5] in text)|(categories[6] in text)|(categories[7] in text)|(categories[8] in text)|(categories[9] in text)|(categories[10] in text)|(categories[11] in text)|(categories[12] in text)|(categories[13] in text)|(categories[14] in text)|(categories[15] in text):\r\n",
        "        # print(text)\r\n",
        "        names.append(text)\r\n",
        "      else: continue\r\n",
        "\r\n",
        "      contentArea = soup.find('div', {'class':'article_viewer'})\r\n",
        "      parags = contentArea.findAll('p')  \r\n",
        "      content = \"\"\r\n",
        "      for parag in parags:\r\n",
        "          content += parag.text.strip()\r\n",
        "      contents.append(content)\r\n",
        "\r\n",
        "      pass\r\n",
        "    except:\r\n",
        "      # Continue to next iteration.\r\n",
        "      continue\r\n",
        "\r\n",
        "  return contents, names"
      ],
      "execution_count": 12,
      "outputs": []
    },
    {
      "cell_type": "code",
      "metadata": {
        "id": "wEYAO1g31ZIn"
      },
      "source": [
        "iter = 1\r\n",
        "for i in range(500, 1000, 1):\r\n",
        "  # print(i)\r\n",
        "  # url = mbti_url + str(i+1)\r\n",
        "  wd.get('https://cafe.naver.com/ArticleList.nhn?search.clubid=11856775&search.boardtype=L&search.totalCount=151&search.page='+ str(i+1))  #mbti카페\r\n",
        "  time.sleep(1)\r\n",
        "  wd.switch_to.frame('cafe_main')  #카페 메인 아이프레임\r\n",
        "  html = wd.page_source  #페이지 소스 가져오기\r\n",
        "  soup = BeautifulSoup(html, \"html.parser\")\r\n",
        "\r\n",
        "  title = soup.select('.inner_list')\r\n",
        "  url_sub = [] # 각 게시물 url 뽑음\r\n",
        "\r\n",
        "  for link in title:\r\n",
        "    linkadd = link.find(\"a\")['href']\r\n",
        "    url_sub.append(\"https://cafe.naver.com\" + linkadd)\r\n",
        "    \r\n",
        "  df1, df2 = crawler(url_sub)\r\n",
        "  df1 = pd.DataFrame(data = df1, columns=['posts'])\r\n",
        "  df2 = pd.DataFrame(data = df2, columns=['type'])\r\n",
        "  add = pd.concat([df2, df1], axis=1)\r\n",
        "\r\n",
        "  if i == 501:\r\n",
        "    df = add\r\n",
        "  else:\r\n",
        "    df = pd.concat([df, add], axis=0)\r\n"
      ],
      "execution_count": null,
      "outputs": []
    },
    {
      "cell_type": "code",
      "metadata": {
        "id": "LabiRiuQtgeN",
        "colab": {
          "base_uri": "https://localhost:8080/",
          "height": 407
        },
        "outputId": "3a5768be-6e19-4791-ca34-cd75ba216125"
      },
      "source": [
        "df"
      ],
      "execution_count": 14,
      "outputs": [
        {
          "output_type": "execute_result",
          "data": {
            "text/html": [
              "<div>\n",
              "<style scoped>\n",
              "    .dataframe tbody tr th:only-of-type {\n",
              "        vertical-align: middle;\n",
              "    }\n",
              "\n",
              "    .dataframe tbody tr th {\n",
              "        vertical-align: top;\n",
              "    }\n",
              "\n",
              "    .dataframe thead th {\n",
              "        text-align: right;\n",
              "    }\n",
              "</style>\n",
              "<table border=\"1\" class=\"dataframe\">\n",
              "  <thead>\n",
              "    <tr style=\"text-align: right;\">\n",
              "      <th></th>\n",
              "      <th>type</th>\n",
              "      <th>posts</th>\n",
              "    </tr>\n",
              "  </thead>\n",
              "  <tbody>\n",
              "    <tr>\n",
              "      <th>0</th>\n",
              "      <td>INTPTW</td>\n",
              "      <td>주제 : 아무거나</td>\n",
              "    </tr>\n",
              "    <tr>\n",
              "      <th>1</th>\n",
              "      <td>INFP</td>\n",
              "      <td>정말 친한 동성친구한테 어떻게 대하시나요?​저는 인프피고 친구는 잇프피인데 전 정말...</td>\n",
              "    </tr>\n",
              "    <tr>\n",
              "      <th>2</th>\n",
              "      <td>ESFJW</td>\n",
              "      <td>내일 관심남 대학원 발표 나는데​내가 떨어지면 전화하라고 위로해준다 했는데남성분이 ...</td>\n",
              "    </tr>\n",
              "    <tr>\n",
              "      <th>3</th>\n",
              "      <td>ISFJ</td>\n",
              "      <td>너무 너무 궁금해서 엠헬 분들 분석(?)이 궁금해요!​김소연 씨와 이상우 씨는 한 ...</td>\n",
              "    </tr>\n",
              "    <tr>\n",
              "      <th>4</th>\n",
              "      <td>ENTPWSPSX</td>\n",
              "      <td>실제 창작물에서도 자기 존재 잘감추는 캐릭터들은 하나같이 인프제이기도 하고요 ㅋㅋ​...</td>\n",
              "    </tr>\n",
              "    <tr>\n",
              "      <th>...</th>\n",
              "      <td>...</td>\n",
              "      <td>...</td>\n",
              "    </tr>\n",
              "    <tr>\n",
              "      <th>2</th>\n",
              "      <td>ENTP</td>\n",
              "      <td>1. 당신에게 고민을 말한다- 엔팁은 고민 말하면 약점 잡히는거 같고 자존심 상해서...</td>\n",
              "    </tr>\n",
              "    <tr>\n",
              "      <th>3</th>\n",
              "      <td>INFP</td>\n",
              "      <td>이름: 김아별 (에니어 9w1)​1. 순진하다. 남을 너무 잘 믿어서 바보 취급 받...</td>\n",
              "    </tr>\n",
              "    <tr>\n",
              "      <th>4</th>\n",
              "      <td>ENTP</td>\n",
              "      <td>.............?뭐야.사랑하면 닮는다더니.직관 그 자체​​​​​​당분간 인...</td>\n",
              "    </tr>\n",
              "    <tr>\n",
              "      <th>5</th>\n",
              "      <td>ENFJ</td>\n",
              "      <td>이게 무슨 유형일진 모르겠지만!눈 앞에 바로 얻을 수 있는 음식이란 보상보다나중에 ...</td>\n",
              "    </tr>\n",
              "    <tr>\n",
              "      <th>6</th>\n",
              "      <td>ISFJ</td>\n",
              "      <td>큰 차이점은 뭐에요??</td>\n",
              "    </tr>\n",
              "  </tbody>\n",
              "</table>\n",
              "<p>3661 rows × 2 columns</p>\n",
              "</div>"
            ],
            "text/plain": [
              "         type                                              posts\n",
              "0      INTPTW                                          주제 : 아무거나\n",
              "1        INFP  정말 친한 동성친구한테 어떻게 대하시나요?​저는 인프피고 친구는 잇프피인데 전 정말...\n",
              "2       ESFJW  내일 관심남 대학원 발표 나는데​내가 떨어지면 전화하라고 위로해준다 했는데남성분이 ...\n",
              "3        ISFJ  너무 너무 궁금해서 엠헬 분들 분석(?)이 궁금해요!​김소연 씨와 이상우 씨는 한 ...\n",
              "4   ENTPWSPSX  실제 창작물에서도 자기 존재 잘감추는 캐릭터들은 하나같이 인프제이기도 하고요 ㅋㅋ​...\n",
              "..        ...                                                ...\n",
              "2        ENTP  1. 당신에게 고민을 말한다- 엔팁은 고민 말하면 약점 잡히는거 같고 자존심 상해서...\n",
              "3        INFP  이름: 김아별 (에니어 9w1)​1. 순진하다. 남을 너무 잘 믿어서 바보 취급 받...\n",
              "4        ENTP  .............?뭐야.사랑하면 닮는다더니.직관 그 자체​​​​​​당분간 인...\n",
              "5        ENFJ  이게 무슨 유형일진 모르겠지만!눈 앞에 바로 얻을 수 있는 음식이란 보상보다나중에 ...\n",
              "6        ISFJ                                       큰 차이점은 뭐에요??\n",
              "\n",
              "[3661 rows x 2 columns]"
            ]
          },
          "metadata": {
            "tags": []
          },
          "execution_count": 14
        }
      ]
    },
    {
      "cell_type": "code",
      "metadata": {
        "id": "ByI0ugp4KBZe"
      },
      "source": [
        "df.to_csv('/content/drive/My Drive/mbti_crawling_kor.csv')"
      ],
      "execution_count": 15,
      "outputs": []
    }
  ]
}