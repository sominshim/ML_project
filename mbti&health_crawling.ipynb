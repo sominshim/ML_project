{
  "nbformat": 4,
  "nbformat_minor": 0,
  "metadata": {
    "colab": {
      "name": "mbti&health crawling.ipynb",
      "provenance": [],
      "collapsed_sections": [],
      "authorship_tag": "ABX9TyO/5hOLqeRLyQt75jwcpgLN"
    },
    "kernelspec": {
      "name": "python3",
      "display_name": "Python 3"
    }
  },
  "cells": [
    {
      "cell_type": "code",
      "metadata": {
        "colab": {
          "base_uri": "https://localhost:8080/"
        },
        "id": "c-S5BVLhySX5",
        "outputId": "598678d5-54ec-4b9e-868d-8a90042ca9c8"
      },
      "source": [
        "pip install selenium"
      ],
      "execution_count": 4,
      "outputs": [
        {
          "output_type": "stream",
          "text": [
            "Collecting selenium\n",
            "\u001b[?25l  Downloading https://files.pythonhosted.org/packages/80/d6/4294f0b4bce4de0abf13e17190289f9d0613b0a44e5dd6a7f5ca98459853/selenium-3.141.0-py2.py3-none-any.whl (904kB)\n",
            "\u001b[K     |████████████████████████████████| 911kB 5.3MB/s \n",
            "\u001b[?25hRequirement already satisfied: urllib3 in /usr/local/lib/python3.6/dist-packages (from selenium) (1.24.3)\n",
            "Installing collected packages: selenium\n",
            "Successfully installed selenium-3.141.0\n"
          ],
          "name": "stdout"
        }
      ]
    },
    {
      "cell_type": "code",
      "metadata": {
        "colab": {
          "base_uri": "https://localhost:8080/"
        },
        "id": "-IzzJS_ayBNl",
        "outputId": "ab6a443a-940c-4ef1-f709-dbd3f4387955"
      },
      "source": [
        "!apt-get update # to update ubuntu to correctly run apt install\r\n",
        "\r\n",
        "!apt install chromium-chromedriver"
      ],
      "execution_count": 2,
      "outputs": [
        {
          "output_type": "stream",
          "text": [
            "\r0% [Working]\r            \rGet:1 https://cloud.r-project.org/bin/linux/ubuntu bionic-cran40/ InRelease [3,626 B]\n",
            "\r0% [Connecting to archive.ubuntu.com] [Waiting for headers] [1 InRelease 3,626 \r0% [Connecting to archive.ubuntu.com] [Waiting for headers] [Connecting to ppa.\r                                                                               \rGet:2 http://security.ubuntu.com/ubuntu bionic-security InRelease [88.7 kB]\n",
            "Ign:3 https://developer.download.nvidia.com/compute/cuda/repos/ubuntu1804/x86_64  InRelease\n",
            "Ign:4 https://developer.download.nvidia.com/compute/machine-learning/repos/ubuntu1804/x86_64  InRelease\n",
            "Hit:5 https://developer.download.nvidia.com/compute/cuda/repos/ubuntu1804/x86_64  Release\n",
            "Hit:6 https://developer.download.nvidia.com/compute/machine-learning/repos/ubuntu1804/x86_64  Release\n",
            "Get:7 http://ppa.launchpad.net/c2d4u.team/c2d4u4.0+/ubuntu bionic InRelease [15.9 kB]\n",
            "Hit:8 http://archive.ubuntu.com/ubuntu bionic InRelease\n",
            "Get:9 https://cloud.r-project.org/bin/linux/ubuntu bionic-cran40/ Packages [41.5 kB]\n",
            "Get:10 http://archive.ubuntu.com/ubuntu bionic-updates InRelease [88.7 kB]\n",
            "Hit:12 http://ppa.launchpad.net/cran/libgit2/ubuntu bionic InRelease\n",
            "Get:14 http://archive.ubuntu.com/ubuntu bionic-backports InRelease [74.6 kB]\n",
            "Hit:15 http://ppa.launchpad.net/graphics-drivers/ppa/ubuntu bionic InRelease\n",
            "Get:16 http://ppa.launchpad.net/c2d4u.team/c2d4u4.0+/ubuntu bionic/main Sources [1,703 kB]\n",
            "Get:17 http://ppa.launchpad.net/c2d4u.team/c2d4u4.0+/ubuntu bionic/main amd64 Packages [872 kB]\n",
            "Fetched 2,889 kB in 3s (915 kB/s)\n",
            "Reading package lists... Done\n",
            "Reading package lists... Done\n",
            "Building dependency tree       \n",
            "Reading state information... Done\n",
            "The following additional packages will be installed:\n",
            "  chromium-browser chromium-browser-l10n chromium-codecs-ffmpeg-extra\n",
            "Suggested packages:\n",
            "  webaccounts-chromium-extension unity-chromium-extension adobe-flashplugin\n",
            "The following NEW packages will be installed:\n",
            "  chromium-browser chromium-browser-l10n chromium-chromedriver\n",
            "  chromium-codecs-ffmpeg-extra\n",
            "0 upgraded, 4 newly installed, 0 to remove and 17 not upgraded.\n",
            "Need to get 81.0 MB of archives.\n",
            "After this operation, 273 MB of additional disk space will be used.\n",
            "Get:1 http://archive.ubuntu.com/ubuntu bionic-updates/universe amd64 chromium-codecs-ffmpeg-extra amd64 87.0.4280.66-0ubuntu0.18.04.1 [1,122 kB]\n",
            "Get:2 http://archive.ubuntu.com/ubuntu bionic-updates/universe amd64 chromium-browser amd64 87.0.4280.66-0ubuntu0.18.04.1 [71.7 MB]\n",
            "Get:3 http://archive.ubuntu.com/ubuntu bionic-updates/universe amd64 chromium-browser-l10n all 87.0.4280.66-0ubuntu0.18.04.1 [3,716 kB]\n",
            "Get:4 http://archive.ubuntu.com/ubuntu bionic-updates/universe amd64 chromium-chromedriver amd64 87.0.4280.66-0ubuntu0.18.04.1 [4,488 kB]\n",
            "Fetched 81.0 MB in 4s (19.1 MB/s)\n",
            "Selecting previously unselected package chromium-codecs-ffmpeg-extra.\n",
            "(Reading database ... 145480 files and directories currently installed.)\n",
            "Preparing to unpack .../chromium-codecs-ffmpeg-extra_87.0.4280.66-0ubuntu0.18.04.1_amd64.deb ...\n",
            "Unpacking chromium-codecs-ffmpeg-extra (87.0.4280.66-0ubuntu0.18.04.1) ...\n",
            "Selecting previously unselected package chromium-browser.\n",
            "Preparing to unpack .../chromium-browser_87.0.4280.66-0ubuntu0.18.04.1_amd64.deb ...\n",
            "Unpacking chromium-browser (87.0.4280.66-0ubuntu0.18.04.1) ...\n",
            "Selecting previously unselected package chromium-browser-l10n.\n",
            "Preparing to unpack .../chromium-browser-l10n_87.0.4280.66-0ubuntu0.18.04.1_all.deb ...\n",
            "Unpacking chromium-browser-l10n (87.0.4280.66-0ubuntu0.18.04.1) ...\n",
            "Selecting previously unselected package chromium-chromedriver.\n",
            "Preparing to unpack .../chromium-chromedriver_87.0.4280.66-0ubuntu0.18.04.1_amd64.deb ...\n",
            "Unpacking chromium-chromedriver (87.0.4280.66-0ubuntu0.18.04.1) ...\n",
            "Setting up chromium-codecs-ffmpeg-extra (87.0.4280.66-0ubuntu0.18.04.1) ...\n",
            "Setting up chromium-browser (87.0.4280.66-0ubuntu0.18.04.1) ...\n",
            "update-alternatives: using /usr/bin/chromium-browser to provide /usr/bin/x-www-browser (x-www-browser) in auto mode\n",
            "update-alternatives: using /usr/bin/chromium-browser to provide /usr/bin/gnome-www-browser (gnome-www-browser) in auto mode\n",
            "Setting up chromium-chromedriver (87.0.4280.66-0ubuntu0.18.04.1) ...\n",
            "Setting up chromium-browser-l10n (87.0.4280.66-0ubuntu0.18.04.1) ...\n",
            "Processing triggers for hicolor-icon-theme (0.17-2) ...\n",
            "Processing triggers for mime-support (3.60ubuntu1) ...\n",
            "Processing triggers for man-db (2.8.3-2ubuntu0.1) ...\n"
          ],
          "name": "stdout"
        }
      ]
    },
    {
      "cell_type": "code",
      "metadata": {
        "colab": {
          "base_uri": "https://localhost:8080/"
        },
        "id": "P6u4MpKEw_Ha",
        "outputId": "54150eb8-6047-47ce-dea2-d670fb5d3d2f"
      },
      "source": [
        "import os\r\n",
        "from selenium import webdriver\r\n",
        "chrome_options = webdriver.ChromeOptions()\r\n",
        "chrome_options.add_argument('--headless') #내부 창을 띄울 수 없으므로 설정\r\n",
        "chrome_options.add_argument('--no-sandbox')\r\n",
        "chrome_options.add_argument('--disable-dev-shm-usage')\r\n",
        "wd = webdriver.Chrome('chromedriver',chrome_options=chrome_options)\r\n",
        "\r\n",
        "wd.get('https://cafe.naver.com/mbticafe#')  #mbti카페\r\n",
        "wd.switch_to.frame('cafe_main')  #카페 메인 아이프레임\r\n",
        "html = wd.page_source  #페이지 소스 가져오기\r\n",
        "#print(html)\r\n",
        "wd.close()\r\n",
        "\r\n",
        "soup = BeautifulSoup(html, \"html.parser\")\r\n",
        "\r\n",
        "title = soup.select('.inner_list')\r\n",
        "\r\n",
        "url_sub = [] # 각 게시물 url 뽑음\r\n",
        "for link in title:\r\n",
        "  # print(link)\r\n",
        "  linkadd = link.find(\"a\")['href']\r\n",
        "  url_sub.append(\"https://cafe.naver.com\" + linkadd)"
      ],
      "execution_count": 35,
      "outputs": [
        {
          "output_type": "stream",
          "text": [
            "/usr/local/lib/python3.6/dist-packages/ipykernel_launcher.py:7: DeprecationWarning: use options instead of chrome_options\n",
            "  import sys\n"
          ],
          "name": "stderr"
        }
      ]
    },
    {
      "cell_type": "code",
      "metadata": {
        "colab": {
          "base_uri": "https://localhost:8080/"
        },
        "id": "gvXu43wJzAYg",
        "outputId": "cb66ec82-89c9-4693-e29f-1696ab4a7251"
      },
      "source": [
        "url_sub"
      ],
      "execution_count": 36,
      "outputs": [
        {
          "output_type": "execute_result",
          "data": {
            "text/plain": [
              "['https://cafe.naver.com/ArticleRead.nhn?clubid=11856775&articleid=402328&referrerAllArticles=true',\n",
              " 'https://cafe.naver.com/ArticleRead.nhn?clubid=11856775&articleid=401665&referrerAllArticles=true',\n",
              " 'https://cafe.naver.com/ArticleRead.nhn?clubid=11856775&articleid=394782&referrerAllArticles=true',\n",
              " 'https://cafe.naver.com/ArticleRead.nhn?clubid=11856775&articleid=392328&referrerAllArticles=true',\n",
              " 'https://cafe.naver.com/ArticleRead.nhn?clubid=11856775&articleid=263744&referrerAllArticles=true',\n",
              " 'https://cafe.naver.com/ArticleRead.nhn?clubid=11856775&articleid=276317&referrerAllArticles=true',\n",
              " 'https://cafe.naver.com/ArticleRead.nhn?clubid=11856775&articleid=390995&referrerAllArticles=true',\n",
              " 'https://cafe.naver.com/ArticleRead.nhn?clubid=11856775&articleid=375298&referrerAllArticles=true',\n",
              " 'https://cafe.naver.com/ArticleRead.nhn?clubid=11856775&articleid=187179&referrerAllArticles=true',\n",
              " 'https://cafe.naver.com/ArticleRead.nhn?clubid=11856775&articleid=364760&referrerAllArticles=true',\n",
              " 'https://cafe.naver.com/ArticleRead.nhn?clubid=11856775&articleid=324360&referrerAllArticles=true',\n",
              " 'https://cafe.naver.com/ArticleRead.nhn?clubid=11856775&articleid=321311&referrerAllArticles=true',\n",
              " 'https://cafe.naver.com/ArticleRead.nhn?clubid=11856775&articleid=262897&referrerAllArticles=true',\n",
              " 'https://cafe.naver.com/ArticleRead.nhn?clubid=11856775&articleid=262768&referrerAllArticles=true',\n",
              " 'https://cafe.naver.com/ArticleRead.nhn?clubid=11856775&articleid=402574&referrerAllArticles=true',\n",
              " 'https://cafe.naver.com/ArticleRead.nhn?clubid=11856775&articleid=402573&referrerAllArticles=true',\n",
              " 'https://cafe.naver.com/ArticleRead.nhn?clubid=11856775&articleid=402572&referrerAllArticles=true',\n",
              " 'https://cafe.naver.com/ArticleRead.nhn?clubid=11856775&articleid=402571&referrerAllArticles=true',\n",
              " 'https://cafe.naver.com/ArticleRead.nhn?clubid=11856775&articleid=402570&referrerAllArticles=true',\n",
              " 'https://cafe.naver.com/ArticleRead.nhn?clubid=11856775&articleid=402569&referrerAllArticles=true',\n",
              " 'https://cafe.naver.com/ArticleRead.nhn?clubid=11856775&articleid=402568&referrerAllArticles=true',\n",
              " 'https://cafe.naver.com/ArticleRead.nhn?clubid=11856775&articleid=402567&referrerAllArticles=true',\n",
              " 'https://cafe.naver.com/ArticleRead.nhn?clubid=11856775&articleid=402566&referrerAllArticles=true',\n",
              " 'https://cafe.naver.com/ArticleRead.nhn?clubid=11856775&articleid=402565&referrerAllArticles=true',\n",
              " 'https://cafe.naver.com/ArticleRead.nhn?clubid=11856775&articleid=402564&referrerAllArticles=true',\n",
              " 'https://cafe.naver.com/ArticleRead.nhn?clubid=11856775&articleid=402563&referrerAllArticles=true']"
            ]
          },
          "metadata": {
            "tags": []
          },
          "execution_count": 36
        }
      ]
    },
    {
      "cell_type": "code",
      "metadata": {
        "colab": {
          "base_uri": "https://localhost:8080/"
        },
        "id": "kwncvc78zFRg",
        "outputId": "834949e4-c881-4e5f-a462-63909ca8da91"
      },
      "source": [
        "chrome_options = webdriver.ChromeOptions()\r\n",
        "chrome_options.add_argument('--headless') #내부 창을 띄울 수 없으므로 설정\r\n",
        "chrome_options.add_argument('--no-sandbox')\r\n",
        "chrome_options.add_argument('--disable-dev-shm-usage')\r\n",
        "wd = webdriver.Chrome('chromedriver',chrome_options=chrome_options)"
      ],
      "execution_count": 37,
      "outputs": [
        {
          "output_type": "stream",
          "text": [
            "/usr/local/lib/python3.6/dist-packages/ipykernel_launcher.py:5: DeprecationWarning: use options instead of chrome_options\n",
            "  \"\"\"\n"
          ],
          "name": "stderr"
        }
      ]
    },
    {
      "cell_type": "code",
      "metadata": {
        "id": "wFXN9DcHxlHE"
      },
      "source": [
        "#카페로 이동\r\n",
        "wd.get(url_sub[18])"
      ],
      "execution_count": 42,
      "outputs": []
    },
    {
      "cell_type": "code",
      "metadata": {
        "id": "qQBy25SVyXHg"
      },
      "source": [
        "wd.switch_to.frame('cafe_main')"
      ],
      "execution_count": 43,
      "outputs": []
    },
    {
      "cell_type": "code",
      "metadata": {
        "id": "dNLgVU7VzK5E"
      },
      "source": [
        "from bs4 import BeautifulSoup as bs\r\n",
        "\r\n",
        "soup = bs(wd.page_source, 'html.parser')"
      ],
      "execution_count": 44,
      "outputs": []
    },
    {
      "cell_type": "code",
      "metadata": {
        "id": "__-0eB6bzMpQ"
      },
      "source": [
        "contentArea = soup.find('div', {'class':'se-module se-module-text'})\r\n",
        "parags = contentArea.findAll('p')\r\n",
        "\r\n",
        "content = \"\"\r\n",
        "for parag in parags:\r\n",
        "    content += parag.text.replace('&nbsp;', '') + '\\n'"
      ],
      "execution_count": 45,
      "outputs": []
    },
    {
      "cell_type": "code",
      "metadata": {
        "colab": {
          "base_uri": "https://localhost:8080/",
          "height": 88
        },
        "id": "xp0Ah0rWzPGq",
        "outputId": "c7193633-a984-4fd4-eae1-4d3652b92a9b"
      },
      "source": [
        "content"
      ],
      "execution_count": 46,
      "outputs": [
        {
          "output_type": "execute_result",
          "data": {
            "application/vnd.google.colaboratory.intrinsic+json": {
              "type": "string"
            },
            "text/plain": [
              "'고민이있으면 새벽에 올리게되네요\\n제가 30살인데 연상이 찝적거렸는데 일단 외모가 제타입이 아니더라구요.... 그리고 연하는 끌리는 남자많은데 사귄다해도 결혼을 못하잖아요..  걔네는 결혼하려면 한참걸리고 왠지 결혼은 나랑은 안할거같고😭 (20대때 연하사겨본적 몇번 있어요)\\n이도저도 아니면 어쩌죠?흐흑\\n'"
            ]
          },
          "metadata": {
            "tags": []
          },
          "execution_count": 46
        }
      ]
    },
    {
      "cell_type": "code",
      "metadata": {
        "id": "E8DedhoLz89F"
      },
      "source": [
        ""
      ],
      "execution_count": null,
      "outputs": []
    }
  ]
}