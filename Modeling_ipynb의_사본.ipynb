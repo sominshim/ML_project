{
  "nbformat": 4,
  "nbformat_minor": 0,
  "metadata": {
    "colab": {
      "name": "Modeling.ipynb의 사본",
      "provenance": [],
      "collapsed_sections": [],
      "authorship_tag": "ABX9TyOnwZf2Pzkzn7lafJbY9CCu",
      "include_colab_link": true
    },
    "kernelspec": {
      "name": "python3",
      "display_name": "Python 3"
    },
    "accelerator": "TPU"
  },
  "cells": [
    {
      "cell_type": "markdown",
      "metadata": {
        "id": "view-in-github",
        "colab_type": "text"
      },
      "source": [
        "<a href=\"https://colab.research.google.com/github/sominshim/Predicting_Personality_through_Text/blob/somin/Modeling_ipynb%EC%9D%98_%EC%82%AC%EB%B3%B8.ipynb\" target=\"_parent\"><img src=\"https://colab.research.google.com/assets/colab-badge.svg\" alt=\"Open In Colab\"/></a>"
      ]
    },
    {
      "cell_type": "code",
      "metadata": {
        "id": "VGiyWu1dJURX",
        "colab": {
          "base_uri": "https://localhost:8080/"
        },
        "outputId": "574f3267-3e10-4d58-b2d7-315ace3be6df"
      },
      "source": [
        "import tensorflow as tf\n",
        "# !pip install tensorflow-hub\n",
        "# !pip install tfds-nightly\n",
        "import tensorflow_hub as hub\n",
        "import tensorflow_datasets as tfds\n",
        "\n",
        "print(\"버전: \", tf.__version__)\n",
        "print(\"즉시 실행 모드: \", tf.executing_eagerly())\n",
        "print(\"허브 버전: \", hub.__version__)\n",
        "print(\"GPU\", \"사용 가능\" if tf.config.experimental.list_physical_devices(\"GPU\") else \"사용 불가능\")"
      ],
      "execution_count": 1,
      "outputs": [
        {
          "output_type": "stream",
          "text": [
            "버전:  2.3.0\n",
            "즉시 실행 모드:  True\n",
            "허브 버전:  0.10.0\n",
            "GPU 사용 불가능\n"
          ],
          "name": "stdout"
        }
      ]
    },
    {
      "cell_type": "code",
      "metadata": {
        "id": "cucm7taXSKiR"
      },
      "source": [
        "# import module\n",
        "import io\n",
        "import pandas as pd\n",
        "\n",
        "import pandas as pd\n",
        "import numpy as np\n",
        "import matplotlib.pyplot as plt\n",
        "import seaborn as sns\n",
        "from sklearn.model_selection import train_test_split\n",
        "from sklearn.preprocessing import LabelEncoder\n",
        "from keras.preprocessing.text import Tokenizer\n",
        "from keras.models import Model\n",
        "from keras.layers import LSTM, Activation, Dense, Dropout, Input, Embedding\n",
        "from keras.optimizers import RMSprop\n",
        "from keras.preprocessing import sequence\n",
        "from keras.utils import to_categorical\n",
        "from keras.callbacks import EarlyStopping\n",
        "%matplotlib inline\n",
        "\n",
        "np.random.seed(42)"
      ],
      "execution_count": 2,
      "outputs": []
    },
    {
      "cell_type": "code",
      "metadata": {
        "id": "b-JmVkorJ26t"
      },
      "source": [
        "from sklearn.feature_extraction.text import TfidfVectorizer\n",
        "from tensorflow.keras.preprocessing.sequence import pad_sequences\n",
        "from tensorflow.keras.preprocessing.text import Tokenizer\n",
        "\n",
        "from sklearn import model_selection\n",
        "from sklearn.naive_bayes import MultinomialNB\n",
        "from sklearn import metrics\n",
        "from sklearn.model_selection import train_test_split\n",
        "from sklearn.metrics import accuracy_score\n",
        "from sklearn.multiclass import OneVsRestClassifier\n",
        "from sklearn.svm import LinearSVC, SVC\n",
        "from sklearn.linear_model import LogisticRegression\n",
        "from sklearn.pipeline import Pipeline"
      ],
      "execution_count": 3,
      "outputs": []
    },
    {
      "cell_type": "code",
      "metadata": {
        "id": "ztOknNLtSR_Y",
        "colab": {
          "base_uri": "https://localhost:8080/"
        },
        "outputId": "f4f697cc-d5f8-4a3d-865e-6f8e151f12b0"
      },
      "source": [
        "#드라이브에 접근할 수 있도록 아래 코드 입력\n",
        "from google.colab import drive\n",
        "drive.mount('/content/drive')"
      ],
      "execution_count": 5,
      "outputs": [
        {
          "output_type": "stream",
          "text": [
            "Mounted at /content/drive\n"
          ],
          "name": "stdout"
        }
      ]
    },
    {
      "cell_type": "code",
      "metadata": {
        "id": "lard_QtBSVzW"
      },
      "source": [
        "#불러올 파일의 경로를 filename 변수에 저장\n",
        "filename = '/content/drive/My Drive/mbti_1.csv'"
      ],
      "execution_count": 6,
      "outputs": []
    },
    {
      "cell_type": "code",
      "metadata": {
        "id": "UnSasudoSWpy",
        "colab": {
          "base_uri": "https://localhost:8080/",
          "height": 204
        },
        "outputId": "d1919384-da5a-4a8e-d137-0461c1f901c1"
      },
      "source": [
        "#pandas read_csv로 불러오기\n",
        "data = pd.read_csv(filename)\n",
        "data.head()"
      ],
      "execution_count": 7,
      "outputs": [
        {
          "output_type": "execute_result",
          "data": {
            "text/html": [
              "<div>\n",
              "<style scoped>\n",
              "    .dataframe tbody tr th:only-of-type {\n",
              "        vertical-align: middle;\n",
              "    }\n",
              "\n",
              "    .dataframe tbody tr th {\n",
              "        vertical-align: top;\n",
              "    }\n",
              "\n",
              "    .dataframe thead th {\n",
              "        text-align: right;\n",
              "    }\n",
              "</style>\n",
              "<table border=\"1\" class=\"dataframe\">\n",
              "  <thead>\n",
              "    <tr style=\"text-align: right;\">\n",
              "      <th></th>\n",
              "      <th>type</th>\n",
              "      <th>posts</th>\n",
              "    </tr>\n",
              "  </thead>\n",
              "  <tbody>\n",
              "    <tr>\n",
              "      <th>0</th>\n",
              "      <td>INFJ</td>\n",
              "      <td>'http://www.youtube.com/watch?v=qsXHcwe3krw|||...</td>\n",
              "    </tr>\n",
              "    <tr>\n",
              "      <th>1</th>\n",
              "      <td>ENTP</td>\n",
              "      <td>'I'm finding the lack of me in these posts ver...</td>\n",
              "    </tr>\n",
              "    <tr>\n",
              "      <th>2</th>\n",
              "      <td>INTP</td>\n",
              "      <td>'Good one  _____   https://www.youtube.com/wat...</td>\n",
              "    </tr>\n",
              "    <tr>\n",
              "      <th>3</th>\n",
              "      <td>INTJ</td>\n",
              "      <td>'Dear INTP,   I enjoyed our conversation the o...</td>\n",
              "    </tr>\n",
              "    <tr>\n",
              "      <th>4</th>\n",
              "      <td>ENTJ</td>\n",
              "      <td>'You're fired.|||That's another silly misconce...</td>\n",
              "    </tr>\n",
              "  </tbody>\n",
              "</table>\n",
              "</div>"
            ],
            "text/plain": [
              "   type                                              posts\n",
              "0  INFJ  'http://www.youtube.com/watch?v=qsXHcwe3krw|||...\n",
              "1  ENTP  'I'm finding the lack of me in these posts ver...\n",
              "2  INTP  'Good one  _____   https://www.youtube.com/wat...\n",
              "3  INTJ  'Dear INTP,   I enjoyed our conversation the o...\n",
              "4  ENTJ  'You're fired.|||That's another silly misconce..."
            ]
          },
          "metadata": {
            "tags": []
          },
          "execution_count": 7
        }
      ]
    },
    {
      "cell_type": "code",
      "metadata": {
        "id": "oQA0x7bVDpzo",
        "colab": {
          "base_uri": "https://localhost:8080/",
          "height": 338
        },
        "outputId": "9b3a2708-0a81-4518-b304-ff0d151621e5"
      },
      "source": [
        "cnt_types = data['type'].value_counts()\n",
        "\n",
        "plt.figure(figsize=(12,4))\n",
        "sns.barplot(cnt_types.index, cnt_types.values, alpha=0.8)\n",
        "plt.ylabel('Number of Occurrences', fontsize=12)\n",
        "plt.xlabel('Types', fontsize=12)\n",
        "plt.show()"
      ],
      "execution_count": 8,
      "outputs": [
        {
          "output_type": "stream",
          "text": [
            "/usr/local/lib/python3.6/dist-packages/seaborn/_decorators.py:43: FutureWarning: Pass the following variables as keyword args: x, y. From version 0.12, the only valid positional argument will be `data`, and passing other arguments without an explicit keyword will result in an error or misinterpretation.\n",
            "  FutureWarning\n"
          ],
          "name": "stderr"
        },
        {
          "output_type": "display_data",
          "data": {
            "image/png": "[encoded data removed]",
            "text/plain": [
              "<Figure size 864x288 with 1 Axes>"
            ]
          },
          "metadata": {
            "tags": [],
            "needs_background": "light"
          }
        }
      ]
    },
    {
      "cell_type": "code",
      "metadata": {
        "id": "CUF2Ue3jHwr-",
        "colab": {
          "base_uri": "https://localhost:8080/",
          "height": 204
        },
        "outputId": "bd6d0da7-379e-43a0-ab3f-3a4eef614526"
      },
      "source": [
        "data.head()"
      ],
      "execution_count": 9,
      "outputs": [
        {
          "output_type": "execute_result",
          "data": {
            "text/html": [
              "<div>\n",
              "<style scoped>\n",
              "    .dataframe tbody tr th:only-of-type {\n",
              "        vertical-align: middle;\n",
              "    }\n",
              "\n",
              "    .dataframe tbody tr th {\n",
              "        vertical-align: top;\n",
              "    }\n",
              "\n",
              "    .dataframe thead th {\n",
              "        text-align: right;\n",
              "    }\n",
              "</style>\n",
              "<table border=\"1\" class=\"dataframe\">\n",
              "  <thead>\n",
              "    <tr style=\"text-align: right;\">\n",
              "      <th></th>\n",
              "      <th>type</th>\n",
              "      <th>posts</th>\n",
              "    </tr>\n",
              "  </thead>\n",
              "  <tbody>\n",
              "    <tr>\n",
              "      <th>0</th>\n",
              "      <td>INFJ</td>\n",
              "      <td>'http://www.youtube.com/watch?v=qsXHcwe3krw|||...</td>\n",
              "    </tr>\n",
              "    <tr>\n",
              "      <th>1</th>\n",
              "      <td>ENTP</td>\n",
              "      <td>'I'm finding the lack of me in these posts ver...</td>\n",
              "    </tr>\n",
              "    <tr>\n",
              "      <th>2</th>\n",
              "      <td>INTP</td>\n",
              "      <td>'Good one  _____   https://www.youtube.com/wat...</td>\n",
              "    </tr>\n",
              "    <tr>\n",
              "      <th>3</th>\n",
              "      <td>INTJ</td>\n",
              "      <td>'Dear INTP,   I enjoyed our conversation the o...</td>\n",
              "    </tr>\n",
              "    <tr>\n",
              "      <th>4</th>\n",
              "      <td>ENTJ</td>\n",
              "      <td>'You're fired.|||That's another silly misconce...</td>\n",
              "    </tr>\n",
              "  </tbody>\n",
              "</table>\n",
              "</div>"
            ],
            "text/plain": [
              "   type                                              posts\n",
              "0  INFJ  'http://www.youtube.com/watch?v=qsXHcwe3krw|||...\n",
              "1  ENTP  'I'm finding the lack of me in these posts ver...\n",
              "2  INTP  'Good one  _____   https://www.youtube.com/wat...\n",
              "3  INTJ  'Dear INTP,   I enjoyed our conversation the o...\n",
              "4  ENTJ  'You're fired.|||That's another silly misconce..."
            ]
          },
          "metadata": {
            "tags": []
          },
          "execution_count": 9
        }
      ]
    },
    {
      "cell_type": "code",
      "metadata": {
        "id": "kb0vareyUpuh",
        "colab": {
          "base_uri": "https://localhost:8080/"
        },
        "outputId": "f56fbb54-d97b-4fef-9be8-3a9f8a46841f"
      },
      "source": [
        "# Split mbti personality into 4 letters and binarize\n",
        "titles = [\"Extraversion (E) - Introversion (I)\",\n",
        "          \"Sensation (S) - INtuition (N)\",\n",
        "          \"Thinking (T) - Feeling (F)\",\n",
        "          \"Judgement (J) - Perception (P)\"\n",
        "         ] \n",
        "b_Pers = {'E':0, 'I':1, 'S':0, 'N':1, 'T':0, 'F':1, 'J':0, 'P':1}\n",
        "b_Pers_list = [{'E':0, 'I':1}, {'S':0, 'N':1}, {'T':0, 'F':1}, {'J':0, 'P':1}]\n",
        "\n",
        "#transform mbti to binary vector\n",
        "def translate_personality(personality):\n",
        "    return [b_Pers[l] for l in personality]\n",
        "\n",
        "#transform binary vector to mbti personality\n",
        "def translate_back(personality):\n",
        "    s = \"\"\n",
        "    for i, l in enumerate(personality):\n",
        "        s += b_Pers_list[i][l]\n",
        "    return s\n",
        "\n",
        "list_personality_bin = np.array([translate_personality(p) for p in data.type])\n",
        "print(\"Binarize MBTI list: \\n%s\" % list_personality_bin)"
      ],
      "execution_count": 10,
      "outputs": [
        {
          "output_type": "stream",
          "text": [
            "Binarize MBTI list: \n",
            "[[1 1 1 0]\n",
            " [0 1 0 1]\n",
            " [1 1 0 1]\n",
            " ...\n",
            " [1 1 0 1]\n",
            " [1 1 1 1]\n",
            " [1 1 1 1]]\n"
          ],
          "name": "stdout"
        }
      ]
    },
    {
      "cell_type": "code",
      "metadata": {
        "id": "iiNzG8I8UrqR"
      },
      "source": [
        "data['E-I'] = list_personality_bin[:,0]\n",
        "data['S-N'] = list_personality_bin[:,1]\n",
        "data['T-F'] = list_personality_bin[:,2]\n",
        "data['J-P'] = list_personality_bin[:,3]"
      ],
      "execution_count": 11,
      "outputs": []
    },
    {
      "cell_type": "code",
      "metadata": {
        "id": "V4PQPwXrUuTK",
        "colab": {
          "base_uri": "https://localhost:8080/",
          "height": 204
        },
        "outputId": "f1def298-10ae-4a7d-8a68-0ddf41afa39a"
      },
      "source": [
        "data.head()"
      ],
      "execution_count": 12,
      "outputs": [
        {
          "output_type": "execute_result",
          "data": {
            "text/html": [
              "<div>\n",
              "<style scoped>\n",
              "    .dataframe tbody tr th:only-of-type {\n",
              "        vertical-align: middle;\n",
              "    }\n",
              "\n",
              "    .dataframe tbody tr th {\n",
              "        vertical-align: top;\n",
              "    }\n",
              "\n",
              "    .dataframe thead th {\n",
              "        text-align: right;\n",
              "    }\n",
              "</style>\n",
              "<table border=\"1\" class=\"dataframe\">\n",
              "  <thead>\n",
              "    <tr style=\"text-align: right;\">\n",
              "      <th></th>\n",
              "      <th>type</th>\n",
              "      <th>posts</th>\n",
              "      <th>E-I</th>\n",
              "      <th>S-N</th>\n",
              "      <th>T-F</th>\n",
              "      <th>J-P</th>\n",
              "    </tr>\n",
              "  </thead>\n",
              "  <tbody>\n",
              "    <tr>\n",
              "      <th>0</th>\n",
              "      <td>INFJ</td>\n",
              "      <td>'http://www.youtube.com/watch?v=qsXHcwe3krw|||...</td>\n",
              "      <td>1</td>\n",
              "      <td>1</td>\n",
              "      <td>1</td>\n",
              "      <td>0</td>\n",
              "    </tr>\n",
              "    <tr>\n",
              "      <th>1</th>\n",
              "      <td>ENTP</td>\n",
              "      <td>'I'm finding the lack of me in these posts ver...</td>\n",
              "      <td>0</td>\n",
              "      <td>1</td>\n",
              "      <td>0</td>\n",
              "      <td>1</td>\n",
              "    </tr>\n",
              "    <tr>\n",
              "      <th>2</th>\n",
              "      <td>INTP</td>\n",
              "      <td>'Good one  _____   https://www.youtube.com/wat...</td>\n",
              "      <td>1</td>\n",
              "      <td>1</td>\n",
              "      <td>0</td>\n",
              "      <td>1</td>\n",
              "    </tr>\n",
              "    <tr>\n",
              "      <th>3</th>\n",
              "      <td>INTJ</td>\n",
              "      <td>'Dear INTP,   I enjoyed our conversation the o...</td>\n",
              "      <td>1</td>\n",
              "      <td>1</td>\n",
              "      <td>0</td>\n",
              "      <td>0</td>\n",
              "    </tr>\n",
              "    <tr>\n",
              "      <th>4</th>\n",
              "      <td>ENTJ</td>\n",
              "      <td>'You're fired.|||That's another silly misconce...</td>\n",
              "      <td>0</td>\n",
              "      <td>1</td>\n",
              "      <td>0</td>\n",
              "      <td>0</td>\n",
              "    </tr>\n",
              "  </tbody>\n",
              "</table>\n",
              "</div>"
            ],
            "text/plain": [
              "   type                                              posts  E-I  S-N  T-F  J-P\n",
              "0  INFJ  'http://www.youtube.com/watch?v=qsXHcwe3krw|||...    1    1    1    0\n",
              "1  ENTP  'I'm finding the lack of me in these posts ver...    0    1    0    1\n",
              "2  INTP  'Good one  _____   https://www.youtube.com/wat...    1    1    0    1\n",
              "3  INTJ  'Dear INTP,   I enjoyed our conversation the o...    1    1    0    0\n",
              "4  ENTJ  'You're fired.|||That's another silly misconce...    0    1    0    0"
            ]
          },
          "metadata": {
            "tags": []
          },
          "execution_count": 12
        }
      ]
    },
    {
      "cell_type": "code",
      "metadata": {
        "colab": {
          "base_uri": "https://localhost:8080/",
          "height": 281
        },
        "id": "nTb7uj0BgP6d",
        "outputId": "0262b363-a4c7-4dfe-f5d4-9977bfe5d1d3"
      },
      "source": [
        "N = 4\n",
        "but = (data['E-I'].value_counts()[0], data['S-N'].value_counts()[0], data['T-F'].value_counts()[0], data['J-P'].value_counts()[0])\n",
        "top = (data['E-I'].value_counts()[1], data['S-N'].value_counts()[1], data['T-F'].value_counts()[1], data['J-P'].value_counts()[1])\n",
        "\n",
        "ind = np.arange(N)    \n",
        "width = 0.7      \n",
        "\n",
        "p1 = plt.bar(ind, but, width)\n",
        "p2 = plt.bar(ind, top, width, bottom=but)\n",
        "\n",
        "plt.ylabel('Count')\n",
        "plt.title('Distribution accoss types indicators')\n",
        "plt.xticks(ind, ('E/I',  'S/N', 'T/F', 'J/P',))\n",
        "\n",
        "plt.show()"
      ],
      "execution_count": 13,
      "outputs": [
        {
          "output_type": "display_data",
          "data": {
            "image/png": "[encoded data removed]",
            "text/plain": [
              "<Figure size 432x288 with 1 Axes>"
            ]
          },
          "metadata": {
            "tags": [],
            "needs_background": "light"
          }
        }
      ]
    },
    {
      "cell_type": "code",
      "metadata": {
        "colab": {
          "base_uri": "https://localhost:8080/"
        },
        "id": "KRaTH68xgrK8",
        "outputId": "53e27c96-5d93-4e13-8b8d-a7bd22687ead"
      },
      "source": [
        "print (\"Introversion (I) /  Extroversion (E):\\t\", data['E-I'].value_counts()[0], \" / \", data['E-I'].value_counts()[1])\n",
        "print (\"Intuition (N) – Sensing (S):\\t\\t\", data['S-N'].value_counts()[0], \" / \", data['S-N'].value_counts()[1])\n",
        "print (\"Thinking (T) – Feeling (F):\\t\\t\", data['T-F'].value_counts()[0], \" / \", data['T-F'].value_counts()[1])\n",
        "print (\"Judging (J) – Perceiving (P):\\t\\t\", data['J-P'].value_counts()[0], \" / \", data['J-P'].value_counts()[1])"
      ],
      "execution_count": 16,
      "outputs": [
        {
          "output_type": "stream",
          "text": [
            "Introversion (I) /  Extroversion (E):\t 1999  /  6676\n",
            "Intuition (N) – Sensing (S):\t\t 1197  /  7478\n",
            "Thinking (T) – Feeling (F):\t\t 3981  /  4694\n",
            "Judging (J) – Perceiving (P):\t\t 3434  /  5241\n"
          ],
          "name": "stdout"
        }
      ]
    },
    {
      "cell_type": "markdown",
      "metadata": {
        "id": "IDurCxSWNk7A"
      },
      "source": [
        "## 데이터 전처리"
      ]
    },
    {
      "cell_type": "code",
      "metadata": {
        "id": "ovgkkvPBNkmk"
      },
      "source": [
        "from sklearn.preprocessing import LabelBinarizer\n",
        "import re\n",
        "import string"
      ],
      "execution_count": 18,
      "outputs": []
    },
    {
      "cell_type": "code",
      "metadata": {
        "id": "uCGryo5ANPMZ"
      },
      "source": [
        "contraction_patterns = [ (r'won\\'t', 'will not'), (r'can\\'t', 'cannot'), (r'I\\'m', 'I am'),(r'i\\'m', 'i am'), (r'ain\\'t', 'is not'), (r'(\\w+)\\'ll', '\\g<1> will'), (r'(\\w+)n\\'t', '\\g<1> not'),\n",
        "                         (r'(\\w+)\\'ve', '\\g<1> have'), (r'(\\w+)\\'s', '\\g<1> is'), (r'(\\w+)\\'re', '\\g<1> are'), (r'(\\w+)\\'d', '\\g<1> would'), (r'&', 'and'), (r'dammit', 'damn it'), (r'dont', 'do not'), (r'wont', 'will not') ]\n",
        "def replace(text):\n",
        "    patterns = [(re.compile(regex), repl) for (regex, repl) in contraction_patterns]\n",
        "    for (pattern, repl) in patterns:\n",
        "        (text, count) = re.subn(pattern, repl, text)\n",
        "    return text\n",
        "\n",
        "text_replace = pd.DataFrame(columns=['TextBefore', 'TextAfter'])\n",
        "text_replace['TextBefore'] = data['posts'].copy()"
      ],
      "execution_count": 19,
      "outputs": []
    },
    {
      "cell_type": "code",
      "metadata": {
        "id": "x7jIlt_qNSYA"
      },
      "source": [
        "for index, row in text_replace.iterrows():\n",
        "    row['TextAfter'] = replace(row['TextBefore'])"
      ],
      "execution_count": 20,
      "outputs": []
    },
    {
      "cell_type": "code",
      "metadata": {
        "id": "foV233_qNulG",
        "colab": {
          "base_uri": "https://localhost:8080/"
        },
        "outputId": "c5f88a16-fd26-4b65-bdf8-68492f627d25"
      },
      "source": [
        "print(text_replace['TextBefore'][:5],'\\n->\\n', text_replace['TextAfter'][:5])"
      ],
      "execution_count": 21,
      "outputs": [
        {
          "output_type": "stream",
          "text": [
            "0    'http://www.youtube.com/watch?v=qsXHcwe3krw|||...\n",
            "1    'I'm finding the lack of me in these posts ver...\n",
            "2    'Good one  _____   https://www.youtube.com/wat...\n",
            "3    'Dear INTP,   I enjoyed our conversation the o...\n",
            "4    'You're fired.|||That's another silly misconce...\n",
            "Name: TextBefore, dtype: object \n",
            "->\n",
            " 0    'http://www.youtube.com/watch?v=qsXHcwe3krw|||...\n",
            "1    'I am finding the lack of me in these posts ve...\n",
            "2    'Good one  _____   https://www.youtube.com/wat...\n",
            "3    'Dear INTP,   I enjoyed our conversation the o...\n",
            "4    'You are fired.|||That is another silly miscon...\n",
            "Name: TextAfter, dtype: object\n"
          ],
          "name": "stdout"
        }
      ]
    },
    {
      "cell_type": "markdown",
      "metadata": {
        "id": "I8bSHiUoPqxN"
      },
      "source": [
        "### 특수문자 제거"
      ]
    },
    {
      "cell_type": "code",
      "metadata": {
        "id": "tSpK8JSxSc9y"
      },
      "source": [
        "def cleaner(post):\n",
        "    # 소문자 변환\n",
        "    post = post.lower() \n",
        "    \n",
        "    # '|||' 제거\n",
        "    post = post.replace('|||', \"\") \n",
        "\n",
        "    # URL, 링크 등 특수문자 제거\n",
        "    post = re.sub(r'''(?i)\\b((?:https?://|www\\d{0,3}[.]|[a-z0-9.\\-]+[.][a-z]{2,4}/)(?:[^\\s()<>]+|\\(([^\\s()<>]+|(\\([^\\s()<>]+\\)))*\\))+(?:\\(([^\\s()<>]+|(\\([^\\s()<>]+\\)))*\\)|[^\\s`!()\\[\\]{};:'\".,<>?«»“”‘’]))''', '', post, flags=re.MULTILINE) \n",
        "\n",
        "    # 구두점 제거\n",
        "    post = post.translate(str.maketrans('', '', string.punctuation))\n",
        "\n",
        "    # 공백 제거\n",
        "    post = re.sub( '\\s+', ' ', post ).strip()\n",
        "\n",
        "    # MBTI 제거\n",
        "    post = re.sub('infj|entp|intp|intj|entj|enfj|infp|enfp|isfp|istp|isfj|istj|estp|esfp|estj|esfj',\"\", post)\n",
        "\n",
        "    # 길이가 짧은 단어 제거\n",
        "    shortword = re.compile(r'\\W*\\b\\w{1,2}\\b')\n",
        "    post = shortword.sub('', post)\n",
        "    \n",
        "    return post"
      ],
      "execution_count": 22,
      "outputs": []
    },
    {
      "cell_type": "code",
      "metadata": {
        "id": "-YAC-_VRLCqM"
      },
      "source": [
        "posts = text_replace.TextAfter.tolist()\n",
        "posts = [cleaner(post) for post in posts]\n",
        "data['clean_post'] = posts"
      ],
      "execution_count": 23,
      "outputs": []
    },
    {
      "cell_type": "code",
      "metadata": {
        "id": "5yfNWVJGQNaE",
        "colab": {
          "base_uri": "https://localhost:8080/"
        },
        "outputId": "a3362dc9-fdcc-4630-e990-8081c11cc00d"
      },
      "source": [
        "print(text_replace['TextAfter'][:5],'\\n->\\n', data['clean_post'][:5])"
      ],
      "execution_count": 24,
      "outputs": [
        {
          "output_type": "stream",
          "text": [
            "0    'http://www.youtube.com/watch?v=qsXHcwe3krw|||...\n",
            "1    'I am finding the lack of me in these posts ve...\n",
            "2    'Good one  _____   https://www.youtube.com/wat...\n",
            "3    'Dear INTP,   I enjoyed our conversation the o...\n",
            "4    'You are fired.|||That is another silly miscon...\n",
            "Name: TextAfter, dtype: object \n",
            "->\n",
            " 0    and  moments sportscenter not top ten plays pr...\n",
            "1     finding the lack these posts very alarmingsex...\n",
            "2    good one course which say know that blessing a...\n",
            "3    dear enjoyed our conversation the other day es...\n",
            "4    you are firedthat another silly misconception ...\n",
            "Name: clean_post, dtype: object\n"
          ],
          "name": "stdout"
        }
      ]
    },
    {
      "cell_type": "markdown",
      "metadata": {
        "id": "KwmJfpNRO8Dg"
      },
      "source": [
        "### Remove Stopwords\n"
      ]
    },
    {
      "cell_type": "code",
      "metadata": {
        "id": "Up3Hhy0iI6qw",
        "colab": {
          "base_uri": "https://localhost:8080/"
        },
        "outputId": "c321a4b5-c4d1-446e-bf2e-c9b76a1703a7"
      },
      "source": [
        "# Remove Stopwords\n",
        "import nltk\n",
        "nltk.download('stopwords')\n",
        "nltk.download('wordnet')\n",
        "\n",
        "from nltk.corpus import stopwords\n",
        "stoplist = stopwords.words('english')\n",
        "\n",
        "from nltk.stem import WordNetLemmatizer, PorterStemmer\n",
        "\n",
        "n=WordNetLemmatizer()\n",
        "s = PorterStemmer()\n",
        "\n",
        "def tokenize(text):\n",
        "    finalTokens = []\n",
        "    tokens = nltk.word_tokenize(text)\n",
        "    for w in tokens:\n",
        "        if (w not in stoplist):\n",
        "            finalTokens.append(w)\n",
        "    lem  = [n.lemmatize(w) for w in finalTokens]\n",
        "    stem = [s.stem(w) for w in lem]\n",
        "    text = \" \".join(stem)\n",
        "\n",
        "    return text"
      ],
      "execution_count": 25,
      "outputs": [
        {
          "output_type": "stream",
          "text": [
            "[nltk_data] Downloading package stopwords to /root/nltk_data...\n",
            "[nltk_data]   Unzipping corpora/stopwords.zip.\n",
            "[nltk_data] Downloading package wordnet to /root/nltk_data...\n",
            "[nltk_data]   Unzipping corpora/wordnet.zip.\n"
          ],
          "name": "stdout"
        }
      ]
    },
    {
      "cell_type": "code",
      "metadata": {
        "id": "ffhGS_wlKFbv"
      },
      "source": [
        "text_removeStopwords = pd.DataFrame(columns=['TextBefore', 'TextAfter'])\n",
        "text_removeStopwords['TextBefore'] = data['clean_post'].copy()"
      ],
      "execution_count": 26,
      "outputs": []
    },
    {
      "cell_type": "code",
      "metadata": {
        "id": "xTx0f-oAJIZG",
        "colab": {
          "base_uri": "https://localhost:8080/"
        },
        "outputId": "521719a6-fdbd-4a27-db41-2f6fd1d58fe2"
      },
      "source": [
        "nltk.download('punkt')\n",
        "for index, row in text_removeStopwords.iterrows():\n",
        "    row['TextAfter'] = tokenize(row['TextBefore'])\n",
        "\n",
        "data['clean_post'] = text_removeStopwords['TextAfter']\n",
        "print(data['clean_post'][:5],'\\n->\\n',text_removeStopwords['TextAfter'][:5])"
      ],
      "execution_count": 27,
      "outputs": [
        {
          "output_type": "stream",
          "text": [
            "[nltk_data] Downloading package punkt to /root/nltk_data...\n",
            "[nltk_data]   Unzipping tokenizers/punkt.zip.\n",
            "0    moment sportscent top ten play prankswhat life...\n",
            "1    find lack post alarmingsex bore posit often ex...\n",
            "2    good one cours say know bless cursedo absolut ...\n",
            "3    dear enjoy convers day esoter gab natur univer...\n",
            "4    firedthat anoth silli misconcept approach logi...\n",
            "Name: clean_post, dtype: object \n",
            "->\n",
            " 0    moment sportscent top ten play prankswhat life...\n",
            "1    find lack post alarmingsex bore posit often ex...\n",
            "2    good one cours say know bless cursedo absolut ...\n",
            "3    dear enjoy convers day esoter gab natur univer...\n",
            "4    firedthat anoth silli misconcept approach logi...\n",
            "Name: TextAfter, dtype: object\n"
          ],
          "name": "stdout"
        }
      ]
    },
    {
      "cell_type": "markdown",
      "metadata": {
        "id": "odw2tXlNRW_J"
      },
      "source": [
        "### Most frequent mispells -> Correct manually \n",
        "\n"
      ]
    },
    {
      "cell_type": "code",
      "metadata": {
        "id": "oBBvS6GoRWep"
      },
      "source": [
        "mispell_dict = {'colour': 'color', 'centre': 'center', 'favourite': 'favorite', 'travelling': 'traveling', 'counselling': 'counseling', 'theatre': 'theater', 'cancelled': 'canceled', 'labour': 'labor', 'organisation': 'organization', 'wwii': 'world war 2', 'citicise': 'criticize', 'youtu ': 'youtube ', 'Qoura': 'Quora', 'sallary': 'salary', 'Whta': 'What', 'narcisist': 'narcissist', 'howdo': 'how do', 'whatare': 'what are', 'howcan': 'how can', 'howmuch': 'how much', 'howmany': 'how many', 'whydo': 'why do', 'doI': 'do I', 'theBest': 'the best', 'howdoes': 'how does', 'mastrubation': 'masturbation', 'mastrubate': 'masturbate', \"mastrubating\": 'masturbating', 'pennis': 'penis', 'Etherium': 'Ethereum', 'narcissit': 'narcissist', 'bigdata': 'big data', '2k17': '2017', '2k18': '2018', 'qouta': 'quota', 'exboyfriend': 'ex boyfriend', 'airhostess': 'air hostess', \"whst\": 'what', 'watsapp': 'whatsapp', 'demonitisation': 'demonetization', 'demonitization': 'demonetization', 'demonetisation': 'demonetization', 'pokémon': 'pokemon'}\n",
        "def correct_spelling(x, dic):\n",
        "    for word in dic.keys():\n",
        "        x = x.replace(word, dic[word])\n",
        "    return x"
      ],
      "execution_count": 28,
      "outputs": []
    },
    {
      "cell_type": "code",
      "metadata": {
        "id": "seY8_TsoM9H9",
        "colab": {
          "base_uri": "https://localhost:8080/"
        },
        "outputId": "43075cbb-6fd6-4710-a545-84f5563a3883"
      },
      "source": [
        "data['clean_post'] = data['clean_post'].apply(lambda x: correct_spelling(x, mispell_dict))\n",
        "data['clean_post'][:5]"
      ],
      "execution_count": 29,
      "outputs": [
        {
          "output_type": "execute_result",
          "data": {
            "text/plain": [
              "0    moment sportscent top ten play prankswhat life...\n",
              "1    find lack post alarmingsex bore posit often ex...\n",
              "2    good one cours say know bless cursedo absolut ...\n",
              "3    dear enjoy convers day esoter gab natur univer...\n",
              "4    firedthat anoth silli misconcept approach logi...\n",
              "Name: clean_post, dtype: object"
            ]
          },
          "metadata": {
            "tags": []
          },
          "execution_count": 29
        }
      ]
    },
    {
      "cell_type": "markdown",
      "metadata": {
        "id": "LUytP-WyCCSJ"
      },
      "source": [
        "### 따로 벡터화시켜보기"
      ]
    },
    {
      "cell_type": "code",
      "metadata": {
        "colab": {
          "base_uri": "https://localhost:8080/",
          "height": 212
        },
        "id": "48nROEHreKrF",
        "outputId": "e1aa641c-c901-4075-ddeb-0139ea0580a8"
      },
      "source": [
        "data['clean_post'][0]"
      ],
      "execution_count": 25,
      "outputs": [
        {
          "output_type": "execute_result",
          "data": {
            "application/vnd.google.colaboratory.intrinsic+json": {
              "type": "string"
            },
            "text/plain": [
              "'moment sportscent top ten play prankswhat lifechang experi life repeat todaymay perc experi immers youth last thing friend post facebook commit suicid next day rest peac sorri hear distress natur relationship perfect time everi moment exist tri figur hard time time growth as84389 84390 welcom stuff game set matchprozac wellbrutin least thirti minut move leg mean move sit desk chair weed moder mayb tri edibl healthier alternativebas come three item determin type whichev type want would like use given type cognit function whatnot left byall thing moder sim inde video game good one note good one somewhat subject complet promot death given simdear favorit video game grow current favorit video game cool appear late sadther someon everyonewait thought confid good thingi cherish time solitud revel within inner world wherea time would workin enjoy time worri peopl alway around toyo ladi complimentari personalitywel hey main social outlet xbox live convers even verbal fatigu quickli realli dig part 146 250http thread requir meget high backyard roast eat marshmellow backyard convers someth intellectu follow massag kiss mani sentenc could think bban watch movi corner duncesban health class clearli taught noth peer pressureban whole host reason two babi deer left right munch beetl middl use blood two caveman diari today latest happen design cave diari wall see asa pokemon world societi everyon becom optimist49142http artist artist draw idea count form someth like signaturewelcom robot rank person down selfesteem cuz avid signatur artist like proudban take room bed got ta learn share roach much thunder grumbl kind storm yepahh old high school music heard age fail public speak class year ago sort learn could better posit big part failur overload tooi like person mental confirm way denver area start new life'"
            ]
          },
          "metadata": {
            "tags": []
          },
          "execution_count": 25
        }
      ]
    },
    {
      "cell_type": "code",
      "metadata": {
        "colab": {
          "base_uri": "https://localhost:8080/"
        },
        "id": "F7MjIAC3eec_",
        "outputId": "1e8b9916-af4f-49bf-d845-17b1af6b1572"
      },
      "source": [
        "from sklearn.feature_extraction.text import TfidfTransformer\n",
        "from sklearn.feature_extraction.text import CountVectorizer\n",
        "from sklearn.manifold import TSNE\n",
        "\n",
        "cntizer = CountVectorizer(analyzer=\"word\", \n",
        "                             max_features=1500, \n",
        "                             tokenizer=None,    \n",
        "                             preprocessor=None, \n",
        "                             stop_words=None,  \n",
        "#                             ngram_range=(1,1),\n",
        "                             max_df=0.5,\n",
        "                             min_df=0.1) \n",
        "                                 \n",
        "tfizer = TfidfTransformer()\n",
        "\n",
        "print(\"CountVectorizer\")\n",
        "X_cnt = cntizer.fit_transform(data['clean_post'])\n",
        "print(\"Tf-idf\")\n",
        "X_tfidf =  tfizer.fit_transform(X_cnt).toarray()"
      ],
      "execution_count": 26,
      "outputs": [
        {
          "output_type": "stream",
          "text": [
            "CountVectorizer\n",
            "Tf-idf\n"
          ],
          "name": "stdout"
        }
      ]
    },
    {
      "cell_type": "code",
      "metadata": {
        "colab": {
          "base_uri": "https://localhost:8080/"
        },
        "id": "08CFbzKGj4X6",
        "outputId": "4b770d14-be67-488d-b446-c007fa34c709"
      },
      "source": [
        "X_tfidf"
      ],
      "execution_count": 50,
      "outputs": [
        {
          "output_type": "execute_result",
          "data": {
            "text/plain": [
              "array([[0.        , 0.        , 0.        , ..., 0.        , 0.        ,\n",
              "        0.        ],\n",
              "       [0.        , 0.        , 0.05313853, ..., 0.        , 0.        ,\n",
              "        0.        ],\n",
              "       [0.        , 0.17542429, 0.06323756, ..., 0.        , 0.        ,\n",
              "        0.        ],\n",
              "       ...,\n",
              "       [0.08027468, 0.        , 0.        , ..., 0.        , 0.        ,\n",
              "        0.        ],\n",
              "       [0.        , 0.        , 0.07349926, ..., 0.05511692, 0.        ,\n",
              "        0.        ],\n",
              "       [0.        , 0.        , 0.0470299 , ..., 0.        , 0.06367349,\n",
              "        0.        ]])"
            ]
          },
          "metadata": {
            "tags": []
          },
          "execution_count": 50
        }
      ]
    },
    {
      "cell_type": "code",
      "metadata": {
        "colab": {
          "base_uri": "https://localhost:8080/"
        },
        "id": "Rn2uZQZjkQgP",
        "outputId": "0a14518d-e74b-423c-f5ac-03000cdab6d0"
      },
      "source": [
        "X_tfidf[[1,2,3]]"
      ],
      "execution_count": 52,
      "outputs": [
        {
          "output_type": "execute_result",
          "data": {
            "text/plain": [
              "array([[0.        , 0.        , 0.05313853, ..., 0.        , 0.        ,\n",
              "        0.        ],\n",
              "       [0.        , 0.17542429, 0.06323756, ..., 0.        , 0.        ,\n",
              "        0.        ],\n",
              "       [0.        , 0.        , 0.10654075, ..., 0.        , 0.        ,\n",
              "        0.        ]])"
            ]
          },
          "metadata": {
            "tags": []
          },
          "execution_count": 52
        }
      ]
    },
    {
      "cell_type": "code",
      "metadata": {
        "colab": {
          "base_uri": "https://localhost:8080/"
        },
        "id": "BqGebFEplQEF",
        "outputId": "a54fa114-5eb7-4c4f-b328-8e8e65dd1edc"
      },
      "source": [
        "X_tfidf.shape"
      ],
      "execution_count": 59,
      "outputs": [
        {
          "output_type": "execute_result",
          "data": {
            "text/plain": [
              "(8675, 682)"
            ]
          },
          "metadata": {
            "tags": []
          },
          "execution_count": 59
        }
      ]
    },
    {
      "cell_type": "code",
      "metadata": {
        "id": "IBqgOYpJTRmQ",
        "colab": {
          "base_uri": "https://localhost:8080/",
          "height": 244
        },
        "outputId": "087a8a37-4ed6-47ed-f890-3b4fdba3832c"
      },
      "source": [
        "from sklearn.model_selection import StratifiedShuffleSplit\n",
        "\n",
        "split = StratifiedShuffleSplit(n_splits=1, test_size=0.2, random_state=42)\n",
        "for train_index, test_index in split.split(X_tfidf, data[['type']]):\n",
        "    X_train = X_tfidf[train_index]\n",
        "    X_test = X_tfidf[test_index]\n",
        "    y_train = list_personality_bin[train_index]\n",
        "    y_test = list_personality_bin[test_index]\n",
        "\n",
        "# X_train = strat_train_set.clean_post\n",
        "# X_test = strat_test_set.clean_post\n",
        "# y_train = list_personality_bin[X_train.index]\n",
        "# y_test = list_personality_bin[X_test.index]\n",
        "\n",
        "print(X_train.shape)\n",
        "print(X_test.shape)"
      ],
      "execution_count": 30,
      "outputs": [
        {
          "output_type": "error",
          "ename": "NameError",
          "evalue": "ignored",
          "traceback": [
            "\u001b[0;31m---------------------------------------------------------------------------\u001b[0m",
            "\u001b[0;31mNameError\u001b[0m                                 Traceback (most recent call last)",
            "\u001b[0;32m<ipython-input-30-cf0c73877578>\u001b[0m in \u001b[0;36m<module>\u001b[0;34m()\u001b[0m\n\u001b[1;32m      2\u001b[0m \u001b[0;34m\u001b[0m\u001b[0m\n\u001b[1;32m      3\u001b[0m \u001b[0msplit\u001b[0m \u001b[0;34m=\u001b[0m \u001b[0mStratifiedShuffleSplit\u001b[0m\u001b[0;34m(\u001b[0m\u001b[0mn_splits\u001b[0m\u001b[0;34m=\u001b[0m\u001b[0;36m1\u001b[0m\u001b[0;34m,\u001b[0m \u001b[0mtest_size\u001b[0m\u001b[0;34m=\u001b[0m\u001b[0;36m0.2\u001b[0m\u001b[0;34m,\u001b[0m \u001b[0mrandom_state\u001b[0m\u001b[0;34m=\u001b[0m\u001b[0;36m42\u001b[0m\u001b[0;34m)\u001b[0m\u001b[0;34m\u001b[0m\u001b[0;34m\u001b[0m\u001b[0m\n\u001b[0;32m----> 4\u001b[0;31m \u001b[0;32mfor\u001b[0m \u001b[0mtrain_index\u001b[0m\u001b[0;34m,\u001b[0m \u001b[0mtest_index\u001b[0m \u001b[0;32min\u001b[0m \u001b[0msplit\u001b[0m\u001b[0;34m.\u001b[0m\u001b[0msplit\u001b[0m\u001b[0;34m(\u001b[0m\u001b[0mX_tfidf\u001b[0m\u001b[0;34m,\u001b[0m \u001b[0mdata\u001b[0m\u001b[0;34m[\u001b[0m\u001b[0;34m[\u001b[0m\u001b[0;34m'type'\u001b[0m\u001b[0;34m]\u001b[0m\u001b[0;34m]\u001b[0m\u001b[0;34m)\u001b[0m\u001b[0;34m:\u001b[0m\u001b[0;34m\u001b[0m\u001b[0;34m\u001b[0m\u001b[0m\n\u001b[0m\u001b[1;32m      5\u001b[0m     \u001b[0mX_train\u001b[0m \u001b[0;34m=\u001b[0m \u001b[0mX_tfidf\u001b[0m\u001b[0;34m[\u001b[0m\u001b[0mtrain_index\u001b[0m\u001b[0;34m]\u001b[0m\u001b[0;34m\u001b[0m\u001b[0;34m\u001b[0m\u001b[0m\n\u001b[1;32m      6\u001b[0m     \u001b[0mX_test\u001b[0m \u001b[0;34m=\u001b[0m \u001b[0mX_tfidf\u001b[0m\u001b[0;34m[\u001b[0m\u001b[0mtest_index\u001b[0m\u001b[0;34m]\u001b[0m\u001b[0;34m\u001b[0m\u001b[0;34m\u001b[0m\u001b[0m\n",
            "\u001b[0;31mNameError\u001b[0m: name 'X_tfidf' is not defined"
          ]
        }
      ]
    },
    {
      "cell_type": "code",
      "metadata": {
        "colab": {
          "base_uri": "https://localhost:8080/"
        },
        "id": "WepfjFjumkvB",
        "outputId": "f276e0f5-12c8-4421-c584-10d27ca94f63"
      },
      "source": [
        "print(y_train.shape)\n",
        "print(y_test.shape)"
      ],
      "execution_count": 85,
      "outputs": [
        {
          "output_type": "stream",
          "text": [
            "(6940, 4)\n",
            "(1735, 4)\n"
          ],
          "name": "stdout"
        }
      ]
    },
    {
      "cell_type": "code",
      "metadata": {
        "id": "iDvhqwUyUFRC"
      },
      "source": [
        "categories = ['E-I', 'S-N', 'T-F', 'J-P']\n",
        "\n",
        "for i in range(4):\n",
        "  model = OneVsRestClassifier(MultinomialNB(\n",
        "                      fit_prior=True, class_prior=None))\n",
        "  model.fit(X_train, y_train[:,i])\n",
        "\n",
        "  # make predictions for test data\n",
        "  y_pred = model.predict(X_test)\n",
        "  # predictions = [round(value) for value in y_pred]\n",
        "  # evaluate predictions\n",
        "  score = f1_score(y_test[:,i], y_pred)\n",
        "  print(\"* %s F1-score: %.2f%%\" % (categories[i], score * 100.0))\n",
        "  print(y_pred.shape)\n",
        "\n",
        "  # test[category], prediction /X_train, train[category] (y, scores, pos_label=2)\n",
        "  fpr, tpr, thresholds = roc_curve(y_test[:,i], y_pred)\n",
        "  plt.plot(fpr, tpr, '-', label=\"Logistic Regression\")\n",
        "\n",
        "  plt.plot([0, 1], [0, 1], 'k--', label=\"random guess\")\n",
        "  # plt.plot([fallout], [recall], 'ro', ms=10)\n",
        "  plt.xlabel('(Fall-Out)')\n",
        "  plt.ylabel('(Recall)')\n",
        "  plt.title('Receiver operating characteristic example')\n",
        "  plt.show()"
      ],
      "execution_count": null,
      "outputs": []
    },
    {
      "cell_type": "markdown",
      "metadata": {
        "id": "qfe5mrUCVy0O"
      },
      "source": [
        "## Train/ Test/ Validation data Split"
      ]
    },
    {
      "cell_type": "markdown",
      "metadata": {
        "id": "f7XJ_mOMCJYH"
      },
      "source": [
        "계층적으로 분리"
      ]
    },
    {
      "cell_type": "code",
      "metadata": {
        "id": "jNXmr92-1hLc"
      },
      "source": [
        "from sklearn.model_selection import StratifiedShuffleSplit\n",
        "\n",
        "split = StratifiedShuffleSplit(n_splits=1, test_size=0.2, random_state=42)\n",
        "for train_index, test_index in split.split(data, data[['type']]):\n",
        "    strat_train_set = data.loc[train_index]\n",
        "    strat_test_set = data.loc[test_index]\n",
        "    \n",
        "X_train = strat_train_set.clean_post\n",
        "X_test = strat_test_set.clean_post\n",
        "y_train = list_personality_bin[X_train.index]\n",
        "y_test = list_personality_bin[X_test.index]\n"
      ],
      "execution_count": 31,
      "outputs": []
    },
    {
      "cell_type": "code",
      "metadata": {
        "id": "-ZVN7B4mqF1P"
      },
      "source": [
        "from sklearn.metrics import confusion_matrix\n",
        "from sklearn.metrics import classification_report\n",
        "from sklearn.feature_extraction.text import TfidfVectorizer"
      ],
      "execution_count": 32,
      "outputs": []
    },
    {
      "cell_type": "markdown",
      "metadata": {
        "id": "3WmJuUSlCnBp"
      },
      "source": [
        "무작위 분리"
      ]
    },
    {
      "cell_type": "code",
      "metadata": {
        "id": "mJ4t8t3P-hoV",
        "colab": {
          "base_uri": "https://localhost:8080/"
        },
        "outputId": "3a5e36fa-9950-4df7-b9be-7459785fd7a4"
      },
      "source": [
        "train, test = train_test_split(data, random_state=42, test_size=0.2, shuffle=True)\n",
        "X_train = train.clean_post\n",
        "X_test = test.clean_post\n",
        "\n",
        "print(X_train.shape)\n",
        "print(X_test.shape)"
      ],
      "execution_count": 36,
      "outputs": [
        {
          "output_type": "stream",
          "text": [
            "(6940,)\n",
            "(1735,)\n"
          ],
          "name": "stdout"
        }
      ]
    },
    {
      "cell_type": "code",
      "metadata": {
        "colab": {
          "base_uri": "https://localhost:8080/",
          "height": 204
        },
        "id": "DJe-bfY82NdL",
        "outputId": "89c330a0-fa2a-4761-86bd-c7072e2d1eac"
      },
      "source": [
        "data.head()"
      ],
      "execution_count": 115,
      "outputs": [
        {
          "output_type": "execute_result",
          "data": {
            "text/html": [
              "<div>\n",
              "<style scoped>\n",
              "    .dataframe tbody tr th:only-of-type {\n",
              "        vertical-align: middle;\n",
              "    }\n",
              "\n",
              "    .dataframe tbody tr th {\n",
              "        vertical-align: top;\n",
              "    }\n",
              "\n",
              "    .dataframe thead th {\n",
              "        text-align: right;\n",
              "    }\n",
              "</style>\n",
              "<table border=\"1\" class=\"dataframe\">\n",
              "  <thead>\n",
              "    <tr style=\"text-align: right;\">\n",
              "      <th></th>\n",
              "      <th>type</th>\n",
              "      <th>posts</th>\n",
              "      <th>I-E</th>\n",
              "      <th>N-S</th>\n",
              "      <th>F-T</th>\n",
              "      <th>J-P</th>\n",
              "      <th>clean_post</th>\n",
              "      <th>E-I</th>\n",
              "      <th>S-N</th>\n",
              "      <th>T-F</th>\n",
              "    </tr>\n",
              "  </thead>\n",
              "  <tbody>\n",
              "    <tr>\n",
              "      <th>0</th>\n",
              "      <td>INFJ</td>\n",
              "      <td>'http://www.youtube.com/watch?v=qsXHcwe3krw|||...</td>\n",
              "      <td>0</td>\n",
              "      <td>0</td>\n",
              "      <td>0</td>\n",
              "      <td>0</td>\n",
              "      <td>moment sportscent top ten play prankswhat life...</td>\n",
              "      <td>1</td>\n",
              "      <td>1</td>\n",
              "      <td>1</td>\n",
              "    </tr>\n",
              "    <tr>\n",
              "      <th>1</th>\n",
              "      <td>ENTP</td>\n",
              "      <td>'I'm finding the lack of me in these posts ver...</td>\n",
              "      <td>1</td>\n",
              "      <td>0</td>\n",
              "      <td>1</td>\n",
              "      <td>1</td>\n",
              "      <td>find lack post alarmingsex bore posit often ex...</td>\n",
              "      <td>0</td>\n",
              "      <td>1</td>\n",
              "      <td>0</td>\n",
              "    </tr>\n",
              "    <tr>\n",
              "      <th>2</th>\n",
              "      <td>INTP</td>\n",
              "      <td>'Good one  _____   https://www.youtube.com/wat...</td>\n",
              "      <td>0</td>\n",
              "      <td>0</td>\n",
              "      <td>1</td>\n",
              "      <td>1</td>\n",
              "      <td>good one cours say know bless cursedo absolut ...</td>\n",
              "      <td>1</td>\n",
              "      <td>1</td>\n",
              "      <td>0</td>\n",
              "    </tr>\n",
              "    <tr>\n",
              "      <th>3</th>\n",
              "      <td>INTJ</td>\n",
              "      <td>'Dear INTP,   I enjoyed our conversation the o...</td>\n",
              "      <td>0</td>\n",
              "      <td>0</td>\n",
              "      <td>1</td>\n",
              "      <td>0</td>\n",
              "      <td>dear enjoy convers day esoter gab natur univer...</td>\n",
              "      <td>1</td>\n",
              "      <td>1</td>\n",
              "      <td>0</td>\n",
              "    </tr>\n",
              "    <tr>\n",
              "      <th>4</th>\n",
              "      <td>ENTJ</td>\n",
              "      <td>'You're fired.|||That's another silly misconce...</td>\n",
              "      <td>1</td>\n",
              "      <td>0</td>\n",
              "      <td>1</td>\n",
              "      <td>0</td>\n",
              "      <td>firedthat anoth silli misconcept approach logi...</td>\n",
              "      <td>0</td>\n",
              "      <td>1</td>\n",
              "      <td>0</td>\n",
              "    </tr>\n",
              "  </tbody>\n",
              "</table>\n",
              "</div>"
            ],
            "text/plain": [
              "   type                                              posts  I-E  ...  E-I  S-N  T-F\n",
              "0  INFJ  'http://www.youtube.com/watch?v=qsXHcwe3krw|||...    0  ...    1    1    1\n",
              "1  ENTP  'I'm finding the lack of me in these posts ver...    1  ...    0    1    0\n",
              "2  INTP  'Good one  _____   https://www.youtube.com/wat...    0  ...    1    1    0\n",
              "3  INTJ  'Dear INTP,   I enjoyed our conversation the o...    0  ...    1    1    0\n",
              "4  ENTJ  'You're fired.|||That's another silly misconce...    1  ...    0    1    0\n",
              "\n",
              "[5 rows x 10 columns]"
            ]
          },
          "metadata": {
            "tags": []
          },
          "execution_count": 115
        }
      ]
    },
    {
      "cell_type": "code",
      "metadata": {
        "colab": {
          "base_uri": "https://localhost:8080/"
        },
        "id": "RweeRyxf1yT6",
        "outputId": "2f8be546-ad10-4e80-d773-8ab04d3f2b56"
      },
      "source": [
        "y_train"
      ],
      "execution_count": 117,
      "outputs": [
        {
          "output_type": "execute_result",
          "data": {
            "text/plain": [
              "array([[1, 1, 1, 1],\n",
              "       [1, 0, 0, 1],\n",
              "       [0, 1, 1, 0],\n",
              "       ...,\n",
              "       [0, 1, 0, 0],\n",
              "       [1, 1, 0, 1],\n",
              "       [0, 1, 0, 1]])"
            ]
          },
          "metadata": {
            "tags": []
          },
          "execution_count": 117
        }
      ]
    },
    {
      "cell_type": "markdown",
      "metadata": {
        "id": "25NoBaenyb7n"
      },
      "source": [
        "- average = micro는 총 참 양성, 거짓 음성 및 거짓 양성을 고려하여 f1을 계산하는 함수를 말합니다 (데이터 세트의 각 레이블에 대한 예측에 관계없이).\n",
        "- average = macro는 각 레이블에 대해 f1을 계산하는 함수를 말하고 데이터 세트의 각 레이블에 대한 비율을 고려하지 않고 평균을 반환합니다.\n",
        "- average = weighted는 각 레이블에 대해 f1을 계산하는 함수를 말하고 데이터 세트의 각 레이블에 대한 비율을 고려하여 평균을 반환합니다.\n",
        "- average = samples는 각 인스턴스에 대해 f1을 계산하는 함수를 말하고 평균을 반환합니다. 다중 레이블 분류에 사용하십시오.\n",
        "\n"
      ]
    },
    {
      "cell_type": "markdown",
      "metadata": {
        "id": "OcCjuNlX4_c-"
      },
      "source": [
        "ROC curve (Receiver Operating Characteristic curve) : FPR과 TPR을 각각 x,y축으로 놓은 그래프. ROC curve는 X,Y가 둘다 [0,1]의 범위이고, (0,0) 에서 (1,1)을 잇는 곡선이다.\n",
        "\n",
        "\n",
        "- ROC 커브는 그 면적이 1에 가까울수록 (즉 왼쪽위 꼭지점에 다가갈수록) 좋은 성능이다. 그리고 이 면적은 항상 0.5~1의 범위를 갖는다.(0.5이면 랜덤에 가까운 성능, 1이면 최고의 성능)\n",
        "\n",
        "- TPR : True Positive Rate (=민감도, true accept rate)\n",
        "1인 케이스에 대해 1로 잘 예측한 비율.(암환자를 진찰해서 암이라고 진단 함)\n",
        "\n",
        "- FPR :  False Positive Rate (=1-특이도, false accept rate)\n",
        "0인 케이스에 대해 1로 잘못 예측한 비율.(암환자가 아닌데 암이라고 진단 함)\n",
        "\n",
        "\n",
        "\n",
        "- 민감도 : 1인 케이스에 대해 1로 잘 예측한 것.\n",
        "\n",
        "- 특이도 : 0인 케이스에 대해 0으로 잘 예측한 것.\n",
        "\n",
        "그런데 문제는 좋은 성능에 대한 지표인 TPR을 높이려다보면, 나쁜 성능에 대한 지표인 FPR도 같이 높아져버린다는 것이다. 따라서 어떤 의사의 실력을 판단하기 위해서는 특정 기준(=threshold, 어느 정도의 징후일때 암이라고 예측 할 지)을 연속적으로 바꾸어 가면서 TPR과 FPR을 측정을 해야한다. 그리고 이것을 한눈에 볼 수 있게 시각화 한 것이 바로 ROC 커브이다.\n",
        "\n",
        "\n",
        "\n",
        "이 ROC커브는 두가지 장점이 있다. 먼저 그 커브의 면적을 재어 다양한 기준에서의 TRP과 FPR을 복합적으로 평가할 수 있다는 점이고, 또 한가지는 실제로 암을 판단할 때, 어디를 기준으로 잡을 지 결정하는 데 도움이 될 수 있다.\n",
        "\n",
        "단순히 TPR + (1-FPR)이 최대가 되는 지점을 잡아도 되지 않을까 생각할 수 있지만, 실제로는 병에 따라서 어느 쪽에 좀 더 강조를 둘 것인가가가 매우 중요할 수 있다. 예를 들어 걸릴 확률은 매우 낮지만 치사율이 극히 높은 병은 일단 환자라고 의심을 할 수록 좋기 때문에 FPR이 높더라도 괜찮을 수 있다. 반대로 걸릴 확률은 높지만 위험성이 매우 낮은 병은 FPR이 좀 낮은 기준을 선택하는 것이 괜찮을 것이다."
      ]
    },
    {
      "cell_type": "markdown",
      "metadata": {
        "id": "Af3cM6Q9DNV-"
      },
      "source": [
        "## 모델 훈련\n"
      ]
    },
    {
      "cell_type": "code",
      "metadata": {
        "colab": {
          "base_uri": "https://localhost:8080/"
        },
        "id": "PHcBJ8xrDQTO",
        "outputId": "fcf4d093-254a-40bd-b9be-097138df30d3"
      },
      "source": [
        "from sklearn.metrics import accuracy_score\n",
        "from sklearn.metrics import classification_report, f1_score\n",
        "from sklearn.metrics import roc_curve\n",
        "from yellowbrick.classifier import ROCAUC"
      ],
      "execution_count": 46,
      "outputs": [
        {
          "output_type": "stream",
          "text": [
            "/usr/local/lib/python3.6/dist-packages/sklearn/utils/deprecation.py:144: FutureWarning: The sklearn.metrics.classification module is  deprecated in version 0.22 and will be removed in version 0.24. The corresponding classes / functions should instead be imported from sklearn.metrics. Anything that cannot be imported from sklearn.metrics is now part of the private API.\n",
            "  warnings.warn(message, FutureWarning)\n"
          ],
          "name": "stderr"
        }
      ]
    },
    {
      "cell_type": "code",
      "metadata": {
        "id": "Wj1vw6duJ_ix"
      },
      "source": [
        "pip install yellowbrick"
      ],
      "execution_count": null,
      "outputs": []
    },
    {
      "cell_type": "code",
      "metadata": {
        "id": "WpUxZs8UC45W"
      },
      "source": [
        "categories = ['E-I', 'S-N', 'T-F', 'J-P']"
      ],
      "execution_count": 40,
      "outputs": []
    },
    {
      "cell_type": "code",
      "metadata": {
        "id": "33g4Y2kl_FRH",
        "colab": {
          "base_uri": "https://localhost:8080/",
          "height": 1000
        },
        "outputId": "bb50fee9-8917-4bdb-a114-e53ea52a64ce"
      },
      "source": [
        "NB_pipeline = Pipeline([\n",
        "                ('tfidf', TfidfVectorizer(max_features=100)),\n",
        "                ('clf', OneVsRestClassifier(MultinomialNB(\n",
        "                    fit_prior=True, class_prior=None))),\n",
        "            ])\n",
        "total_score = 0\n",
        "acc =0\n",
        "for category in categories:\n",
        "    print('... Processing {}'.format(category))\n",
        "\n",
        "    NB_pipeline.fit(X_train, train[category])\n",
        "    prediction = NB_pipeline.predict(X_test)\n",
        "    score = f1_score(test[category], prediction, average='weighted')\n",
        "    total_score += score\n",
        "    print('f1_score is {}'.format(score))\n",
        "    acc += accuracy_score(test[category], prediction)\n",
        "    print('accuracy is {}'.format(accuracy_score(test[category], prediction)))\n",
        "\n",
        "    # print(confusion_matrix(test[category], prediction))\n",
        "    print(classification_report(test[category], prediction, target_names=['0', '1']))\n",
        "\n",
        "    fpr, tpr, thresholds = roc_curve(train[category], NB_pipeline.predict_proba(X_train)[:, 1])\n",
        "    plt.plot(fpr, tpr, '-', label=category)\n",
        "\n",
        "plt.plot([0, 1], [0, 1], 'k--', label=\"random guess\")\n",
        "plt.legend(fontsize = 8)\n",
        "plt.xlabel('False Positive Rate')\n",
        "plt.ylabel('True Positive Rate')\n",
        "plt.title('MultinomialNB ROC Curve')\n",
        "plt.show()\n",
        "\n",
        "print('Average f1-score of MultinomialNB : ', total_score/4)\n",
        "print('Average accuracy of MultinomialNB : ', acc/4)"
      ],
      "execution_count": 70,
      "outputs": [
        {
          "output_type": "stream",
          "text": [
            "... Processing E-I\n",
            "f1_score is 0.6833588418867869\n",
            "accuracy is 0.7798270893371758\n",
            "              precision    recall  f1-score   support\n",
            "\n",
            "           0       0.00      0.00      0.00       382\n",
            "           1       0.78      1.00      0.88      1353\n",
            "\n",
            "    accuracy                           0.78      1735\n",
            "   macro avg       0.39      0.50      0.44      1735\n",
            "weighted avg       0.61      0.78      0.68      1735\n",
            "\n"
          ],
          "name": "stdout"
        },
        {
          "output_type": "stream",
          "text": [
            "/usr/local/lib/python3.6/dist-packages/sklearn/metrics/_classification.py:1272: UndefinedMetricWarning: Precision and F-score are ill-defined and being set to 0.0 in labels with no predicted samples. Use `zero_division` parameter to control this behavior.\n",
            "  _warn_prf(average, modifier, msg_start, len(result))\n"
          ],
          "name": "stderr"
        },
        {
          "output_type": "stream",
          "text": [
            "... Processing S-N\n",
            "f1_score is 0.7927292424968357\n",
            "accuracy is 0.8582132564841498\n",
            "              precision    recall  f1-score   support\n",
            "\n",
            "           0       0.00      0.00      0.00       246\n",
            "           1       0.86      1.00      0.92      1489\n",
            "\n",
            "    accuracy                           0.86      1735\n",
            "   macro avg       0.43      0.50      0.46      1735\n",
            "weighted avg       0.74      0.86      0.79      1735\n",
            "\n"
          ],
          "name": "stdout"
        },
        {
          "output_type": "stream",
          "text": [
            "/usr/local/lib/python3.6/dist-packages/sklearn/metrics/_classification.py:1272: UndefinedMetricWarning: Precision and F-score are ill-defined and being set to 0.0 in labels with no predicted samples. Use `zero_division` parameter to control this behavior.\n",
            "  _warn_prf(average, modifier, msg_start, len(result))\n"
          ],
          "name": "stderr"
        },
        {
          "output_type": "stream",
          "text": [
            "... Processing T-F\n",
            "f1_score is 0.5038862162031269\n",
            "accuracy is 0.5913544668587897\n",
            "              precision    recall  f1-score   support\n",
            "\n",
            "           0       0.80      0.15      0.25       798\n",
            "           1       0.57      0.97      0.72       937\n",
            "\n",
            "    accuracy                           0.59      1735\n",
            "   macro avg       0.69      0.56      0.49      1735\n",
            "weighted avg       0.68      0.59      0.50      1735\n",
            "\n",
            "... Processing J-P\n",
            "f1_score is 0.4676617140646558\n",
            "accuracy is 0.6144092219020173\n",
            "              precision    recall  f1-score   support\n",
            "\n",
            "           0       0.00      0.00      0.00       669\n",
            "           1       0.61      1.00      0.76      1066\n",
            "\n",
            "    accuracy                           0.61      1735\n",
            "   macro avg       0.31      0.50      0.38      1735\n",
            "weighted avg       0.38      0.61      0.47      1735\n",
            "\n"
          ],
          "name": "stdout"
        },
        {
          "output_type": "stream",
          "text": [
            "/usr/local/lib/python3.6/dist-packages/sklearn/metrics/_classification.py:1272: UndefinedMetricWarning: Precision and F-score are ill-defined and being set to 0.0 in labels with no predicted samples. Use `zero_division` parameter to control this behavior.\n",
            "  _warn_prf(average, modifier, msg_start, len(result))\n"
          ],
          "name": "stderr"
        },
        {
          "output_type": "display_data",
          "data": {
            "image/png": "[encoded data removed]",
            "text/plain": [
              "<Figure size 576x396 with 1 Axes>"
            ]
          },
          "metadata": {
            "tags": []
          }
        },
        {
          "output_type": "stream",
          "text": [
            "Average f1-score of MultinomialNB :  0.6119090036628514\n"
          ],
          "name": "stdout"
        }
      ]
    },
    {
      "cell_type": "code",
      "metadata": {
        "id": "nAqvLzg1_lop",
        "colab": {
          "base_uri": "https://localhost:8080/",
          "height": 1000
        },
        "outputId": "d01b9780-aaa4-4a1f-a0ea-881441d32dfb"
      },
      "source": [
        "\n",
        "SVC_pipeline = Pipeline([\n",
        "                ('tfidf', TfidfVectorizer()),\n",
        "                ('clf', OneVsRestClassifier(LinearSVC(), n_jobs=1))\n",
        "])\n",
        "acc=0\n",
        "total_score = 0\n",
        "for category in categories:\n",
        "    print('... Processing {}'.format(category))\n",
        "\n",
        "    SVC_pipeline.fit(X_train, train[category])\n",
        "    prediction = SVC_pipeline.predict(X_test)\n",
        "    score = f1_score(test[category], prediction, average='weighted')\n",
        "    total_score += score\n",
        "    print('f1_score is {}'.format(score))\n",
        "    acc += accuracy_score(test[category], prediction)\n",
        "    \n",
        "    print('accuracy is {}'.format(accuracy_score(test[category], prediction)))\n",
        "\n",
        "    # print(confusion_matrix(test[category], prediction))\n",
        "    print(classification_report(test[category], prediction, target_names=['0', '1']))\n",
        "\n",
        "    # fpr, tpr, thresholds = roc_curve(train[category], SVC_pipeline.predict_proba(X_train)[:, 1])\n",
        "    plt.plot(fpr, tpr, '-', label=category)\n",
        "\n",
        "# plt.plot([0, 1], [0, 1], 'k--', label=\"random guess\")\n",
        "# plt.legend(fontsize = 8)\n",
        "# plt.xlabel('False Positive Rate')\n",
        "# plt.ylabel('True Positive Rate')\n",
        "# plt.title('MultinomialNB ROC Curve')\n",
        "# plt.show()\n",
        "\n",
        "print('Average f1-score of LinearSVC : ', total_score/4)\n",
        "print('Average accuracy of LinearSVC : ', acc/4)"
      ],
      "execution_count": 71,
      "outputs": [
        {
          "output_type": "stream",
          "text": [
            "... Processing E-I\n",
            "f1_score is 0.7562752549582895\n",
            "accuracy is 0.7861671469740634\n",
            "              precision    recall  f1-score   support\n",
            "\n",
            "           0       0.53      0.26      0.35       382\n",
            "           1       0.82      0.94      0.87      1353\n",
            "\n",
            "    accuracy                           0.79      1735\n",
            "   macro avg       0.67      0.60      0.61      1735\n",
            "weighted avg       0.75      0.79      0.76      1735\n",
            "\n",
            "... Processing S-N\n",
            "f1_score is 0.8071940760223318\n",
            "accuracy is 0.8622478386167147\n",
            "              precision    recall  f1-score   support\n",
            "\n",
            "           0       0.71      0.05      0.09       246\n",
            "           1       0.86      1.00      0.93      1489\n",
            "\n",
            "    accuracy                           0.86      1735\n",
            "   macro avg       0.78      0.52      0.51      1735\n",
            "weighted avg       0.84      0.86      0.81      1735\n",
            "\n",
            "... Processing T-F\n",
            "f1_score is 0.7872563613618846\n",
            "accuracy is 0.7878962536023055\n",
            "              precision    recall  f1-score   support\n",
            "\n",
            "           0       0.79      0.74      0.76       798\n",
            "           1       0.79      0.83      0.81       937\n",
            "\n",
            "    accuracy                           0.79      1735\n",
            "   macro avg       0.79      0.78      0.79      1735\n",
            "weighted avg       0.79      0.79      0.79      1735\n",
            "\n",
            "... Processing J-P\n",
            "f1_score is 0.6584232712935437\n",
            "accuracy is 0.661671469740634\n",
            "              precision    recall  f1-score   support\n",
            "\n",
            "           0       0.57      0.52      0.54       669\n",
            "           1       0.71      0.75      0.73      1066\n",
            "\n",
            "    accuracy                           0.66      1735\n",
            "   macro avg       0.64      0.63      0.64      1735\n",
            "weighted avg       0.66      0.66      0.66      1735\n",
            "\n"
          ],
          "name": "stdout"
        },
        {
          "output_type": "display_data",
          "data": {
            "image/png": "[encoded data removed]",
            "text/plain": [
              "<Figure size 576x396 with 1 Axes>"
            ]
          },
          "metadata": {
            "tags": []
          }
        }
      ]
    },
    {
      "cell_type": "code",
      "metadata": {
        "id": "64sm2qYf_wmt",
        "colab": {
          "base_uri": "https://localhost:8080/",
          "height": 1000
        },
        "outputId": "e7a9d8db-2a50-4482-f49d-a8f4dbda5f14"
      },
      "source": [
        "LogReg_pipeline = Pipeline([\n",
        "                ('tfidf', TfidfVectorizer(max_features=200)),\n",
        "                ('clf', OneVsRestClassifier(LogisticRegression(solver='sag'), n_jobs=1)),\n",
        "            ])\n",
        "total_score = 0\n",
        "for category in categories:\n",
        "    print('... Processing {}'.format(category))\n",
        "\n",
        "    LogReg_pipeline.fit(X_train, train[category])\n",
        "    prediction = LogReg_pipeline.predict(X_test)\n",
        "    score = f1_score(test[category], prediction, average='weighted')\n",
        "    total_score += score\n",
        "    print('f1_score is {}'.format(score))\n",
        "    print('accuracy is {}'.format(accuracy_score(test[category], prediction)))\n",
        "\n",
        "    # print(confusion_matrix(test[category], prediction))\n",
        "    print(classification_report(test[category], prediction, target_names=['0', '1']))\n",
        "\n",
        "    fpr, tpr, thresholds = roc_curve(train[category], LogReg_pipeline.predict_proba(X_train)[:, 1])\n",
        "    plt.plot(fpr, tpr, '-', label=category)\n",
        "\n",
        "plt.plot([0, 1], [0, 1], 'k--', label=\"random guess\")\n",
        "plt.legend(fontsize = 8)\n",
        "plt.xlabel('False Positive Rate')\n",
        "plt.ylabel('True Positive Rate')\n",
        "plt.title('LogisticRegression ROC Curve')\n",
        "plt.show()\n",
        "\n",
        "print('Average f1-score of LogisticRegression : ', total_score/4)"
      ],
      "execution_count": 72,
      "outputs": [
        {
          "output_type": "stream",
          "text": [
            "... Processing E-I\n",
            "f1_score is 0.7053756937296759\n",
            "accuracy is 0.7780979827089337\n",
            "              precision    recall  f1-score   support\n",
            "\n",
            "           0       0.47      0.06      0.11       382\n",
            "           1       0.79      0.98      0.87      1353\n",
            "\n",
            "    accuracy                           0.78      1735\n",
            "   macro avg       0.63      0.52      0.49      1735\n",
            "weighted avg       0.72      0.78      0.71      1735\n",
            "\n",
            "... Processing S-N\n",
            "f1_score is 0.7932491381316341\n",
            "accuracy is 0.8570605187319885\n",
            "              precision    recall  f1-score   support\n",
            "\n",
            "           0       0.25      0.00      0.01       246\n",
            "           1       0.86      1.00      0.92      1489\n",
            "\n",
            "    accuracy                           0.86      1735\n",
            "   macro avg       0.55      0.50      0.47      1735\n",
            "weighted avg       0.77      0.86      0.79      1735\n",
            "\n",
            "... Processing T-F\n",
            "f1_score is 0.7164245321982731\n",
            "accuracy is 0.7170028818443804\n",
            "              precision    recall  f1-score   support\n",
            "\n",
            "           0       0.70      0.67      0.69       798\n",
            "           1       0.73      0.76      0.74       937\n",
            "\n",
            "    accuracy                           0.72      1735\n",
            "   macro avg       0.72      0.71      0.71      1735\n",
            "weighted avg       0.72      0.72      0.72      1735\n",
            "\n",
            "... Processing J-P\n",
            "f1_score is 0.5922899863993268\n",
            "accuracy is 0.6236311239193083\n",
            "              precision    recall  f1-score   support\n",
            "\n",
            "           0       0.52      0.29      0.37       669\n",
            "           1       0.65      0.83      0.73      1066\n",
            "\n",
            "    accuracy                           0.62      1735\n",
            "   macro avg       0.59      0.56      0.55      1735\n",
            "weighted avg       0.60      0.62      0.59      1735\n",
            "\n"
          ],
          "name": "stdout"
        },
        {
          "output_type": "display_data",
          "data": {
            "image/png": "[encoded data removed]",
            "text/plain": [
              "<Figure size 576x396 with 1 Axes>"
            ]
          },
          "metadata": {
            "tags": []
          }
        },
        {
          "output_type": "stream",
          "text": [
            "Average f1-score of LogisticRegression :  0.7018348376147274\n"
          ],
          "name": "stdout"
        }
      ]
    },
    {
      "cell_type": "code",
      "metadata": {
        "id": "bxyv5GGON2I2"
      },
      "source": [
        "from sklearn.linear_model import SGDClassifier, PassiveAggressiveClassifier\n",
        "from sklearn.multioutput import MultiOutputClassifier\n",
        "from sklearn.naive_bayes import GaussianNB\n",
        "from sklearn.ensemble import AdaBoostClassifier\n",
        "import xgboost as xgb"
      ],
      "execution_count": 59,
      "outputs": []
    },
    {
      "cell_type": "code",
      "metadata": {
        "colab": {
          "base_uri": "https://localhost:8080/",
          "height": 1000
        },
        "id": "uxEvACn1NlUB",
        "outputId": "c6a706a3-b2ad-47c6-d0b5-39235ae19f98"
      },
      "source": [
        "XGB_pipeline = Pipeline([\n",
        "                ('tfidf', TfidfVectorizer(max_features=200)),\n",
        "                ('clf', OneVsRestClassifier(xgb.XGBClassifier(), n_jobs=1)),\n",
        "            ])\n",
        "total_score = 0\n",
        "for category in categories:\n",
        "    print('... Processing {}'.format(category))\n",
        "\n",
        "    XGB_pipeline.fit(X_train, train[category])\n",
        "    prediction = XGB_pipeline.predict(X_test)\n",
        "    score = f1_score(test[category], prediction, average='weighted')\n",
        "    total_score += score\n",
        "    print('f1_score is {}'.format(score))\n",
        "    print('accuracy is {}'.format(accuracy_score(test[category], prediction)))\n",
        "\n",
        "    # print(confusion_matrix(test[category], prediction))\n",
        "    print(classification_report(test[category], prediction, target_names=['0', '1']))\n",
        "\n",
        "    fpr, tpr, thresholds = roc_curve(train[category], XGB_pipeline.predict_proba(X_train)[:, 1])\n",
        "    plt.plot(fpr, tpr, '-', label=category)\n",
        "\n",
        "plt.plot([0, 1], [0, 1], 'k--', label=\"random guess\")\n",
        "plt.legend(fontsize = 8)\n",
        "plt.xlabel('False Positive Rate')\n",
        "plt.ylabel('True Positive Rate')\n",
        "plt.title('LogisticRegression ROC Curve')\n",
        "plt.show()\n",
        "\n",
        "print('Average f1-score of XGBClassifier : ', total_score/4)"
      ],
      "execution_count": 73,
      "outputs": [
        {
          "output_type": "stream",
          "text": [
            "... Processing E-I\n",
            "f1_score is 0.6930575921615352\n",
            "accuracy is 0.7786743515850144\n",
            "              precision    recall  f1-score   support\n",
            "\n",
            "           0       0.45      0.03      0.05       382\n",
            "           1       0.78      0.99      0.87      1353\n",
            "\n",
            "    accuracy                           0.78      1735\n",
            "   macro avg       0.62      0.51      0.46      1735\n",
            "weighted avg       0.71      0.78      0.69      1735\n",
            "\n",
            "... Processing S-N\n",
            "f1_score is 0.7927292424968357\n",
            "accuracy is 0.8582132564841498\n",
            "              precision    recall  f1-score   support\n",
            "\n",
            "           0       0.00      0.00      0.00       246\n",
            "           1       0.86      1.00      0.92      1489\n",
            "\n",
            "    accuracy                           0.86      1735\n",
            "   macro avg       0.43      0.50      0.46      1735\n",
            "weighted avg       0.74      0.86      0.79      1735\n",
            "\n"
          ],
          "name": "stdout"
        },
        {
          "output_type": "stream",
          "text": [
            "/usr/local/lib/python3.6/dist-packages/sklearn/metrics/_classification.py:1272: UndefinedMetricWarning: Precision and F-score are ill-defined and being set to 0.0 in labels with no predicted samples. Use `zero_division` parameter to control this behavior.\n",
            "  _warn_prf(average, modifier, msg_start, len(result))\n"
          ],
          "name": "stderr"
        },
        {
          "output_type": "stream",
          "text": [
            "... Processing T-F\n",
            "f1_score is 0.7046575053018052\n",
            "accuracy is 0.7060518731988472\n",
            "              precision    recall  f1-score   support\n",
            "\n",
            "           0       0.70      0.64      0.67       798\n",
            "           1       0.71      0.76      0.74       937\n",
            "\n",
            "    accuracy                           0.71      1735\n",
            "   macro avg       0.70      0.70      0.70      1735\n",
            "weighted avg       0.71      0.71      0.70      1735\n",
            "\n",
            "... Processing J-P\n",
            "f1_score is 0.5611135429754858\n",
            "accuracy is 0.6132564841498559\n",
            "              precision    recall  f1-score   support\n",
            "\n",
            "           0       0.50      0.20      0.28       669\n",
            "           1       0.63      0.87      0.74      1066\n",
            "\n",
            "    accuracy                           0.61      1735\n",
            "   macro avg       0.57      0.54      0.51      1735\n",
            "weighted avg       0.58      0.61      0.56      1735\n",
            "\n"
          ],
          "name": "stdout"
        },
        {
          "output_type": "display_data",
          "data": {
            "image/png": "[encoded data removed]",
            "text/plain": [
              "<Figure size 576x396 with 1 Axes>"
            ]
          },
          "metadata": {
            "tags": []
          }
        },
        {
          "output_type": "stream",
          "text": [
            "Average f1-score of XGBClassifier :  0.6878894707339154\n"
          ],
          "name": "stdout"
        }
      ]
    },
    {
      "cell_type": "code",
      "metadata": {
        "colab": {
          "base_uri": "https://localhost:8080/",
          "height": 1000
        },
        "id": "4Bx3qfIuPDW9",
        "outputId": "6c915959-71c3-49a2-f2b7-aa08ec6ba943"
      },
      "source": [
        "SGDClassifier_pipeline = Pipeline([\n",
        "                ('tfidf', TfidfVectorizer(max_features=200)),\n",
        "                ('clf', OneVsRestClassifier(SGDClassifier(loss='log'), n_jobs=1)),\n",
        "            ])\n",
        "total_score = 0\n",
        "for category in categories:\n",
        "    print('... Processing {}'.format(category))\n",
        "\n",
        "    SGDClassifier_pipeline.fit(X_train, train[category])\n",
        "    prediction = SGDClassifier_pipeline.predict(X_test)\n",
        "    score = f1_score(test[category], prediction, average='weighted')\n",
        "    total_score += score\n",
        "    print('f1_score is {}'.format(score))\n",
        "    print('accuracy is {}'.format(accuracy_score(test[category], prediction)))\n",
        "\n",
        "    # print(confusion_matrix(test[category], prediction))\n",
        "    print(classification_report(test[category], prediction, target_names=['0', '1']))\n",
        "\n",
        "    fpr, tpr, thresholds = roc_curve(train[category], SGDClassifier_pipeline.predict_proba(X_train)[:, 1])\n",
        "    plt.plot(fpr, tpr, '-', label=category)\n",
        "\n",
        "plt.plot([0, 1], [0, 1], 'k--', label=\"random guess\")\n",
        "plt.legend(fontsize = 8)\n",
        "plt.xlabel('False Positive Rate')\n",
        "plt.ylabel('True Positive Rate')\n",
        "plt.title('SGDClassifier ROC Curve')\n",
        "plt.show()\n",
        "\n",
        "print('Average f1-score of SGDClassifier : ', total_score/4)"
      ],
      "execution_count": 74,
      "outputs": [
        {
          "output_type": "stream",
          "text": [
            "... Processing E-I\n",
            "f1_score is 0.7070508675722481\n",
            "accuracy is 0.7729106628242075\n",
            "              precision    recall  f1-score   support\n",
            "\n",
            "           0       0.42      0.08      0.13       382\n",
            "           1       0.79      0.97      0.87      1353\n",
            "\n",
            "    accuracy                           0.77      1735\n",
            "   macro avg       0.60      0.52      0.50      1735\n",
            "weighted avg       0.71      0.77      0.71      1735\n",
            "\n",
            "... Processing S-N\n",
            "f1_score is 0.801030163015542\n",
            "accuracy is 0.8599423631123919\n",
            "              precision    recall  f1-score   support\n",
            "\n",
            "           0       0.64      0.03      0.05       246\n",
            "           1       0.86      1.00      0.92      1489\n",
            "\n",
            "    accuracy                           0.86      1735\n",
            "   macro avg       0.75      0.51      0.49      1735\n",
            "weighted avg       0.83      0.86      0.80      1735\n",
            "\n",
            "... Processing T-F\n",
            "f1_score is 0.7133019625597586\n",
            "accuracy is 0.7129682997118155\n",
            "              precision    recall  f1-score   support\n",
            "\n",
            "           0       0.67      0.75      0.71       798\n",
            "           1       0.76      0.68      0.72       937\n",
            "\n",
            "    accuracy                           0.71      1735\n",
            "   macro avg       0.72      0.72      0.71      1735\n",
            "weighted avg       0.72      0.71      0.71      1735\n",
            "\n",
            "... Processing J-P\n",
            "f1_score is 0.5941220103273274\n",
            "accuracy is 0.6259365994236311\n",
            "              precision    recall  f1-score   support\n",
            "\n",
            "           0       0.53      0.29      0.37       669\n",
            "           1       0.65      0.84      0.73      1066\n",
            "\n",
            "    accuracy                           0.63      1735\n",
            "   macro avg       0.59      0.56      0.55      1735\n",
            "weighted avg       0.60      0.63      0.59      1735\n",
            "\n"
          ],
          "name": "stdout"
        },
        {
          "output_type": "display_data",
          "data": {
            "image/png": "[encoded data removed]",
            "text/plain": [
              "<Figure size 576x396 with 1 Axes>"
            ]
          },
          "metadata": {
            "tags": []
          }
        },
        {
          "output_type": "stream",
          "text": [
            "Average f1-score of SGDClassifier :  0.7038762508687191\n"
          ],
          "name": "stdout"
        }
      ]
    },
    {
      "cell_type": "markdown",
      "metadata": {
        "id": "tXIpJyCceIjG"
      },
      "source": [
        "# 실제 적용시켜보기"
      ]
    },
    {
      "cell_type": "code",
      "metadata": {
        "id": "iWhhIiIyBaoh"
      },
      "source": [
        "somin_text=[\" I am studying computer programming and statistics at Sejong University to become a big data analyst (data scientist). Since the department was newly established in 2017, there is no established curriculum and there is no seniors. In addition, there are many times when we do not know how to study. However, during my three semesters I had a certain sense of enlightenment. I want to become as data scientist by studying my magor and I have to be proficient in English to achieve my dream. When I attended a seminar at NC-soft Company, I wanted to work in a foreign country. I have heard that Korea's data scientists do not have their own roles and are doing various things in various fields. It is because big data field did not develop in Korea. And beacause of the ‘protection law’ on personal information leakage, I think that this field will not grow under the policy of Korea, which can not even collect data, which is the most basic step of data analysis. So I decided to go abroad to become a real data scientist. I also made the same commitment when I took an introduction to data analysis in English. When I did not know the concept, I studied with internet search, and all the materials and Youtube lectures were in English. So I had difficulty taking this course. Through this, I once again felt the need for English. I spent two years studying at school and thought that English should be the foundation for me to learn my major deeply and surely. So I decided that I would become more familiar with English through exchange students and would be very helpful for future foreign entry. There are two reasons to go to the The Hague University of Applied Sciences in the Netherlands through the exchange student program. One of that the English level of the European countries 2-3 ranking well. Statistically, Dutch people overestimate their English skills. They have a high level of confidence in English and think that I can not speak English perfectly because I am a foreigner. It is the opposite of Korea, which it is better not to say it because of poor pronunciation or lack of confidence in English ability. In this free environment, I want to assimilate with the Dutch and increase my confidence in English. The other reason is that there is a curriculum that allows students to experience their majors in practice. Taking the APPLIED DATA SCIENCE HBO-ICT course at The Hague University, a team of 6-8 students and an experienced data scientist conducts a project on data science research for half the semester. The other half is about learning about data science, machine learning, Python laptops, and so on. This curriculum has become very attractive. The job of DataScientist is promising, but I always wondered what it does in practice because of lack of relevant information and history. However, if I complete the APPLIED DATA SCIENCE HBO-ICT curriculum, which can not be done at Sejong University, I can solve my questions and dreams will become concrete. For this reason, I would like to be selected for the exchange student program at the The Hague University of Applied Sciences in the Netherlands and to be proud of the school.\"]"
      ],
      "execution_count": 76,
      "outputs": []
    },
    {
      "cell_type": "code",
      "metadata": {
        "colab": {
          "base_uri": "https://localhost:8080/",
          "height": 244
        },
        "id": "t3pYeywzdx_2",
        "outputId": "27c13680-d3b2-4c9c-b27c-1ba5e8e08693"
      },
      "source": [
        "mydata = pd.DataFrame(data={'type': ['ISFP'], 'posts': [somin_text]})\n"
      ],
      "execution_count": 77,
      "outputs": [
        {
          "output_type": "error",
          "ename": "NameError",
          "evalue": "ignored",
          "traceback": [
            "\u001b[0;31m---------------------------------------------------------------------------\u001b[0m",
            "\u001b[0;31mNameError\u001b[0m                                 Traceback (most recent call last)",
            "\u001b[0;32m<ipython-input-77-f48b86b07597>\u001b[0m in \u001b[0;36m<module>\u001b[0;34m()\u001b[0m\n\u001b[1;32m      1\u001b[0m \u001b[0mmydata\u001b[0m \u001b[0;34m=\u001b[0m \u001b[0mpd\u001b[0m\u001b[0;34m.\u001b[0m\u001b[0mDataFrame\u001b[0m\u001b[0;34m(\u001b[0m\u001b[0mdata\u001b[0m\u001b[0;34m=\u001b[0m\u001b[0;34m{\u001b[0m\u001b[0;34m'type'\u001b[0m\u001b[0;34m:\u001b[0m \u001b[0;34m[\u001b[0m\u001b[0;34m'ISFP'\u001b[0m\u001b[0;34m]\u001b[0m\u001b[0;34m,\u001b[0m \u001b[0;34m'posts'\u001b[0m\u001b[0;34m:\u001b[0m \u001b[0;34m[\u001b[0m\u001b[0msomin_text\u001b[0m\u001b[0;34m]\u001b[0m\u001b[0;34m}\u001b[0m\u001b[0;34m)\u001b[0m\u001b[0;34m\u001b[0m\u001b[0;34m\u001b[0m\u001b[0m\n\u001b[1;32m      2\u001b[0m \u001b[0;34m\u001b[0m\u001b[0m\n\u001b[0;32m----> 3\u001b[0;31m \u001b[0mmy_posts\u001b[0m\u001b[0;34m,\u001b[0m \u001b[0mdummy\u001b[0m  \u001b[0;34m=\u001b[0m \u001b[0mpre_process_data\u001b[0m\u001b[0;34m(\u001b[0m\u001b[0mmydata\u001b[0m\u001b[0;34m,\u001b[0m \u001b[0mremove_stop_words\u001b[0m\u001b[0;34m=\u001b[0m\u001b[0;32mTrue\u001b[0m\u001b[0;34m)\u001b[0m\u001b[0;34m\u001b[0m\u001b[0;34m\u001b[0m\u001b[0m\n\u001b[0m\u001b[1;32m      4\u001b[0m \u001b[0;34m\u001b[0m\u001b[0m\n\u001b[1;32m      5\u001b[0m \u001b[0mmy_X_cnt\u001b[0m \u001b[0;34m=\u001b[0m \u001b[0mcntizer\u001b[0m\u001b[0;34m.\u001b[0m\u001b[0mtransform\u001b[0m\u001b[0;34m(\u001b[0m\u001b[0mmy_posts\u001b[0m\u001b[0;34m)\u001b[0m\u001b[0;34m\u001b[0m\u001b[0;34m\u001b[0m\u001b[0m\n",
            "\u001b[0;31mNameError\u001b[0m: name 'pre_process_data' is not defined"
          ]
        }
      ]
    },
    {
      "cell_type": "code",
      "metadata": {
        "id": "UNoCTlxsegRq"
      },
      "source": [
        "my_posts, dummy  = pre_process_data(mydata, remove_stop_words=True)\n",
        "\n",
        "my_X_cnt = cntizer.transform(my_posts)\n",
        "my_X_tfidf =  tfizer.transform(my_X_cnt).toarray()"
      ],
      "execution_count": null,
      "outputs": []
    },
    {
      "cell_type": "code",
      "metadata": {
        "id": "3uYLeFfxeH3w"
      },
      "source": [
        ""
      ],
      "execution_count": null,
      "outputs": []
    },
    {
      "cell_type": "code",
      "metadata": {
        "id": "9-djNj7Ldxxb"
      },
      "source": [
        "print(\"The result is: \", translate_back(result))\n"
      ],
      "execution_count": null,
      "outputs": []
    },
    {
      "cell_type": "code",
      "metadata": {
        "id": "zR8jg13_BVek",
        "colab": {
          "base_uri": "https://localhost:8080/"
        },
        "outputId": "983354b8-4273-4351-d02f-edc40787b74a"
      },
      "source": [
        "for category in categories:\n",
        "    print('... Processing {}'.format(category))\n",
        "    # X_train_over, y_train_over = smote.fit_sample(X_train, train[category])\n",
        "    NB_pipeline.fit(X_train, train[category])\n",
        "    prediction = NB_pipeline.predict(X_test)"
      ],
      "execution_count": null,
      "outputs": [
        {
          "output_type": "stream",
          "text": [
            "... Processing I-E\n",
            "... Processing N-S\n",
            "... Processing F-T\n",
            "... Processing J-P\n"
          ],
          "name": "stdout"
        }
      ]
    },
    {
      "cell_type": "markdown",
      "metadata": {
        "id": "Cth4MZPFCGkC"
      },
      "source": [
        ""
      ]
    }
  ]
}